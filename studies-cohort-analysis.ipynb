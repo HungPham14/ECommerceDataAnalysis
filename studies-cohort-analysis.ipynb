{
 "cells": [
  {
   "cell_type": "markdown",
   "metadata": {},
   "source": [
    "# I. Introduction to Cohort Analysis"
   ]
  },
  {
   "cell_type": "markdown",
   "metadata": {},
   "source": [
    "## 1.1. Overall Understanding to Cohort Analysis"
   ]
  },
  {
   "cell_type": "markdown",
   "metadata": {},
   "source": [
    "- Definition: \n",
    "    + Cohort analysis is a method of customer segmentation that help businesses understand their customers. Cohort analysis focuses on how a customer's behavior changes over time, while RFM analysis focuses on a customer's current behavior. \n",
    "- Focus: \n",
    "    + How a customer's behavior changes over time \n",
    "- Goal: \n",
    "    + Identify trends and patterns in customer behavior \n",
    "    + Compare metrics across product lifecycle\n",
    "    + Compare metrics across customer lifecycle\n",
    "- How it works: \n",
    "    + Groups customers into mutually exclusive **cohorts** based on when they were acquired and tracks their behavior over time \n",
    "- When it's useful: \n",
    "    + For understanding how a group of customers evolves over time\n",
    "- Benefits of cohort analysis:\n",
    "    + Helps identify trends and patterns in customer behavior\n",
    "    + Helps identify key metrics like retention rate and upsell rate\n",
    "    + Can be used to improve customer experience and retention"
   ]
  },
  {
   "cell_type": "markdown",
   "metadata": {},
   "source": [
    "## 1.2. Types of Cohorts"
   ]
  },
  {
   "cell_type": "markdown",
   "metadata": {},
   "source": [
    "- **Time Cohorts:**\n",
    "    + Time Cohorts are customers who signed up for a product or service during a particular time frame. \n",
    "    + Analyzing these cohorts shows the customers’ behavior depending on the time they started using the company’s products | services. \n",
    "    + The time may be daily or weekly or monthly or quarterly.\n",
    "\n",
    "- **Behavior Cohorts:**\n",
    "    + Behavior Cohorts are customers who purchased a product or subscribed to a service in the past. \n",
    "    + It groups customers by the type of product or service they signed up. \n",
    "    + Customers who signed up for basic level services might have different needs than those who signed up for advanced services. \n",
    "    + Understanding the needs of the various cohorts can help a company design custom-made services or products for particular segments.\n",
    "    \n",
    "- **Size Cohorts:**\n",
    "    + Size Cohorts refer to the various sizes of customers who purchase company’s products or services. \n",
    "    + This categorization can be based on the amount of spending in some period of time after acquisition, or the product type that the customer spent most of their order amount in some period of time."
   ]
  },
  {
   "cell_type": "markdown",
   "metadata": {},
   "source": [
    "## 1.3. Time Cohort (Customer Cohort) Example"
   ]
  },
  {
   "cell_type": "markdown",
   "metadata": {},
   "source": [
    "### Load packages"
   ]
  },
  {
   "cell_type": "code",
   "execution_count": 23,
   "metadata": {},
   "outputs": [],
   "source": [
    "import pandas as pd\n",
    "import numpy as np\n",
    "import datetime as dt\n",
    "import matplotlib.pyplot as plt\n",
    "import plotly.express as px\n",
    "import plotly.figure_factory as ff"
   ]
  },
  {
   "cell_type": "markdown",
   "metadata": {},
   "source": [
    "### Load data "
   ]
  },
  {
   "cell_type": "code",
   "execution_count": 24,
   "metadata": {},
   "outputs": [],
   "source": [
    "# load csv file as a DataFrame. The encoding is required to read the file\n",
    "online = pd.read_csv('data/E-Commerce Data.csv', encoding='ISO-8859-1')"
   ]
  },
  {
   "cell_type": "code",
   "execution_count": 3,
   "metadata": {},
   "outputs": [],
   "source": [
    "# # Load xlsx file as a DataFrame\n",
    "# second_online = pd.read_excel(\n",
    "#     'data/online_retail_II.xlsx'\n",
    "#     # , sheet_name='Year 2009-2010'\n",
    "#     , sheet_name='Year 2010-2011'\n",
    "# )"
   ]
  },
  {
   "cell_type": "markdown",
   "metadata": {},
   "source": [
    "### Data Pre-processing"
   ]
  },
  {
   "cell_type": "code",
   "execution_count": 4,
   "metadata": {},
   "outputs": [
    {
     "data": {
      "text/html": [
       "<div>\n",
       "<style scoped>\n",
       "    .dataframe tbody tr th:only-of-type {\n",
       "        vertical-align: middle;\n",
       "    }\n",
       "\n",
       "    .dataframe tbody tr th {\n",
       "        vertical-align: top;\n",
       "    }\n",
       "\n",
       "    .dataframe thead th {\n",
       "        text-align: right;\n",
       "    }\n",
       "</style>\n",
       "<table border=\"1\" class=\"dataframe\">\n",
       "  <thead>\n",
       "    <tr style=\"text-align: right;\">\n",
       "      <th></th>\n",
       "      <th>InvoiceDate</th>\n",
       "      <th>UnitPrice</th>\n",
       "      <th>CustomerID</th>\n",
       "    </tr>\n",
       "  </thead>\n",
       "  <tbody>\n",
       "    <tr>\n",
       "      <th>0</th>\n",
       "      <td>2010-12-01 08:26:00</td>\n",
       "      <td>2.55</td>\n",
       "      <td>17850.0</td>\n",
       "    </tr>\n",
       "    <tr>\n",
       "      <th>1</th>\n",
       "      <td>2010-12-01 08:26:00</td>\n",
       "      <td>3.39</td>\n",
       "      <td>17850.0</td>\n",
       "    </tr>\n",
       "    <tr>\n",
       "      <th>2</th>\n",
       "      <td>2010-12-01 08:26:00</td>\n",
       "      <td>2.75</td>\n",
       "      <td>17850.0</td>\n",
       "    </tr>\n",
       "    <tr>\n",
       "      <th>3</th>\n",
       "      <td>2010-12-01 08:26:00</td>\n",
       "      <td>7.65</td>\n",
       "      <td>17850.0</td>\n",
       "    </tr>\n",
       "    <tr>\n",
       "      <th>4</th>\n",
       "      <td>2010-12-01 08:26:00</td>\n",
       "      <td>4.25</td>\n",
       "      <td>17850.0</td>\n",
       "    </tr>\n",
       "  </tbody>\n",
       "</table>\n",
       "</div>"
      ],
      "text/plain": [
       "          InvoiceDate  UnitPrice  CustomerID\n",
       "0 2010-12-01 08:26:00       2.55     17850.0\n",
       "1 2010-12-01 08:26:00       3.39     17850.0\n",
       "2 2010-12-01 08:26:00       2.75     17850.0\n",
       "3 2010-12-01 08:26:00       7.65     17850.0\n",
       "4 2010-12-01 08:26:00       4.25     17850.0"
      ]
     },
     "execution_count": 4,
     "metadata": {},
     "output_type": "execute_result"
    }
   ],
   "source": [
    "# include only UK\n",
    "online = online[online['Country'] == 'United Kingdom']\n",
    "\n",
    "# include only date, price, customerid \n",
    "online = online[['InvoiceDate','UnitPrice','CustomerID']]\n",
    "\n",
    "# remove duplicates\n",
    "online.drop_duplicates(inplace=True)\n",
    "\n",
    "# Drop rows with missing CustomerID\n",
    "online = online[~online['CustomerID'].isnull()]\n",
    "online.reset_index(drop=True, inplace=True)\n",
    "\n",
    "# datetime conversion\n",
    "online['InvoiceDate'] = pd.to_datetime(online['InvoiceDate'],format='%m/%d/%Y %H:%M')\n",
    "\n",
    "# view first 5 rows\n",
    "online.head()\n"
   ]
  },
  {
   "cell_type": "code",
   "execution_count": 5,
   "metadata": {},
   "outputs": [
    {
     "name": "stdout",
     "output_type": "stream",
     "text": [
      "<class 'pandas.core.frame.DataFrame'>\n",
      "RangeIndex: 159858 entries, 0 to 159857\n",
      "Data columns (total 3 columns):\n",
      " #   Column       Non-Null Count   Dtype         \n",
      "---  ------       --------------   -----         \n",
      " 0   InvoiceDate  159858 non-null  datetime64[ns]\n",
      " 1   UnitPrice    159858 non-null  float64       \n",
      " 2   CustomerID   159858 non-null  float64       \n",
      "dtypes: datetime64[ns](1), float64(2)\n",
      "memory usage: 3.7 MB\n"
     ]
    }
   ],
   "source": [
    "# preview data information\n",
    "online.info()"
   ]
  },
  {
   "cell_type": "code",
   "execution_count": 6,
   "metadata": {},
   "outputs": [
    {
     "data": {
      "text/html": [
       "<div>\n",
       "<style scoped>\n",
       "    .dataframe tbody tr th:only-of-type {\n",
       "        vertical-align: middle;\n",
       "    }\n",
       "\n",
       "    .dataframe tbody tr th {\n",
       "        vertical-align: top;\n",
       "    }\n",
       "\n",
       "    .dataframe thead th {\n",
       "        text-align: right;\n",
       "    }\n",
       "</style>\n",
       "<table border=\"1\" class=\"dataframe\">\n",
       "  <thead>\n",
       "    <tr style=\"text-align: right;\">\n",
       "      <th></th>\n",
       "      <th>InvoiceDate</th>\n",
       "      <th>UnitPrice</th>\n",
       "      <th>CustomerID</th>\n",
       "      <th>InvoiceMonth</th>\n",
       "    </tr>\n",
       "  </thead>\n",
       "  <tbody>\n",
       "    <tr>\n",
       "      <th>0</th>\n",
       "      <td>2010-12-01 08:26:00</td>\n",
       "      <td>2.55</td>\n",
       "      <td>17850.0</td>\n",
       "      <td>2010-12-01</td>\n",
       "    </tr>\n",
       "    <tr>\n",
       "      <th>1</th>\n",
       "      <td>2010-12-01 08:26:00</td>\n",
       "      <td>3.39</td>\n",
       "      <td>17850.0</td>\n",
       "      <td>2010-12-01</td>\n",
       "    </tr>\n",
       "    <tr>\n",
       "      <th>2</th>\n",
       "      <td>2010-12-01 08:26:00</td>\n",
       "      <td>2.75</td>\n",
       "      <td>17850.0</td>\n",
       "      <td>2010-12-01</td>\n",
       "    </tr>\n",
       "    <tr>\n",
       "      <th>3</th>\n",
       "      <td>2010-12-01 08:26:00</td>\n",
       "      <td>7.65</td>\n",
       "      <td>17850.0</td>\n",
       "      <td>2010-12-01</td>\n",
       "    </tr>\n",
       "    <tr>\n",
       "      <th>4</th>\n",
       "      <td>2010-12-01 08:26:00</td>\n",
       "      <td>4.25</td>\n",
       "      <td>17850.0</td>\n",
       "      <td>2010-12-01</td>\n",
       "    </tr>\n",
       "  </tbody>\n",
       "</table>\n",
       "</div>"
      ],
      "text/plain": [
       "          InvoiceDate  UnitPrice  CustomerID InvoiceMonth\n",
       "0 2010-12-01 08:26:00       2.55     17850.0   2010-12-01\n",
       "1 2010-12-01 08:26:00       3.39     17850.0   2010-12-01\n",
       "2 2010-12-01 08:26:00       2.75     17850.0   2010-12-01\n",
       "3 2010-12-01 08:26:00       7.65     17850.0   2010-12-01\n",
       "4 2010-12-01 08:26:00       4.25     17850.0   2010-12-01"
      ]
     },
     "execution_count": 6,
     "metadata": {},
     "output_type": "execute_result"
    }
   ],
   "source": [
    "# get first day of the month from a given date object\n",
    "def get_month(datetime: dt.datetime) -> dt.datetime:\n",
    "    '''get first day of the month from a given date object: datetime64[ns]'''\n",
    "    return dt.datetime(\n",
    "        year=datetime.year\n",
    "        ,month=datetime.month\n",
    "        ,day=1\n",
    "    )\n",
    "\n",
    "# assign acquisition month cohort\n",
    "online['InvoiceMonth'] = online['InvoiceDate'].apply(get_month)\n",
    "\n",
    "# preview first 5 rows\n",
    "online.head()"
   ]
  },
  {
   "cell_type": "code",
   "execution_count": 7,
   "metadata": {},
   "outputs": [
    {
     "data": {
      "text/html": [
       "<div>\n",
       "<style scoped>\n",
       "    .dataframe tbody tr th:only-of-type {\n",
       "        vertical-align: middle;\n",
       "    }\n",
       "\n",
       "    .dataframe tbody tr th {\n",
       "        vertical-align: top;\n",
       "    }\n",
       "\n",
       "    .dataframe thead th {\n",
       "        text-align: right;\n",
       "    }\n",
       "</style>\n",
       "<table border=\"1\" class=\"dataframe\">\n",
       "  <thead>\n",
       "    <tr style=\"text-align: right;\">\n",
       "      <th></th>\n",
       "      <th>InvoiceDate</th>\n",
       "      <th>UnitPrice</th>\n",
       "      <th>CustomerID</th>\n",
       "      <th>InvoiceMonth</th>\n",
       "      <th>CohortMonth</th>\n",
       "    </tr>\n",
       "  </thead>\n",
       "  <tbody>\n",
       "    <tr>\n",
       "      <th>159853</th>\n",
       "      <td>2011-12-09 12:31:00</td>\n",
       "      <td>0.95</td>\n",
       "      <td>15804.0</td>\n",
       "      <td>2011-12-01</td>\n",
       "      <td>2011-05-01</td>\n",
       "    </tr>\n",
       "    <tr>\n",
       "      <th>159854</th>\n",
       "      <td>2011-12-09 12:49:00</td>\n",
       "      <td>2.95</td>\n",
       "      <td>13113.0</td>\n",
       "      <td>2011-12-01</td>\n",
       "      <td>2010-12-01</td>\n",
       "    </tr>\n",
       "    <tr>\n",
       "      <th>159855</th>\n",
       "      <td>2011-12-09 12:49:00</td>\n",
       "      <td>1.25</td>\n",
       "      <td>13113.0</td>\n",
       "      <td>2011-12-01</td>\n",
       "      <td>2010-12-01</td>\n",
       "    </tr>\n",
       "    <tr>\n",
       "      <th>159856</th>\n",
       "      <td>2011-12-09 12:49:00</td>\n",
       "      <td>8.95</td>\n",
       "      <td>13113.0</td>\n",
       "      <td>2011-12-01</td>\n",
       "      <td>2010-12-01</td>\n",
       "    </tr>\n",
       "    <tr>\n",
       "      <th>159857</th>\n",
       "      <td>2011-12-09 12:49:00</td>\n",
       "      <td>7.08</td>\n",
       "      <td>13113.0</td>\n",
       "      <td>2011-12-01</td>\n",
       "      <td>2010-12-01</td>\n",
       "    </tr>\n",
       "  </tbody>\n",
       "</table>\n",
       "</div>"
      ],
      "text/plain": [
       "               InvoiceDate  UnitPrice  CustomerID InvoiceMonth CohortMonth\n",
       "159853 2011-12-09 12:31:00       0.95     15804.0   2011-12-01  2011-05-01\n",
       "159854 2011-12-09 12:49:00       2.95     13113.0   2011-12-01  2010-12-01\n",
       "159855 2011-12-09 12:49:00       1.25     13113.0   2011-12-01  2010-12-01\n",
       "159856 2011-12-09 12:49:00       8.95     13113.0   2011-12-01  2010-12-01\n",
       "159857 2011-12-09 12:49:00       7.08     13113.0   2011-12-01  2010-12-01"
      ]
     },
     "execution_count": 7,
     "metadata": {},
     "output_type": "execute_result"
    }
   ],
   "source": [
    "# assign the smallest InvoiceMonth value of each customer to each record regarding the same customer ID\n",
    "online['CohortMonth'] = online.groupby('CustomerID')['InvoiceMonth'].transform('min')\n",
    "\n",
    "# preview last 5 rows\n",
    "online.tail()"
   ]
  },
  {
   "cell_type": "code",
   "execution_count": 8,
   "metadata": {},
   "outputs": [
    {
     "data": {
      "text/html": [
       "<div>\n",
       "<style scoped>\n",
       "    .dataframe tbody tr th:only-of-type {\n",
       "        vertical-align: middle;\n",
       "    }\n",
       "\n",
       "    .dataframe tbody tr th {\n",
       "        vertical-align: top;\n",
       "    }\n",
       "\n",
       "    .dataframe thead th {\n",
       "        text-align: right;\n",
       "    }\n",
       "</style>\n",
       "<table border=\"1\" class=\"dataframe\">\n",
       "  <thead>\n",
       "    <tr style=\"text-align: right;\">\n",
       "      <th></th>\n",
       "      <th>InvoiceDate</th>\n",
       "      <th>UnitPrice</th>\n",
       "      <th>CustomerID</th>\n",
       "      <th>InvoiceMonth</th>\n",
       "      <th>CohortMonth</th>\n",
       "      <th>CohortIndex</th>\n",
       "    </tr>\n",
       "  </thead>\n",
       "  <tbody>\n",
       "    <tr>\n",
       "      <th>159853</th>\n",
       "      <td>2011-12-09 12:31:00</td>\n",
       "      <td>0.95</td>\n",
       "      <td>15804.0</td>\n",
       "      <td>2011-12-01</td>\n",
       "      <td>2011-05-01</td>\n",
       "      <td>7</td>\n",
       "    </tr>\n",
       "    <tr>\n",
       "      <th>159854</th>\n",
       "      <td>2011-12-09 12:49:00</td>\n",
       "      <td>2.95</td>\n",
       "      <td>13113.0</td>\n",
       "      <td>2011-12-01</td>\n",
       "      <td>2010-12-01</td>\n",
       "      <td>12</td>\n",
       "    </tr>\n",
       "    <tr>\n",
       "      <th>159855</th>\n",
       "      <td>2011-12-09 12:49:00</td>\n",
       "      <td>1.25</td>\n",
       "      <td>13113.0</td>\n",
       "      <td>2011-12-01</td>\n",
       "      <td>2010-12-01</td>\n",
       "      <td>12</td>\n",
       "    </tr>\n",
       "    <tr>\n",
       "      <th>159856</th>\n",
       "      <td>2011-12-09 12:49:00</td>\n",
       "      <td>8.95</td>\n",
       "      <td>13113.0</td>\n",
       "      <td>2011-12-01</td>\n",
       "      <td>2010-12-01</td>\n",
       "      <td>12</td>\n",
       "    </tr>\n",
       "    <tr>\n",
       "      <th>159857</th>\n",
       "      <td>2011-12-09 12:49:00</td>\n",
       "      <td>7.08</td>\n",
       "      <td>13113.0</td>\n",
       "      <td>2011-12-01</td>\n",
       "      <td>2010-12-01</td>\n",
       "      <td>12</td>\n",
       "    </tr>\n",
       "  </tbody>\n",
       "</table>\n",
       "</div>"
      ],
      "text/plain": [
       "               InvoiceDate  UnitPrice  CustomerID InvoiceMonth CohortMonth  \\\n",
       "159853 2011-12-09 12:31:00       0.95     15804.0   2011-12-01  2011-05-01   \n",
       "159854 2011-12-09 12:49:00       2.95     13113.0   2011-12-01  2010-12-01   \n",
       "159855 2011-12-09 12:49:00       1.25     13113.0   2011-12-01  2010-12-01   \n",
       "159856 2011-12-09 12:49:00       8.95     13113.0   2011-12-01  2010-12-01   \n",
       "159857 2011-12-09 12:49:00       7.08     13113.0   2011-12-01  2010-12-01   \n",
       "\n",
       "        CohortIndex  \n",
       "159853            7  \n",
       "159854           12  \n",
       "159855           12  \n",
       "159856           12  \n",
       "159857           12  "
      ]
     },
     "execution_count": 8,
     "metadata": {},
     "output_type": "execute_result"
    }
   ],
   "source": [
    "# Assign Time Offset Value Process\n",
    "\n",
    "# def helper function\n",
    "def get_date_as_int(dataframe: pd.DataFrame, column: str) -> tuple:\n",
    "    '''\n",
    "    Function to extract year, month and day as integer values from a datetime object. \n",
    "    \n",
    "    Required pandas as pd and datetime as dt packages\n",
    "\n",
    "    Return tuple(year: Series[int], month: Series[int], day: Series[int])\n",
    "    '''\n",
    "    year = dataframe[column].dt.year\n",
    "    month = dataframe[column].dt.month\n",
    "    day = dataframe[column].dt.day\n",
    "    return year, month, day\n",
    "\n",
    "# extract year, month from InvoiceMonth, CohortMonth variables\n",
    "invoice_year, invoice_month, _ = get_date_as_int(online,'InvoiceMonth')\n",
    "cohort_year, cohort_month, _ = get_date_as_int(online,'CohortMonth')\n",
    "\n",
    "# Calculate time offset including year and month\n",
    "years_diff = invoice_year - cohort_year\n",
    "months_diff = invoice_month - cohort_month\n",
    "\n",
    "# create cohort index\n",
    "online['CohortIndex'] = years_diff * 12 + months_diff\n",
    "\n",
    "# excluding unnecessary columns\n",
    "# online = online[['CustomerID','CohortMonth','CohortIndex']]\n",
    "\n",
    "# preview last 5 rows\n",
    "online.tail()"
   ]
  },
  {
   "cell_type": "code",
   "execution_count": 9,
   "metadata": {},
   "outputs": [
    {
     "data": {
      "text/html": [
       "<div>\n",
       "<style scoped>\n",
       "    .dataframe tbody tr th:only-of-type {\n",
       "        vertical-align: middle;\n",
       "    }\n",
       "\n",
       "    .dataframe tbody tr th {\n",
       "        vertical-align: top;\n",
       "    }\n",
       "\n",
       "    .dataframe thead th {\n",
       "        text-align: right;\n",
       "    }\n",
       "</style>\n",
       "<table border=\"1\" class=\"dataframe\">\n",
       "  <thead>\n",
       "    <tr style=\"text-align: right;\">\n",
       "      <th></th>\n",
       "      <th>InvoiceMonth</th>\n",
       "      <th>CohortMonth</th>\n",
       "      <th>CohortIndex</th>\n",
       "      <th>CustomerID</th>\n",
       "    </tr>\n",
       "  </thead>\n",
       "  <tbody>\n",
       "    <tr>\n",
       "      <th>0</th>\n",
       "      <td>2011-02-01</td>\n",
       "      <td>2011-02-01</td>\n",
       "      <td>0</td>\n",
       "      <td>11</td>\n",
       "    </tr>\n",
       "    <tr>\n",
       "      <th>1</th>\n",
       "      <td>2011-03-01</td>\n",
       "      <td>2011-02-01</td>\n",
       "      <td>1</td>\n",
       "      <td>26</td>\n",
       "    </tr>\n",
       "    <tr>\n",
       "      <th>2</th>\n",
       "      <td>2011-07-01</td>\n",
       "      <td>2011-02-01</td>\n",
       "      <td>5</td>\n",
       "      <td>15</td>\n",
       "    </tr>\n",
       "    <tr>\n",
       "      <th>3</th>\n",
       "      <td>2011-10-01</td>\n",
       "      <td>2011-02-01</td>\n",
       "      <td>8</td>\n",
       "      <td>15</td>\n",
       "    </tr>\n",
       "    <tr>\n",
       "      <th>4</th>\n",
       "      <td>2011-11-01</td>\n",
       "      <td>2011-02-01</td>\n",
       "      <td>9</td>\n",
       "      <td>11</td>\n",
       "    </tr>\n",
       "  </tbody>\n",
       "</table>\n",
       "</div>"
      ],
      "text/plain": [
       "  InvoiceMonth CohortMonth  CohortIndex  CustomerID\n",
       "0   2011-02-01  2011-02-01            0          11\n",
       "1   2011-03-01  2011-02-01            1          26\n",
       "2   2011-07-01  2011-02-01            5          15\n",
       "3   2011-10-01  2011-02-01            8          15\n",
       "4   2011-11-01  2011-02-01            9          11"
      ]
     },
     "execution_count": 9,
     "metadata": {},
     "output_type": "execute_result"
    }
   ],
   "source": [
    "# understanding cohort table , \n",
    "online[online['CustomerID'] == 13110.0].groupby(['InvoiceMonth','CohortMonth','CohortIndex'])['CustomerID'].count().reset_index()"
   ]
  },
  {
   "cell_type": "code",
   "execution_count": 10,
   "metadata": {},
   "outputs": [
    {
     "data": {
      "text/html": [
       "<div>\n",
       "<style scoped>\n",
       "    .dataframe tbody tr th:only-of-type {\n",
       "        vertical-align: middle;\n",
       "    }\n",
       "\n",
       "    .dataframe tbody tr th {\n",
       "        vertical-align: top;\n",
       "    }\n",
       "\n",
       "    .dataframe thead th {\n",
       "        text-align: right;\n",
       "    }\n",
       "</style>\n",
       "<table border=\"1\" class=\"dataframe\">\n",
       "  <thead>\n",
       "    <tr style=\"text-align: right;\">\n",
       "      <th></th>\n",
       "      <th>CohortMonth</th>\n",
       "      <th>CohortIndex</th>\n",
       "      <th>CustomerID</th>\n",
       "    </tr>\n",
       "  </thead>\n",
       "  <tbody>\n",
       "    <tr>\n",
       "      <th>0</th>\n",
       "      <td>2010-12-01</td>\n",
       "      <td>0</td>\n",
       "      <td>871</td>\n",
       "    </tr>\n",
       "    <tr>\n",
       "      <th>1</th>\n",
       "      <td>2010-12-01</td>\n",
       "      <td>1</td>\n",
       "      <td>322</td>\n",
       "    </tr>\n",
       "    <tr>\n",
       "      <th>2</th>\n",
       "      <td>2010-12-01</td>\n",
       "      <td>2</td>\n",
       "      <td>291</td>\n",
       "    </tr>\n",
       "    <tr>\n",
       "      <th>3</th>\n",
       "      <td>2010-12-01</td>\n",
       "      <td>3</td>\n",
       "      <td>329</td>\n",
       "    </tr>\n",
       "    <tr>\n",
       "      <th>4</th>\n",
       "      <td>2010-12-01</td>\n",
       "      <td>4</td>\n",
       "      <td>308</td>\n",
       "    </tr>\n",
       "    <tr>\n",
       "      <th>...</th>\n",
       "      <td>...</td>\n",
       "      <td>...</td>\n",
       "      <td>...</td>\n",
       "    </tr>\n",
       "    <tr>\n",
       "      <th>86</th>\n",
       "      <td>2011-10-01</td>\n",
       "      <td>1</td>\n",
       "      <td>86</td>\n",
       "    </tr>\n",
       "    <tr>\n",
       "      <th>87</th>\n",
       "      <td>2011-10-01</td>\n",
       "      <td>2</td>\n",
       "      <td>40</td>\n",
       "    </tr>\n",
       "    <tr>\n",
       "      <th>88</th>\n",
       "      <td>2011-11-01</td>\n",
       "      <td>0</td>\n",
       "      <td>296</td>\n",
       "    </tr>\n",
       "    <tr>\n",
       "      <th>89</th>\n",
       "      <td>2011-11-01</td>\n",
       "      <td>1</td>\n",
       "      <td>41</td>\n",
       "    </tr>\n",
       "    <tr>\n",
       "      <th>90</th>\n",
       "      <td>2011-12-01</td>\n",
       "      <td>0</td>\n",
       "      <td>34</td>\n",
       "    </tr>\n",
       "  </tbody>\n",
       "</table>\n",
       "<p>91 rows × 3 columns</p>\n",
       "</div>"
      ],
      "text/plain": [
       "   CohortMonth  CohortIndex  CustomerID\n",
       "0   2010-12-01            0         871\n",
       "1   2010-12-01            1         322\n",
       "2   2010-12-01            2         291\n",
       "3   2010-12-01            3         329\n",
       "4   2010-12-01            4         308\n",
       "..         ...          ...         ...\n",
       "86  2011-10-01            1          86\n",
       "87  2011-10-01            2          40\n",
       "88  2011-11-01            0         296\n",
       "89  2011-11-01            1          41\n",
       "90  2011-12-01            0          34\n",
       "\n",
       "[91 rows x 3 columns]"
      ]
     },
     "execution_count": 10,
     "metadata": {},
     "output_type": "execute_result"
    }
   ],
   "source": [
    "# calculate monthly active customers from each cohort == Count the number of unique values per customer ID\n",
    "cohort_data = online.groupby(['CohortMonth','CohortIndex'])['CustomerID'].apply(pd.Series.nunique).reset_index()\n",
    "cohort_data"
   ]
  },
  {
   "cell_type": "markdown",
   "metadata": {},
   "source": [
    "### Result"
   ]
  },
  {
   "cell_type": "code",
   "execution_count": 11,
   "metadata": {},
   "outputs": [
    {
     "data": {
      "text/html": [
       "<div>\n",
       "<style scoped>\n",
       "    .dataframe tbody tr th:only-of-type {\n",
       "        vertical-align: middle;\n",
       "    }\n",
       "\n",
       "    .dataframe tbody tr th {\n",
       "        vertical-align: top;\n",
       "    }\n",
       "\n",
       "    .dataframe thead th {\n",
       "        text-align: right;\n",
       "    }\n",
       "</style>\n",
       "<table border=\"1\" class=\"dataframe\">\n",
       "  <thead>\n",
       "    <tr style=\"text-align: right;\">\n",
       "      <th>CohortIndex</th>\n",
       "      <th>0</th>\n",
       "      <th>1</th>\n",
       "      <th>2</th>\n",
       "      <th>3</th>\n",
       "      <th>4</th>\n",
       "      <th>5</th>\n",
       "      <th>6</th>\n",
       "      <th>7</th>\n",
       "      <th>8</th>\n",
       "      <th>9</th>\n",
       "      <th>10</th>\n",
       "      <th>11</th>\n",
       "      <th>12</th>\n",
       "    </tr>\n",
       "    <tr>\n",
       "      <th>CohortMonth</th>\n",
       "      <th></th>\n",
       "      <th></th>\n",
       "      <th></th>\n",
       "      <th></th>\n",
       "      <th></th>\n",
       "      <th></th>\n",
       "      <th></th>\n",
       "      <th></th>\n",
       "      <th></th>\n",
       "      <th></th>\n",
       "      <th></th>\n",
       "      <th></th>\n",
       "      <th></th>\n",
       "    </tr>\n",
       "  </thead>\n",
       "  <tbody>\n",
       "    <tr>\n",
       "      <th>2010-12-01</th>\n",
       "      <td>871.0</td>\n",
       "      <td>322.0</td>\n",
       "      <td>291.0</td>\n",
       "      <td>329.0</td>\n",
       "      <td>308.0</td>\n",
       "      <td>345.0</td>\n",
       "      <td>327.0</td>\n",
       "      <td>304.0</td>\n",
       "      <td>306.0</td>\n",
       "      <td>346.0</td>\n",
       "      <td>320.0</td>\n",
       "      <td>429.0</td>\n",
       "      <td>238.0</td>\n",
       "    </tr>\n",
       "    <tr>\n",
       "      <th>2011-01-01</th>\n",
       "      <td>362.0</td>\n",
       "      <td>84.0</td>\n",
       "      <td>101.0</td>\n",
       "      <td>89.0</td>\n",
       "      <td>124.0</td>\n",
       "      <td>106.0</td>\n",
       "      <td>95.0</td>\n",
       "      <td>94.0</td>\n",
       "      <td>114.0</td>\n",
       "      <td>127.0</td>\n",
       "      <td>131.0</td>\n",
       "      <td>54.0</td>\n",
       "      <td>NaN</td>\n",
       "    </tr>\n",
       "    <tr>\n",
       "      <th>2011-02-01</th>\n",
       "      <td>339.0</td>\n",
       "      <td>85.0</td>\n",
       "      <td>65.0</td>\n",
       "      <td>95.0</td>\n",
       "      <td>96.0</td>\n",
       "      <td>86.0</td>\n",
       "      <td>88.0</td>\n",
       "      <td>96.0</td>\n",
       "      <td>94.0</td>\n",
       "      <td>106.0</td>\n",
       "      <td>33.0</td>\n",
       "      <td>NaN</td>\n",
       "      <td>NaN</td>\n",
       "    </tr>\n",
       "    <tr>\n",
       "      <th>2011-03-01</th>\n",
       "      <td>408.0</td>\n",
       "      <td>79.0</td>\n",
       "      <td>107.0</td>\n",
       "      <td>88.0</td>\n",
       "      <td>95.0</td>\n",
       "      <td>70.0</td>\n",
       "      <td>107.0</td>\n",
       "      <td>97.0</td>\n",
       "      <td>119.0</td>\n",
       "      <td>38.0</td>\n",
       "      <td>NaN</td>\n",
       "      <td>NaN</td>\n",
       "      <td>NaN</td>\n",
       "    </tr>\n",
       "    <tr>\n",
       "      <th>2011-04-01</th>\n",
       "      <td>276.0</td>\n",
       "      <td>62.0</td>\n",
       "      <td>61.0</td>\n",
       "      <td>60.0</td>\n",
       "      <td>57.0</td>\n",
       "      <td>64.0</td>\n",
       "      <td>64.0</td>\n",
       "      <td>73.0</td>\n",
       "      <td>23.0</td>\n",
       "      <td>NaN</td>\n",
       "      <td>NaN</td>\n",
       "      <td>NaN</td>\n",
       "      <td>NaN</td>\n",
       "    </tr>\n",
       "    <tr>\n",
       "      <th>2011-05-01</th>\n",
       "      <td>252.0</td>\n",
       "      <td>58.0</td>\n",
       "      <td>43.0</td>\n",
       "      <td>43.0</td>\n",
       "      <td>54.0</td>\n",
       "      <td>60.0</td>\n",
       "      <td>67.0</td>\n",
       "      <td>25.0</td>\n",
       "      <td>NaN</td>\n",
       "      <td>NaN</td>\n",
       "      <td>NaN</td>\n",
       "      <td>NaN</td>\n",
       "      <td>NaN</td>\n",
       "    </tr>\n",
       "    <tr>\n",
       "      <th>2011-06-01</th>\n",
       "      <td>207.0</td>\n",
       "      <td>44.0</td>\n",
       "      <td>34.0</td>\n",
       "      <td>51.0</td>\n",
       "      <td>53.0</td>\n",
       "      <td>67.0</td>\n",
       "      <td>20.0</td>\n",
       "      <td>NaN</td>\n",
       "      <td>NaN</td>\n",
       "      <td>NaN</td>\n",
       "      <td>NaN</td>\n",
       "      <td>NaN</td>\n",
       "      <td>NaN</td>\n",
       "    </tr>\n",
       "    <tr>\n",
       "      <th>2011-07-01</th>\n",
       "      <td>172.0</td>\n",
       "      <td>35.0</td>\n",
       "      <td>33.0</td>\n",
       "      <td>40.0</td>\n",
       "      <td>48.0</td>\n",
       "      <td>19.0</td>\n",
       "      <td>NaN</td>\n",
       "      <td>NaN</td>\n",
       "      <td>NaN</td>\n",
       "      <td>NaN</td>\n",
       "      <td>NaN</td>\n",
       "      <td>NaN</td>\n",
       "      <td>NaN</td>\n",
       "    </tr>\n",
       "    <tr>\n",
       "      <th>2011-08-01</th>\n",
       "      <td>140.0</td>\n",
       "      <td>37.0</td>\n",
       "      <td>32.0</td>\n",
       "      <td>36.0</td>\n",
       "      <td>19.0</td>\n",
       "      <td>NaN</td>\n",
       "      <td>NaN</td>\n",
       "      <td>NaN</td>\n",
       "      <td>NaN</td>\n",
       "      <td>NaN</td>\n",
       "      <td>NaN</td>\n",
       "      <td>NaN</td>\n",
       "      <td>NaN</td>\n",
       "    </tr>\n",
       "    <tr>\n",
       "      <th>2011-09-01</th>\n",
       "      <td>275.0</td>\n",
       "      <td>80.0</td>\n",
       "      <td>90.0</td>\n",
       "      <td>33.0</td>\n",
       "      <td>NaN</td>\n",
       "      <td>NaN</td>\n",
       "      <td>NaN</td>\n",
       "      <td>NaN</td>\n",
       "      <td>NaN</td>\n",
       "      <td>NaN</td>\n",
       "      <td>NaN</td>\n",
       "      <td>NaN</td>\n",
       "      <td>NaN</td>\n",
       "    </tr>\n",
       "    <tr>\n",
       "      <th>2011-10-01</th>\n",
       "      <td>318.0</td>\n",
       "      <td>86.0</td>\n",
       "      <td>40.0</td>\n",
       "      <td>NaN</td>\n",
       "      <td>NaN</td>\n",
       "      <td>NaN</td>\n",
       "      <td>NaN</td>\n",
       "      <td>NaN</td>\n",
       "      <td>NaN</td>\n",
       "      <td>NaN</td>\n",
       "      <td>NaN</td>\n",
       "      <td>NaN</td>\n",
       "      <td>NaN</td>\n",
       "    </tr>\n",
       "    <tr>\n",
       "      <th>2011-11-01</th>\n",
       "      <td>296.0</td>\n",
       "      <td>41.0</td>\n",
       "      <td>NaN</td>\n",
       "      <td>NaN</td>\n",
       "      <td>NaN</td>\n",
       "      <td>NaN</td>\n",
       "      <td>NaN</td>\n",
       "      <td>NaN</td>\n",
       "      <td>NaN</td>\n",
       "      <td>NaN</td>\n",
       "      <td>NaN</td>\n",
       "      <td>NaN</td>\n",
       "      <td>NaN</td>\n",
       "    </tr>\n",
       "    <tr>\n",
       "      <th>2011-12-01</th>\n",
       "      <td>34.0</td>\n",
       "      <td>NaN</td>\n",
       "      <td>NaN</td>\n",
       "      <td>NaN</td>\n",
       "      <td>NaN</td>\n",
       "      <td>NaN</td>\n",
       "      <td>NaN</td>\n",
       "      <td>NaN</td>\n",
       "      <td>NaN</td>\n",
       "      <td>NaN</td>\n",
       "      <td>NaN</td>\n",
       "      <td>NaN</td>\n",
       "      <td>NaN</td>\n",
       "    </tr>\n",
       "  </tbody>\n",
       "</table>\n",
       "</div>"
      ],
      "text/plain": [
       "CohortIndex     0      1      2      3      4      5      6      7      8   \\\n",
       "CohortMonth                                                                  \n",
       "2010-12-01   871.0  322.0  291.0  329.0  308.0  345.0  327.0  304.0  306.0   \n",
       "2011-01-01   362.0   84.0  101.0   89.0  124.0  106.0   95.0   94.0  114.0   \n",
       "2011-02-01   339.0   85.0   65.0   95.0   96.0   86.0   88.0   96.0   94.0   \n",
       "2011-03-01   408.0   79.0  107.0   88.0   95.0   70.0  107.0   97.0  119.0   \n",
       "2011-04-01   276.0   62.0   61.0   60.0   57.0   64.0   64.0   73.0   23.0   \n",
       "2011-05-01   252.0   58.0   43.0   43.0   54.0   60.0   67.0   25.0    NaN   \n",
       "2011-06-01   207.0   44.0   34.0   51.0   53.0   67.0   20.0    NaN    NaN   \n",
       "2011-07-01   172.0   35.0   33.0   40.0   48.0   19.0    NaN    NaN    NaN   \n",
       "2011-08-01   140.0   37.0   32.0   36.0   19.0    NaN    NaN    NaN    NaN   \n",
       "2011-09-01   275.0   80.0   90.0   33.0    NaN    NaN    NaN    NaN    NaN   \n",
       "2011-10-01   318.0   86.0   40.0    NaN    NaN    NaN    NaN    NaN    NaN   \n",
       "2011-11-01   296.0   41.0    NaN    NaN    NaN    NaN    NaN    NaN    NaN   \n",
       "2011-12-01    34.0    NaN    NaN    NaN    NaN    NaN    NaN    NaN    NaN   \n",
       "\n",
       "CohortIndex     9      10     11     12  \n",
       "CohortMonth                              \n",
       "2010-12-01   346.0  320.0  429.0  238.0  \n",
       "2011-01-01   127.0  131.0   54.0    NaN  \n",
       "2011-02-01   106.0   33.0    NaN    NaN  \n",
       "2011-03-01    38.0    NaN    NaN    NaN  \n",
       "2011-04-01     NaN    NaN    NaN    NaN  \n",
       "2011-05-01     NaN    NaN    NaN    NaN  \n",
       "2011-06-01     NaN    NaN    NaN    NaN  \n",
       "2011-07-01     NaN    NaN    NaN    NaN  \n",
       "2011-08-01     NaN    NaN    NaN    NaN  \n",
       "2011-09-01     NaN    NaN    NaN    NaN  \n",
       "2011-10-01     NaN    NaN    NaN    NaN  \n",
       "2011-11-01     NaN    NaN    NaN    NaN  \n",
       "2011-12-01     NaN    NaN    NaN    NaN  "
      ]
     },
     "execution_count": 11,
     "metadata": {},
     "output_type": "execute_result"
    }
   ],
   "source": [
    "# time cohorts table\n",
    "cohort_counts = cohort_data.pivot(\n",
    "    index='CohortMonth'\n",
    "    ,columns='CohortIndex'\n",
    "    ,values='CustomerID'\n",
    ")\n",
    "cohort_counts"
   ]
  },
  {
   "cell_type": "code",
   "execution_count": 12,
   "metadata": {},
   "outputs": [
    {
     "data": {
      "text/html": [
       "<div>\n",
       "<style scoped>\n",
       "    .dataframe tbody tr th:only-of-type {\n",
       "        vertical-align: middle;\n",
       "    }\n",
       "\n",
       "    .dataframe tbody tr th {\n",
       "        vertical-align: top;\n",
       "    }\n",
       "\n",
       "    .dataframe thead th {\n",
       "        text-align: right;\n",
       "    }\n",
       "</style>\n",
       "<table border=\"1\" class=\"dataframe\">\n",
       "  <thead>\n",
       "    <tr style=\"text-align: right;\">\n",
       "      <th></th>\n",
       "      <th>0</th>\n",
       "      <th>1</th>\n",
       "      <th>2</th>\n",
       "      <th>3</th>\n",
       "      <th>4</th>\n",
       "      <th>5</th>\n",
       "      <th>6</th>\n",
       "      <th>7</th>\n",
       "      <th>8</th>\n",
       "      <th>9</th>\n",
       "      <th>10</th>\n",
       "      <th>11</th>\n",
       "      <th>12</th>\n",
       "    </tr>\n",
       "    <tr>\n",
       "      <th>CohortMonth</th>\n",
       "      <th></th>\n",
       "      <th></th>\n",
       "      <th></th>\n",
       "      <th></th>\n",
       "      <th></th>\n",
       "      <th></th>\n",
       "      <th></th>\n",
       "      <th></th>\n",
       "      <th></th>\n",
       "      <th></th>\n",
       "      <th></th>\n",
       "      <th></th>\n",
       "      <th></th>\n",
       "    </tr>\n",
       "  </thead>\n",
       "  <tbody>\n",
       "    <tr>\n",
       "      <th>2010-12-01</th>\n",
       "      <td>716</td>\n",
       "      <td>246.0</td>\n",
       "      <td>221.0</td>\n",
       "      <td>251.0</td>\n",
       "      <td>245.0</td>\n",
       "      <td>285.0</td>\n",
       "      <td>249.0</td>\n",
       "      <td>236.0</td>\n",
       "      <td>240.0</td>\n",
       "      <td>265.0</td>\n",
       "      <td>254.0</td>\n",
       "      <td>348.0</td>\n",
       "      <td>172.0</td>\n",
       "    </tr>\n",
       "    <tr>\n",
       "      <th>2011-01-01</th>\n",
       "      <td>332</td>\n",
       "      <td>69.0</td>\n",
       "      <td>82.0</td>\n",
       "      <td>81.0</td>\n",
       "      <td>110.0</td>\n",
       "      <td>90.0</td>\n",
       "      <td>82.0</td>\n",
       "      <td>86.0</td>\n",
       "      <td>104.0</td>\n",
       "      <td>102.0</td>\n",
       "      <td>124.0</td>\n",
       "      <td>45.0</td>\n",
       "      <td>NaN</td>\n",
       "    </tr>\n",
       "    <tr>\n",
       "      <th>2011-02-01</th>\n",
       "      <td>316</td>\n",
       "      <td>58.0</td>\n",
       "      <td>57.0</td>\n",
       "      <td>83.0</td>\n",
       "      <td>85.0</td>\n",
       "      <td>74.0</td>\n",
       "      <td>80.0</td>\n",
       "      <td>83.0</td>\n",
       "      <td>86.0</td>\n",
       "      <td>95.0</td>\n",
       "      <td>28.0</td>\n",
       "      <td>NaN</td>\n",
       "      <td>NaN</td>\n",
       "    </tr>\n",
       "    <tr>\n",
       "      <th>2011-03-01</th>\n",
       "      <td>388</td>\n",
       "      <td>63.0</td>\n",
       "      <td>100.0</td>\n",
       "      <td>76.0</td>\n",
       "      <td>83.0</td>\n",
       "      <td>67.0</td>\n",
       "      <td>98.0</td>\n",
       "      <td>85.0</td>\n",
       "      <td>107.0</td>\n",
       "      <td>38.0</td>\n",
       "      <td>NaN</td>\n",
       "      <td>NaN</td>\n",
       "      <td>NaN</td>\n",
       "    </tr>\n",
       "    <tr>\n",
       "      <th>2011-04-01</th>\n",
       "      <td>255</td>\n",
       "      <td>49.0</td>\n",
       "      <td>52.0</td>\n",
       "      <td>49.0</td>\n",
       "      <td>47.0</td>\n",
       "      <td>52.0</td>\n",
       "      <td>56.0</td>\n",
       "      <td>59.0</td>\n",
       "      <td>17.0</td>\n",
       "      <td>NaN</td>\n",
       "      <td>NaN</td>\n",
       "      <td>NaN</td>\n",
       "      <td>NaN</td>\n",
       "    </tr>\n",
       "    <tr>\n",
       "      <th>2011-05-01</th>\n",
       "      <td>249</td>\n",
       "      <td>40.0</td>\n",
       "      <td>43.0</td>\n",
       "      <td>36.0</td>\n",
       "      <td>52.0</td>\n",
       "      <td>58.0</td>\n",
       "      <td>61.0</td>\n",
       "      <td>22.0</td>\n",
       "      <td>NaN</td>\n",
       "      <td>NaN</td>\n",
       "      <td>NaN</td>\n",
       "      <td>NaN</td>\n",
       "      <td>NaN</td>\n",
       "    </tr>\n",
       "    <tr>\n",
       "      <th>2011-06-01</th>\n",
       "      <td>207</td>\n",
       "      <td>33.0</td>\n",
       "      <td>26.0</td>\n",
       "      <td>41.0</td>\n",
       "      <td>49.0</td>\n",
       "      <td>62.0</td>\n",
       "      <td>19.0</td>\n",
       "      <td>NaN</td>\n",
       "      <td>NaN</td>\n",
       "      <td>NaN</td>\n",
       "      <td>NaN</td>\n",
       "      <td>NaN</td>\n",
       "      <td>NaN</td>\n",
       "    </tr>\n",
       "    <tr>\n",
       "      <th>2011-07-01</th>\n",
       "      <td>173</td>\n",
       "      <td>28.0</td>\n",
       "      <td>31.0</td>\n",
       "      <td>38.0</td>\n",
       "      <td>44.0</td>\n",
       "      <td>17.0</td>\n",
       "      <td>NaN</td>\n",
       "      <td>NaN</td>\n",
       "      <td>NaN</td>\n",
       "      <td>NaN</td>\n",
       "      <td>NaN</td>\n",
       "      <td>NaN</td>\n",
       "      <td>NaN</td>\n",
       "    </tr>\n",
       "    <tr>\n",
       "      <th>2011-08-01</th>\n",
       "      <td>139</td>\n",
       "      <td>30.0</td>\n",
       "      <td>28.0</td>\n",
       "      <td>35.0</td>\n",
       "      <td>14.0</td>\n",
       "      <td>NaN</td>\n",
       "      <td>NaN</td>\n",
       "      <td>NaN</td>\n",
       "      <td>NaN</td>\n",
       "      <td>NaN</td>\n",
       "      <td>NaN</td>\n",
       "      <td>NaN</td>\n",
       "      <td>NaN</td>\n",
       "    </tr>\n",
       "    <tr>\n",
       "      <th>2011-09-01</th>\n",
       "      <td>279</td>\n",
       "      <td>56.0</td>\n",
       "      <td>78.0</td>\n",
       "      <td>34.0</td>\n",
       "      <td>NaN</td>\n",
       "      <td>NaN</td>\n",
       "      <td>NaN</td>\n",
       "      <td>NaN</td>\n",
       "      <td>NaN</td>\n",
       "      <td>NaN</td>\n",
       "      <td>NaN</td>\n",
       "      <td>NaN</td>\n",
       "      <td>NaN</td>\n",
       "    </tr>\n",
       "    <tr>\n",
       "      <th>2011-10-01</th>\n",
       "      <td>318</td>\n",
       "      <td>67.0</td>\n",
       "      <td>30.0</td>\n",
       "      <td>NaN</td>\n",
       "      <td>NaN</td>\n",
       "      <td>NaN</td>\n",
       "      <td>NaN</td>\n",
       "      <td>NaN</td>\n",
       "      <td>NaN</td>\n",
       "      <td>NaN</td>\n",
       "      <td>NaN</td>\n",
       "      <td>NaN</td>\n",
       "      <td>NaN</td>\n",
       "    </tr>\n",
       "    <tr>\n",
       "      <th>2011-11-01</th>\n",
       "      <td>291</td>\n",
       "      <td>32.0</td>\n",
       "      <td>NaN</td>\n",
       "      <td>NaN</td>\n",
       "      <td>NaN</td>\n",
       "      <td>NaN</td>\n",
       "      <td>NaN</td>\n",
       "      <td>NaN</td>\n",
       "      <td>NaN</td>\n",
       "      <td>NaN</td>\n",
       "      <td>NaN</td>\n",
       "      <td>NaN</td>\n",
       "      <td>NaN</td>\n",
       "    </tr>\n",
       "    <tr>\n",
       "      <th>2011-12-01</th>\n",
       "      <td>38</td>\n",
       "      <td>NaN</td>\n",
       "      <td>NaN</td>\n",
       "      <td>NaN</td>\n",
       "      <td>NaN</td>\n",
       "      <td>NaN</td>\n",
       "      <td>NaN</td>\n",
       "      <td>NaN</td>\n",
       "      <td>NaN</td>\n",
       "      <td>NaN</td>\n",
       "      <td>NaN</td>\n",
       "      <td>NaN</td>\n",
       "      <td>NaN</td>\n",
       "    </tr>\n",
       "  </tbody>\n",
       "</table>\n",
       "</div>"
      ],
      "text/plain": [
       "               0      1      2      3      4      5      6      7      8  \\\n",
       "CohortMonth                                                                \n",
       "2010-12-01   716  246.0  221.0  251.0  245.0  285.0  249.0  236.0  240.0   \n",
       "2011-01-01   332   69.0   82.0   81.0  110.0   90.0   82.0   86.0  104.0   \n",
       "2011-02-01   316   58.0   57.0   83.0   85.0   74.0   80.0   83.0   86.0   \n",
       "2011-03-01   388   63.0  100.0   76.0   83.0   67.0   98.0   85.0  107.0   \n",
       "2011-04-01   255   49.0   52.0   49.0   47.0   52.0   56.0   59.0   17.0   \n",
       "2011-05-01   249   40.0   43.0   36.0   52.0   58.0   61.0   22.0    NaN   \n",
       "2011-06-01   207   33.0   26.0   41.0   49.0   62.0   19.0    NaN    NaN   \n",
       "2011-07-01   173   28.0   31.0   38.0   44.0   17.0    NaN    NaN    NaN   \n",
       "2011-08-01   139   30.0   28.0   35.0   14.0    NaN    NaN    NaN    NaN   \n",
       "2011-09-01   279   56.0   78.0   34.0    NaN    NaN    NaN    NaN    NaN   \n",
       "2011-10-01   318   67.0   30.0    NaN    NaN    NaN    NaN    NaN    NaN   \n",
       "2011-11-01   291   32.0    NaN    NaN    NaN    NaN    NaN    NaN    NaN   \n",
       "2011-12-01    38    NaN    NaN    NaN    NaN    NaN    NaN    NaN    NaN   \n",
       "\n",
       "                 9     10     11     12  \n",
       "CohortMonth                              \n",
       "2010-12-01   265.0  254.0  348.0  172.0  \n",
       "2011-01-01   102.0  124.0   45.0    NaN  \n",
       "2011-02-01    95.0   28.0    NaN    NaN  \n",
       "2011-03-01    38.0    NaN    NaN    NaN  \n",
       "2011-04-01     NaN    NaN    NaN    NaN  \n",
       "2011-05-01     NaN    NaN    NaN    NaN  \n",
       "2011-06-01     NaN    NaN    NaN    NaN  \n",
       "2011-07-01     NaN    NaN    NaN    NaN  \n",
       "2011-08-01     NaN    NaN    NaN    NaN  \n",
       "2011-09-01     NaN    NaN    NaN    NaN  \n",
       "2011-10-01     NaN    NaN    NaN    NaN  \n",
       "2011-11-01     NaN    NaN    NaN    NaN  \n",
       "2011-12-01     NaN    NaN    NaN    NaN  "
      ]
     },
     "execution_count": 12,
     "metadata": {},
     "output_type": "execute_result"
    }
   ],
   "source": [
    "# DataCamp data, same logic but we use this dataset instead for data consistency\n",
    "cohort_counts = pd.read_csv('data/cohort_counts.csv',index_col=0)\n",
    "cohort_counts"
   ]
  },
  {
   "cell_type": "markdown",
   "metadata": {},
   "source": [
    "### Question: How many customers have made their first transaction in January 2011 ?"
   ]
  },
  {
   "cell_type": "code",
   "execution_count": 13,
   "metadata": {},
   "outputs": [
    {
     "data": {
      "text/plain": [
       "332"
      ]
     },
     "execution_count": 13,
     "metadata": {},
     "output_type": "execute_result"
    }
   ],
   "source": [
    "cohort_counts.loc[\n",
    "    # transaction date\n",
    "    '2011-01-01'\n",
    "    # the first transaction is the first column\n",
    "    ,'0'\n",
    "]"
   ]
  },
  {
   "cell_type": "markdown",
   "metadata": {},
   "source": [
    "## 1.4. Cohort Metrics"
   ]
  },
  {
   "cell_type": "markdown",
   "metadata": {},
   "source": [
    "### 1.4.1. Customer Retention Rate"
   ]
  },
  {
   "cell_type": "code",
   "execution_count": 14,
   "metadata": {},
   "outputs": [
    {
     "data": {
      "application/vnd.plotly.v1+json": {
       "config": {
        "plotlyServerURL": "https://plot.ly"
       },
       "data": [
        {
         "colorscale": [
          [
           0,
           "#0d0887"
          ],
          [
           0.1111111111111111,
           "#46039f"
          ],
          [
           0.2222222222222222,
           "#7201a8"
          ],
          [
           0.3333333333333333,
           "#9c179e"
          ],
          [
           0.4444444444444444,
           "#bd3786"
          ],
          [
           0.5555555555555556,
           "#d8576b"
          ],
          [
           0.6666666666666666,
           "#ed7953"
          ],
          [
           0.7777777777777778,
           "#fb9f3a"
          ],
          [
           0.8888888888888888,
           "#fdca26"
          ],
          [
           1,
           "#f0f921"
          ]
         ],
         "reversescale": false,
         "showscale": true,
         "type": "heatmap",
         "x": [
          "Month 1",
          "Month 2",
          "Month 3",
          "Month 4",
          "Month 5",
          "Month 6",
          "Month 7",
          "Month 8",
          "Month 9",
          "Month 10",
          "Month 11",
          "Month 12",
          "Month 13"
         ],
         "y": [
          "December, 2011",
          "November, 2011",
          "October, 2011",
          "September, 2011",
          "August, 2011",
          "July, 2011",
          "June, 2011",
          "May, 2011",
          "April, 2011",
          "March, 2011",
          "February, 2011",
          "January, 2011",
          "December, 2010"
         ],
         "z": [
          [
           1,
           0,
           0,
           0,
           0,
           0,
           0,
           0,
           0,
           0,
           0,
           0,
           0
          ],
          [
           1,
           0.10996563573883161,
           0,
           0,
           0,
           0,
           0,
           0,
           0,
           0,
           0,
           0,
           0
          ],
          [
           1,
           0.21069182389937108,
           0.09433962264150944,
           0,
           0,
           0,
           0,
           0,
           0,
           0,
           0,
           0,
           0
          ],
          [
           1,
           0.2007168458781362,
           0.27956989247311825,
           0.12186379928315412,
           0,
           0,
           0,
           0,
           0,
           0,
           0,
           0,
           0
          ],
          [
           1,
           0.2158273381294964,
           0.2014388489208633,
           0.2517985611510791,
           0.10071942446043165,
           0,
           0,
           0,
           0,
           0,
           0,
           0,
           0
          ],
          [
           1,
           0.16184971098265896,
           0.1791907514450867,
           0.21965317919075145,
           0.2543352601156069,
           0.09826589595375723,
           0,
           0,
           0,
           0,
           0,
           0,
           0
          ],
          [
           1,
           0.15942028985507245,
           0.12560386473429952,
           0.19806763285024154,
           0.23671497584541062,
           0.2995169082125604,
           0.09178743961352658,
           0,
           0,
           0,
           0,
           0,
           0
          ],
          [
           1,
           0.1606425702811245,
           0.17269076305220885,
           0.14457831325301204,
           0.20883534136546184,
           0.23293172690763053,
           0.24497991967871485,
           0.08835341365461848,
           0,
           0,
           0,
           0,
           0
          ],
          [
           1,
           0.19215686274509805,
           0.20392156862745098,
           0.19215686274509805,
           0.1843137254901961,
           0.20392156862745098,
           0.2196078431372549,
           0.23137254901960785,
           0.06666666666666667,
           0,
           0,
           0,
           0
          ],
          [
           1,
           0.16237113402061856,
           0.25773195876288657,
           0.1958762886597938,
           0.21391752577319587,
           0.17268041237113402,
           0.25257731958762886,
           0.2190721649484536,
           0.2757731958762887,
           0.0979381443298969,
           0,
           0,
           0
          ],
          [
           1,
           0.18354430379746836,
           0.18037974683544303,
           0.2626582278481013,
           0.2689873417721519,
           0.23417721518987342,
           0.25316455696202533,
           0.2626582278481013,
           0.2721518987341772,
           0.30063291139240506,
           0.08860759493670886,
           0,
           0
          ],
          [
           1,
           0.20783132530120482,
           0.2469879518072289,
           0.24397590361445784,
           0.3313253012048193,
           0.2710843373493976,
           0.2469879518072289,
           0.25903614457831325,
           0.3132530120481928,
           0.3072289156626506,
           0.37349397590361444,
           0.1355421686746988,
           0
          ],
          [
           1,
           0.3435754189944134,
           0.308659217877095,
           0.3505586592178771,
           0.34217877094972066,
           0.39804469273743015,
           0.3477653631284916,
           0.329608938547486,
           0.33519553072625696,
           0.37011173184357543,
           0.3547486033519553,
           0.4860335195530726,
           0.24022346368715083
          ]
         ]
        }
       ],
       "layout": {
        "annotations": [
         {
          "font": {
           "color": "#000000"
          },
          "showarrow": false,
          "text": "100.0%",
          "x": "Month 1",
          "xref": "x",
          "y": "December, 2011",
          "yref": "y"
         },
         {
          "font": {
           "color": "#FFFFFF"
          },
          "showarrow": false,
          "text": "",
          "x": "Month 2",
          "xref": "x",
          "y": "December, 2011",
          "yref": "y"
         },
         {
          "font": {
           "color": "#FFFFFF"
          },
          "showarrow": false,
          "text": "",
          "x": "Month 3",
          "xref": "x",
          "y": "December, 2011",
          "yref": "y"
         },
         {
          "font": {
           "color": "#FFFFFF"
          },
          "showarrow": false,
          "text": "",
          "x": "Month 4",
          "xref": "x",
          "y": "December, 2011",
          "yref": "y"
         },
         {
          "font": {
           "color": "#FFFFFF"
          },
          "showarrow": false,
          "text": "",
          "x": "Month 5",
          "xref": "x",
          "y": "December, 2011",
          "yref": "y"
         },
         {
          "font": {
           "color": "#FFFFFF"
          },
          "showarrow": false,
          "text": "",
          "x": "Month 6",
          "xref": "x",
          "y": "December, 2011",
          "yref": "y"
         },
         {
          "font": {
           "color": "#FFFFFF"
          },
          "showarrow": false,
          "text": "",
          "x": "Month 7",
          "xref": "x",
          "y": "December, 2011",
          "yref": "y"
         },
         {
          "font": {
           "color": "#FFFFFF"
          },
          "showarrow": false,
          "text": "",
          "x": "Month 8",
          "xref": "x",
          "y": "December, 2011",
          "yref": "y"
         },
         {
          "font": {
           "color": "#FFFFFF"
          },
          "showarrow": false,
          "text": "",
          "x": "Month 9",
          "xref": "x",
          "y": "December, 2011",
          "yref": "y"
         },
         {
          "font": {
           "color": "#FFFFFF"
          },
          "showarrow": false,
          "text": "",
          "x": "Month 10",
          "xref": "x",
          "y": "December, 2011",
          "yref": "y"
         },
         {
          "font": {
           "color": "#FFFFFF"
          },
          "showarrow": false,
          "text": "",
          "x": "Month 11",
          "xref": "x",
          "y": "December, 2011",
          "yref": "y"
         },
         {
          "font": {
           "color": "#FFFFFF"
          },
          "showarrow": false,
          "text": "",
          "x": "Month 12",
          "xref": "x",
          "y": "December, 2011",
          "yref": "y"
         },
         {
          "font": {
           "color": "#FFFFFF"
          },
          "showarrow": false,
          "text": "",
          "x": "Month 13",
          "xref": "x",
          "y": "December, 2011",
          "yref": "y"
         },
         {
          "font": {
           "color": "#000000"
          },
          "showarrow": false,
          "text": "100.0%",
          "x": "Month 1",
          "xref": "x",
          "y": "November, 2011",
          "yref": "y"
         },
         {
          "font": {
           "color": "#FFFFFF"
          },
          "showarrow": false,
          "text": "11.0%",
          "x": "Month 2",
          "xref": "x",
          "y": "November, 2011",
          "yref": "y"
         },
         {
          "font": {
           "color": "#FFFFFF"
          },
          "showarrow": false,
          "text": "",
          "x": "Month 3",
          "xref": "x",
          "y": "November, 2011",
          "yref": "y"
         },
         {
          "font": {
           "color": "#FFFFFF"
          },
          "showarrow": false,
          "text": "",
          "x": "Month 4",
          "xref": "x",
          "y": "November, 2011",
          "yref": "y"
         },
         {
          "font": {
           "color": "#FFFFFF"
          },
          "showarrow": false,
          "text": "",
          "x": "Month 5",
          "xref": "x",
          "y": "November, 2011",
          "yref": "y"
         },
         {
          "font": {
           "color": "#FFFFFF"
          },
          "showarrow": false,
          "text": "",
          "x": "Month 6",
          "xref": "x",
          "y": "November, 2011",
          "yref": "y"
         },
         {
          "font": {
           "color": "#FFFFFF"
          },
          "showarrow": false,
          "text": "",
          "x": "Month 7",
          "xref": "x",
          "y": "November, 2011",
          "yref": "y"
         },
         {
          "font": {
           "color": "#FFFFFF"
          },
          "showarrow": false,
          "text": "",
          "x": "Month 8",
          "xref": "x",
          "y": "November, 2011",
          "yref": "y"
         },
         {
          "font": {
           "color": "#FFFFFF"
          },
          "showarrow": false,
          "text": "",
          "x": "Month 9",
          "xref": "x",
          "y": "November, 2011",
          "yref": "y"
         },
         {
          "font": {
           "color": "#FFFFFF"
          },
          "showarrow": false,
          "text": "",
          "x": "Month 10",
          "xref": "x",
          "y": "November, 2011",
          "yref": "y"
         },
         {
          "font": {
           "color": "#FFFFFF"
          },
          "showarrow": false,
          "text": "",
          "x": "Month 11",
          "xref": "x",
          "y": "November, 2011",
          "yref": "y"
         },
         {
          "font": {
           "color": "#FFFFFF"
          },
          "showarrow": false,
          "text": "",
          "x": "Month 12",
          "xref": "x",
          "y": "November, 2011",
          "yref": "y"
         },
         {
          "font": {
           "color": "#FFFFFF"
          },
          "showarrow": false,
          "text": "",
          "x": "Month 13",
          "xref": "x",
          "y": "November, 2011",
          "yref": "y"
         },
         {
          "font": {
           "color": "#000000"
          },
          "showarrow": false,
          "text": "100.0%",
          "x": "Month 1",
          "xref": "x",
          "y": "October, 2011",
          "yref": "y"
         },
         {
          "font": {
           "color": "#FFFFFF"
          },
          "showarrow": false,
          "text": "21.1%",
          "x": "Month 2",
          "xref": "x",
          "y": "October, 2011",
          "yref": "y"
         },
         {
          "font": {
           "color": "#FFFFFF"
          },
          "showarrow": false,
          "text": "9.4%",
          "x": "Month 3",
          "xref": "x",
          "y": "October, 2011",
          "yref": "y"
         },
         {
          "font": {
           "color": "#FFFFFF"
          },
          "showarrow": false,
          "text": "",
          "x": "Month 4",
          "xref": "x",
          "y": "October, 2011",
          "yref": "y"
         },
         {
          "font": {
           "color": "#FFFFFF"
          },
          "showarrow": false,
          "text": "",
          "x": "Month 5",
          "xref": "x",
          "y": "October, 2011",
          "yref": "y"
         },
         {
          "font": {
           "color": "#FFFFFF"
          },
          "showarrow": false,
          "text": "",
          "x": "Month 6",
          "xref": "x",
          "y": "October, 2011",
          "yref": "y"
         },
         {
          "font": {
           "color": "#FFFFFF"
          },
          "showarrow": false,
          "text": "",
          "x": "Month 7",
          "xref": "x",
          "y": "October, 2011",
          "yref": "y"
         },
         {
          "font": {
           "color": "#FFFFFF"
          },
          "showarrow": false,
          "text": "",
          "x": "Month 8",
          "xref": "x",
          "y": "October, 2011",
          "yref": "y"
         },
         {
          "font": {
           "color": "#FFFFFF"
          },
          "showarrow": false,
          "text": "",
          "x": "Month 9",
          "xref": "x",
          "y": "October, 2011",
          "yref": "y"
         },
         {
          "font": {
           "color": "#FFFFFF"
          },
          "showarrow": false,
          "text": "",
          "x": "Month 10",
          "xref": "x",
          "y": "October, 2011",
          "yref": "y"
         },
         {
          "font": {
           "color": "#FFFFFF"
          },
          "showarrow": false,
          "text": "",
          "x": "Month 11",
          "xref": "x",
          "y": "October, 2011",
          "yref": "y"
         },
         {
          "font": {
           "color": "#FFFFFF"
          },
          "showarrow": false,
          "text": "",
          "x": "Month 12",
          "xref": "x",
          "y": "October, 2011",
          "yref": "y"
         },
         {
          "font": {
           "color": "#FFFFFF"
          },
          "showarrow": false,
          "text": "",
          "x": "Month 13",
          "xref": "x",
          "y": "October, 2011",
          "yref": "y"
         },
         {
          "font": {
           "color": "#000000"
          },
          "showarrow": false,
          "text": "100.0%",
          "x": "Month 1",
          "xref": "x",
          "y": "September, 2011",
          "yref": "y"
         },
         {
          "font": {
           "color": "#FFFFFF"
          },
          "showarrow": false,
          "text": "20.1%",
          "x": "Month 2",
          "xref": "x",
          "y": "September, 2011",
          "yref": "y"
         },
         {
          "font": {
           "color": "#FFFFFF"
          },
          "showarrow": false,
          "text": "28.0%",
          "x": "Month 3",
          "xref": "x",
          "y": "September, 2011",
          "yref": "y"
         },
         {
          "font": {
           "color": "#FFFFFF"
          },
          "showarrow": false,
          "text": "12.2%",
          "x": "Month 4",
          "xref": "x",
          "y": "September, 2011",
          "yref": "y"
         },
         {
          "font": {
           "color": "#FFFFFF"
          },
          "showarrow": false,
          "text": "",
          "x": "Month 5",
          "xref": "x",
          "y": "September, 2011",
          "yref": "y"
         },
         {
          "font": {
           "color": "#FFFFFF"
          },
          "showarrow": false,
          "text": "",
          "x": "Month 6",
          "xref": "x",
          "y": "September, 2011",
          "yref": "y"
         },
         {
          "font": {
           "color": "#FFFFFF"
          },
          "showarrow": false,
          "text": "",
          "x": "Month 7",
          "xref": "x",
          "y": "September, 2011",
          "yref": "y"
         },
         {
          "font": {
           "color": "#FFFFFF"
          },
          "showarrow": false,
          "text": "",
          "x": "Month 8",
          "xref": "x",
          "y": "September, 2011",
          "yref": "y"
         },
         {
          "font": {
           "color": "#FFFFFF"
          },
          "showarrow": false,
          "text": "",
          "x": "Month 9",
          "xref": "x",
          "y": "September, 2011",
          "yref": "y"
         },
         {
          "font": {
           "color": "#FFFFFF"
          },
          "showarrow": false,
          "text": "",
          "x": "Month 10",
          "xref": "x",
          "y": "September, 2011",
          "yref": "y"
         },
         {
          "font": {
           "color": "#FFFFFF"
          },
          "showarrow": false,
          "text": "",
          "x": "Month 11",
          "xref": "x",
          "y": "September, 2011",
          "yref": "y"
         },
         {
          "font": {
           "color": "#FFFFFF"
          },
          "showarrow": false,
          "text": "",
          "x": "Month 12",
          "xref": "x",
          "y": "September, 2011",
          "yref": "y"
         },
         {
          "font": {
           "color": "#FFFFFF"
          },
          "showarrow": false,
          "text": "",
          "x": "Month 13",
          "xref": "x",
          "y": "September, 2011",
          "yref": "y"
         },
         {
          "font": {
           "color": "#000000"
          },
          "showarrow": false,
          "text": "100.0%",
          "x": "Month 1",
          "xref": "x",
          "y": "August, 2011",
          "yref": "y"
         },
         {
          "font": {
           "color": "#FFFFFF"
          },
          "showarrow": false,
          "text": "21.6%",
          "x": "Month 2",
          "xref": "x",
          "y": "August, 2011",
          "yref": "y"
         },
         {
          "font": {
           "color": "#FFFFFF"
          },
          "showarrow": false,
          "text": "20.1%",
          "x": "Month 3",
          "xref": "x",
          "y": "August, 2011",
          "yref": "y"
         },
         {
          "font": {
           "color": "#FFFFFF"
          },
          "showarrow": false,
          "text": "25.2%",
          "x": "Month 4",
          "xref": "x",
          "y": "August, 2011",
          "yref": "y"
         },
         {
          "font": {
           "color": "#FFFFFF"
          },
          "showarrow": false,
          "text": "10.1%",
          "x": "Month 5",
          "xref": "x",
          "y": "August, 2011",
          "yref": "y"
         },
         {
          "font": {
           "color": "#FFFFFF"
          },
          "showarrow": false,
          "text": "",
          "x": "Month 6",
          "xref": "x",
          "y": "August, 2011",
          "yref": "y"
         },
         {
          "font": {
           "color": "#FFFFFF"
          },
          "showarrow": false,
          "text": "",
          "x": "Month 7",
          "xref": "x",
          "y": "August, 2011",
          "yref": "y"
         },
         {
          "font": {
           "color": "#FFFFFF"
          },
          "showarrow": false,
          "text": "",
          "x": "Month 8",
          "xref": "x",
          "y": "August, 2011",
          "yref": "y"
         },
         {
          "font": {
           "color": "#FFFFFF"
          },
          "showarrow": false,
          "text": "",
          "x": "Month 9",
          "xref": "x",
          "y": "August, 2011",
          "yref": "y"
         },
         {
          "font": {
           "color": "#FFFFFF"
          },
          "showarrow": false,
          "text": "",
          "x": "Month 10",
          "xref": "x",
          "y": "August, 2011",
          "yref": "y"
         },
         {
          "font": {
           "color": "#FFFFFF"
          },
          "showarrow": false,
          "text": "",
          "x": "Month 11",
          "xref": "x",
          "y": "August, 2011",
          "yref": "y"
         },
         {
          "font": {
           "color": "#FFFFFF"
          },
          "showarrow": false,
          "text": "",
          "x": "Month 12",
          "xref": "x",
          "y": "August, 2011",
          "yref": "y"
         },
         {
          "font": {
           "color": "#FFFFFF"
          },
          "showarrow": false,
          "text": "",
          "x": "Month 13",
          "xref": "x",
          "y": "August, 2011",
          "yref": "y"
         },
         {
          "font": {
           "color": "#000000"
          },
          "showarrow": false,
          "text": "100.0%",
          "x": "Month 1",
          "xref": "x",
          "y": "July, 2011",
          "yref": "y"
         },
         {
          "font": {
           "color": "#FFFFFF"
          },
          "showarrow": false,
          "text": "16.2%",
          "x": "Month 2",
          "xref": "x",
          "y": "July, 2011",
          "yref": "y"
         },
         {
          "font": {
           "color": "#FFFFFF"
          },
          "showarrow": false,
          "text": "17.9%",
          "x": "Month 3",
          "xref": "x",
          "y": "July, 2011",
          "yref": "y"
         },
         {
          "font": {
           "color": "#FFFFFF"
          },
          "showarrow": false,
          "text": "22.0%",
          "x": "Month 4",
          "xref": "x",
          "y": "July, 2011",
          "yref": "y"
         },
         {
          "font": {
           "color": "#FFFFFF"
          },
          "showarrow": false,
          "text": "25.4%",
          "x": "Month 5",
          "xref": "x",
          "y": "July, 2011",
          "yref": "y"
         },
         {
          "font": {
           "color": "#FFFFFF"
          },
          "showarrow": false,
          "text": "9.8%",
          "x": "Month 6",
          "xref": "x",
          "y": "July, 2011",
          "yref": "y"
         },
         {
          "font": {
           "color": "#FFFFFF"
          },
          "showarrow": false,
          "text": "",
          "x": "Month 7",
          "xref": "x",
          "y": "July, 2011",
          "yref": "y"
         },
         {
          "font": {
           "color": "#FFFFFF"
          },
          "showarrow": false,
          "text": "",
          "x": "Month 8",
          "xref": "x",
          "y": "July, 2011",
          "yref": "y"
         },
         {
          "font": {
           "color": "#FFFFFF"
          },
          "showarrow": false,
          "text": "",
          "x": "Month 9",
          "xref": "x",
          "y": "July, 2011",
          "yref": "y"
         },
         {
          "font": {
           "color": "#FFFFFF"
          },
          "showarrow": false,
          "text": "",
          "x": "Month 10",
          "xref": "x",
          "y": "July, 2011",
          "yref": "y"
         },
         {
          "font": {
           "color": "#FFFFFF"
          },
          "showarrow": false,
          "text": "",
          "x": "Month 11",
          "xref": "x",
          "y": "July, 2011",
          "yref": "y"
         },
         {
          "font": {
           "color": "#FFFFFF"
          },
          "showarrow": false,
          "text": "",
          "x": "Month 12",
          "xref": "x",
          "y": "July, 2011",
          "yref": "y"
         },
         {
          "font": {
           "color": "#FFFFFF"
          },
          "showarrow": false,
          "text": "",
          "x": "Month 13",
          "xref": "x",
          "y": "July, 2011",
          "yref": "y"
         },
         {
          "font": {
           "color": "#000000"
          },
          "showarrow": false,
          "text": "100.0%",
          "x": "Month 1",
          "xref": "x",
          "y": "June, 2011",
          "yref": "y"
         },
         {
          "font": {
           "color": "#FFFFFF"
          },
          "showarrow": false,
          "text": "15.9%",
          "x": "Month 2",
          "xref": "x",
          "y": "June, 2011",
          "yref": "y"
         },
         {
          "font": {
           "color": "#FFFFFF"
          },
          "showarrow": false,
          "text": "12.6%",
          "x": "Month 3",
          "xref": "x",
          "y": "June, 2011",
          "yref": "y"
         },
         {
          "font": {
           "color": "#FFFFFF"
          },
          "showarrow": false,
          "text": "19.8%",
          "x": "Month 4",
          "xref": "x",
          "y": "June, 2011",
          "yref": "y"
         },
         {
          "font": {
           "color": "#FFFFFF"
          },
          "showarrow": false,
          "text": "23.7%",
          "x": "Month 5",
          "xref": "x",
          "y": "June, 2011",
          "yref": "y"
         },
         {
          "font": {
           "color": "#FFFFFF"
          },
          "showarrow": false,
          "text": "30.0%",
          "x": "Month 6",
          "xref": "x",
          "y": "June, 2011",
          "yref": "y"
         },
         {
          "font": {
           "color": "#FFFFFF"
          },
          "showarrow": false,
          "text": "9.2%",
          "x": "Month 7",
          "xref": "x",
          "y": "June, 2011",
          "yref": "y"
         },
         {
          "font": {
           "color": "#FFFFFF"
          },
          "showarrow": false,
          "text": "",
          "x": "Month 8",
          "xref": "x",
          "y": "June, 2011",
          "yref": "y"
         },
         {
          "font": {
           "color": "#FFFFFF"
          },
          "showarrow": false,
          "text": "",
          "x": "Month 9",
          "xref": "x",
          "y": "June, 2011",
          "yref": "y"
         },
         {
          "font": {
           "color": "#FFFFFF"
          },
          "showarrow": false,
          "text": "",
          "x": "Month 10",
          "xref": "x",
          "y": "June, 2011",
          "yref": "y"
         },
         {
          "font": {
           "color": "#FFFFFF"
          },
          "showarrow": false,
          "text": "",
          "x": "Month 11",
          "xref": "x",
          "y": "June, 2011",
          "yref": "y"
         },
         {
          "font": {
           "color": "#FFFFFF"
          },
          "showarrow": false,
          "text": "",
          "x": "Month 12",
          "xref": "x",
          "y": "June, 2011",
          "yref": "y"
         },
         {
          "font": {
           "color": "#FFFFFF"
          },
          "showarrow": false,
          "text": "",
          "x": "Month 13",
          "xref": "x",
          "y": "June, 2011",
          "yref": "y"
         },
         {
          "font": {
           "color": "#000000"
          },
          "showarrow": false,
          "text": "100.0%",
          "x": "Month 1",
          "xref": "x",
          "y": "May, 2011",
          "yref": "y"
         },
         {
          "font": {
           "color": "#FFFFFF"
          },
          "showarrow": false,
          "text": "16.1%",
          "x": "Month 2",
          "xref": "x",
          "y": "May, 2011",
          "yref": "y"
         },
         {
          "font": {
           "color": "#FFFFFF"
          },
          "showarrow": false,
          "text": "17.3%",
          "x": "Month 3",
          "xref": "x",
          "y": "May, 2011",
          "yref": "y"
         },
         {
          "font": {
           "color": "#FFFFFF"
          },
          "showarrow": false,
          "text": "14.5%",
          "x": "Month 4",
          "xref": "x",
          "y": "May, 2011",
          "yref": "y"
         },
         {
          "font": {
           "color": "#FFFFFF"
          },
          "showarrow": false,
          "text": "20.9%",
          "x": "Month 5",
          "xref": "x",
          "y": "May, 2011",
          "yref": "y"
         },
         {
          "font": {
           "color": "#FFFFFF"
          },
          "showarrow": false,
          "text": "23.3%",
          "x": "Month 6",
          "xref": "x",
          "y": "May, 2011",
          "yref": "y"
         },
         {
          "font": {
           "color": "#FFFFFF"
          },
          "showarrow": false,
          "text": "24.5%",
          "x": "Month 7",
          "xref": "x",
          "y": "May, 2011",
          "yref": "y"
         },
         {
          "font": {
           "color": "#FFFFFF"
          },
          "showarrow": false,
          "text": "8.8%",
          "x": "Month 8",
          "xref": "x",
          "y": "May, 2011",
          "yref": "y"
         },
         {
          "font": {
           "color": "#FFFFFF"
          },
          "showarrow": false,
          "text": "",
          "x": "Month 9",
          "xref": "x",
          "y": "May, 2011",
          "yref": "y"
         },
         {
          "font": {
           "color": "#FFFFFF"
          },
          "showarrow": false,
          "text": "",
          "x": "Month 10",
          "xref": "x",
          "y": "May, 2011",
          "yref": "y"
         },
         {
          "font": {
           "color": "#FFFFFF"
          },
          "showarrow": false,
          "text": "",
          "x": "Month 11",
          "xref": "x",
          "y": "May, 2011",
          "yref": "y"
         },
         {
          "font": {
           "color": "#FFFFFF"
          },
          "showarrow": false,
          "text": "",
          "x": "Month 12",
          "xref": "x",
          "y": "May, 2011",
          "yref": "y"
         },
         {
          "font": {
           "color": "#FFFFFF"
          },
          "showarrow": false,
          "text": "",
          "x": "Month 13",
          "xref": "x",
          "y": "May, 2011",
          "yref": "y"
         },
         {
          "font": {
           "color": "#000000"
          },
          "showarrow": false,
          "text": "100.0%",
          "x": "Month 1",
          "xref": "x",
          "y": "April, 2011",
          "yref": "y"
         },
         {
          "font": {
           "color": "#FFFFFF"
          },
          "showarrow": false,
          "text": "19.2%",
          "x": "Month 2",
          "xref": "x",
          "y": "April, 2011",
          "yref": "y"
         },
         {
          "font": {
           "color": "#FFFFFF"
          },
          "showarrow": false,
          "text": "20.4%",
          "x": "Month 3",
          "xref": "x",
          "y": "April, 2011",
          "yref": "y"
         },
         {
          "font": {
           "color": "#FFFFFF"
          },
          "showarrow": false,
          "text": "19.2%",
          "x": "Month 4",
          "xref": "x",
          "y": "April, 2011",
          "yref": "y"
         },
         {
          "font": {
           "color": "#FFFFFF"
          },
          "showarrow": false,
          "text": "18.4%",
          "x": "Month 5",
          "xref": "x",
          "y": "April, 2011",
          "yref": "y"
         },
         {
          "font": {
           "color": "#FFFFFF"
          },
          "showarrow": false,
          "text": "20.4%",
          "x": "Month 6",
          "xref": "x",
          "y": "April, 2011",
          "yref": "y"
         },
         {
          "font": {
           "color": "#FFFFFF"
          },
          "showarrow": false,
          "text": "22.0%",
          "x": "Month 7",
          "xref": "x",
          "y": "April, 2011",
          "yref": "y"
         },
         {
          "font": {
           "color": "#FFFFFF"
          },
          "showarrow": false,
          "text": "23.1%",
          "x": "Month 8",
          "xref": "x",
          "y": "April, 2011",
          "yref": "y"
         },
         {
          "font": {
           "color": "#FFFFFF"
          },
          "showarrow": false,
          "text": "6.7%",
          "x": "Month 9",
          "xref": "x",
          "y": "April, 2011",
          "yref": "y"
         },
         {
          "font": {
           "color": "#FFFFFF"
          },
          "showarrow": false,
          "text": "",
          "x": "Month 10",
          "xref": "x",
          "y": "April, 2011",
          "yref": "y"
         },
         {
          "font": {
           "color": "#FFFFFF"
          },
          "showarrow": false,
          "text": "",
          "x": "Month 11",
          "xref": "x",
          "y": "April, 2011",
          "yref": "y"
         },
         {
          "font": {
           "color": "#FFFFFF"
          },
          "showarrow": false,
          "text": "",
          "x": "Month 12",
          "xref": "x",
          "y": "April, 2011",
          "yref": "y"
         },
         {
          "font": {
           "color": "#FFFFFF"
          },
          "showarrow": false,
          "text": "",
          "x": "Month 13",
          "xref": "x",
          "y": "April, 2011",
          "yref": "y"
         },
         {
          "font": {
           "color": "#000000"
          },
          "showarrow": false,
          "text": "100.0%",
          "x": "Month 1",
          "xref": "x",
          "y": "March, 2011",
          "yref": "y"
         },
         {
          "font": {
           "color": "#FFFFFF"
          },
          "showarrow": false,
          "text": "16.2%",
          "x": "Month 2",
          "xref": "x",
          "y": "March, 2011",
          "yref": "y"
         },
         {
          "font": {
           "color": "#FFFFFF"
          },
          "showarrow": false,
          "text": "25.8%",
          "x": "Month 3",
          "xref": "x",
          "y": "March, 2011",
          "yref": "y"
         },
         {
          "font": {
           "color": "#FFFFFF"
          },
          "showarrow": false,
          "text": "19.6%",
          "x": "Month 4",
          "xref": "x",
          "y": "March, 2011",
          "yref": "y"
         },
         {
          "font": {
           "color": "#FFFFFF"
          },
          "showarrow": false,
          "text": "21.4%",
          "x": "Month 5",
          "xref": "x",
          "y": "March, 2011",
          "yref": "y"
         },
         {
          "font": {
           "color": "#FFFFFF"
          },
          "showarrow": false,
          "text": "17.3%",
          "x": "Month 6",
          "xref": "x",
          "y": "March, 2011",
          "yref": "y"
         },
         {
          "font": {
           "color": "#FFFFFF"
          },
          "showarrow": false,
          "text": "25.3%",
          "x": "Month 7",
          "xref": "x",
          "y": "March, 2011",
          "yref": "y"
         },
         {
          "font": {
           "color": "#FFFFFF"
          },
          "showarrow": false,
          "text": "21.9%",
          "x": "Month 8",
          "xref": "x",
          "y": "March, 2011",
          "yref": "y"
         },
         {
          "font": {
           "color": "#FFFFFF"
          },
          "showarrow": false,
          "text": "27.6%",
          "x": "Month 9",
          "xref": "x",
          "y": "March, 2011",
          "yref": "y"
         },
         {
          "font": {
           "color": "#FFFFFF"
          },
          "showarrow": false,
          "text": "9.8%",
          "x": "Month 10",
          "xref": "x",
          "y": "March, 2011",
          "yref": "y"
         },
         {
          "font": {
           "color": "#FFFFFF"
          },
          "showarrow": false,
          "text": "",
          "x": "Month 11",
          "xref": "x",
          "y": "March, 2011",
          "yref": "y"
         },
         {
          "font": {
           "color": "#FFFFFF"
          },
          "showarrow": false,
          "text": "",
          "x": "Month 12",
          "xref": "x",
          "y": "March, 2011",
          "yref": "y"
         },
         {
          "font": {
           "color": "#FFFFFF"
          },
          "showarrow": false,
          "text": "",
          "x": "Month 13",
          "xref": "x",
          "y": "March, 2011",
          "yref": "y"
         },
         {
          "font": {
           "color": "#000000"
          },
          "showarrow": false,
          "text": "100.0%",
          "x": "Month 1",
          "xref": "x",
          "y": "February, 2011",
          "yref": "y"
         },
         {
          "font": {
           "color": "#FFFFFF"
          },
          "showarrow": false,
          "text": "18.4%",
          "x": "Month 2",
          "xref": "x",
          "y": "February, 2011",
          "yref": "y"
         },
         {
          "font": {
           "color": "#FFFFFF"
          },
          "showarrow": false,
          "text": "18.0%",
          "x": "Month 3",
          "xref": "x",
          "y": "February, 2011",
          "yref": "y"
         },
         {
          "font": {
           "color": "#FFFFFF"
          },
          "showarrow": false,
          "text": "26.3%",
          "x": "Month 4",
          "xref": "x",
          "y": "February, 2011",
          "yref": "y"
         },
         {
          "font": {
           "color": "#FFFFFF"
          },
          "showarrow": false,
          "text": "26.9%",
          "x": "Month 5",
          "xref": "x",
          "y": "February, 2011",
          "yref": "y"
         },
         {
          "font": {
           "color": "#FFFFFF"
          },
          "showarrow": false,
          "text": "23.4%",
          "x": "Month 6",
          "xref": "x",
          "y": "February, 2011",
          "yref": "y"
         },
         {
          "font": {
           "color": "#FFFFFF"
          },
          "showarrow": false,
          "text": "25.3%",
          "x": "Month 7",
          "xref": "x",
          "y": "February, 2011",
          "yref": "y"
         },
         {
          "font": {
           "color": "#FFFFFF"
          },
          "showarrow": false,
          "text": "26.3%",
          "x": "Month 8",
          "xref": "x",
          "y": "February, 2011",
          "yref": "y"
         },
         {
          "font": {
           "color": "#FFFFFF"
          },
          "showarrow": false,
          "text": "27.2%",
          "x": "Month 9",
          "xref": "x",
          "y": "February, 2011",
          "yref": "y"
         },
         {
          "font": {
           "color": "#FFFFFF"
          },
          "showarrow": false,
          "text": "30.1%",
          "x": "Month 10",
          "xref": "x",
          "y": "February, 2011",
          "yref": "y"
         },
         {
          "font": {
           "color": "#FFFFFF"
          },
          "showarrow": false,
          "text": "8.9%",
          "x": "Month 11",
          "xref": "x",
          "y": "February, 2011",
          "yref": "y"
         },
         {
          "font": {
           "color": "#FFFFFF"
          },
          "showarrow": false,
          "text": "",
          "x": "Month 12",
          "xref": "x",
          "y": "February, 2011",
          "yref": "y"
         },
         {
          "font": {
           "color": "#FFFFFF"
          },
          "showarrow": false,
          "text": "",
          "x": "Month 13",
          "xref": "x",
          "y": "February, 2011",
          "yref": "y"
         },
         {
          "font": {
           "color": "#000000"
          },
          "showarrow": false,
          "text": "100.0%",
          "x": "Month 1",
          "xref": "x",
          "y": "January, 2011",
          "yref": "y"
         },
         {
          "font": {
           "color": "#FFFFFF"
          },
          "showarrow": false,
          "text": "20.8%",
          "x": "Month 2",
          "xref": "x",
          "y": "January, 2011",
          "yref": "y"
         },
         {
          "font": {
           "color": "#FFFFFF"
          },
          "showarrow": false,
          "text": "24.7%",
          "x": "Month 3",
          "xref": "x",
          "y": "January, 2011",
          "yref": "y"
         },
         {
          "font": {
           "color": "#FFFFFF"
          },
          "showarrow": false,
          "text": "24.4%",
          "x": "Month 4",
          "xref": "x",
          "y": "January, 2011",
          "yref": "y"
         },
         {
          "font": {
           "color": "#FFFFFF"
          },
          "showarrow": false,
          "text": "33.1%",
          "x": "Month 5",
          "xref": "x",
          "y": "January, 2011",
          "yref": "y"
         },
         {
          "font": {
           "color": "#FFFFFF"
          },
          "showarrow": false,
          "text": "27.1%",
          "x": "Month 6",
          "xref": "x",
          "y": "January, 2011",
          "yref": "y"
         },
         {
          "font": {
           "color": "#FFFFFF"
          },
          "showarrow": false,
          "text": "24.7%",
          "x": "Month 7",
          "xref": "x",
          "y": "January, 2011",
          "yref": "y"
         },
         {
          "font": {
           "color": "#FFFFFF"
          },
          "showarrow": false,
          "text": "25.9%",
          "x": "Month 8",
          "xref": "x",
          "y": "January, 2011",
          "yref": "y"
         },
         {
          "font": {
           "color": "#FFFFFF"
          },
          "showarrow": false,
          "text": "31.3%",
          "x": "Month 9",
          "xref": "x",
          "y": "January, 2011",
          "yref": "y"
         },
         {
          "font": {
           "color": "#FFFFFF"
          },
          "showarrow": false,
          "text": "30.7%",
          "x": "Month 10",
          "xref": "x",
          "y": "January, 2011",
          "yref": "y"
         },
         {
          "font": {
           "color": "#FFFFFF"
          },
          "showarrow": false,
          "text": "37.3%",
          "x": "Month 11",
          "xref": "x",
          "y": "January, 2011",
          "yref": "y"
         },
         {
          "font": {
           "color": "#FFFFFF"
          },
          "showarrow": false,
          "text": "13.6%",
          "x": "Month 12",
          "xref": "x",
          "y": "January, 2011",
          "yref": "y"
         },
         {
          "font": {
           "color": "#FFFFFF"
          },
          "showarrow": false,
          "text": "",
          "x": "Month 13",
          "xref": "x",
          "y": "January, 2011",
          "yref": "y"
         },
         {
          "font": {
           "color": "#000000"
          },
          "showarrow": false,
          "text": "100.0%",
          "x": "Month 1",
          "xref": "x",
          "y": "December, 2010",
          "yref": "y"
         },
         {
          "font": {
           "color": "#FFFFFF"
          },
          "showarrow": false,
          "text": "34.4%",
          "x": "Month 2",
          "xref": "x",
          "y": "December, 2010",
          "yref": "y"
         },
         {
          "font": {
           "color": "#FFFFFF"
          },
          "showarrow": false,
          "text": "30.9%",
          "x": "Month 3",
          "xref": "x",
          "y": "December, 2010",
          "yref": "y"
         },
         {
          "font": {
           "color": "#FFFFFF"
          },
          "showarrow": false,
          "text": "35.1%",
          "x": "Month 4",
          "xref": "x",
          "y": "December, 2010",
          "yref": "y"
         },
         {
          "font": {
           "color": "#FFFFFF"
          },
          "showarrow": false,
          "text": "34.2%",
          "x": "Month 5",
          "xref": "x",
          "y": "December, 2010",
          "yref": "y"
         },
         {
          "font": {
           "color": "#FFFFFF"
          },
          "showarrow": false,
          "text": "39.8%",
          "x": "Month 6",
          "xref": "x",
          "y": "December, 2010",
          "yref": "y"
         },
         {
          "font": {
           "color": "#FFFFFF"
          },
          "showarrow": false,
          "text": "34.8%",
          "x": "Month 7",
          "xref": "x",
          "y": "December, 2010",
          "yref": "y"
         },
         {
          "font": {
           "color": "#FFFFFF"
          },
          "showarrow": false,
          "text": "33.0%",
          "x": "Month 8",
          "xref": "x",
          "y": "December, 2010",
          "yref": "y"
         },
         {
          "font": {
           "color": "#FFFFFF"
          },
          "showarrow": false,
          "text": "33.5%",
          "x": "Month 9",
          "xref": "x",
          "y": "December, 2010",
          "yref": "y"
         },
         {
          "font": {
           "color": "#FFFFFF"
          },
          "showarrow": false,
          "text": "37.0%",
          "x": "Month 10",
          "xref": "x",
          "y": "December, 2010",
          "yref": "y"
         },
         {
          "font": {
           "color": "#FFFFFF"
          },
          "showarrow": false,
          "text": "35.5%",
          "x": "Month 11",
          "xref": "x",
          "y": "December, 2010",
          "yref": "y"
         },
         {
          "font": {
           "color": "#FFFFFF"
          },
          "showarrow": false,
          "text": "48.6%",
          "x": "Month 12",
          "xref": "x",
          "y": "December, 2010",
          "yref": "y"
         },
         {
          "font": {
           "color": "#FFFFFF"
          },
          "showarrow": false,
          "text": "24.0%",
          "x": "Month 13",
          "xref": "x",
          "y": "December, 2010",
          "yref": "y"
         }
        ],
        "font": {
         "color": "rgb(255,255,255)"
        },
        "height": 700,
        "paper_bgcolor": "rgb(0,0,0)",
        "template": {
         "data": {
          "bar": [
           {
            "error_x": {
             "color": "#2a3f5f"
            },
            "error_y": {
             "color": "#2a3f5f"
            },
            "marker": {
             "line": {
              "color": "#E5ECF6",
              "width": 0.5
             },
             "pattern": {
              "fillmode": "overlay",
              "size": 10,
              "solidity": 0.2
             }
            },
            "type": "bar"
           }
          ],
          "barpolar": [
           {
            "marker": {
             "line": {
              "color": "#E5ECF6",
              "width": 0.5
             },
             "pattern": {
              "fillmode": "overlay",
              "size": 10,
              "solidity": 0.2
             }
            },
            "type": "barpolar"
           }
          ],
          "carpet": [
           {
            "aaxis": {
             "endlinecolor": "#2a3f5f",
             "gridcolor": "white",
             "linecolor": "white",
             "minorgridcolor": "white",
             "startlinecolor": "#2a3f5f"
            },
            "baxis": {
             "endlinecolor": "#2a3f5f",
             "gridcolor": "white",
             "linecolor": "white",
             "minorgridcolor": "white",
             "startlinecolor": "#2a3f5f"
            },
            "type": "carpet"
           }
          ],
          "choropleth": [
           {
            "colorbar": {
             "outlinewidth": 0,
             "ticks": ""
            },
            "type": "choropleth"
           }
          ],
          "contour": [
           {
            "colorbar": {
             "outlinewidth": 0,
             "ticks": ""
            },
            "colorscale": [
             [
              0,
              "#0d0887"
             ],
             [
              0.1111111111111111,
              "#46039f"
             ],
             [
              0.2222222222222222,
              "#7201a8"
             ],
             [
              0.3333333333333333,
              "#9c179e"
             ],
             [
              0.4444444444444444,
              "#bd3786"
             ],
             [
              0.5555555555555556,
              "#d8576b"
             ],
             [
              0.6666666666666666,
              "#ed7953"
             ],
             [
              0.7777777777777778,
              "#fb9f3a"
             ],
             [
              0.8888888888888888,
              "#fdca26"
             ],
             [
              1,
              "#f0f921"
             ]
            ],
            "type": "contour"
           }
          ],
          "contourcarpet": [
           {
            "colorbar": {
             "outlinewidth": 0,
             "ticks": ""
            },
            "type": "contourcarpet"
           }
          ],
          "heatmap": [
           {
            "colorbar": {
             "outlinewidth": 0,
             "ticks": ""
            },
            "colorscale": [
             [
              0,
              "#0d0887"
             ],
             [
              0.1111111111111111,
              "#46039f"
             ],
             [
              0.2222222222222222,
              "#7201a8"
             ],
             [
              0.3333333333333333,
              "#9c179e"
             ],
             [
              0.4444444444444444,
              "#bd3786"
             ],
             [
              0.5555555555555556,
              "#d8576b"
             ],
             [
              0.6666666666666666,
              "#ed7953"
             ],
             [
              0.7777777777777778,
              "#fb9f3a"
             ],
             [
              0.8888888888888888,
              "#fdca26"
             ],
             [
              1,
              "#f0f921"
             ]
            ],
            "type": "heatmap"
           }
          ],
          "heatmapgl": [
           {
            "colorbar": {
             "outlinewidth": 0,
             "ticks": ""
            },
            "colorscale": [
             [
              0,
              "#0d0887"
             ],
             [
              0.1111111111111111,
              "#46039f"
             ],
             [
              0.2222222222222222,
              "#7201a8"
             ],
             [
              0.3333333333333333,
              "#9c179e"
             ],
             [
              0.4444444444444444,
              "#bd3786"
             ],
             [
              0.5555555555555556,
              "#d8576b"
             ],
             [
              0.6666666666666666,
              "#ed7953"
             ],
             [
              0.7777777777777778,
              "#fb9f3a"
             ],
             [
              0.8888888888888888,
              "#fdca26"
             ],
             [
              1,
              "#f0f921"
             ]
            ],
            "type": "heatmapgl"
           }
          ],
          "histogram": [
           {
            "marker": {
             "pattern": {
              "fillmode": "overlay",
              "size": 10,
              "solidity": 0.2
             }
            },
            "type": "histogram"
           }
          ],
          "histogram2d": [
           {
            "colorbar": {
             "outlinewidth": 0,
             "ticks": ""
            },
            "colorscale": [
             [
              0,
              "#0d0887"
             ],
             [
              0.1111111111111111,
              "#46039f"
             ],
             [
              0.2222222222222222,
              "#7201a8"
             ],
             [
              0.3333333333333333,
              "#9c179e"
             ],
             [
              0.4444444444444444,
              "#bd3786"
             ],
             [
              0.5555555555555556,
              "#d8576b"
             ],
             [
              0.6666666666666666,
              "#ed7953"
             ],
             [
              0.7777777777777778,
              "#fb9f3a"
             ],
             [
              0.8888888888888888,
              "#fdca26"
             ],
             [
              1,
              "#f0f921"
             ]
            ],
            "type": "histogram2d"
           }
          ],
          "histogram2dcontour": [
           {
            "colorbar": {
             "outlinewidth": 0,
             "ticks": ""
            },
            "colorscale": [
             [
              0,
              "#0d0887"
             ],
             [
              0.1111111111111111,
              "#46039f"
             ],
             [
              0.2222222222222222,
              "#7201a8"
             ],
             [
              0.3333333333333333,
              "#9c179e"
             ],
             [
              0.4444444444444444,
              "#bd3786"
             ],
             [
              0.5555555555555556,
              "#d8576b"
             ],
             [
              0.6666666666666666,
              "#ed7953"
             ],
             [
              0.7777777777777778,
              "#fb9f3a"
             ],
             [
              0.8888888888888888,
              "#fdca26"
             ],
             [
              1,
              "#f0f921"
             ]
            ],
            "type": "histogram2dcontour"
           }
          ],
          "mesh3d": [
           {
            "colorbar": {
             "outlinewidth": 0,
             "ticks": ""
            },
            "type": "mesh3d"
           }
          ],
          "parcoords": [
           {
            "line": {
             "colorbar": {
              "outlinewidth": 0,
              "ticks": ""
             }
            },
            "type": "parcoords"
           }
          ],
          "pie": [
           {
            "automargin": true,
            "type": "pie"
           }
          ],
          "scatter": [
           {
            "fillpattern": {
             "fillmode": "overlay",
             "size": 10,
             "solidity": 0.2
            },
            "type": "scatter"
           }
          ],
          "scatter3d": [
           {
            "line": {
             "colorbar": {
              "outlinewidth": 0,
              "ticks": ""
             }
            },
            "marker": {
             "colorbar": {
              "outlinewidth": 0,
              "ticks": ""
             }
            },
            "type": "scatter3d"
           }
          ],
          "scattercarpet": [
           {
            "marker": {
             "colorbar": {
              "outlinewidth": 0,
              "ticks": ""
             }
            },
            "type": "scattercarpet"
           }
          ],
          "scattergeo": [
           {
            "marker": {
             "colorbar": {
              "outlinewidth": 0,
              "ticks": ""
             }
            },
            "type": "scattergeo"
           }
          ],
          "scattergl": [
           {
            "marker": {
             "colorbar": {
              "outlinewidth": 0,
              "ticks": ""
             }
            },
            "type": "scattergl"
           }
          ],
          "scattermapbox": [
           {
            "marker": {
             "colorbar": {
              "outlinewidth": 0,
              "ticks": ""
             }
            },
            "type": "scattermapbox"
           }
          ],
          "scatterpolar": [
           {
            "marker": {
             "colorbar": {
              "outlinewidth": 0,
              "ticks": ""
             }
            },
            "type": "scatterpolar"
           }
          ],
          "scatterpolargl": [
           {
            "marker": {
             "colorbar": {
              "outlinewidth": 0,
              "ticks": ""
             }
            },
            "type": "scatterpolargl"
           }
          ],
          "scatterternary": [
           {
            "marker": {
             "colorbar": {
              "outlinewidth": 0,
              "ticks": ""
             }
            },
            "type": "scatterternary"
           }
          ],
          "surface": [
           {
            "colorbar": {
             "outlinewidth": 0,
             "ticks": ""
            },
            "colorscale": [
             [
              0,
              "#0d0887"
             ],
             [
              0.1111111111111111,
              "#46039f"
             ],
             [
              0.2222222222222222,
              "#7201a8"
             ],
             [
              0.3333333333333333,
              "#9c179e"
             ],
             [
              0.4444444444444444,
              "#bd3786"
             ],
             [
              0.5555555555555556,
              "#d8576b"
             ],
             [
              0.6666666666666666,
              "#ed7953"
             ],
             [
              0.7777777777777778,
              "#fb9f3a"
             ],
             [
              0.8888888888888888,
              "#fdca26"
             ],
             [
              1,
              "#f0f921"
             ]
            ],
            "type": "surface"
           }
          ],
          "table": [
           {
            "cells": {
             "fill": {
              "color": "#EBF0F8"
             },
             "line": {
              "color": "white"
             }
            },
            "header": {
             "fill": {
              "color": "#C8D4E3"
             },
             "line": {
              "color": "white"
             }
            },
            "type": "table"
           }
          ]
         },
         "layout": {
          "annotationdefaults": {
           "arrowcolor": "#2a3f5f",
           "arrowhead": 0,
           "arrowwidth": 1
          },
          "autotypenumbers": "strict",
          "coloraxis": {
           "colorbar": {
            "outlinewidth": 0,
            "ticks": ""
           }
          },
          "colorscale": {
           "diverging": [
            [
             0,
             "#8e0152"
            ],
            [
             0.1,
             "#c51b7d"
            ],
            [
             0.2,
             "#de77ae"
            ],
            [
             0.3,
             "#f1b6da"
            ],
            [
             0.4,
             "#fde0ef"
            ],
            [
             0.5,
             "#f7f7f7"
            ],
            [
             0.6,
             "#e6f5d0"
            ],
            [
             0.7,
             "#b8e186"
            ],
            [
             0.8,
             "#7fbc41"
            ],
            [
             0.9,
             "#4d9221"
            ],
            [
             1,
             "#276419"
            ]
           ],
           "sequential": [
            [
             0,
             "#0d0887"
            ],
            [
             0.1111111111111111,
             "#46039f"
            ],
            [
             0.2222222222222222,
             "#7201a8"
            ],
            [
             0.3333333333333333,
             "#9c179e"
            ],
            [
             0.4444444444444444,
             "#bd3786"
            ],
            [
             0.5555555555555556,
             "#d8576b"
            ],
            [
             0.6666666666666666,
             "#ed7953"
            ],
            [
             0.7777777777777778,
             "#fb9f3a"
            ],
            [
             0.8888888888888888,
             "#fdca26"
            ],
            [
             1,
             "#f0f921"
            ]
           ],
           "sequentialminus": [
            [
             0,
             "#0d0887"
            ],
            [
             0.1111111111111111,
             "#46039f"
            ],
            [
             0.2222222222222222,
             "#7201a8"
            ],
            [
             0.3333333333333333,
             "#9c179e"
            ],
            [
             0.4444444444444444,
             "#bd3786"
            ],
            [
             0.5555555555555556,
             "#d8576b"
            ],
            [
             0.6666666666666666,
             "#ed7953"
            ],
            [
             0.7777777777777778,
             "#fb9f3a"
            ],
            [
             0.8888888888888888,
             "#fdca26"
            ],
            [
             1,
             "#f0f921"
            ]
           ]
          },
          "colorway": [
           "#636efa",
           "#EF553B",
           "#00cc96",
           "#ab63fa",
           "#FFA15A",
           "#19d3f3",
           "#FF6692",
           "#B6E880",
           "#FF97FF",
           "#FECB52"
          ],
          "font": {
           "color": "#2a3f5f"
          },
          "geo": {
           "bgcolor": "white",
           "lakecolor": "white",
           "landcolor": "#E5ECF6",
           "showlakes": true,
           "showland": true,
           "subunitcolor": "white"
          },
          "hoverlabel": {
           "align": "left"
          },
          "hovermode": "closest",
          "mapbox": {
           "style": "light"
          },
          "paper_bgcolor": "white",
          "plot_bgcolor": "#E5ECF6",
          "polar": {
           "angularaxis": {
            "gridcolor": "white",
            "linecolor": "white",
            "ticks": ""
           },
           "bgcolor": "#E5ECF6",
           "radialaxis": {
            "gridcolor": "white",
            "linecolor": "white",
            "ticks": ""
           }
          },
          "scene": {
           "xaxis": {
            "backgroundcolor": "#E5ECF6",
            "gridcolor": "white",
            "gridwidth": 2,
            "linecolor": "white",
            "showbackground": true,
            "ticks": "",
            "zerolinecolor": "white"
           },
           "yaxis": {
            "backgroundcolor": "#E5ECF6",
            "gridcolor": "white",
            "gridwidth": 2,
            "linecolor": "white",
            "showbackground": true,
            "ticks": "",
            "zerolinecolor": "white"
           },
           "zaxis": {
            "backgroundcolor": "#E5ECF6",
            "gridcolor": "white",
            "gridwidth": 2,
            "linecolor": "white",
            "showbackground": true,
            "ticks": "",
            "zerolinecolor": "white"
           }
          },
          "shapedefaults": {
           "line": {
            "color": "#2a3f5f"
           }
          },
          "ternary": {
           "aaxis": {
            "gridcolor": "white",
            "linecolor": "white",
            "ticks": ""
           },
           "baxis": {
            "gridcolor": "white",
            "linecolor": "white",
            "ticks": ""
           },
           "bgcolor": "#E5ECF6",
           "caxis": {
            "gridcolor": "white",
            "linecolor": "white",
            "ticks": ""
           }
          },
          "title": {
           "x": 0.05
          },
          "xaxis": {
           "automargin": true,
           "gridcolor": "white",
           "linecolor": "white",
           "ticks": "",
           "title": {
            "standoff": 15
           },
           "zerolinecolor": "white",
           "zerolinewidth": 2
          },
          "yaxis": {
           "automargin": true,
           "gridcolor": "white",
           "linecolor": "white",
           "ticks": "",
           "title": {
            "standoff": 15
           },
           "zerolinecolor": "white",
           "zerolinewidth": 2
          }
         }
        },
        "title": {
         "text": "User Retention Rate by Cohort: Heatmap"
        },
        "width": 1000,
        "xaxis": {
         "dtick": 1,
         "gridcolor": "rgb(0, 0, 0)",
         "side": "top",
         "ticks": "",
         "title": {
          "text": "# Periods Elapsed"
         }
        },
        "yaxis": {
         "dtick": 1,
         "ticks": "",
         "ticksuffix": "  "
        }
       }
      }
     },
     "metadata": {},
     "output_type": "display_data"
    }
   ],
   "source": [
    "def plot_cohorts_heatmap(dataframe: pd.DataFrame) -> plt.Figure:\n",
    "    cohort_size = dataframe.iloc[:,0]\n",
    "    dataframe = dataframe.divide(\n",
    "        other=cohort_size\n",
    "        ,axis=0\n",
    "    )[::-1].fillna(0)\n",
    "    ylabel = [str(dt.date(int(i.split('-')[0]), int(i.split('-')[1]), int(i.split('-')[2])).strftime(format='%B, %Y')) for i in dataframe.index]\n",
    "\n",
    "    fig = ff.create_annotated_heatmap(\n",
    "        z = dataframe.values\n",
    "        , annotation_text = dataframe.map(lambda x: '{:.1%}'.format(x) if x > 0 else '').values.tolist()\n",
    "        , y = ylabel\n",
    "        , x = ['Month '+ str(int(i)+1) for i in dataframe.columns]\n",
    "        , showscale = True\n",
    "    )\n",
    "\n",
    "    fig.update_layout(\n",
    "        width=1000\n",
    "        , height=700\n",
    "        , xaxis={\"title\": \"# Periods Elapsed\"}\n",
    "        , font_color = 'rgb(255,255,255)'\n",
    "        , title=\"User Retention Rate by Cohort: Heatmap\"\n",
    "        , paper_bgcolor='rgb(0,0,0)'\n",
    "    )\n",
    "\n",
    "    fig.show()\n",
    "\n",
    "plot_cohorts_heatmap(cohort_counts)"
   ]
  },
  {
   "cell_type": "markdown",
   "metadata": {},
   "source": [
    "### 1.4.2. Cumulative Lifetime Revenue"
   ]
  },
  {
   "cell_type": "markdown",
   "metadata": {},
   "source": [
    "#### Definition"
   ]
  },
  {
   "cell_type": "markdown",
   "metadata": {},
   "source": [
    "The Cumulative Lifetime Revenue (CLR) is the total revenue generated by a customer over their entire relationship with a business. It's useful for understanding the long-term value a customer brings to the company."
   ]
  },
  {
   "cell_type": "markdown",
   "metadata": {},
   "source": [
    "#### Formula\n"
   ]
  },
  {
   "cell_type": "markdown",
   "metadata": {},
   "source": [
    "$CLR = \\sum{(Revenue\\ from\\ each\\ transaction\\ over\\ time)}$\n",
    "\n",
    "- **Revenue from each transaction**: This is the amount of money earned from each transaction or purchase made by the customer.\n",
    "\n",
    "- **Summation (Σ)**: This represents the total revenue accumulated from all transactions a customer has made since their first purchase."
   ]
  },
  {
   "cell_type": "markdown",
   "metadata": {},
   "source": [
    "#### Key Components"
   ]
  },
  {
   "cell_type": "markdown",
   "metadata": {},
   "source": [
    "- **Revenue per Transaction**: This is typically the total amount spent by the customer during each transaction. If there are multiple items in a transaction, it can be calculated as the sum of the prices of all items.\n",
    "\n",
    "- **Customer Relationship Period**: The CLR spans from the first transaction to the most recent transaction. It's the total revenue from all purchases made during the customer's lifetime as a customer."
   ]
  },
  {
   "cell_type": "markdown",
   "metadata": {},
   "source": [
    "#### Theory Example"
   ]
  },
  {
   "cell_type": "markdown",
   "metadata": {},
   "source": [
    "Let’s assume a customer has made the following purchases:\n",
    "\n",
    "- First transaction: $50\n",
    "- Second transaction: $30\n",
    "- Third transaction: $70\n",
    "- Fourth transaction: $20\n",
    "\n",
    "To calculate the Cumulative Lifetime Revenue (CLR) for this customer, you would sum all these transactions:\n",
    "\n",
    "CLR=50+30+70+20=170\n",
    "\n",
    "So, the Cumulative Lifetime Revenue for this customer is $170.\n",
    "\n",
    "- Revenue from Subscriptions or Recurring Billing: If the customer subscribes to a service or product on a recurring basis (e.g., a monthly subscription), you can calculate CLR by multiplying the subscription amount by the number of months the customer has been subscribed."
   ]
  },
  {
   "cell_type": "markdown",
   "metadata": {},
   "source": [
    "### 1.4.3. Churn Rate"
   ]
  },
  {
   "cell_type": "markdown",
   "metadata": {},
   "source": [
    "$\\text{Churn Rate} = 1 - \\text{Retention Rate}$"
   ]
  },
  {
   "cell_type": "code",
   "execution_count": 15,
   "metadata": {},
   "outputs": [
    {
     "name": "stdout",
     "output_type": "stream",
     "text": [
      "retention rate:\n"
     ]
    },
    {
     "data": {
      "text/html": [
       "<div>\n",
       "<style scoped>\n",
       "    .dataframe tbody tr th:only-of-type {\n",
       "        vertical-align: middle;\n",
       "    }\n",
       "\n",
       "    .dataframe tbody tr th {\n",
       "        vertical-align: top;\n",
       "    }\n",
       "\n",
       "    .dataframe thead th {\n",
       "        text-align: right;\n",
       "    }\n",
       "</style>\n",
       "<table border=\"1\" class=\"dataframe\">\n",
       "  <thead>\n",
       "    <tr style=\"text-align: right;\">\n",
       "      <th></th>\n",
       "      <th>0</th>\n",
       "      <th>1</th>\n",
       "      <th>2</th>\n",
       "      <th>3</th>\n",
       "      <th>4</th>\n",
       "      <th>5</th>\n",
       "      <th>6</th>\n",
       "      <th>7</th>\n",
       "      <th>8</th>\n",
       "      <th>9</th>\n",
       "      <th>10</th>\n",
       "      <th>11</th>\n",
       "      <th>12</th>\n",
       "    </tr>\n",
       "    <tr>\n",
       "      <th>CohortMonth</th>\n",
       "      <th></th>\n",
       "      <th></th>\n",
       "      <th></th>\n",
       "      <th></th>\n",
       "      <th></th>\n",
       "      <th></th>\n",
       "      <th></th>\n",
       "      <th></th>\n",
       "      <th></th>\n",
       "      <th></th>\n",
       "      <th></th>\n",
       "      <th></th>\n",
       "      <th></th>\n",
       "    </tr>\n",
       "  </thead>\n",
       "  <tbody>\n",
       "    <tr>\n",
       "      <th>2010-12-01</th>\n",
       "      <td>1.0</td>\n",
       "      <td>0.343575</td>\n",
       "      <td>0.308659</td>\n",
       "      <td>0.350559</td>\n",
       "      <td>0.342179</td>\n",
       "      <td>0.398045</td>\n",
       "      <td>0.347765</td>\n",
       "      <td>0.329609</td>\n",
       "      <td>0.335196</td>\n",
       "      <td>0.370112</td>\n",
       "      <td>0.354749</td>\n",
       "      <td>0.486034</td>\n",
       "      <td>0.240223</td>\n",
       "    </tr>\n",
       "    <tr>\n",
       "      <th>2011-01-01</th>\n",
       "      <td>1.0</td>\n",
       "      <td>0.207831</td>\n",
       "      <td>0.246988</td>\n",
       "      <td>0.243976</td>\n",
       "      <td>0.331325</td>\n",
       "      <td>0.271084</td>\n",
       "      <td>0.246988</td>\n",
       "      <td>0.259036</td>\n",
       "      <td>0.313253</td>\n",
       "      <td>0.307229</td>\n",
       "      <td>0.373494</td>\n",
       "      <td>0.135542</td>\n",
       "      <td>NaN</td>\n",
       "    </tr>\n",
       "    <tr>\n",
       "      <th>2011-02-01</th>\n",
       "      <td>1.0</td>\n",
       "      <td>0.183544</td>\n",
       "      <td>0.180380</td>\n",
       "      <td>0.262658</td>\n",
       "      <td>0.268987</td>\n",
       "      <td>0.234177</td>\n",
       "      <td>0.253165</td>\n",
       "      <td>0.262658</td>\n",
       "      <td>0.272152</td>\n",
       "      <td>0.300633</td>\n",
       "      <td>0.088608</td>\n",
       "      <td>NaN</td>\n",
       "      <td>NaN</td>\n",
       "    </tr>\n",
       "    <tr>\n",
       "      <th>2011-03-01</th>\n",
       "      <td>1.0</td>\n",
       "      <td>0.162371</td>\n",
       "      <td>0.257732</td>\n",
       "      <td>0.195876</td>\n",
       "      <td>0.213918</td>\n",
       "      <td>0.172680</td>\n",
       "      <td>0.252577</td>\n",
       "      <td>0.219072</td>\n",
       "      <td>0.275773</td>\n",
       "      <td>0.097938</td>\n",
       "      <td>NaN</td>\n",
       "      <td>NaN</td>\n",
       "      <td>NaN</td>\n",
       "    </tr>\n",
       "    <tr>\n",
       "      <th>2011-04-01</th>\n",
       "      <td>1.0</td>\n",
       "      <td>0.192157</td>\n",
       "      <td>0.203922</td>\n",
       "      <td>0.192157</td>\n",
       "      <td>0.184314</td>\n",
       "      <td>0.203922</td>\n",
       "      <td>0.219608</td>\n",
       "      <td>0.231373</td>\n",
       "      <td>0.066667</td>\n",
       "      <td>NaN</td>\n",
       "      <td>NaN</td>\n",
       "      <td>NaN</td>\n",
       "      <td>NaN</td>\n",
       "    </tr>\n",
       "    <tr>\n",
       "      <th>2011-05-01</th>\n",
       "      <td>1.0</td>\n",
       "      <td>0.160643</td>\n",
       "      <td>0.172691</td>\n",
       "      <td>0.144578</td>\n",
       "      <td>0.208835</td>\n",
       "      <td>0.232932</td>\n",
       "      <td>0.244980</td>\n",
       "      <td>0.088353</td>\n",
       "      <td>NaN</td>\n",
       "      <td>NaN</td>\n",
       "      <td>NaN</td>\n",
       "      <td>NaN</td>\n",
       "      <td>NaN</td>\n",
       "    </tr>\n",
       "    <tr>\n",
       "      <th>2011-06-01</th>\n",
       "      <td>1.0</td>\n",
       "      <td>0.159420</td>\n",
       "      <td>0.125604</td>\n",
       "      <td>0.198068</td>\n",
       "      <td>0.236715</td>\n",
       "      <td>0.299517</td>\n",
       "      <td>0.091787</td>\n",
       "      <td>NaN</td>\n",
       "      <td>NaN</td>\n",
       "      <td>NaN</td>\n",
       "      <td>NaN</td>\n",
       "      <td>NaN</td>\n",
       "      <td>NaN</td>\n",
       "    </tr>\n",
       "    <tr>\n",
       "      <th>2011-07-01</th>\n",
       "      <td>1.0</td>\n",
       "      <td>0.161850</td>\n",
       "      <td>0.179191</td>\n",
       "      <td>0.219653</td>\n",
       "      <td>0.254335</td>\n",
       "      <td>0.098266</td>\n",
       "      <td>NaN</td>\n",
       "      <td>NaN</td>\n",
       "      <td>NaN</td>\n",
       "      <td>NaN</td>\n",
       "      <td>NaN</td>\n",
       "      <td>NaN</td>\n",
       "      <td>NaN</td>\n",
       "    </tr>\n",
       "    <tr>\n",
       "      <th>2011-08-01</th>\n",
       "      <td>1.0</td>\n",
       "      <td>0.215827</td>\n",
       "      <td>0.201439</td>\n",
       "      <td>0.251799</td>\n",
       "      <td>0.100719</td>\n",
       "      <td>NaN</td>\n",
       "      <td>NaN</td>\n",
       "      <td>NaN</td>\n",
       "      <td>NaN</td>\n",
       "      <td>NaN</td>\n",
       "      <td>NaN</td>\n",
       "      <td>NaN</td>\n",
       "      <td>NaN</td>\n",
       "    </tr>\n",
       "    <tr>\n",
       "      <th>2011-09-01</th>\n",
       "      <td>1.0</td>\n",
       "      <td>0.200717</td>\n",
       "      <td>0.279570</td>\n",
       "      <td>0.121864</td>\n",
       "      <td>NaN</td>\n",
       "      <td>NaN</td>\n",
       "      <td>NaN</td>\n",
       "      <td>NaN</td>\n",
       "      <td>NaN</td>\n",
       "      <td>NaN</td>\n",
       "      <td>NaN</td>\n",
       "      <td>NaN</td>\n",
       "      <td>NaN</td>\n",
       "    </tr>\n",
       "    <tr>\n",
       "      <th>2011-10-01</th>\n",
       "      <td>1.0</td>\n",
       "      <td>0.210692</td>\n",
       "      <td>0.094340</td>\n",
       "      <td>NaN</td>\n",
       "      <td>NaN</td>\n",
       "      <td>NaN</td>\n",
       "      <td>NaN</td>\n",
       "      <td>NaN</td>\n",
       "      <td>NaN</td>\n",
       "      <td>NaN</td>\n",
       "      <td>NaN</td>\n",
       "      <td>NaN</td>\n",
       "      <td>NaN</td>\n",
       "    </tr>\n",
       "    <tr>\n",
       "      <th>2011-11-01</th>\n",
       "      <td>1.0</td>\n",
       "      <td>0.109966</td>\n",
       "      <td>NaN</td>\n",
       "      <td>NaN</td>\n",
       "      <td>NaN</td>\n",
       "      <td>NaN</td>\n",
       "      <td>NaN</td>\n",
       "      <td>NaN</td>\n",
       "      <td>NaN</td>\n",
       "      <td>NaN</td>\n",
       "      <td>NaN</td>\n",
       "      <td>NaN</td>\n",
       "      <td>NaN</td>\n",
       "    </tr>\n",
       "    <tr>\n",
       "      <th>2011-12-01</th>\n",
       "      <td>1.0</td>\n",
       "      <td>NaN</td>\n",
       "      <td>NaN</td>\n",
       "      <td>NaN</td>\n",
       "      <td>NaN</td>\n",
       "      <td>NaN</td>\n",
       "      <td>NaN</td>\n",
       "      <td>NaN</td>\n",
       "      <td>NaN</td>\n",
       "      <td>NaN</td>\n",
       "      <td>NaN</td>\n",
       "      <td>NaN</td>\n",
       "      <td>NaN</td>\n",
       "    </tr>\n",
       "  </tbody>\n",
       "</table>\n",
       "</div>"
      ],
      "text/plain": [
       "               0         1         2         3         4         5         6  \\\n",
       "CohortMonth                                                                    \n",
       "2010-12-01   1.0  0.343575  0.308659  0.350559  0.342179  0.398045  0.347765   \n",
       "2011-01-01   1.0  0.207831  0.246988  0.243976  0.331325  0.271084  0.246988   \n",
       "2011-02-01   1.0  0.183544  0.180380  0.262658  0.268987  0.234177  0.253165   \n",
       "2011-03-01   1.0  0.162371  0.257732  0.195876  0.213918  0.172680  0.252577   \n",
       "2011-04-01   1.0  0.192157  0.203922  0.192157  0.184314  0.203922  0.219608   \n",
       "2011-05-01   1.0  0.160643  0.172691  0.144578  0.208835  0.232932  0.244980   \n",
       "2011-06-01   1.0  0.159420  0.125604  0.198068  0.236715  0.299517  0.091787   \n",
       "2011-07-01   1.0  0.161850  0.179191  0.219653  0.254335  0.098266       NaN   \n",
       "2011-08-01   1.0  0.215827  0.201439  0.251799  0.100719       NaN       NaN   \n",
       "2011-09-01   1.0  0.200717  0.279570  0.121864       NaN       NaN       NaN   \n",
       "2011-10-01   1.0  0.210692  0.094340       NaN       NaN       NaN       NaN   \n",
       "2011-11-01   1.0  0.109966       NaN       NaN       NaN       NaN       NaN   \n",
       "2011-12-01   1.0       NaN       NaN       NaN       NaN       NaN       NaN   \n",
       "\n",
       "                    7         8         9        10        11        12  \n",
       "CohortMonth                                                              \n",
       "2010-12-01   0.329609  0.335196  0.370112  0.354749  0.486034  0.240223  \n",
       "2011-01-01   0.259036  0.313253  0.307229  0.373494  0.135542       NaN  \n",
       "2011-02-01   0.262658  0.272152  0.300633  0.088608       NaN       NaN  \n",
       "2011-03-01   0.219072  0.275773  0.097938       NaN       NaN       NaN  \n",
       "2011-04-01   0.231373  0.066667       NaN       NaN       NaN       NaN  \n",
       "2011-05-01   0.088353       NaN       NaN       NaN       NaN       NaN  \n",
       "2011-06-01        NaN       NaN       NaN       NaN       NaN       NaN  \n",
       "2011-07-01        NaN       NaN       NaN       NaN       NaN       NaN  \n",
       "2011-08-01        NaN       NaN       NaN       NaN       NaN       NaN  \n",
       "2011-09-01        NaN       NaN       NaN       NaN       NaN       NaN  \n",
       "2011-10-01        NaN       NaN       NaN       NaN       NaN       NaN  \n",
       "2011-11-01        NaN       NaN       NaN       NaN       NaN       NaN  \n",
       "2011-12-01        NaN       NaN       NaN       NaN       NaN       NaN  "
      ]
     },
     "execution_count": 15,
     "metadata": {},
     "output_type": "execute_result"
    }
   ],
   "source": [
    "# Calculate Retention Rate\n",
    "def calculate_retention_rate(dataframe: pd.DataFrame) -> pd.DataFrame:\n",
    "    cohort_size = dataframe.iloc[:,0]\n",
    "    retention = dataframe.divide(\n",
    "        other=cohort_size\n",
    "        ,axis=0\n",
    "    )\n",
    "    return retention\n",
    "\n",
    "retention = calculate_retention_rate(cohort_counts)\n",
    "print(f'retention rate:')\n",
    "retention"
   ]
  },
  {
   "cell_type": "code",
   "execution_count": 16,
   "metadata": {},
   "outputs": [
    {
     "name": "stdout",
     "output_type": "stream",
     "text": [
      "churn rate: \n"
     ]
    },
    {
     "data": {
      "text/html": [
       "<div>\n",
       "<style scoped>\n",
       "    .dataframe tbody tr th:only-of-type {\n",
       "        vertical-align: middle;\n",
       "    }\n",
       "\n",
       "    .dataframe tbody tr th {\n",
       "        vertical-align: top;\n",
       "    }\n",
       "\n",
       "    .dataframe thead th {\n",
       "        text-align: right;\n",
       "    }\n",
       "</style>\n",
       "<table border=\"1\" class=\"dataframe\">\n",
       "  <thead>\n",
       "    <tr style=\"text-align: right;\">\n",
       "      <th></th>\n",
       "      <th>0</th>\n",
       "      <th>1</th>\n",
       "      <th>2</th>\n",
       "      <th>3</th>\n",
       "      <th>4</th>\n",
       "      <th>5</th>\n",
       "      <th>6</th>\n",
       "      <th>7</th>\n",
       "      <th>8</th>\n",
       "      <th>9</th>\n",
       "      <th>10</th>\n",
       "      <th>11</th>\n",
       "      <th>12</th>\n",
       "    </tr>\n",
       "    <tr>\n",
       "      <th>CohortMonth</th>\n",
       "      <th></th>\n",
       "      <th></th>\n",
       "      <th></th>\n",
       "      <th></th>\n",
       "      <th></th>\n",
       "      <th></th>\n",
       "      <th></th>\n",
       "      <th></th>\n",
       "      <th></th>\n",
       "      <th></th>\n",
       "      <th></th>\n",
       "      <th></th>\n",
       "      <th></th>\n",
       "    </tr>\n",
       "  </thead>\n",
       "  <tbody>\n",
       "    <tr>\n",
       "      <th>2010-12-01</th>\n",
       "      <td>0.0</td>\n",
       "      <td>0.656425</td>\n",
       "      <td>0.691341</td>\n",
       "      <td>0.649441</td>\n",
       "      <td>0.657821</td>\n",
       "      <td>0.601955</td>\n",
       "      <td>0.652235</td>\n",
       "      <td>0.670391</td>\n",
       "      <td>0.664804</td>\n",
       "      <td>0.629888</td>\n",
       "      <td>0.645251</td>\n",
       "      <td>0.513966</td>\n",
       "      <td>0.759777</td>\n",
       "    </tr>\n",
       "    <tr>\n",
       "      <th>2011-01-01</th>\n",
       "      <td>0.0</td>\n",
       "      <td>0.792169</td>\n",
       "      <td>0.753012</td>\n",
       "      <td>0.756024</td>\n",
       "      <td>0.668675</td>\n",
       "      <td>0.728916</td>\n",
       "      <td>0.753012</td>\n",
       "      <td>0.740964</td>\n",
       "      <td>0.686747</td>\n",
       "      <td>0.692771</td>\n",
       "      <td>0.626506</td>\n",
       "      <td>0.864458</td>\n",
       "      <td>NaN</td>\n",
       "    </tr>\n",
       "    <tr>\n",
       "      <th>2011-02-01</th>\n",
       "      <td>0.0</td>\n",
       "      <td>0.816456</td>\n",
       "      <td>0.819620</td>\n",
       "      <td>0.737342</td>\n",
       "      <td>0.731013</td>\n",
       "      <td>0.765823</td>\n",
       "      <td>0.746835</td>\n",
       "      <td>0.737342</td>\n",
       "      <td>0.727848</td>\n",
       "      <td>0.699367</td>\n",
       "      <td>0.911392</td>\n",
       "      <td>NaN</td>\n",
       "      <td>NaN</td>\n",
       "    </tr>\n",
       "    <tr>\n",
       "      <th>2011-03-01</th>\n",
       "      <td>0.0</td>\n",
       "      <td>0.837629</td>\n",
       "      <td>0.742268</td>\n",
       "      <td>0.804124</td>\n",
       "      <td>0.786082</td>\n",
       "      <td>0.827320</td>\n",
       "      <td>0.747423</td>\n",
       "      <td>0.780928</td>\n",
       "      <td>0.724227</td>\n",
       "      <td>0.902062</td>\n",
       "      <td>NaN</td>\n",
       "      <td>NaN</td>\n",
       "      <td>NaN</td>\n",
       "    </tr>\n",
       "    <tr>\n",
       "      <th>2011-04-01</th>\n",
       "      <td>0.0</td>\n",
       "      <td>0.807843</td>\n",
       "      <td>0.796078</td>\n",
       "      <td>0.807843</td>\n",
       "      <td>0.815686</td>\n",
       "      <td>0.796078</td>\n",
       "      <td>0.780392</td>\n",
       "      <td>0.768627</td>\n",
       "      <td>0.933333</td>\n",
       "      <td>NaN</td>\n",
       "      <td>NaN</td>\n",
       "      <td>NaN</td>\n",
       "      <td>NaN</td>\n",
       "    </tr>\n",
       "    <tr>\n",
       "      <th>2011-05-01</th>\n",
       "      <td>0.0</td>\n",
       "      <td>0.839357</td>\n",
       "      <td>0.827309</td>\n",
       "      <td>0.855422</td>\n",
       "      <td>0.791165</td>\n",
       "      <td>0.767068</td>\n",
       "      <td>0.755020</td>\n",
       "      <td>0.911647</td>\n",
       "      <td>NaN</td>\n",
       "      <td>NaN</td>\n",
       "      <td>NaN</td>\n",
       "      <td>NaN</td>\n",
       "      <td>NaN</td>\n",
       "    </tr>\n",
       "    <tr>\n",
       "      <th>2011-06-01</th>\n",
       "      <td>0.0</td>\n",
       "      <td>0.840580</td>\n",
       "      <td>0.874396</td>\n",
       "      <td>0.801932</td>\n",
       "      <td>0.763285</td>\n",
       "      <td>0.700483</td>\n",
       "      <td>0.908213</td>\n",
       "      <td>NaN</td>\n",
       "      <td>NaN</td>\n",
       "      <td>NaN</td>\n",
       "      <td>NaN</td>\n",
       "      <td>NaN</td>\n",
       "      <td>NaN</td>\n",
       "    </tr>\n",
       "    <tr>\n",
       "      <th>2011-07-01</th>\n",
       "      <td>0.0</td>\n",
       "      <td>0.838150</td>\n",
       "      <td>0.820809</td>\n",
       "      <td>0.780347</td>\n",
       "      <td>0.745665</td>\n",
       "      <td>0.901734</td>\n",
       "      <td>NaN</td>\n",
       "      <td>NaN</td>\n",
       "      <td>NaN</td>\n",
       "      <td>NaN</td>\n",
       "      <td>NaN</td>\n",
       "      <td>NaN</td>\n",
       "      <td>NaN</td>\n",
       "    </tr>\n",
       "    <tr>\n",
       "      <th>2011-08-01</th>\n",
       "      <td>0.0</td>\n",
       "      <td>0.784173</td>\n",
       "      <td>0.798561</td>\n",
       "      <td>0.748201</td>\n",
       "      <td>0.899281</td>\n",
       "      <td>NaN</td>\n",
       "      <td>NaN</td>\n",
       "      <td>NaN</td>\n",
       "      <td>NaN</td>\n",
       "      <td>NaN</td>\n",
       "      <td>NaN</td>\n",
       "      <td>NaN</td>\n",
       "      <td>NaN</td>\n",
       "    </tr>\n",
       "    <tr>\n",
       "      <th>2011-09-01</th>\n",
       "      <td>0.0</td>\n",
       "      <td>0.799283</td>\n",
       "      <td>0.720430</td>\n",
       "      <td>0.878136</td>\n",
       "      <td>NaN</td>\n",
       "      <td>NaN</td>\n",
       "      <td>NaN</td>\n",
       "      <td>NaN</td>\n",
       "      <td>NaN</td>\n",
       "      <td>NaN</td>\n",
       "      <td>NaN</td>\n",
       "      <td>NaN</td>\n",
       "      <td>NaN</td>\n",
       "    </tr>\n",
       "    <tr>\n",
       "      <th>2011-10-01</th>\n",
       "      <td>0.0</td>\n",
       "      <td>0.789308</td>\n",
       "      <td>0.905660</td>\n",
       "      <td>NaN</td>\n",
       "      <td>NaN</td>\n",
       "      <td>NaN</td>\n",
       "      <td>NaN</td>\n",
       "      <td>NaN</td>\n",
       "      <td>NaN</td>\n",
       "      <td>NaN</td>\n",
       "      <td>NaN</td>\n",
       "      <td>NaN</td>\n",
       "      <td>NaN</td>\n",
       "    </tr>\n",
       "    <tr>\n",
       "      <th>2011-11-01</th>\n",
       "      <td>0.0</td>\n",
       "      <td>0.890034</td>\n",
       "      <td>NaN</td>\n",
       "      <td>NaN</td>\n",
       "      <td>NaN</td>\n",
       "      <td>NaN</td>\n",
       "      <td>NaN</td>\n",
       "      <td>NaN</td>\n",
       "      <td>NaN</td>\n",
       "      <td>NaN</td>\n",
       "      <td>NaN</td>\n",
       "      <td>NaN</td>\n",
       "      <td>NaN</td>\n",
       "    </tr>\n",
       "    <tr>\n",
       "      <th>2011-12-01</th>\n",
       "      <td>0.0</td>\n",
       "      <td>NaN</td>\n",
       "      <td>NaN</td>\n",
       "      <td>NaN</td>\n",
       "      <td>NaN</td>\n",
       "      <td>NaN</td>\n",
       "      <td>NaN</td>\n",
       "      <td>NaN</td>\n",
       "      <td>NaN</td>\n",
       "      <td>NaN</td>\n",
       "      <td>NaN</td>\n",
       "      <td>NaN</td>\n",
       "      <td>NaN</td>\n",
       "    </tr>\n",
       "  </tbody>\n",
       "</table>\n",
       "</div>"
      ],
      "text/plain": [
       "               0         1         2         3         4         5         6  \\\n",
       "CohortMonth                                                                    \n",
       "2010-12-01   0.0  0.656425  0.691341  0.649441  0.657821  0.601955  0.652235   \n",
       "2011-01-01   0.0  0.792169  0.753012  0.756024  0.668675  0.728916  0.753012   \n",
       "2011-02-01   0.0  0.816456  0.819620  0.737342  0.731013  0.765823  0.746835   \n",
       "2011-03-01   0.0  0.837629  0.742268  0.804124  0.786082  0.827320  0.747423   \n",
       "2011-04-01   0.0  0.807843  0.796078  0.807843  0.815686  0.796078  0.780392   \n",
       "2011-05-01   0.0  0.839357  0.827309  0.855422  0.791165  0.767068  0.755020   \n",
       "2011-06-01   0.0  0.840580  0.874396  0.801932  0.763285  0.700483  0.908213   \n",
       "2011-07-01   0.0  0.838150  0.820809  0.780347  0.745665  0.901734       NaN   \n",
       "2011-08-01   0.0  0.784173  0.798561  0.748201  0.899281       NaN       NaN   \n",
       "2011-09-01   0.0  0.799283  0.720430  0.878136       NaN       NaN       NaN   \n",
       "2011-10-01   0.0  0.789308  0.905660       NaN       NaN       NaN       NaN   \n",
       "2011-11-01   0.0  0.890034       NaN       NaN       NaN       NaN       NaN   \n",
       "2011-12-01   0.0       NaN       NaN       NaN       NaN       NaN       NaN   \n",
       "\n",
       "                    7         8         9        10        11        12  \n",
       "CohortMonth                                                              \n",
       "2010-12-01   0.670391  0.664804  0.629888  0.645251  0.513966  0.759777  \n",
       "2011-01-01   0.740964  0.686747  0.692771  0.626506  0.864458       NaN  \n",
       "2011-02-01   0.737342  0.727848  0.699367  0.911392       NaN       NaN  \n",
       "2011-03-01   0.780928  0.724227  0.902062       NaN       NaN       NaN  \n",
       "2011-04-01   0.768627  0.933333       NaN       NaN       NaN       NaN  \n",
       "2011-05-01   0.911647       NaN       NaN       NaN       NaN       NaN  \n",
       "2011-06-01        NaN       NaN       NaN       NaN       NaN       NaN  \n",
       "2011-07-01        NaN       NaN       NaN       NaN       NaN       NaN  \n",
       "2011-08-01        NaN       NaN       NaN       NaN       NaN       NaN  \n",
       "2011-09-01        NaN       NaN       NaN       NaN       NaN       NaN  \n",
       "2011-10-01        NaN       NaN       NaN       NaN       NaN       NaN  \n",
       "2011-11-01        NaN       NaN       NaN       NaN       NaN       NaN  \n",
       "2011-12-01        NaN       NaN       NaN       NaN       NaN       NaN  "
      ]
     },
     "execution_count": 16,
     "metadata": {},
     "output_type": "execute_result"
    }
   ],
   "source": [
    "churn = 1 - retention\n",
    "print('churn rate: ')\n",
    "churn"
   ]
  },
  {
   "cell_type": "code",
   "execution_count": 17,
   "metadata": {},
   "outputs": [
    {
     "name": "stdout",
     "output_type": "stream",
     "text": [
      "Overall Retention rate: 0.24 \n",
      "Overall Churn rate: 0.76\n"
     ]
    }
   ],
   "source": [
    "# Calculate the mean overall retention rate\n",
    "overall_retention_rate = retention.iloc[:,1:].mean().mean()\n",
    "\n",
    "# Calculate the mean overall churn rate\n",
    "overall_churn_rate = churn.iloc[:,1:].mean().mean()\n",
    "\n",
    "# Print rounded retention and churn rates\n",
    "print('Overall Retention rate: {:.2f} \\nOverall Churn rate: {:.2f}'.format(overall_retention_rate, overall_churn_rate))"
   ]
  },
  {
   "cell_type": "markdown",
   "metadata": {},
   "source": [
    "### 1.4.4. Customer Lifetime Revenue"
   ]
  },
  {
   "cell_type": "markdown",
   "metadata": {},
   "source": [
    "#### Definition"
   ]
  },
  {
   "cell_type": "markdown",
   "metadata": {},
   "source": [
    "- Customer lifetime revenue (CLR) is the total amount of money a customer spends on a business's products or services over their entire relationship. It's also known as customer lifetime value (CLTV).\n",
    "- The goal of CLV:\n",
    "    + Measure customer value in revenue / profit\n",
    "    + Benchmark customers\n",
    "    + Identify maxinum investment into customer acquisition"
   ]
  },
  {
   "cell_type": "markdown",
   "metadata": {},
   "source": [
    "#### Self-research Formula"
   ]
  },
  {
   "cell_type": "markdown",
   "metadata": {},
   "source": [
    "- $CLR\\ |\\ CLV = \\frac{ARPU\\ \\times\\ Gross\\ Margin}{Churn\\ Rate}$\n",
    "\n",
    "    + $ARPU = \\frac{Total\\ Revenue}{Total\\ Number\\ Of\\ Customers}$\n",
    "\n",
    "    + $Gross\\ Margin = \\frac{Revenue\\ -\\ COGS}{Revenue}$ \n",
    "\n",
    "        + For total $COGS = Beginning\\ Inventory\\ + Purchases\\ - Ending\\ Inventory$\n",
    "        \n",
    "        + For per customer $COGS = \\sum{(Unit\\ Cost\\ Of\\ Item \\times\\ Quantity\\ Purchased\\ per\\ Item)}$\n",
    "\n",
    "    + $Churn\\ Rate = \\frac{Total\\ Number\\ Of\\ Churned\\ Customers}{Total\\ Number\\ Of\\ Customers}$"
   ]
  },
  {
   "cell_type": "markdown",
   "metadata": {},
   "source": [
    "#### DeepSeek-r1:8b Formula"
   ]
  },
  {
   "cell_type": "markdown",
   "metadata": {},
   "source": [
    "- $CLV = \\frac{\\text{Customer history revenue}}{\\text{Churn rate}} \\times \\frac{\\text{Warranty cost or\n",
    "maintenance cost}}{\\text{Cost to acquire and retain customers}}$"
   ]
  },
  {
   "cell_type": "markdown",
   "metadata": {},
   "source": [
    "#### DataCamp Formula"
   ]
  },
  {
   "cell_type": "markdown",
   "metadata": {},
   "source": [
    "##### Basis Formula"
   ]
  },
  {
   "cell_type": "markdown",
   "metadata": {},
   "source": [
    "- $CLV = \\text{Average Profit} \\times \\text{Average Lifespan}$\n",
    "\n",
    "    + $\\text{Average Profit} = \\text{Average Revenue} \\times \\text{Profit Margin}$\n",
    "\n",
    "    + $\\text{Average Lifespan} = \\text{Average Time It Takes For Customers To Churn}$"
   ]
  },
  {
   "cell_type": "markdown",
   "metadata": {},
   "source": [
    "##### Granular Formula"
   ]
  },
  {
   "cell_type": "markdown",
   "metadata": {},
   "source": [
    "- $CLV = \\text{Average Profit} \\times \\text{Average Lifespan}$"
   ]
  },
  {
   "cell_type": "markdown",
   "metadata": {},
   "source": [
    "##### Traditional Formula"
   ]
  },
  {
   "cell_type": "markdown",
   "metadata": {},
   "source": [
    "- Churn can be derived from retention\n",
    "- Accounds for customer loyalty, most popular approach\n",
    "\n",
    "- $CLV = \\text{Average Profit} \\times \\frac{\\text{Retention Rate}}{\\text{Churn Rate}}$\n",
    "\n",
    "    + $\\text{Churn Rate} = 1 - \\text{Retention Rate}$"
   ]
  },
  {
   "cell_type": "markdown",
   "metadata": {},
   "source": [
    "#### Theory Example"
   ]
  },
  {
   "cell_type": "markdown",
   "metadata": {},
   "source": [
    "If a company has a gross margin of 20%, an average revenue per user of $100, and a churn rate of 5%, then the CLV is $400: \n",
    "- CLV = (100 * 0.2) / 0.05 = 400"
   ]
  },
  {
   "cell_type": "markdown",
   "metadata": {},
   "source": [
    "#### Case Study: Revenue-based CLV Formula (skip profit margin for simplicity)"
   ]
  },
  {
   "cell_type": "markdown",
   "metadata": {},
   "source": [
    "- $\\text{CLV} = \\text{Average Revenue} \\times \\frac{Retention Rate}{Churn Rate}$"
   ]
  },
  {
   "cell_type": "markdown",
   "metadata": {},
   "source": [
    "##### Data Preprocessing"
   ]
  },
  {
   "cell_type": "code",
   "execution_count": 26,
   "metadata": {},
   "outputs": [
    {
     "name": "stdout",
     "output_type": "stream",
     "text": [
      "<class 'pandas.core.frame.DataFrame'>\n",
      "Index: 356108 entries, 0 to 356727\n",
      "Data columns (total 8 columns):\n",
      " #   Column       Non-Null Count   Dtype         \n",
      "---  ------       --------------   -----         \n",
      " 0   InvoiceNo    356108 non-null  object        \n",
      " 1   StockCode    356108 non-null  object        \n",
      " 2   Description  356108 non-null  object        \n",
      " 3   Quantity     356108 non-null  int64         \n",
      " 4   InvoiceDate  356108 non-null  datetime64[ns]\n",
      " 5   UnitPrice    356108 non-null  float64       \n",
      " 6   CustomerID   356108 non-null  float64       \n",
      " 7   Country      356108 non-null  object        \n",
      "dtypes: datetime64[ns](1), float64(2), int64(1), object(4)\n",
      "memory usage: 24.5+ MB\n"
     ]
    }
   ],
   "source": [
    "# load csv file as a DataFrame. The encoding is required to read the file\n",
    "online = pd.read_csv('data/E-Commerce Data.csv', encoding='ISO-8859-1')\n",
    "\n",
    "# include only UK\n",
    "online = online[online['Country'] == 'United Kingdom']\n",
    "\n",
    "# remove duplicates\n",
    "online.drop_duplicates(inplace=True)\n",
    "\n",
    "# Drop rows with missing CustomerID\n",
    "online = online[~online['CustomerID'].isnull()]\n",
    "online.reset_index(drop=True, inplace=True)\n",
    "\n",
    "# data filtering\n",
    "not_products = [\n",
    "    'Next Day Carriage',\n",
    "    'CRUK Commission',\n",
    "    'Bank Charges',\n",
    "    'Manual',\n",
    "    'POSTAGE',\n",
    "    'CARRIAGE',\n",
    "    'DOTCOM POSTAGE'\n",
    "]\n",
    "\n",
    "# Drop rows with not products\n",
    "online = online[~online['Description'].isin(not_products)]\n",
    "\n",
    "# datetime conversion\n",
    "online['InvoiceDate'] = pd.to_datetime(online['InvoiceDate'],format='%m/%d/%Y %H:%M')\n",
    "\n",
    "# preview data information\n",
    "online.info()"
   ]
  },
  {
   "cell_type": "code",
   "execution_count": 27,
   "metadata": {},
   "outputs": [
    {
     "data": {
      "text/html": [
       "<div>\n",
       "<style scoped>\n",
       "    .dataframe tbody tr th:only-of-type {\n",
       "        vertical-align: middle;\n",
       "    }\n",
       "\n",
       "    .dataframe tbody tr th {\n",
       "        vertical-align: top;\n",
       "    }\n",
       "\n",
       "    .dataframe thead th {\n",
       "        text-align: right;\n",
       "    }\n",
       "</style>\n",
       "<table border=\"1\" class=\"dataframe\">\n",
       "  <thead>\n",
       "    <tr style=\"text-align: right;\">\n",
       "      <th></th>\n",
       "      <th>InvoiceNo</th>\n",
       "      <th>StockCode</th>\n",
       "      <th>Description</th>\n",
       "      <th>Quantity</th>\n",
       "      <th>InvoiceDate</th>\n",
       "      <th>UnitPrice</th>\n",
       "      <th>CustomerID</th>\n",
       "      <th>Country</th>\n",
       "    </tr>\n",
       "  </thead>\n",
       "  <tbody>\n",
       "    <tr>\n",
       "      <th>0</th>\n",
       "      <td>536365</td>\n",
       "      <td>85123A</td>\n",
       "      <td>WHITE HANGING HEART T-LIGHT HOLDER</td>\n",
       "      <td>6</td>\n",
       "      <td>2010-12-01 08:26:00</td>\n",
       "      <td>2.55</td>\n",
       "      <td>17850.0</td>\n",
       "      <td>United Kingdom</td>\n",
       "    </tr>\n",
       "    <tr>\n",
       "      <th>1</th>\n",
       "      <td>536365</td>\n",
       "      <td>71053</td>\n",
       "      <td>WHITE METAL LANTERN</td>\n",
       "      <td>6</td>\n",
       "      <td>2010-12-01 08:26:00</td>\n",
       "      <td>3.39</td>\n",
       "      <td>17850.0</td>\n",
       "      <td>United Kingdom</td>\n",
       "    </tr>\n",
       "    <tr>\n",
       "      <th>2</th>\n",
       "      <td>536365</td>\n",
       "      <td>84406B</td>\n",
       "      <td>CREAM CUPID HEARTS COAT HANGER</td>\n",
       "      <td>8</td>\n",
       "      <td>2010-12-01 08:26:00</td>\n",
       "      <td>2.75</td>\n",
       "      <td>17850.0</td>\n",
       "      <td>United Kingdom</td>\n",
       "    </tr>\n",
       "    <tr>\n",
       "      <th>3</th>\n",
       "      <td>536365</td>\n",
       "      <td>84029G</td>\n",
       "      <td>KNITTED UNION FLAG HOT WATER BOTTLE</td>\n",
       "      <td>6</td>\n",
       "      <td>2010-12-01 08:26:00</td>\n",
       "      <td>3.39</td>\n",
       "      <td>17850.0</td>\n",
       "      <td>United Kingdom</td>\n",
       "    </tr>\n",
       "    <tr>\n",
       "      <th>4</th>\n",
       "      <td>536365</td>\n",
       "      <td>84029E</td>\n",
       "      <td>RED WOOLLY HOTTIE WHITE HEART.</td>\n",
       "      <td>6</td>\n",
       "      <td>2010-12-01 08:26:00</td>\n",
       "      <td>3.39</td>\n",
       "      <td>17850.0</td>\n",
       "      <td>United Kingdom</td>\n",
       "    </tr>\n",
       "  </tbody>\n",
       "</table>\n",
       "</div>"
      ],
      "text/plain": [
       "  InvoiceNo StockCode                          Description  Quantity  \\\n",
       "0    536365    85123A   WHITE HANGING HEART T-LIGHT HOLDER         6   \n",
       "1    536365     71053                  WHITE METAL LANTERN         6   \n",
       "2    536365    84406B       CREAM CUPID HEARTS COAT HANGER         8   \n",
       "3    536365    84029G  KNITTED UNION FLAG HOT WATER BOTTLE         6   \n",
       "4    536365    84029E       RED WOOLLY HOTTIE WHITE HEART.         6   \n",
       "\n",
       "          InvoiceDate  UnitPrice  CustomerID         Country  \n",
       "0 2010-12-01 08:26:00       2.55     17850.0  United Kingdom  \n",
       "1 2010-12-01 08:26:00       3.39     17850.0  United Kingdom  \n",
       "2 2010-12-01 08:26:00       2.75     17850.0  United Kingdom  \n",
       "3 2010-12-01 08:26:00       3.39     17850.0  United Kingdom  \n",
       "4 2010-12-01 08:26:00       3.39     17850.0  United Kingdom  "
      ]
     },
     "execution_count": 27,
     "metadata": {},
     "output_type": "execute_result"
    }
   ],
   "source": [
    "# view first 5 rows\n",
    "online.head()"
   ]
  },
  {
   "cell_type": "code",
   "execution_count": 30,
   "metadata": {},
   "outputs": [
    {
     "data": {
      "text/html": [
       "<div>\n",
       "<style scoped>\n",
       "    .dataframe tbody tr th:only-of-type {\n",
       "        vertical-align: middle;\n",
       "    }\n",
       "\n",
       "    .dataframe tbody tr th {\n",
       "        vertical-align: top;\n",
       "    }\n",
       "\n",
       "    .dataframe thead th {\n",
       "        text-align: right;\n",
       "    }\n",
       "</style>\n",
       "<table border=\"1\" class=\"dataframe\">\n",
       "  <thead>\n",
       "    <tr style=\"text-align: right;\">\n",
       "      <th></th>\n",
       "      <th>CustomerID</th>\n",
       "      <th>InvoiceOnlyDate</th>\n",
       "      <th>TotalSum</th>\n",
       "      <th>InvoiceNo</th>\n",
       "    </tr>\n",
       "  </thead>\n",
       "  <tbody>\n",
       "    <tr>\n",
       "      <th>0</th>\n",
       "      <td>12346.0</td>\n",
       "      <td>2011-01-18</td>\n",
       "      <td>0.00</td>\n",
       "      <td>1.0</td>\n",
       "    </tr>\n",
       "    <tr>\n",
       "      <th>1</th>\n",
       "      <td>12747.0</td>\n",
       "      <td>2010-12-05</td>\n",
       "      <td>358.56</td>\n",
       "      <td>1.0</td>\n",
       "    </tr>\n",
       "    <tr>\n",
       "      <th>2</th>\n",
       "      <td>12747.0</td>\n",
       "      <td>2010-12-13</td>\n",
       "      <td>347.71</td>\n",
       "      <td>1.0</td>\n",
       "    </tr>\n",
       "    <tr>\n",
       "      <th>3</th>\n",
       "      <td>12747.0</td>\n",
       "      <td>2011-01-20</td>\n",
       "      <td>303.04</td>\n",
       "      <td>1.0</td>\n",
       "    </tr>\n",
       "    <tr>\n",
       "      <th>4</th>\n",
       "      <td>12747.0</td>\n",
       "      <td>2011-03-01</td>\n",
       "      <td>310.78</td>\n",
       "      <td>1.0</td>\n",
       "    </tr>\n",
       "  </tbody>\n",
       "</table>\n",
       "</div>"
      ],
      "text/plain": [
       "   CustomerID InvoiceOnlyDate  TotalSum  InvoiceNo\n",
       "0     12346.0      2011-01-18      0.00        1.0\n",
       "1     12747.0      2010-12-05    358.56        1.0\n",
       "2     12747.0      2010-12-13    347.71        1.0\n",
       "3     12747.0      2011-01-20    303.04        1.0\n",
       "4     12747.0      2011-03-01    310.78        1.0"
      ]
     },
     "execution_count": 30,
     "metadata": {},
     "output_type": "execute_result"
    }
   ],
   "source": [
    "# Calculate the total revenue\n",
    "online['TotalSum'] = online['Quantity'] * online['UnitPrice']\n",
    "\n",
    "# Create a new column for the date only\n",
    "online['InvoiceOnlyDate'] = online['InvoiceDate'].apply(lambda x: dt.datetime.date(x))\n",
    "# pre-processed data\n",
    "preprocessed_data = online.groupby(['CustomerID','InvoiceOnlyDate']).agg({\n",
    "    'TotalSum': 'sum' # Monetary value: sum of all transactions\n",
    "    ,'InvoiceNo': 'nunique'\n",
    "}).reset_index()\n",
    "\n",
    "cancelled_data = online[(online['InvoiceNo'].str.contains('C'))].groupby(['CustomerID','InvoiceOnlyDate']).agg({\n",
    "    'InvoiceNo': 'nunique'\n",
    "}).rename(columns={'InvoiceNo':'CancelledNo'}).reset_index()\n",
    "preprocessed_data = preprocessed_data.merge(cancelled_data, on=['CustomerID','InvoiceOnlyDate'], how='left').fillna(0)\n",
    "preprocessed_data['InvoiceNo'] = preprocessed_data['InvoiceNo'] - preprocessed_data['CancelledNo']\n",
    "preprocessed_data.drop(columns=['CancelledNo'], inplace=True)\n",
    "preprocessed_data.head()"
   ]
  },
  {
   "cell_type": "code",
   "execution_count": 31,
   "metadata": {},
   "outputs": [
    {
     "name": "stdout",
     "output_type": "stream",
     "text": [
      "<class 'pandas.core.frame.DataFrame'>\n",
      "RangeIndex: 17188 entries, 0 to 17187\n",
      "Data columns (total 4 columns):\n",
      " #   Column           Non-Null Count  Dtype  \n",
      "---  ------           --------------  -----  \n",
      " 0   CustomerID       17188 non-null  float64\n",
      " 1   InvoiceOnlyDate  17188 non-null  object \n",
      " 2   TotalSum         17188 non-null  float64\n",
      " 3   InvoiceNo        17188 non-null  float64\n",
      "dtypes: float64(3), object(1)\n",
      "memory usage: 537.3+ KB\n"
     ]
    }
   ],
   "source": [
    "preprocessed_data.info()"
   ]
  },
  {
   "cell_type": "code",
   "execution_count": 32,
   "metadata": {},
   "outputs": [],
   "source": [
    "# Remove negative and zero TotalSum values\n",
    "first_purchase_indexes = preprocessed_data.groupby('CustomerID')['InvoiceOnlyDate'].idxmin()\n",
    "first_payment = preprocessed_data.loc[first_purchase_indexes, 'TotalSum']\n",
    "while any(x <= 0 for x in first_payment):\n",
    "    preprocessed_data.drop(first_payment[first_payment <= 0].index, inplace=True)\n",
    "    first_purchase_indexes = preprocessed_data.groupby('CustomerID')['InvoiceOnlyDate'].idxmin()\n",
    "    first_payment = preprocessed_data.loc[first_purchase_indexes, 'TotalSum']"
   ]
  },
  {
   "cell_type": "code",
   "execution_count": 33,
   "metadata": {},
   "outputs": [
    {
     "name": "stdout",
     "output_type": "stream",
     "text": [
      "<class 'pandas.core.frame.DataFrame'>\n",
      "Index: 17056 entries, 1 to 17187\n",
      "Data columns (total 4 columns):\n",
      " #   Column           Non-Null Count  Dtype  \n",
      "---  ------           --------------  -----  \n",
      " 0   CustomerID       17056 non-null  float64\n",
      " 1   InvoiceOnlyDate  17056 non-null  object \n",
      " 2   TotalSum         17056 non-null  float64\n",
      " 3   InvoiceNo        17056 non-null  float64\n",
      "dtypes: float64(3), object(1)\n",
      "memory usage: 1.2+ MB\n"
     ]
    }
   ],
   "source": [
    "preprocessed_data.info()"
   ]
  },
  {
   "cell_type": "code",
   "execution_count": 34,
   "metadata": {},
   "outputs": [
    {
     "data": {
      "text/html": [
       "<div>\n",
       "<style scoped>\n",
       "    .dataframe tbody tr th:only-of-type {\n",
       "        vertical-align: middle;\n",
       "    }\n",
       "\n",
       "    .dataframe tbody tr th {\n",
       "        vertical-align: top;\n",
       "    }\n",
       "\n",
       "    .dataframe thead th {\n",
       "        text-align: right;\n",
       "    }\n",
       "</style>\n",
       "<table border=\"1\" class=\"dataframe\">\n",
       "  <thead>\n",
       "    <tr style=\"text-align: right;\">\n",
       "      <th></th>\n",
       "      <th>CustomerID</th>\n",
       "      <th>InvoiceOnlyDate</th>\n",
       "      <th>TotalSum</th>\n",
       "      <th>InvoiceNo</th>\n",
       "    </tr>\n",
       "  </thead>\n",
       "  <tbody>\n",
       "    <tr>\n",
       "      <th>1</th>\n",
       "      <td>12747.0</td>\n",
       "      <td>2010-12-05</td>\n",
       "      <td>358.56</td>\n",
       "      <td>1.0</td>\n",
       "    </tr>\n",
       "    <tr>\n",
       "      <th>2</th>\n",
       "      <td>12747.0</td>\n",
       "      <td>2010-12-13</td>\n",
       "      <td>347.71</td>\n",
       "      <td>1.0</td>\n",
       "    </tr>\n",
       "    <tr>\n",
       "      <th>3</th>\n",
       "      <td>12747.0</td>\n",
       "      <td>2011-01-20</td>\n",
       "      <td>303.04</td>\n",
       "      <td>1.0</td>\n",
       "    </tr>\n",
       "    <tr>\n",
       "      <th>4</th>\n",
       "      <td>12747.0</td>\n",
       "      <td>2011-03-01</td>\n",
       "      <td>310.78</td>\n",
       "      <td>1.0</td>\n",
       "    </tr>\n",
       "    <tr>\n",
       "      <th>5</th>\n",
       "      <td>12747.0</td>\n",
       "      <td>2011-05-05</td>\n",
       "      <td>442.96</td>\n",
       "      <td>1.0</td>\n",
       "    </tr>\n",
       "    <tr>\n",
       "      <th>6</th>\n",
       "      <td>12747.0</td>\n",
       "      <td>2011-05-25</td>\n",
       "      <td>328.35</td>\n",
       "      <td>1.0</td>\n",
       "    </tr>\n",
       "    <tr>\n",
       "      <th>7</th>\n",
       "      <td>12747.0</td>\n",
       "      <td>2011-06-28</td>\n",
       "      <td>376.30</td>\n",
       "      <td>1.0</td>\n",
       "    </tr>\n",
       "    <tr>\n",
       "      <th>8</th>\n",
       "      <td>12747.0</td>\n",
       "      <td>2011-08-22</td>\n",
       "      <td>301.70</td>\n",
       "      <td>1.0</td>\n",
       "    </tr>\n",
       "    <tr>\n",
       "      <th>9</th>\n",
       "      <td>12747.0</td>\n",
       "      <td>2011-10-04</td>\n",
       "      <td>675.38</td>\n",
       "      <td>1.0</td>\n",
       "    </tr>\n",
       "    <tr>\n",
       "      <th>10</th>\n",
       "      <td>12747.0</td>\n",
       "      <td>2011-11-17</td>\n",
       "      <td>312.73</td>\n",
       "      <td>1.0</td>\n",
       "    </tr>\n",
       "  </tbody>\n",
       "</table>\n",
       "</div>"
      ],
      "text/plain": [
       "    CustomerID InvoiceOnlyDate  TotalSum  InvoiceNo\n",
       "1      12747.0      2010-12-05    358.56        1.0\n",
       "2      12747.0      2010-12-13    347.71        1.0\n",
       "3      12747.0      2011-01-20    303.04        1.0\n",
       "4      12747.0      2011-03-01    310.78        1.0\n",
       "5      12747.0      2011-05-05    442.96        1.0\n",
       "6      12747.0      2011-05-25    328.35        1.0\n",
       "7      12747.0      2011-06-28    376.30        1.0\n",
       "8      12747.0      2011-08-22    301.70        1.0\n",
       "9      12747.0      2011-10-04    675.38        1.0\n",
       "10     12747.0      2011-11-17    312.73        1.0"
      ]
     },
     "execution_count": 34,
     "metadata": {},
     "output_type": "execute_result"
    }
   ],
   "source": [
    "preprocessed_data.head(10)"
   ]
  },
  {
   "cell_type": "code",
   "execution_count": 39,
   "metadata": {},
   "outputs": [
    {
     "data": {
      "text/html": [
       "<div>\n",
       "<style scoped>\n",
       "    .dataframe tbody tr th:only-of-type {\n",
       "        vertical-align: middle;\n",
       "    }\n",
       "\n",
       "    .dataframe tbody tr th {\n",
       "        vertical-align: top;\n",
       "    }\n",
       "\n",
       "    .dataframe thead th {\n",
       "        text-align: right;\n",
       "    }\n",
       "</style>\n",
       "<table border=\"1\" class=\"dataframe\">\n",
       "  <thead>\n",
       "    <tr style=\"text-align: right;\">\n",
       "      <th></th>\n",
       "      <th>CustomerID</th>\n",
       "      <th>InvoiceOnlyDate</th>\n",
       "      <th>TotalSum</th>\n",
       "      <th>InvoiceNo</th>\n",
       "    </tr>\n",
       "  </thead>\n",
       "  <tbody>\n",
       "    <tr>\n",
       "      <th>12</th>\n",
       "      <td>12748.0</td>\n",
       "      <td>2010-12-01</td>\n",
       "      <td>4.95</td>\n",
       "      <td>1.0</td>\n",
       "    </tr>\n",
       "    <tr>\n",
       "      <th>13</th>\n",
       "      <td>12748.0</td>\n",
       "      <td>2010-12-02</td>\n",
       "      <td>4.25</td>\n",
       "      <td>1.0</td>\n",
       "    </tr>\n",
       "    <tr>\n",
       "      <th>14</th>\n",
       "      <td>12748.0</td>\n",
       "      <td>2010-12-05</td>\n",
       "      <td>938.01</td>\n",
       "      <td>6.0</td>\n",
       "    </tr>\n",
       "    <tr>\n",
       "      <th>15</th>\n",
       "      <td>12748.0</td>\n",
       "      <td>2010-12-06</td>\n",
       "      <td>215.19</td>\n",
       "      <td>2.0</td>\n",
       "    </tr>\n",
       "    <tr>\n",
       "      <th>16</th>\n",
       "      <td>12748.0</td>\n",
       "      <td>2010-12-07</td>\n",
       "      <td>295.11</td>\n",
       "      <td>1.0</td>\n",
       "    </tr>\n",
       "    <tr>\n",
       "      <th>...</th>\n",
       "      <td>...</td>\n",
       "      <td>...</td>\n",
       "      <td>...</td>\n",
       "      <td>...</td>\n",
       "    </tr>\n",
       "    <tr>\n",
       "      <th>120</th>\n",
       "      <td>12748.0</td>\n",
       "      <td>2011-12-02</td>\n",
       "      <td>5.45</td>\n",
       "      <td>1.0</td>\n",
       "    </tr>\n",
       "    <tr>\n",
       "      <th>121</th>\n",
       "      <td>12748.0</td>\n",
       "      <td>2011-12-04</td>\n",
       "      <td>158.14</td>\n",
       "      <td>2.0</td>\n",
       "    </tr>\n",
       "    <tr>\n",
       "      <th>122</th>\n",
       "      <td>12748.0</td>\n",
       "      <td>2011-12-05</td>\n",
       "      <td>321.51</td>\n",
       "      <td>1.0</td>\n",
       "    </tr>\n",
       "    <tr>\n",
       "      <th>123</th>\n",
       "      <td>12748.0</td>\n",
       "      <td>2011-12-08</td>\n",
       "      <td>284.51</td>\n",
       "      <td>3.0</td>\n",
       "    </tr>\n",
       "    <tr>\n",
       "      <th>124</th>\n",
       "      <td>12748.0</td>\n",
       "      <td>2011-12-09</td>\n",
       "      <td>94.11</td>\n",
       "      <td>1.0</td>\n",
       "    </tr>\n",
       "  </tbody>\n",
       "</table>\n",
       "<p>113 rows × 4 columns</p>\n",
       "</div>"
      ],
      "text/plain": [
       "     CustomerID InvoiceOnlyDate  TotalSum  InvoiceNo\n",
       "12      12748.0      2010-12-01      4.95        1.0\n",
       "13      12748.0      2010-12-02      4.25        1.0\n",
       "14      12748.0      2010-12-05    938.01        6.0\n",
       "15      12748.0      2010-12-06    215.19        2.0\n",
       "16      12748.0      2010-12-07    295.11        1.0\n",
       "..          ...             ...       ...        ...\n",
       "120     12748.0      2011-12-02      5.45        1.0\n",
       "121     12748.0      2011-12-04    158.14        2.0\n",
       "122     12748.0      2011-12-05    321.51        1.0\n",
       "123     12748.0      2011-12-08    284.51        3.0\n",
       "124     12748.0      2011-12-09     94.11        1.0\n",
       "\n",
       "[113 rows x 4 columns]"
      ]
     },
     "execution_count": 39,
     "metadata": {},
     "output_type": "execute_result"
    }
   ],
   "source": [
    "preprocessed_data[preprocessed_data['CustomerID'] == 12748.0]"
   ]
  },
  {
   "cell_type": "code",
   "execution_count": 43,
   "metadata": {},
   "outputs": [
    {
     "data": {
      "text/plain": [
       "1        2010-12-05\n",
       "2        2010-12-13\n",
       "3        2011-01-20\n",
       "4        2011-03-01\n",
       "5        2011-05-05\n",
       "            ...    \n",
       "17183    2011-11-30\n",
       "17184    2011-12-06\n",
       "17185    2011-05-22\n",
       "17186    2011-10-12\n",
       "17187    2011-10-28\n",
       "Name: InvoiceOnlyDate, Length: 17056, dtype: object"
      ]
     },
     "execution_count": 43,
     "metadata": {},
     "output_type": "execute_result"
    }
   ],
   "source": [
    "preprocessed_data['InvoiceOnlyDate']"
   ]
  },
  {
   "cell_type": "code",
   "execution_count": 45,
   "metadata": {},
   "outputs": [
    {
     "data": {
      "text/html": [
       "<div>\n",
       "<style scoped>\n",
       "    .dataframe tbody tr th:only-of-type {\n",
       "        vertical-align: middle;\n",
       "    }\n",
       "\n",
       "    .dataframe tbody tr th {\n",
       "        vertical-align: top;\n",
       "    }\n",
       "\n",
       "    .dataframe thead th {\n",
       "        text-align: right;\n",
       "    }\n",
       "</style>\n",
       "<table border=\"1\" class=\"dataframe\">\n",
       "  <thead>\n",
       "    <tr style=\"text-align: right;\">\n",
       "      <th></th>\n",
       "      <th>CustomerID</th>\n",
       "      <th>InvoiceOnlyDate</th>\n",
       "      <th>TotalSum</th>\n",
       "      <th>InvoiceNo</th>\n",
       "      <th>InvoiceOnlyMonth</th>\n",
       "    </tr>\n",
       "  </thead>\n",
       "  <tbody>\n",
       "    <tr>\n",
       "      <th>12</th>\n",
       "      <td>12748.0</td>\n",
       "      <td>2010-12-01</td>\n",
       "      <td>4.95</td>\n",
       "      <td>1.0</td>\n",
       "      <td>2010-12</td>\n",
       "    </tr>\n",
       "    <tr>\n",
       "      <th>13</th>\n",
       "      <td>12748.0</td>\n",
       "      <td>2010-12-02</td>\n",
       "      <td>4.25</td>\n",
       "      <td>1.0</td>\n",
       "      <td>2010-12</td>\n",
       "    </tr>\n",
       "    <tr>\n",
       "      <th>14</th>\n",
       "      <td>12748.0</td>\n",
       "      <td>2010-12-05</td>\n",
       "      <td>938.01</td>\n",
       "      <td>6.0</td>\n",
       "      <td>2010-12</td>\n",
       "    </tr>\n",
       "    <tr>\n",
       "      <th>15</th>\n",
       "      <td>12748.0</td>\n",
       "      <td>2010-12-06</td>\n",
       "      <td>215.19</td>\n",
       "      <td>2.0</td>\n",
       "      <td>2010-12</td>\n",
       "    </tr>\n",
       "    <tr>\n",
       "      <th>16</th>\n",
       "      <td>12748.0</td>\n",
       "      <td>2010-12-07</td>\n",
       "      <td>295.11</td>\n",
       "      <td>1.0</td>\n",
       "      <td>2010-12</td>\n",
       "    </tr>\n",
       "    <tr>\n",
       "      <th>...</th>\n",
       "      <td>...</td>\n",
       "      <td>...</td>\n",
       "      <td>...</td>\n",
       "      <td>...</td>\n",
       "      <td>...</td>\n",
       "    </tr>\n",
       "    <tr>\n",
       "      <th>120</th>\n",
       "      <td>12748.0</td>\n",
       "      <td>2011-12-02</td>\n",
       "      <td>5.45</td>\n",
       "      <td>1.0</td>\n",
       "      <td>2011-12</td>\n",
       "    </tr>\n",
       "    <tr>\n",
       "      <th>121</th>\n",
       "      <td>12748.0</td>\n",
       "      <td>2011-12-04</td>\n",
       "      <td>158.14</td>\n",
       "      <td>2.0</td>\n",
       "      <td>2011-12</td>\n",
       "    </tr>\n",
       "    <tr>\n",
       "      <th>122</th>\n",
       "      <td>12748.0</td>\n",
       "      <td>2011-12-05</td>\n",
       "      <td>321.51</td>\n",
       "      <td>1.0</td>\n",
       "      <td>2011-12</td>\n",
       "    </tr>\n",
       "    <tr>\n",
       "      <th>123</th>\n",
       "      <td>12748.0</td>\n",
       "      <td>2011-12-08</td>\n",
       "      <td>284.51</td>\n",
       "      <td>3.0</td>\n",
       "      <td>2011-12</td>\n",
       "    </tr>\n",
       "    <tr>\n",
       "      <th>124</th>\n",
       "      <td>12748.0</td>\n",
       "      <td>2011-12-09</td>\n",
       "      <td>94.11</td>\n",
       "      <td>1.0</td>\n",
       "      <td>2011-12</td>\n",
       "    </tr>\n",
       "  </tbody>\n",
       "</table>\n",
       "<p>113 rows × 5 columns</p>\n",
       "</div>"
      ],
      "text/plain": [
       "     CustomerID InvoiceOnlyDate  TotalSum  InvoiceNo InvoiceOnlyMonth\n",
       "12      12748.0      2010-12-01      4.95        1.0          2010-12\n",
       "13      12748.0      2010-12-02      4.25        1.0          2010-12\n",
       "14      12748.0      2010-12-05    938.01        6.0          2010-12\n",
       "15      12748.0      2010-12-06    215.19        2.0          2010-12\n",
       "16      12748.0      2010-12-07    295.11        1.0          2010-12\n",
       "..          ...             ...       ...        ...              ...\n",
       "120     12748.0      2011-12-02      5.45        1.0          2011-12\n",
       "121     12748.0      2011-12-04    158.14        2.0          2011-12\n",
       "122     12748.0      2011-12-05    321.51        1.0          2011-12\n",
       "123     12748.0      2011-12-08    284.51        3.0          2011-12\n",
       "124     12748.0      2011-12-09     94.11        1.0          2011-12\n",
       "\n",
       "[113 rows x 5 columns]"
      ]
     },
     "execution_count": 45,
     "metadata": {},
     "output_type": "execute_result"
    }
   ],
   "source": [
    "# Create a new column for the month only\n",
    "preprocessed_data['InvoiceOnlyMonth'] = preprocessed_data['InvoiceOnlyDate'].apply(lambda x: pd.to_datetime(x).strftime('%Y-%m'))\n",
    "\n",
    "# preview data\n",
    "preprocessed_data[preprocessed_data['CustomerID'] == 12748.0]"
   ]
  },
  {
   "cell_type": "markdown",
   "metadata": {},
   "source": [
    "##### Calculate CLV"
   ]
  },
  {
   "cell_type": "code",
   "execution_count": 21,
   "metadata": {},
   "outputs": [
    {
     "name": "stdout",
     "output_type": "stream",
     "text": [
      "Customer Lifespan: 1.32 months\n"
     ]
    }
   ],
   "source": [
    "# Calculate monthly spend per customer\n",
    "monthly_revenue = preprocessed_data.groupby('CustomerID')['UnitPrice'].sum().mean()\n",
    "# Calculate average monthly spend\n",
    "average_monthly_revenue\n",
    "\n",
    "# Define or calculate the customer lifespan\n",
    "customer_lifespan = 1 / overall_churn_rate\n",
    "print(f'Customer Lifespan: {customer_lifespan:.2f} months')\n",
    "\n",
    "# Calculate basic CLV\n",
    "clv_basic = average_monthly_revenue * customer_lifespan\n",
    "\n",
    "# Print the basic CLV value\n",
    "print(f'Basic CLV: {clv_basic:.2f} USD')"
   ]
  },
  {
   "cell_type": "markdown",
   "metadata": {},
   "source": [
    "### 1.4.4. Net Revenue "
   ]
  },
  {
   "cell_type": "markdown",
   "metadata": {},
   "source": [
    "### 1.4.5. Net Revenue Retention Rate"
   ]
  },
  {
   "cell_type": "markdown",
   "metadata": {},
   "source": [
    "## 1.5. Visualizing Cohort Analysis\n",
    "Each row in the heatmap represents a cohort and visualizes the percentage of users retained over time."
   ]
  },
  {
   "cell_type": "code",
   "execution_count": 18,
   "metadata": {},
   "outputs": [
    {
     "data": {
      "application/vnd.plotly.v1+json": {
       "config": {
        "plotlyServerURL": "https://plot.ly"
       },
       "data": [
        {
         "colorscale": [
          [
           0,
           "#0d0887"
          ],
          [
           0.1111111111111111,
           "#46039f"
          ],
          [
           0.2222222222222222,
           "#7201a8"
          ],
          [
           0.3333333333333333,
           "#9c179e"
          ],
          [
           0.4444444444444444,
           "#bd3786"
          ],
          [
           0.5555555555555556,
           "#d8576b"
          ],
          [
           0.6666666666666666,
           "#ed7953"
          ],
          [
           0.7777777777777778,
           "#fb9f3a"
          ],
          [
           0.8888888888888888,
           "#fdca26"
          ],
          [
           1,
           "#f0f921"
          ]
         ],
         "reversescale": false,
         "showscale": true,
         "type": "heatmap",
         "x": [
          "Month 1",
          "Month 2",
          "Month 3",
          "Month 4",
          "Month 5",
          "Month 6",
          "Month 7",
          "Month 8",
          "Month 9",
          "Month 10",
          "Month 11",
          "Month 12",
          "Month 13"
         ],
         "y": [
          "December, 2011",
          "November, 2011",
          "October, 2011",
          "September, 2011",
          "August, 2011",
          "July, 2011",
          "June, 2011",
          "May, 2011",
          "April, 2011",
          "March, 2011",
          "February, 2011",
          "January, 2011",
          "December, 2010"
         ],
         "z": [
          [
           1,
           0,
           0,
           0,
           0,
           0,
           0,
           0,
           0,
           0,
           0,
           0,
           0
          ],
          [
           1,
           0.10996563573883161,
           0,
           0,
           0,
           0,
           0,
           0,
           0,
           0,
           0,
           0,
           0
          ],
          [
           1,
           0.21069182389937108,
           0.09433962264150944,
           0,
           0,
           0,
           0,
           0,
           0,
           0,
           0,
           0,
           0
          ],
          [
           1,
           0.2007168458781362,
           0.27956989247311825,
           0.12186379928315412,
           0,
           0,
           0,
           0,
           0,
           0,
           0,
           0,
           0
          ],
          [
           1,
           0.2158273381294964,
           0.2014388489208633,
           0.2517985611510791,
           0.10071942446043165,
           0,
           0,
           0,
           0,
           0,
           0,
           0,
           0
          ],
          [
           1,
           0.16184971098265896,
           0.1791907514450867,
           0.21965317919075145,
           0.2543352601156069,
           0.09826589595375723,
           0,
           0,
           0,
           0,
           0,
           0,
           0
          ],
          [
           1,
           0.15942028985507245,
           0.12560386473429952,
           0.19806763285024154,
           0.23671497584541062,
           0.2995169082125604,
           0.09178743961352658,
           0,
           0,
           0,
           0,
           0,
           0
          ],
          [
           1,
           0.1606425702811245,
           0.17269076305220885,
           0.14457831325301204,
           0.20883534136546184,
           0.23293172690763053,
           0.24497991967871485,
           0.08835341365461848,
           0,
           0,
           0,
           0,
           0
          ],
          [
           1,
           0.19215686274509805,
           0.20392156862745098,
           0.19215686274509805,
           0.1843137254901961,
           0.20392156862745098,
           0.2196078431372549,
           0.23137254901960785,
           0.06666666666666667,
           0,
           0,
           0,
           0
          ],
          [
           1,
           0.16237113402061856,
           0.25773195876288657,
           0.1958762886597938,
           0.21391752577319587,
           0.17268041237113402,
           0.25257731958762886,
           0.2190721649484536,
           0.2757731958762887,
           0.0979381443298969,
           0,
           0,
           0
          ],
          [
           1,
           0.18354430379746836,
           0.18037974683544303,
           0.2626582278481013,
           0.2689873417721519,
           0.23417721518987342,
           0.25316455696202533,
           0.2626582278481013,
           0.2721518987341772,
           0.30063291139240506,
           0.08860759493670886,
           0,
           0
          ],
          [
           1,
           0.20783132530120482,
           0.2469879518072289,
           0.24397590361445784,
           0.3313253012048193,
           0.2710843373493976,
           0.2469879518072289,
           0.25903614457831325,
           0.3132530120481928,
           0.3072289156626506,
           0.37349397590361444,
           0.1355421686746988,
           0
          ],
          [
           1,
           0.3435754189944134,
           0.308659217877095,
           0.3505586592178771,
           0.34217877094972066,
           0.39804469273743015,
           0.3477653631284916,
           0.329608938547486,
           0.33519553072625696,
           0.37011173184357543,
           0.3547486033519553,
           0.4860335195530726,
           0.24022346368715083
          ]
         ]
        }
       ],
       "layout": {
        "annotations": [
         {
          "font": {
           "color": "#000000"
          },
          "showarrow": false,
          "text": "100.0%",
          "x": "Month 1",
          "xref": "x",
          "y": "December, 2011",
          "yref": "y"
         },
         {
          "font": {
           "color": "#FFFFFF"
          },
          "showarrow": false,
          "text": "",
          "x": "Month 2",
          "xref": "x",
          "y": "December, 2011",
          "yref": "y"
         },
         {
          "font": {
           "color": "#FFFFFF"
          },
          "showarrow": false,
          "text": "",
          "x": "Month 3",
          "xref": "x",
          "y": "December, 2011",
          "yref": "y"
         },
         {
          "font": {
           "color": "#FFFFFF"
          },
          "showarrow": false,
          "text": "",
          "x": "Month 4",
          "xref": "x",
          "y": "December, 2011",
          "yref": "y"
         },
         {
          "font": {
           "color": "#FFFFFF"
          },
          "showarrow": false,
          "text": "",
          "x": "Month 5",
          "xref": "x",
          "y": "December, 2011",
          "yref": "y"
         },
         {
          "font": {
           "color": "#FFFFFF"
          },
          "showarrow": false,
          "text": "",
          "x": "Month 6",
          "xref": "x",
          "y": "December, 2011",
          "yref": "y"
         },
         {
          "font": {
           "color": "#FFFFFF"
          },
          "showarrow": false,
          "text": "",
          "x": "Month 7",
          "xref": "x",
          "y": "December, 2011",
          "yref": "y"
         },
         {
          "font": {
           "color": "#FFFFFF"
          },
          "showarrow": false,
          "text": "",
          "x": "Month 8",
          "xref": "x",
          "y": "December, 2011",
          "yref": "y"
         },
         {
          "font": {
           "color": "#FFFFFF"
          },
          "showarrow": false,
          "text": "",
          "x": "Month 9",
          "xref": "x",
          "y": "December, 2011",
          "yref": "y"
         },
         {
          "font": {
           "color": "#FFFFFF"
          },
          "showarrow": false,
          "text": "",
          "x": "Month 10",
          "xref": "x",
          "y": "December, 2011",
          "yref": "y"
         },
         {
          "font": {
           "color": "#FFFFFF"
          },
          "showarrow": false,
          "text": "",
          "x": "Month 11",
          "xref": "x",
          "y": "December, 2011",
          "yref": "y"
         },
         {
          "font": {
           "color": "#FFFFFF"
          },
          "showarrow": false,
          "text": "",
          "x": "Month 12",
          "xref": "x",
          "y": "December, 2011",
          "yref": "y"
         },
         {
          "font": {
           "color": "#FFFFFF"
          },
          "showarrow": false,
          "text": "",
          "x": "Month 13",
          "xref": "x",
          "y": "December, 2011",
          "yref": "y"
         },
         {
          "font": {
           "color": "#000000"
          },
          "showarrow": false,
          "text": "100.0%",
          "x": "Month 1",
          "xref": "x",
          "y": "November, 2011",
          "yref": "y"
         },
         {
          "font": {
           "color": "#FFFFFF"
          },
          "showarrow": false,
          "text": "11.0%",
          "x": "Month 2",
          "xref": "x",
          "y": "November, 2011",
          "yref": "y"
         },
         {
          "font": {
           "color": "#FFFFFF"
          },
          "showarrow": false,
          "text": "",
          "x": "Month 3",
          "xref": "x",
          "y": "November, 2011",
          "yref": "y"
         },
         {
          "font": {
           "color": "#FFFFFF"
          },
          "showarrow": false,
          "text": "",
          "x": "Month 4",
          "xref": "x",
          "y": "November, 2011",
          "yref": "y"
         },
         {
          "font": {
           "color": "#FFFFFF"
          },
          "showarrow": false,
          "text": "",
          "x": "Month 5",
          "xref": "x",
          "y": "November, 2011",
          "yref": "y"
         },
         {
          "font": {
           "color": "#FFFFFF"
          },
          "showarrow": false,
          "text": "",
          "x": "Month 6",
          "xref": "x",
          "y": "November, 2011",
          "yref": "y"
         },
         {
          "font": {
           "color": "#FFFFFF"
          },
          "showarrow": false,
          "text": "",
          "x": "Month 7",
          "xref": "x",
          "y": "November, 2011",
          "yref": "y"
         },
         {
          "font": {
           "color": "#FFFFFF"
          },
          "showarrow": false,
          "text": "",
          "x": "Month 8",
          "xref": "x",
          "y": "November, 2011",
          "yref": "y"
         },
         {
          "font": {
           "color": "#FFFFFF"
          },
          "showarrow": false,
          "text": "",
          "x": "Month 9",
          "xref": "x",
          "y": "November, 2011",
          "yref": "y"
         },
         {
          "font": {
           "color": "#FFFFFF"
          },
          "showarrow": false,
          "text": "",
          "x": "Month 10",
          "xref": "x",
          "y": "November, 2011",
          "yref": "y"
         },
         {
          "font": {
           "color": "#FFFFFF"
          },
          "showarrow": false,
          "text": "",
          "x": "Month 11",
          "xref": "x",
          "y": "November, 2011",
          "yref": "y"
         },
         {
          "font": {
           "color": "#FFFFFF"
          },
          "showarrow": false,
          "text": "",
          "x": "Month 12",
          "xref": "x",
          "y": "November, 2011",
          "yref": "y"
         },
         {
          "font": {
           "color": "#FFFFFF"
          },
          "showarrow": false,
          "text": "",
          "x": "Month 13",
          "xref": "x",
          "y": "November, 2011",
          "yref": "y"
         },
         {
          "font": {
           "color": "#000000"
          },
          "showarrow": false,
          "text": "100.0%",
          "x": "Month 1",
          "xref": "x",
          "y": "October, 2011",
          "yref": "y"
         },
         {
          "font": {
           "color": "#FFFFFF"
          },
          "showarrow": false,
          "text": "21.1%",
          "x": "Month 2",
          "xref": "x",
          "y": "October, 2011",
          "yref": "y"
         },
         {
          "font": {
           "color": "#FFFFFF"
          },
          "showarrow": false,
          "text": "9.4%",
          "x": "Month 3",
          "xref": "x",
          "y": "October, 2011",
          "yref": "y"
         },
         {
          "font": {
           "color": "#FFFFFF"
          },
          "showarrow": false,
          "text": "",
          "x": "Month 4",
          "xref": "x",
          "y": "October, 2011",
          "yref": "y"
         },
         {
          "font": {
           "color": "#FFFFFF"
          },
          "showarrow": false,
          "text": "",
          "x": "Month 5",
          "xref": "x",
          "y": "October, 2011",
          "yref": "y"
         },
         {
          "font": {
           "color": "#FFFFFF"
          },
          "showarrow": false,
          "text": "",
          "x": "Month 6",
          "xref": "x",
          "y": "October, 2011",
          "yref": "y"
         },
         {
          "font": {
           "color": "#FFFFFF"
          },
          "showarrow": false,
          "text": "",
          "x": "Month 7",
          "xref": "x",
          "y": "October, 2011",
          "yref": "y"
         },
         {
          "font": {
           "color": "#FFFFFF"
          },
          "showarrow": false,
          "text": "",
          "x": "Month 8",
          "xref": "x",
          "y": "October, 2011",
          "yref": "y"
         },
         {
          "font": {
           "color": "#FFFFFF"
          },
          "showarrow": false,
          "text": "",
          "x": "Month 9",
          "xref": "x",
          "y": "October, 2011",
          "yref": "y"
         },
         {
          "font": {
           "color": "#FFFFFF"
          },
          "showarrow": false,
          "text": "",
          "x": "Month 10",
          "xref": "x",
          "y": "October, 2011",
          "yref": "y"
         },
         {
          "font": {
           "color": "#FFFFFF"
          },
          "showarrow": false,
          "text": "",
          "x": "Month 11",
          "xref": "x",
          "y": "October, 2011",
          "yref": "y"
         },
         {
          "font": {
           "color": "#FFFFFF"
          },
          "showarrow": false,
          "text": "",
          "x": "Month 12",
          "xref": "x",
          "y": "October, 2011",
          "yref": "y"
         },
         {
          "font": {
           "color": "#FFFFFF"
          },
          "showarrow": false,
          "text": "",
          "x": "Month 13",
          "xref": "x",
          "y": "October, 2011",
          "yref": "y"
         },
         {
          "font": {
           "color": "#000000"
          },
          "showarrow": false,
          "text": "100.0%",
          "x": "Month 1",
          "xref": "x",
          "y": "September, 2011",
          "yref": "y"
         },
         {
          "font": {
           "color": "#FFFFFF"
          },
          "showarrow": false,
          "text": "20.1%",
          "x": "Month 2",
          "xref": "x",
          "y": "September, 2011",
          "yref": "y"
         },
         {
          "font": {
           "color": "#FFFFFF"
          },
          "showarrow": false,
          "text": "28.0%",
          "x": "Month 3",
          "xref": "x",
          "y": "September, 2011",
          "yref": "y"
         },
         {
          "font": {
           "color": "#FFFFFF"
          },
          "showarrow": false,
          "text": "12.2%",
          "x": "Month 4",
          "xref": "x",
          "y": "September, 2011",
          "yref": "y"
         },
         {
          "font": {
           "color": "#FFFFFF"
          },
          "showarrow": false,
          "text": "",
          "x": "Month 5",
          "xref": "x",
          "y": "September, 2011",
          "yref": "y"
         },
         {
          "font": {
           "color": "#FFFFFF"
          },
          "showarrow": false,
          "text": "",
          "x": "Month 6",
          "xref": "x",
          "y": "September, 2011",
          "yref": "y"
         },
         {
          "font": {
           "color": "#FFFFFF"
          },
          "showarrow": false,
          "text": "",
          "x": "Month 7",
          "xref": "x",
          "y": "September, 2011",
          "yref": "y"
         },
         {
          "font": {
           "color": "#FFFFFF"
          },
          "showarrow": false,
          "text": "",
          "x": "Month 8",
          "xref": "x",
          "y": "September, 2011",
          "yref": "y"
         },
         {
          "font": {
           "color": "#FFFFFF"
          },
          "showarrow": false,
          "text": "",
          "x": "Month 9",
          "xref": "x",
          "y": "September, 2011",
          "yref": "y"
         },
         {
          "font": {
           "color": "#FFFFFF"
          },
          "showarrow": false,
          "text": "",
          "x": "Month 10",
          "xref": "x",
          "y": "September, 2011",
          "yref": "y"
         },
         {
          "font": {
           "color": "#FFFFFF"
          },
          "showarrow": false,
          "text": "",
          "x": "Month 11",
          "xref": "x",
          "y": "September, 2011",
          "yref": "y"
         },
         {
          "font": {
           "color": "#FFFFFF"
          },
          "showarrow": false,
          "text": "",
          "x": "Month 12",
          "xref": "x",
          "y": "September, 2011",
          "yref": "y"
         },
         {
          "font": {
           "color": "#FFFFFF"
          },
          "showarrow": false,
          "text": "",
          "x": "Month 13",
          "xref": "x",
          "y": "September, 2011",
          "yref": "y"
         },
         {
          "font": {
           "color": "#000000"
          },
          "showarrow": false,
          "text": "100.0%",
          "x": "Month 1",
          "xref": "x",
          "y": "August, 2011",
          "yref": "y"
         },
         {
          "font": {
           "color": "#FFFFFF"
          },
          "showarrow": false,
          "text": "21.6%",
          "x": "Month 2",
          "xref": "x",
          "y": "August, 2011",
          "yref": "y"
         },
         {
          "font": {
           "color": "#FFFFFF"
          },
          "showarrow": false,
          "text": "20.1%",
          "x": "Month 3",
          "xref": "x",
          "y": "August, 2011",
          "yref": "y"
         },
         {
          "font": {
           "color": "#FFFFFF"
          },
          "showarrow": false,
          "text": "25.2%",
          "x": "Month 4",
          "xref": "x",
          "y": "August, 2011",
          "yref": "y"
         },
         {
          "font": {
           "color": "#FFFFFF"
          },
          "showarrow": false,
          "text": "10.1%",
          "x": "Month 5",
          "xref": "x",
          "y": "August, 2011",
          "yref": "y"
         },
         {
          "font": {
           "color": "#FFFFFF"
          },
          "showarrow": false,
          "text": "",
          "x": "Month 6",
          "xref": "x",
          "y": "August, 2011",
          "yref": "y"
         },
         {
          "font": {
           "color": "#FFFFFF"
          },
          "showarrow": false,
          "text": "",
          "x": "Month 7",
          "xref": "x",
          "y": "August, 2011",
          "yref": "y"
         },
         {
          "font": {
           "color": "#FFFFFF"
          },
          "showarrow": false,
          "text": "",
          "x": "Month 8",
          "xref": "x",
          "y": "August, 2011",
          "yref": "y"
         },
         {
          "font": {
           "color": "#FFFFFF"
          },
          "showarrow": false,
          "text": "",
          "x": "Month 9",
          "xref": "x",
          "y": "August, 2011",
          "yref": "y"
         },
         {
          "font": {
           "color": "#FFFFFF"
          },
          "showarrow": false,
          "text": "",
          "x": "Month 10",
          "xref": "x",
          "y": "August, 2011",
          "yref": "y"
         },
         {
          "font": {
           "color": "#FFFFFF"
          },
          "showarrow": false,
          "text": "",
          "x": "Month 11",
          "xref": "x",
          "y": "August, 2011",
          "yref": "y"
         },
         {
          "font": {
           "color": "#FFFFFF"
          },
          "showarrow": false,
          "text": "",
          "x": "Month 12",
          "xref": "x",
          "y": "August, 2011",
          "yref": "y"
         },
         {
          "font": {
           "color": "#FFFFFF"
          },
          "showarrow": false,
          "text": "",
          "x": "Month 13",
          "xref": "x",
          "y": "August, 2011",
          "yref": "y"
         },
         {
          "font": {
           "color": "#000000"
          },
          "showarrow": false,
          "text": "100.0%",
          "x": "Month 1",
          "xref": "x",
          "y": "July, 2011",
          "yref": "y"
         },
         {
          "font": {
           "color": "#FFFFFF"
          },
          "showarrow": false,
          "text": "16.2%",
          "x": "Month 2",
          "xref": "x",
          "y": "July, 2011",
          "yref": "y"
         },
         {
          "font": {
           "color": "#FFFFFF"
          },
          "showarrow": false,
          "text": "17.9%",
          "x": "Month 3",
          "xref": "x",
          "y": "July, 2011",
          "yref": "y"
         },
         {
          "font": {
           "color": "#FFFFFF"
          },
          "showarrow": false,
          "text": "22.0%",
          "x": "Month 4",
          "xref": "x",
          "y": "July, 2011",
          "yref": "y"
         },
         {
          "font": {
           "color": "#FFFFFF"
          },
          "showarrow": false,
          "text": "25.4%",
          "x": "Month 5",
          "xref": "x",
          "y": "July, 2011",
          "yref": "y"
         },
         {
          "font": {
           "color": "#FFFFFF"
          },
          "showarrow": false,
          "text": "9.8%",
          "x": "Month 6",
          "xref": "x",
          "y": "July, 2011",
          "yref": "y"
         },
         {
          "font": {
           "color": "#FFFFFF"
          },
          "showarrow": false,
          "text": "",
          "x": "Month 7",
          "xref": "x",
          "y": "July, 2011",
          "yref": "y"
         },
         {
          "font": {
           "color": "#FFFFFF"
          },
          "showarrow": false,
          "text": "",
          "x": "Month 8",
          "xref": "x",
          "y": "July, 2011",
          "yref": "y"
         },
         {
          "font": {
           "color": "#FFFFFF"
          },
          "showarrow": false,
          "text": "",
          "x": "Month 9",
          "xref": "x",
          "y": "July, 2011",
          "yref": "y"
         },
         {
          "font": {
           "color": "#FFFFFF"
          },
          "showarrow": false,
          "text": "",
          "x": "Month 10",
          "xref": "x",
          "y": "July, 2011",
          "yref": "y"
         },
         {
          "font": {
           "color": "#FFFFFF"
          },
          "showarrow": false,
          "text": "",
          "x": "Month 11",
          "xref": "x",
          "y": "July, 2011",
          "yref": "y"
         },
         {
          "font": {
           "color": "#FFFFFF"
          },
          "showarrow": false,
          "text": "",
          "x": "Month 12",
          "xref": "x",
          "y": "July, 2011",
          "yref": "y"
         },
         {
          "font": {
           "color": "#FFFFFF"
          },
          "showarrow": false,
          "text": "",
          "x": "Month 13",
          "xref": "x",
          "y": "July, 2011",
          "yref": "y"
         },
         {
          "font": {
           "color": "#000000"
          },
          "showarrow": false,
          "text": "100.0%",
          "x": "Month 1",
          "xref": "x",
          "y": "June, 2011",
          "yref": "y"
         },
         {
          "font": {
           "color": "#FFFFFF"
          },
          "showarrow": false,
          "text": "15.9%",
          "x": "Month 2",
          "xref": "x",
          "y": "June, 2011",
          "yref": "y"
         },
         {
          "font": {
           "color": "#FFFFFF"
          },
          "showarrow": false,
          "text": "12.6%",
          "x": "Month 3",
          "xref": "x",
          "y": "June, 2011",
          "yref": "y"
         },
         {
          "font": {
           "color": "#FFFFFF"
          },
          "showarrow": false,
          "text": "19.8%",
          "x": "Month 4",
          "xref": "x",
          "y": "June, 2011",
          "yref": "y"
         },
         {
          "font": {
           "color": "#FFFFFF"
          },
          "showarrow": false,
          "text": "23.7%",
          "x": "Month 5",
          "xref": "x",
          "y": "June, 2011",
          "yref": "y"
         },
         {
          "font": {
           "color": "#FFFFFF"
          },
          "showarrow": false,
          "text": "30.0%",
          "x": "Month 6",
          "xref": "x",
          "y": "June, 2011",
          "yref": "y"
         },
         {
          "font": {
           "color": "#FFFFFF"
          },
          "showarrow": false,
          "text": "9.2%",
          "x": "Month 7",
          "xref": "x",
          "y": "June, 2011",
          "yref": "y"
         },
         {
          "font": {
           "color": "#FFFFFF"
          },
          "showarrow": false,
          "text": "",
          "x": "Month 8",
          "xref": "x",
          "y": "June, 2011",
          "yref": "y"
         },
         {
          "font": {
           "color": "#FFFFFF"
          },
          "showarrow": false,
          "text": "",
          "x": "Month 9",
          "xref": "x",
          "y": "June, 2011",
          "yref": "y"
         },
         {
          "font": {
           "color": "#FFFFFF"
          },
          "showarrow": false,
          "text": "",
          "x": "Month 10",
          "xref": "x",
          "y": "June, 2011",
          "yref": "y"
         },
         {
          "font": {
           "color": "#FFFFFF"
          },
          "showarrow": false,
          "text": "",
          "x": "Month 11",
          "xref": "x",
          "y": "June, 2011",
          "yref": "y"
         },
         {
          "font": {
           "color": "#FFFFFF"
          },
          "showarrow": false,
          "text": "",
          "x": "Month 12",
          "xref": "x",
          "y": "June, 2011",
          "yref": "y"
         },
         {
          "font": {
           "color": "#FFFFFF"
          },
          "showarrow": false,
          "text": "",
          "x": "Month 13",
          "xref": "x",
          "y": "June, 2011",
          "yref": "y"
         },
         {
          "font": {
           "color": "#000000"
          },
          "showarrow": false,
          "text": "100.0%",
          "x": "Month 1",
          "xref": "x",
          "y": "May, 2011",
          "yref": "y"
         },
         {
          "font": {
           "color": "#FFFFFF"
          },
          "showarrow": false,
          "text": "16.1%",
          "x": "Month 2",
          "xref": "x",
          "y": "May, 2011",
          "yref": "y"
         },
         {
          "font": {
           "color": "#FFFFFF"
          },
          "showarrow": false,
          "text": "17.3%",
          "x": "Month 3",
          "xref": "x",
          "y": "May, 2011",
          "yref": "y"
         },
         {
          "font": {
           "color": "#FFFFFF"
          },
          "showarrow": false,
          "text": "14.5%",
          "x": "Month 4",
          "xref": "x",
          "y": "May, 2011",
          "yref": "y"
         },
         {
          "font": {
           "color": "#FFFFFF"
          },
          "showarrow": false,
          "text": "20.9%",
          "x": "Month 5",
          "xref": "x",
          "y": "May, 2011",
          "yref": "y"
         },
         {
          "font": {
           "color": "#FFFFFF"
          },
          "showarrow": false,
          "text": "23.3%",
          "x": "Month 6",
          "xref": "x",
          "y": "May, 2011",
          "yref": "y"
         },
         {
          "font": {
           "color": "#FFFFFF"
          },
          "showarrow": false,
          "text": "24.5%",
          "x": "Month 7",
          "xref": "x",
          "y": "May, 2011",
          "yref": "y"
         },
         {
          "font": {
           "color": "#FFFFFF"
          },
          "showarrow": false,
          "text": "8.8%",
          "x": "Month 8",
          "xref": "x",
          "y": "May, 2011",
          "yref": "y"
         },
         {
          "font": {
           "color": "#FFFFFF"
          },
          "showarrow": false,
          "text": "",
          "x": "Month 9",
          "xref": "x",
          "y": "May, 2011",
          "yref": "y"
         },
         {
          "font": {
           "color": "#FFFFFF"
          },
          "showarrow": false,
          "text": "",
          "x": "Month 10",
          "xref": "x",
          "y": "May, 2011",
          "yref": "y"
         },
         {
          "font": {
           "color": "#FFFFFF"
          },
          "showarrow": false,
          "text": "",
          "x": "Month 11",
          "xref": "x",
          "y": "May, 2011",
          "yref": "y"
         },
         {
          "font": {
           "color": "#FFFFFF"
          },
          "showarrow": false,
          "text": "",
          "x": "Month 12",
          "xref": "x",
          "y": "May, 2011",
          "yref": "y"
         },
         {
          "font": {
           "color": "#FFFFFF"
          },
          "showarrow": false,
          "text": "",
          "x": "Month 13",
          "xref": "x",
          "y": "May, 2011",
          "yref": "y"
         },
         {
          "font": {
           "color": "#000000"
          },
          "showarrow": false,
          "text": "100.0%",
          "x": "Month 1",
          "xref": "x",
          "y": "April, 2011",
          "yref": "y"
         },
         {
          "font": {
           "color": "#FFFFFF"
          },
          "showarrow": false,
          "text": "19.2%",
          "x": "Month 2",
          "xref": "x",
          "y": "April, 2011",
          "yref": "y"
         },
         {
          "font": {
           "color": "#FFFFFF"
          },
          "showarrow": false,
          "text": "20.4%",
          "x": "Month 3",
          "xref": "x",
          "y": "April, 2011",
          "yref": "y"
         },
         {
          "font": {
           "color": "#FFFFFF"
          },
          "showarrow": false,
          "text": "19.2%",
          "x": "Month 4",
          "xref": "x",
          "y": "April, 2011",
          "yref": "y"
         },
         {
          "font": {
           "color": "#FFFFFF"
          },
          "showarrow": false,
          "text": "18.4%",
          "x": "Month 5",
          "xref": "x",
          "y": "April, 2011",
          "yref": "y"
         },
         {
          "font": {
           "color": "#FFFFFF"
          },
          "showarrow": false,
          "text": "20.4%",
          "x": "Month 6",
          "xref": "x",
          "y": "April, 2011",
          "yref": "y"
         },
         {
          "font": {
           "color": "#FFFFFF"
          },
          "showarrow": false,
          "text": "22.0%",
          "x": "Month 7",
          "xref": "x",
          "y": "April, 2011",
          "yref": "y"
         },
         {
          "font": {
           "color": "#FFFFFF"
          },
          "showarrow": false,
          "text": "23.1%",
          "x": "Month 8",
          "xref": "x",
          "y": "April, 2011",
          "yref": "y"
         },
         {
          "font": {
           "color": "#FFFFFF"
          },
          "showarrow": false,
          "text": "6.7%",
          "x": "Month 9",
          "xref": "x",
          "y": "April, 2011",
          "yref": "y"
         },
         {
          "font": {
           "color": "#FFFFFF"
          },
          "showarrow": false,
          "text": "",
          "x": "Month 10",
          "xref": "x",
          "y": "April, 2011",
          "yref": "y"
         },
         {
          "font": {
           "color": "#FFFFFF"
          },
          "showarrow": false,
          "text": "",
          "x": "Month 11",
          "xref": "x",
          "y": "April, 2011",
          "yref": "y"
         },
         {
          "font": {
           "color": "#FFFFFF"
          },
          "showarrow": false,
          "text": "",
          "x": "Month 12",
          "xref": "x",
          "y": "April, 2011",
          "yref": "y"
         },
         {
          "font": {
           "color": "#FFFFFF"
          },
          "showarrow": false,
          "text": "",
          "x": "Month 13",
          "xref": "x",
          "y": "April, 2011",
          "yref": "y"
         },
         {
          "font": {
           "color": "#000000"
          },
          "showarrow": false,
          "text": "100.0%",
          "x": "Month 1",
          "xref": "x",
          "y": "March, 2011",
          "yref": "y"
         },
         {
          "font": {
           "color": "#FFFFFF"
          },
          "showarrow": false,
          "text": "16.2%",
          "x": "Month 2",
          "xref": "x",
          "y": "March, 2011",
          "yref": "y"
         },
         {
          "font": {
           "color": "#FFFFFF"
          },
          "showarrow": false,
          "text": "25.8%",
          "x": "Month 3",
          "xref": "x",
          "y": "March, 2011",
          "yref": "y"
         },
         {
          "font": {
           "color": "#FFFFFF"
          },
          "showarrow": false,
          "text": "19.6%",
          "x": "Month 4",
          "xref": "x",
          "y": "March, 2011",
          "yref": "y"
         },
         {
          "font": {
           "color": "#FFFFFF"
          },
          "showarrow": false,
          "text": "21.4%",
          "x": "Month 5",
          "xref": "x",
          "y": "March, 2011",
          "yref": "y"
         },
         {
          "font": {
           "color": "#FFFFFF"
          },
          "showarrow": false,
          "text": "17.3%",
          "x": "Month 6",
          "xref": "x",
          "y": "March, 2011",
          "yref": "y"
         },
         {
          "font": {
           "color": "#FFFFFF"
          },
          "showarrow": false,
          "text": "25.3%",
          "x": "Month 7",
          "xref": "x",
          "y": "March, 2011",
          "yref": "y"
         },
         {
          "font": {
           "color": "#FFFFFF"
          },
          "showarrow": false,
          "text": "21.9%",
          "x": "Month 8",
          "xref": "x",
          "y": "March, 2011",
          "yref": "y"
         },
         {
          "font": {
           "color": "#FFFFFF"
          },
          "showarrow": false,
          "text": "27.6%",
          "x": "Month 9",
          "xref": "x",
          "y": "March, 2011",
          "yref": "y"
         },
         {
          "font": {
           "color": "#FFFFFF"
          },
          "showarrow": false,
          "text": "9.8%",
          "x": "Month 10",
          "xref": "x",
          "y": "March, 2011",
          "yref": "y"
         },
         {
          "font": {
           "color": "#FFFFFF"
          },
          "showarrow": false,
          "text": "",
          "x": "Month 11",
          "xref": "x",
          "y": "March, 2011",
          "yref": "y"
         },
         {
          "font": {
           "color": "#FFFFFF"
          },
          "showarrow": false,
          "text": "",
          "x": "Month 12",
          "xref": "x",
          "y": "March, 2011",
          "yref": "y"
         },
         {
          "font": {
           "color": "#FFFFFF"
          },
          "showarrow": false,
          "text": "",
          "x": "Month 13",
          "xref": "x",
          "y": "March, 2011",
          "yref": "y"
         },
         {
          "font": {
           "color": "#000000"
          },
          "showarrow": false,
          "text": "100.0%",
          "x": "Month 1",
          "xref": "x",
          "y": "February, 2011",
          "yref": "y"
         },
         {
          "font": {
           "color": "#FFFFFF"
          },
          "showarrow": false,
          "text": "18.4%",
          "x": "Month 2",
          "xref": "x",
          "y": "February, 2011",
          "yref": "y"
         },
         {
          "font": {
           "color": "#FFFFFF"
          },
          "showarrow": false,
          "text": "18.0%",
          "x": "Month 3",
          "xref": "x",
          "y": "February, 2011",
          "yref": "y"
         },
         {
          "font": {
           "color": "#FFFFFF"
          },
          "showarrow": false,
          "text": "26.3%",
          "x": "Month 4",
          "xref": "x",
          "y": "February, 2011",
          "yref": "y"
         },
         {
          "font": {
           "color": "#FFFFFF"
          },
          "showarrow": false,
          "text": "26.9%",
          "x": "Month 5",
          "xref": "x",
          "y": "February, 2011",
          "yref": "y"
         },
         {
          "font": {
           "color": "#FFFFFF"
          },
          "showarrow": false,
          "text": "23.4%",
          "x": "Month 6",
          "xref": "x",
          "y": "February, 2011",
          "yref": "y"
         },
         {
          "font": {
           "color": "#FFFFFF"
          },
          "showarrow": false,
          "text": "25.3%",
          "x": "Month 7",
          "xref": "x",
          "y": "February, 2011",
          "yref": "y"
         },
         {
          "font": {
           "color": "#FFFFFF"
          },
          "showarrow": false,
          "text": "26.3%",
          "x": "Month 8",
          "xref": "x",
          "y": "February, 2011",
          "yref": "y"
         },
         {
          "font": {
           "color": "#FFFFFF"
          },
          "showarrow": false,
          "text": "27.2%",
          "x": "Month 9",
          "xref": "x",
          "y": "February, 2011",
          "yref": "y"
         },
         {
          "font": {
           "color": "#FFFFFF"
          },
          "showarrow": false,
          "text": "30.1%",
          "x": "Month 10",
          "xref": "x",
          "y": "February, 2011",
          "yref": "y"
         },
         {
          "font": {
           "color": "#FFFFFF"
          },
          "showarrow": false,
          "text": "8.9%",
          "x": "Month 11",
          "xref": "x",
          "y": "February, 2011",
          "yref": "y"
         },
         {
          "font": {
           "color": "#FFFFFF"
          },
          "showarrow": false,
          "text": "",
          "x": "Month 12",
          "xref": "x",
          "y": "February, 2011",
          "yref": "y"
         },
         {
          "font": {
           "color": "#FFFFFF"
          },
          "showarrow": false,
          "text": "",
          "x": "Month 13",
          "xref": "x",
          "y": "February, 2011",
          "yref": "y"
         },
         {
          "font": {
           "color": "#000000"
          },
          "showarrow": false,
          "text": "100.0%",
          "x": "Month 1",
          "xref": "x",
          "y": "January, 2011",
          "yref": "y"
         },
         {
          "font": {
           "color": "#FFFFFF"
          },
          "showarrow": false,
          "text": "20.8%",
          "x": "Month 2",
          "xref": "x",
          "y": "January, 2011",
          "yref": "y"
         },
         {
          "font": {
           "color": "#FFFFFF"
          },
          "showarrow": false,
          "text": "24.7%",
          "x": "Month 3",
          "xref": "x",
          "y": "January, 2011",
          "yref": "y"
         },
         {
          "font": {
           "color": "#FFFFFF"
          },
          "showarrow": false,
          "text": "24.4%",
          "x": "Month 4",
          "xref": "x",
          "y": "January, 2011",
          "yref": "y"
         },
         {
          "font": {
           "color": "#FFFFFF"
          },
          "showarrow": false,
          "text": "33.1%",
          "x": "Month 5",
          "xref": "x",
          "y": "January, 2011",
          "yref": "y"
         },
         {
          "font": {
           "color": "#FFFFFF"
          },
          "showarrow": false,
          "text": "27.1%",
          "x": "Month 6",
          "xref": "x",
          "y": "January, 2011",
          "yref": "y"
         },
         {
          "font": {
           "color": "#FFFFFF"
          },
          "showarrow": false,
          "text": "24.7%",
          "x": "Month 7",
          "xref": "x",
          "y": "January, 2011",
          "yref": "y"
         },
         {
          "font": {
           "color": "#FFFFFF"
          },
          "showarrow": false,
          "text": "25.9%",
          "x": "Month 8",
          "xref": "x",
          "y": "January, 2011",
          "yref": "y"
         },
         {
          "font": {
           "color": "#FFFFFF"
          },
          "showarrow": false,
          "text": "31.3%",
          "x": "Month 9",
          "xref": "x",
          "y": "January, 2011",
          "yref": "y"
         },
         {
          "font": {
           "color": "#FFFFFF"
          },
          "showarrow": false,
          "text": "30.7%",
          "x": "Month 10",
          "xref": "x",
          "y": "January, 2011",
          "yref": "y"
         },
         {
          "font": {
           "color": "#FFFFFF"
          },
          "showarrow": false,
          "text": "37.3%",
          "x": "Month 11",
          "xref": "x",
          "y": "January, 2011",
          "yref": "y"
         },
         {
          "font": {
           "color": "#FFFFFF"
          },
          "showarrow": false,
          "text": "13.6%",
          "x": "Month 12",
          "xref": "x",
          "y": "January, 2011",
          "yref": "y"
         },
         {
          "font": {
           "color": "#FFFFFF"
          },
          "showarrow": false,
          "text": "",
          "x": "Month 13",
          "xref": "x",
          "y": "January, 2011",
          "yref": "y"
         },
         {
          "font": {
           "color": "#000000"
          },
          "showarrow": false,
          "text": "100.0%",
          "x": "Month 1",
          "xref": "x",
          "y": "December, 2010",
          "yref": "y"
         },
         {
          "font": {
           "color": "#FFFFFF"
          },
          "showarrow": false,
          "text": "34.4%",
          "x": "Month 2",
          "xref": "x",
          "y": "December, 2010",
          "yref": "y"
         },
         {
          "font": {
           "color": "#FFFFFF"
          },
          "showarrow": false,
          "text": "30.9%",
          "x": "Month 3",
          "xref": "x",
          "y": "December, 2010",
          "yref": "y"
         },
         {
          "font": {
           "color": "#FFFFFF"
          },
          "showarrow": false,
          "text": "35.1%",
          "x": "Month 4",
          "xref": "x",
          "y": "December, 2010",
          "yref": "y"
         },
         {
          "font": {
           "color": "#FFFFFF"
          },
          "showarrow": false,
          "text": "34.2%",
          "x": "Month 5",
          "xref": "x",
          "y": "December, 2010",
          "yref": "y"
         },
         {
          "font": {
           "color": "#FFFFFF"
          },
          "showarrow": false,
          "text": "39.8%",
          "x": "Month 6",
          "xref": "x",
          "y": "December, 2010",
          "yref": "y"
         },
         {
          "font": {
           "color": "#FFFFFF"
          },
          "showarrow": false,
          "text": "34.8%",
          "x": "Month 7",
          "xref": "x",
          "y": "December, 2010",
          "yref": "y"
         },
         {
          "font": {
           "color": "#FFFFFF"
          },
          "showarrow": false,
          "text": "33.0%",
          "x": "Month 8",
          "xref": "x",
          "y": "December, 2010",
          "yref": "y"
         },
         {
          "font": {
           "color": "#FFFFFF"
          },
          "showarrow": false,
          "text": "33.5%",
          "x": "Month 9",
          "xref": "x",
          "y": "December, 2010",
          "yref": "y"
         },
         {
          "font": {
           "color": "#FFFFFF"
          },
          "showarrow": false,
          "text": "37.0%",
          "x": "Month 10",
          "xref": "x",
          "y": "December, 2010",
          "yref": "y"
         },
         {
          "font": {
           "color": "#FFFFFF"
          },
          "showarrow": false,
          "text": "35.5%",
          "x": "Month 11",
          "xref": "x",
          "y": "December, 2010",
          "yref": "y"
         },
         {
          "font": {
           "color": "#FFFFFF"
          },
          "showarrow": false,
          "text": "48.6%",
          "x": "Month 12",
          "xref": "x",
          "y": "December, 2010",
          "yref": "y"
         },
         {
          "font": {
           "color": "#FFFFFF"
          },
          "showarrow": false,
          "text": "24.0%",
          "x": "Month 13",
          "xref": "x",
          "y": "December, 2010",
          "yref": "y"
         }
        ],
        "font": {
         "color": "rgb(255,255,255)"
        },
        "height": 700,
        "paper_bgcolor": "rgb(0,0,0)",
        "template": {
         "data": {
          "bar": [
           {
            "error_x": {
             "color": "#2a3f5f"
            },
            "error_y": {
             "color": "#2a3f5f"
            },
            "marker": {
             "line": {
              "color": "#E5ECF6",
              "width": 0.5
             },
             "pattern": {
              "fillmode": "overlay",
              "size": 10,
              "solidity": 0.2
             }
            },
            "type": "bar"
           }
          ],
          "barpolar": [
           {
            "marker": {
             "line": {
              "color": "#E5ECF6",
              "width": 0.5
             },
             "pattern": {
              "fillmode": "overlay",
              "size": 10,
              "solidity": 0.2
             }
            },
            "type": "barpolar"
           }
          ],
          "carpet": [
           {
            "aaxis": {
             "endlinecolor": "#2a3f5f",
             "gridcolor": "white",
             "linecolor": "white",
             "minorgridcolor": "white",
             "startlinecolor": "#2a3f5f"
            },
            "baxis": {
             "endlinecolor": "#2a3f5f",
             "gridcolor": "white",
             "linecolor": "white",
             "minorgridcolor": "white",
             "startlinecolor": "#2a3f5f"
            },
            "type": "carpet"
           }
          ],
          "choropleth": [
           {
            "colorbar": {
             "outlinewidth": 0,
             "ticks": ""
            },
            "type": "choropleth"
           }
          ],
          "contour": [
           {
            "colorbar": {
             "outlinewidth": 0,
             "ticks": ""
            },
            "colorscale": [
             [
              0,
              "#0d0887"
             ],
             [
              0.1111111111111111,
              "#46039f"
             ],
             [
              0.2222222222222222,
              "#7201a8"
             ],
             [
              0.3333333333333333,
              "#9c179e"
             ],
             [
              0.4444444444444444,
              "#bd3786"
             ],
             [
              0.5555555555555556,
              "#d8576b"
             ],
             [
              0.6666666666666666,
              "#ed7953"
             ],
             [
              0.7777777777777778,
              "#fb9f3a"
             ],
             [
              0.8888888888888888,
              "#fdca26"
             ],
             [
              1,
              "#f0f921"
             ]
            ],
            "type": "contour"
           }
          ],
          "contourcarpet": [
           {
            "colorbar": {
             "outlinewidth": 0,
             "ticks": ""
            },
            "type": "contourcarpet"
           }
          ],
          "heatmap": [
           {
            "colorbar": {
             "outlinewidth": 0,
             "ticks": ""
            },
            "colorscale": [
             [
              0,
              "#0d0887"
             ],
             [
              0.1111111111111111,
              "#46039f"
             ],
             [
              0.2222222222222222,
              "#7201a8"
             ],
             [
              0.3333333333333333,
              "#9c179e"
             ],
             [
              0.4444444444444444,
              "#bd3786"
             ],
             [
              0.5555555555555556,
              "#d8576b"
             ],
             [
              0.6666666666666666,
              "#ed7953"
             ],
             [
              0.7777777777777778,
              "#fb9f3a"
             ],
             [
              0.8888888888888888,
              "#fdca26"
             ],
             [
              1,
              "#f0f921"
             ]
            ],
            "type": "heatmap"
           }
          ],
          "heatmapgl": [
           {
            "colorbar": {
             "outlinewidth": 0,
             "ticks": ""
            },
            "colorscale": [
             [
              0,
              "#0d0887"
             ],
             [
              0.1111111111111111,
              "#46039f"
             ],
             [
              0.2222222222222222,
              "#7201a8"
             ],
             [
              0.3333333333333333,
              "#9c179e"
             ],
             [
              0.4444444444444444,
              "#bd3786"
             ],
             [
              0.5555555555555556,
              "#d8576b"
             ],
             [
              0.6666666666666666,
              "#ed7953"
             ],
             [
              0.7777777777777778,
              "#fb9f3a"
             ],
             [
              0.8888888888888888,
              "#fdca26"
             ],
             [
              1,
              "#f0f921"
             ]
            ],
            "type": "heatmapgl"
           }
          ],
          "histogram": [
           {
            "marker": {
             "pattern": {
              "fillmode": "overlay",
              "size": 10,
              "solidity": 0.2
             }
            },
            "type": "histogram"
           }
          ],
          "histogram2d": [
           {
            "colorbar": {
             "outlinewidth": 0,
             "ticks": ""
            },
            "colorscale": [
             [
              0,
              "#0d0887"
             ],
             [
              0.1111111111111111,
              "#46039f"
             ],
             [
              0.2222222222222222,
              "#7201a8"
             ],
             [
              0.3333333333333333,
              "#9c179e"
             ],
             [
              0.4444444444444444,
              "#bd3786"
             ],
             [
              0.5555555555555556,
              "#d8576b"
             ],
             [
              0.6666666666666666,
              "#ed7953"
             ],
             [
              0.7777777777777778,
              "#fb9f3a"
             ],
             [
              0.8888888888888888,
              "#fdca26"
             ],
             [
              1,
              "#f0f921"
             ]
            ],
            "type": "histogram2d"
           }
          ],
          "histogram2dcontour": [
           {
            "colorbar": {
             "outlinewidth": 0,
             "ticks": ""
            },
            "colorscale": [
             [
              0,
              "#0d0887"
             ],
             [
              0.1111111111111111,
              "#46039f"
             ],
             [
              0.2222222222222222,
              "#7201a8"
             ],
             [
              0.3333333333333333,
              "#9c179e"
             ],
             [
              0.4444444444444444,
              "#bd3786"
             ],
             [
              0.5555555555555556,
              "#d8576b"
             ],
             [
              0.6666666666666666,
              "#ed7953"
             ],
             [
              0.7777777777777778,
              "#fb9f3a"
             ],
             [
              0.8888888888888888,
              "#fdca26"
             ],
             [
              1,
              "#f0f921"
             ]
            ],
            "type": "histogram2dcontour"
           }
          ],
          "mesh3d": [
           {
            "colorbar": {
             "outlinewidth": 0,
             "ticks": ""
            },
            "type": "mesh3d"
           }
          ],
          "parcoords": [
           {
            "line": {
             "colorbar": {
              "outlinewidth": 0,
              "ticks": ""
             }
            },
            "type": "parcoords"
           }
          ],
          "pie": [
           {
            "automargin": true,
            "type": "pie"
           }
          ],
          "scatter": [
           {
            "fillpattern": {
             "fillmode": "overlay",
             "size": 10,
             "solidity": 0.2
            },
            "type": "scatter"
           }
          ],
          "scatter3d": [
           {
            "line": {
             "colorbar": {
              "outlinewidth": 0,
              "ticks": ""
             }
            },
            "marker": {
             "colorbar": {
              "outlinewidth": 0,
              "ticks": ""
             }
            },
            "type": "scatter3d"
           }
          ],
          "scattercarpet": [
           {
            "marker": {
             "colorbar": {
              "outlinewidth": 0,
              "ticks": ""
             }
            },
            "type": "scattercarpet"
           }
          ],
          "scattergeo": [
           {
            "marker": {
             "colorbar": {
              "outlinewidth": 0,
              "ticks": ""
             }
            },
            "type": "scattergeo"
           }
          ],
          "scattergl": [
           {
            "marker": {
             "colorbar": {
              "outlinewidth": 0,
              "ticks": ""
             }
            },
            "type": "scattergl"
           }
          ],
          "scattermapbox": [
           {
            "marker": {
             "colorbar": {
              "outlinewidth": 0,
              "ticks": ""
             }
            },
            "type": "scattermapbox"
           }
          ],
          "scatterpolar": [
           {
            "marker": {
             "colorbar": {
              "outlinewidth": 0,
              "ticks": ""
             }
            },
            "type": "scatterpolar"
           }
          ],
          "scatterpolargl": [
           {
            "marker": {
             "colorbar": {
              "outlinewidth": 0,
              "ticks": ""
             }
            },
            "type": "scatterpolargl"
           }
          ],
          "scatterternary": [
           {
            "marker": {
             "colorbar": {
              "outlinewidth": 0,
              "ticks": ""
             }
            },
            "type": "scatterternary"
           }
          ],
          "surface": [
           {
            "colorbar": {
             "outlinewidth": 0,
             "ticks": ""
            },
            "colorscale": [
             [
              0,
              "#0d0887"
             ],
             [
              0.1111111111111111,
              "#46039f"
             ],
             [
              0.2222222222222222,
              "#7201a8"
             ],
             [
              0.3333333333333333,
              "#9c179e"
             ],
             [
              0.4444444444444444,
              "#bd3786"
             ],
             [
              0.5555555555555556,
              "#d8576b"
             ],
             [
              0.6666666666666666,
              "#ed7953"
             ],
             [
              0.7777777777777778,
              "#fb9f3a"
             ],
             [
              0.8888888888888888,
              "#fdca26"
             ],
             [
              1,
              "#f0f921"
             ]
            ],
            "type": "surface"
           }
          ],
          "table": [
           {
            "cells": {
             "fill": {
              "color": "#EBF0F8"
             },
             "line": {
              "color": "white"
             }
            },
            "header": {
             "fill": {
              "color": "#C8D4E3"
             },
             "line": {
              "color": "white"
             }
            },
            "type": "table"
           }
          ]
         },
         "layout": {
          "annotationdefaults": {
           "arrowcolor": "#2a3f5f",
           "arrowhead": 0,
           "arrowwidth": 1
          },
          "autotypenumbers": "strict",
          "coloraxis": {
           "colorbar": {
            "outlinewidth": 0,
            "ticks": ""
           }
          },
          "colorscale": {
           "diverging": [
            [
             0,
             "#8e0152"
            ],
            [
             0.1,
             "#c51b7d"
            ],
            [
             0.2,
             "#de77ae"
            ],
            [
             0.3,
             "#f1b6da"
            ],
            [
             0.4,
             "#fde0ef"
            ],
            [
             0.5,
             "#f7f7f7"
            ],
            [
             0.6,
             "#e6f5d0"
            ],
            [
             0.7,
             "#b8e186"
            ],
            [
             0.8,
             "#7fbc41"
            ],
            [
             0.9,
             "#4d9221"
            ],
            [
             1,
             "#276419"
            ]
           ],
           "sequential": [
            [
             0,
             "#0d0887"
            ],
            [
             0.1111111111111111,
             "#46039f"
            ],
            [
             0.2222222222222222,
             "#7201a8"
            ],
            [
             0.3333333333333333,
             "#9c179e"
            ],
            [
             0.4444444444444444,
             "#bd3786"
            ],
            [
             0.5555555555555556,
             "#d8576b"
            ],
            [
             0.6666666666666666,
             "#ed7953"
            ],
            [
             0.7777777777777778,
             "#fb9f3a"
            ],
            [
             0.8888888888888888,
             "#fdca26"
            ],
            [
             1,
             "#f0f921"
            ]
           ],
           "sequentialminus": [
            [
             0,
             "#0d0887"
            ],
            [
             0.1111111111111111,
             "#46039f"
            ],
            [
             0.2222222222222222,
             "#7201a8"
            ],
            [
             0.3333333333333333,
             "#9c179e"
            ],
            [
             0.4444444444444444,
             "#bd3786"
            ],
            [
             0.5555555555555556,
             "#d8576b"
            ],
            [
             0.6666666666666666,
             "#ed7953"
            ],
            [
             0.7777777777777778,
             "#fb9f3a"
            ],
            [
             0.8888888888888888,
             "#fdca26"
            ],
            [
             1,
             "#f0f921"
            ]
           ]
          },
          "colorway": [
           "#636efa",
           "#EF553B",
           "#00cc96",
           "#ab63fa",
           "#FFA15A",
           "#19d3f3",
           "#FF6692",
           "#B6E880",
           "#FF97FF",
           "#FECB52"
          ],
          "font": {
           "color": "#2a3f5f"
          },
          "geo": {
           "bgcolor": "white",
           "lakecolor": "white",
           "landcolor": "#E5ECF6",
           "showlakes": true,
           "showland": true,
           "subunitcolor": "white"
          },
          "hoverlabel": {
           "align": "left"
          },
          "hovermode": "closest",
          "mapbox": {
           "style": "light"
          },
          "paper_bgcolor": "white",
          "plot_bgcolor": "#E5ECF6",
          "polar": {
           "angularaxis": {
            "gridcolor": "white",
            "linecolor": "white",
            "ticks": ""
           },
           "bgcolor": "#E5ECF6",
           "radialaxis": {
            "gridcolor": "white",
            "linecolor": "white",
            "ticks": ""
           }
          },
          "scene": {
           "xaxis": {
            "backgroundcolor": "#E5ECF6",
            "gridcolor": "white",
            "gridwidth": 2,
            "linecolor": "white",
            "showbackground": true,
            "ticks": "",
            "zerolinecolor": "white"
           },
           "yaxis": {
            "backgroundcolor": "#E5ECF6",
            "gridcolor": "white",
            "gridwidth": 2,
            "linecolor": "white",
            "showbackground": true,
            "ticks": "",
            "zerolinecolor": "white"
           },
           "zaxis": {
            "backgroundcolor": "#E5ECF6",
            "gridcolor": "white",
            "gridwidth": 2,
            "linecolor": "white",
            "showbackground": true,
            "ticks": "",
            "zerolinecolor": "white"
           }
          },
          "shapedefaults": {
           "line": {
            "color": "#2a3f5f"
           }
          },
          "ternary": {
           "aaxis": {
            "gridcolor": "white",
            "linecolor": "white",
            "ticks": ""
           },
           "baxis": {
            "gridcolor": "white",
            "linecolor": "white",
            "ticks": ""
           },
           "bgcolor": "#E5ECF6",
           "caxis": {
            "gridcolor": "white",
            "linecolor": "white",
            "ticks": ""
           }
          },
          "title": {
           "x": 0.05
          },
          "xaxis": {
           "automargin": true,
           "gridcolor": "white",
           "linecolor": "white",
           "ticks": "",
           "title": {
            "standoff": 15
           },
           "zerolinecolor": "white",
           "zerolinewidth": 2
          },
          "yaxis": {
           "automargin": true,
           "gridcolor": "white",
           "linecolor": "white",
           "ticks": "",
           "title": {
            "standoff": 15
           },
           "zerolinecolor": "white",
           "zerolinewidth": 2
          }
         }
        },
        "title": {
         "text": "User Retention Rate by Cohort: Heatmap"
        },
        "width": 1000,
        "xaxis": {
         "dtick": 1,
         "gridcolor": "rgb(0, 0, 0)",
         "side": "top",
         "ticks": "",
         "title": {
          "text": "# Periods Elapsed"
         }
        },
        "yaxis": {
         "dtick": 1,
         "ticks": "",
         "ticksuffix": "  "
        }
       }
      }
     },
     "metadata": {},
     "output_type": "display_data"
    }
   ],
   "source": [
    "def plot_cohorts_heatmap(dataframe: pd.DataFrame) -> plt.Figure:\n",
    "    cohort_size = dataframe.iloc[:,0]\n",
    "    dataframe = dataframe.divide(\n",
    "        other=cohort_size\n",
    "        ,axis=0\n",
    "    )[::-1].fillna(0)\n",
    "    ylabel = [str(dt.date(int(i.split('-')[0]), int(i.split('-')[1]), int(i.split('-')[2])).strftime(format='%B, %Y')) for i in dataframe.index]\n",
    "\n",
    "    fig = ff.create_annotated_heatmap(\n",
    "        z = dataframe.values\n",
    "        , annotation_text = dataframe.map(lambda x: '{:.1%}'.format(x) if x > 0 else '').values.tolist()\n",
    "        , y = ylabel\n",
    "        , x = ['Month '+ str(int(i)+1) for i in dataframe.columns]\n",
    "        , showscale = True\n",
    "    )\n",
    "\n",
    "    fig.update_layout(\n",
    "        width=1000\n",
    "        , height=700\n",
    "        , xaxis={\"title\": \"# Periods Elapsed\"}\n",
    "        , font_color = 'rgb(255,255,255)'\n",
    "        , title=\"User Retention Rate by Cohort: Heatmap\"\n",
    "        , paper_bgcolor='rgb(0,0,0)'\n",
    "    )\n",
    "\n",
    "    fig.show()\n",
    "\n",
    "plot_cohorts_heatmap(cohort_counts)"
   ]
  },
  {
   "cell_type": "markdown",
   "metadata": {},
   "source": [
    "# II. Case Study \n",
    "Customer Segmentation by Cohort Analysis"
   ]
  }
 ],
 "metadata": {
  "kernelspec": {
   "display_name": "python311",
   "language": "python",
   "name": "python3"
  },
  "language_info": {
   "codemirror_mode": {
    "name": "ipython",
    "version": 3
   },
   "file_extension": ".py",
   "mimetype": "text/x-python",
   "name": "python",
   "nbconvert_exporter": "python",
   "pygments_lexer": "ipython3",
   "version": "3.11.9"
  }
 },
 "nbformat": 4,
 "nbformat_minor": 2
}
