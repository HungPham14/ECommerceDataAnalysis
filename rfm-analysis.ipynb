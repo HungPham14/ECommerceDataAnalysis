{
 "cells": [
  {
   "cell_type": "markdown",
   "metadata": {},
   "source": [
    "# RFM Customer Segmentation Project"
   ]
  },
  {
   "cell_type": "markdown",
   "metadata": {},
   "source": [
    "RFM (Recency, Frequency, and Monetary) analysis is a popular method for customer segmentation that helps businesses understand customer behavior and target them more effectively. It's used primarily to evaluate customer value and predict future purchasing behavior by analyzing three key aspects:\n",
    "\n",
    "- Recency (days): Measures how recent was each customer's last purchase\n",
    "- Frequency (invoices): Measures how many purchases the customer has done in the recorded period (in this case 12-month)\n",
    "- Monetary (sterling): How much money a customer spends in the recorded period (in this case 12-month). Customers who spend more are considered high-value and should be prioritized in retention and upselling strategies."
   ]
  },
  {
   "cell_type": "markdown",
   "metadata": {},
   "source": [
    "## Data Dictionary"
   ]
  },
  {
   "cell_type": "markdown",
   "metadata": {},
   "source": [
    "UCI Online Retail Dataset\n",
    "\n",
    "This is a transnational data set which contains all the transactions occurring from December 1st 2010 until December 9th 2011 for a UK-based and registered non-store online retail.The company mainly sells unique all-occasion gifts. Many customers of the company are wholesalers. Each row represents the transaction that occurs. It includes the product name, quantity, price, and other columns that represents ID.\n",
    "\n",
    "Source: http://archive.ics.uci.edu/ml/datasets/Online+Retail (Dr Daqing Chen, Director: Public Analytics group. chend '@' lsbu.ac.uk, School of Engineering, London South Bank University, London SE1 0AA, UK.)"
   ]
  },
  {
   "cell_type": "code",
   "execution_count": 1,
   "metadata": {},
   "outputs": [
    {
     "data": {
      "text/html": [
       "<div>\n",
       "<style scoped>\n",
       "    .dataframe tbody tr th:only-of-type {\n",
       "        vertical-align: middle;\n",
       "    }\n",
       "\n",
       "    .dataframe tbody tr th {\n",
       "        vertical-align: top;\n",
       "    }\n",
       "\n",
       "    .dataframe thead th {\n",
       "        text-align: right;\n",
       "    }\n",
       "</style>\n",
       "<table border=\"1\" class=\"dataframe\">\n",
       "  <thead>\n",
       "    <tr style=\"text-align: right;\">\n",
       "      <th></th>\n",
       "      <th>Column Name</th>\n",
       "      <th>Description</th>\n",
       "      <th>Data Type</th>\n",
       "    </tr>\n",
       "  </thead>\n",
       "  <tbody>\n",
       "    <tr>\n",
       "      <th>0</th>\n",
       "      <td>InvoiceNo</td>\n",
       "      <td>Invoice number.If this code starts with letter \"c\", it indicates a cancellation.</td>\n",
       "      <td>Nominal, a 6-digit integral number uniquely assigned to each transaction</td>\n",
       "    </tr>\n",
       "    <tr>\n",
       "      <th>1</th>\n",
       "      <td>StockCode</td>\n",
       "      <td>Product (item) code</td>\n",
       "      <td>Nominal, a 5-digit integral number uniquely assigned to each distinct product</td>\n",
       "    </tr>\n",
       "    <tr>\n",
       "      <th>2</th>\n",
       "      <td>Description</td>\n",
       "      <td>Product (item) name.</td>\n",
       "      <td>Nominal</td>\n",
       "    </tr>\n",
       "    <tr>\n",
       "      <th>3</th>\n",
       "      <td>Quantity</td>\n",
       "      <td>The quantities of each product (item) per transaction.</td>\n",
       "      <td>Numeric</td>\n",
       "    </tr>\n",
       "    <tr>\n",
       "      <th>4</th>\n",
       "      <td>InvoiceDate</td>\n",
       "      <td>Invice Date and time</td>\n",
       "      <td>Numeric, the day and time when each transaction was generated</td>\n",
       "    </tr>\n",
       "    <tr>\n",
       "      <th>5</th>\n",
       "      <td>UnitPrice</td>\n",
       "      <td>Unit price</td>\n",
       "      <td>Numeric, Product price per unit in sterling</td>\n",
       "    </tr>\n",
       "    <tr>\n",
       "      <th>6</th>\n",
       "      <td>CustomerID</td>\n",
       "      <td>Customer number</td>\n",
       "      <td>Nominal, a 5-digit integral number uniquely assigned to each customer</td>\n",
       "    </tr>\n",
       "    <tr>\n",
       "      <th>7</th>\n",
       "      <td>Country</td>\n",
       "      <td>Country name</td>\n",
       "      <td>Nominal, the name of the country where each customer reside</td>\n",
       "    </tr>\n",
       "  </tbody>\n",
       "</table>\n",
       "</div>"
      ],
      "text/plain": [
       "   Column Name  \\\n",
       "0    InvoiceNo   \n",
       "1    StockCode   \n",
       "2  Description   \n",
       "3     Quantity   \n",
       "4  InvoiceDate   \n",
       "5    UnitPrice   \n",
       "6   CustomerID   \n",
       "7      Country   \n",
       "\n",
       "                                                                        Description  \\\n",
       "0  Invoice number.If this code starts with letter \"c\", it indicates a cancellation.   \n",
       "1                                                               Product (item) code   \n",
       "2                                                              Product (item) name.   \n",
       "3                            The quantities of each product (item) per transaction.   \n",
       "4                                                              Invice Date and time   \n",
       "5                                                                        Unit price   \n",
       "6                                                                   Customer number   \n",
       "7                                                                      Country name   \n",
       "\n",
       "                                                                       Data Type  \n",
       "0       Nominal, a 6-digit integral number uniquely assigned to each transaction  \n",
       "1  Nominal, a 5-digit integral number uniquely assigned to each distinct product  \n",
       "2                                                                        Nominal  \n",
       "3                                                                        Numeric  \n",
       "4                  Numeric, the day and time when each transaction was generated  \n",
       "5                                    Numeric, Product price per unit in sterling  \n",
       "6          Nominal, a 5-digit integral number uniquely assigned to each customer  \n",
       "7                    Nominal, the name of the country where each customer reside  "
      ]
     },
     "execution_count": 1,
     "metadata": {},
     "output_type": "execute_result"
    }
   ],
   "source": [
    "import pandas as pd\n",
    "# Show all columns and rows\n",
    "pd.set_option('display.max_columns', None)\n",
    "pd.set_option('display.max_rows', None)\n",
    "pd.set_option('display.max_colwidth', 1000)\n",
    "\n",
    "# Data Description for each column\n",
    "column_description = pd.DataFrame({\n",
    "    'Column Name':['InvoiceNo','StockCode','Description','Quantity','InvoiceDate','UnitPrice','CustomerID','Country']\n",
    "    ,'Description':[\n",
    "        'Invoice number.If this code starts with letter \"c\", it indicates a cancellation.'\n",
    "        ,'Product (item) code'\n",
    "        ,'Product (item) name.'\n",
    "        ,'The quantities of each product (item) per transaction.'\n",
    "        ,'Invice Date and time'\n",
    "        ,'Unit price'\n",
    "        ,'Customer number'\n",
    "        ,'Country name'\n",
    "    ]\n",
    "    ,'Data Type':[\n",
    "        'Nominal, a 6-digit integral number uniquely assigned to each transaction'\n",
    "        ,'Nominal, a 5-digit integral number uniquely assigned to each distinct product'\n",
    "        ,'Nominal'\n",
    "        ,'Numeric'\n",
    "        ,'Numeric, the day and time when each transaction was generated'\n",
    "        ,'Numeric, Product price per unit in sterling'\n",
    "        ,'Nominal, a 5-digit integral number uniquely assigned to each customer'\n",
    "        ,'Nominal, the name of the country where each customer reside'\n",
    "    ]\n",
    "})\n",
    "column_description"
   ]
  },
  {
   "cell_type": "markdown",
   "metadata": {},
   "source": [
    "# I. Data Validation"
   ]
  },
  {
   "cell_type": "markdown",
   "metadata": {},
   "source": [
    "This process involves checking for errors, inconsistencies, and missing values in the data to ensures the accuracy, quality, and integrity of the data by checking duplicates, missing data, structural errors, outliers of the dataset.\n",
    "\n",
    "Data Validation is necessary to produce clean and reliable data that is ready for analysis or further processing."
   ]
  },
  {
   "cell_type": "markdown",
   "metadata": {},
   "source": [
    "## 1.1. Import the necessary libraries"
   ]
  },
  {
   "cell_type": "code",
   "execution_count": 2,
   "metadata": {},
   "outputs": [],
   "source": [
    "import pandas as pd # data processing, CSV file I/O (e.g. pd.read_csv)\n",
    "import numpy as np # linear algebra\n",
    "\n",
    "# data visualization\n",
    "import matplotlib.pyplot as plt \n",
    "import seaborn as sns \n",
    "import matplotlib.gridspec as gridspec \n",
    "import plotly.graph_objects as go \n",
    "import squarify\n",
    "\n",
    "import datetime as dt # datetime manipulation\n",
    "from scipy.stats import skew # calculating skewness\n",
    "\n",
    "# display full outputs in Jupyter Notebook, not only the last command's output\n",
    "from IPython.core.interactiveshell import InteractiveShell\n",
    "InteractiveShell.ast_node_interactivity = \"all\""
   ]
  },
  {
   "cell_type": "markdown",
   "metadata": {},
   "source": [
    "## 1.2. Load the dataset"
   ]
  },
  {
   "cell_type": "code",
   "execution_count": 3,
   "metadata": {},
   "outputs": [
    {
     "data": {
      "text/html": [
       "<div>\n",
       "<style scoped>\n",
       "    .dataframe tbody tr th:only-of-type {\n",
       "        vertical-align: middle;\n",
       "    }\n",
       "\n",
       "    .dataframe tbody tr th {\n",
       "        vertical-align: top;\n",
       "    }\n",
       "\n",
       "    .dataframe thead th {\n",
       "        text-align: right;\n",
       "    }\n",
       "</style>\n",
       "<table border=\"1\" class=\"dataframe\">\n",
       "  <thead>\n",
       "    <tr style=\"text-align: right;\">\n",
       "      <th></th>\n",
       "      <th>InvoiceNo</th>\n",
       "      <th>StockCode</th>\n",
       "      <th>Description</th>\n",
       "      <th>Quantity</th>\n",
       "      <th>InvoiceDate</th>\n",
       "      <th>UnitPrice</th>\n",
       "      <th>CustomerID</th>\n",
       "      <th>Country</th>\n",
       "    </tr>\n",
       "  </thead>\n",
       "  <tbody>\n",
       "    <tr>\n",
       "      <th>0</th>\n",
       "      <td>536365</td>\n",
       "      <td>85123A</td>\n",
       "      <td>WHITE HANGING HEART T-LIGHT HOLDER</td>\n",
       "      <td>6</td>\n",
       "      <td>12/1/2010 8:26</td>\n",
       "      <td>2.55</td>\n",
       "      <td>17850.0</td>\n",
       "      <td>United Kingdom</td>\n",
       "    </tr>\n",
       "    <tr>\n",
       "      <th>1</th>\n",
       "      <td>536365</td>\n",
       "      <td>71053</td>\n",
       "      <td>WHITE METAL LANTERN</td>\n",
       "      <td>6</td>\n",
       "      <td>12/1/2010 8:26</td>\n",
       "      <td>3.39</td>\n",
       "      <td>17850.0</td>\n",
       "      <td>United Kingdom</td>\n",
       "    </tr>\n",
       "    <tr>\n",
       "      <th>2</th>\n",
       "      <td>536365</td>\n",
       "      <td>84406B</td>\n",
       "      <td>CREAM CUPID HEARTS COAT HANGER</td>\n",
       "      <td>8</td>\n",
       "      <td>12/1/2010 8:26</td>\n",
       "      <td>2.75</td>\n",
       "      <td>17850.0</td>\n",
       "      <td>United Kingdom</td>\n",
       "    </tr>\n",
       "    <tr>\n",
       "      <th>3</th>\n",
       "      <td>536365</td>\n",
       "      <td>84029G</td>\n",
       "      <td>KNITTED UNION FLAG HOT WATER BOTTLE</td>\n",
       "      <td>6</td>\n",
       "      <td>12/1/2010 8:26</td>\n",
       "      <td>3.39</td>\n",
       "      <td>17850.0</td>\n",
       "      <td>United Kingdom</td>\n",
       "    </tr>\n",
       "    <tr>\n",
       "      <th>4</th>\n",
       "      <td>536365</td>\n",
       "      <td>84029E</td>\n",
       "      <td>RED WOOLLY HOTTIE WHITE HEART.</td>\n",
       "      <td>6</td>\n",
       "      <td>12/1/2010 8:26</td>\n",
       "      <td>3.39</td>\n",
       "      <td>17850.0</td>\n",
       "      <td>United Kingdom</td>\n",
       "    </tr>\n",
       "  </tbody>\n",
       "</table>\n",
       "</div>"
      ],
      "text/plain": [
       "  InvoiceNo StockCode                          Description  Quantity  \\\n",
       "0    536365    85123A   WHITE HANGING HEART T-LIGHT HOLDER         6   \n",
       "1    536365     71053                  WHITE METAL LANTERN         6   \n",
       "2    536365    84406B       CREAM CUPID HEARTS COAT HANGER         8   \n",
       "3    536365    84029G  KNITTED UNION FLAG HOT WATER BOTTLE         6   \n",
       "4    536365    84029E       RED WOOLLY HOTTIE WHITE HEART.         6   \n",
       "\n",
       "      InvoiceDate  UnitPrice  CustomerID         Country  \n",
       "0  12/1/2010 8:26       2.55     17850.0  United Kingdom  \n",
       "1  12/1/2010 8:26       3.39     17850.0  United Kingdom  \n",
       "2  12/1/2010 8:26       2.75     17850.0  United Kingdom  \n",
       "3  12/1/2010 8:26       3.39     17850.0  United Kingdom  \n",
       "4  12/1/2010 8:26       3.39     17850.0  United Kingdom  "
      ]
     },
     "execution_count": 3,
     "metadata": {},
     "output_type": "execute_result"
    }
   ],
   "source": [
    "# read the data\n",
    "ecommerce_data = pd.read_csv(r'data\\\\E-Commerce Data.csv', encoding='ISO-8859-1')\n",
    "ecommerce_data.head()"
   ]
  },
  {
   "cell_type": "markdown",
   "metadata": {},
   "source": [
    "## 1.3. Removing Duplicates"
   ]
  },
  {
   "cell_type": "code",
   "execution_count": 4,
   "metadata": {},
   "outputs": [
    {
     "name": "stdout",
     "output_type": "stream",
     "text": [
      "Number of duplicated rows: 5268\n"
     ]
    }
   ],
   "source": [
    "print(f'Number of duplicated rows: {ecommerce_data.duplicated().sum()}')"
   ]
  },
  {
   "cell_type": "code",
   "execution_count": 5,
   "metadata": {},
   "outputs": [
    {
     "data": {
      "text/plain": [
       "InvoiceNo                           536409\n",
       "StockCode                            21866\n",
       "Description    UNION JACK FLAG LUGGAGE TAG\n",
       "Quantity                                 1\n",
       "InvoiceDate                12/1/2010 11:45\n",
       "UnitPrice                             1.25\n",
       "CustomerID                         17908.0\n",
       "Country                     United Kingdom\n",
       "Name: 517, dtype: object"
      ]
     },
     "execution_count": 5,
     "metadata": {},
     "output_type": "execute_result"
    }
   ],
   "source": [
    "# duplicate sample row\n",
    "ecommerce_data[ecommerce_data.duplicated()].iloc[0]"
   ]
  },
  {
   "cell_type": "code",
   "execution_count": 6,
   "metadata": {},
   "outputs": [
    {
     "data": {
      "text/html": [
       "<div>\n",
       "<style scoped>\n",
       "    .dataframe tbody tr th:only-of-type {\n",
       "        vertical-align: middle;\n",
       "    }\n",
       "\n",
       "    .dataframe tbody tr th {\n",
       "        vertical-align: top;\n",
       "    }\n",
       "\n",
       "    .dataframe thead th {\n",
       "        text-align: right;\n",
       "    }\n",
       "</style>\n",
       "<table border=\"1\" class=\"dataframe\">\n",
       "  <thead>\n",
       "    <tr style=\"text-align: right;\">\n",
       "      <th></th>\n",
       "      <th>InvoiceNo</th>\n",
       "      <th>StockCode</th>\n",
       "      <th>Description</th>\n",
       "      <th>Quantity</th>\n",
       "      <th>InvoiceDate</th>\n",
       "      <th>UnitPrice</th>\n",
       "      <th>CustomerID</th>\n",
       "      <th>Country</th>\n",
       "    </tr>\n",
       "  </thead>\n",
       "  <tbody>\n",
       "    <tr>\n",
       "      <th>494</th>\n",
       "      <td>536409</td>\n",
       "      <td>21866</td>\n",
       "      <td>UNION JACK FLAG LUGGAGE TAG</td>\n",
       "      <td>1</td>\n",
       "      <td>12/1/2010 11:45</td>\n",
       "      <td>1.25</td>\n",
       "      <td>17908.0</td>\n",
       "      <td>United Kingdom</td>\n",
       "    </tr>\n",
       "    <tr>\n",
       "      <th>517</th>\n",
       "      <td>536409</td>\n",
       "      <td>21866</td>\n",
       "      <td>UNION JACK FLAG LUGGAGE TAG</td>\n",
       "      <td>1</td>\n",
       "      <td>12/1/2010 11:45</td>\n",
       "      <td>1.25</td>\n",
       "      <td>17908.0</td>\n",
       "      <td>United Kingdom</td>\n",
       "    </tr>\n",
       "  </tbody>\n",
       "</table>\n",
       "</div>"
      ],
      "text/plain": [
       "    InvoiceNo StockCode                  Description  Quantity  \\\n",
       "494    536409     21866  UNION JACK FLAG LUGGAGE TAG         1   \n",
       "517    536409     21866  UNION JACK FLAG LUGGAGE TAG         1   \n",
       "\n",
       "         InvoiceDate  UnitPrice  CustomerID         Country  \n",
       "494  12/1/2010 11:45       1.25     17908.0  United Kingdom  \n",
       "517  12/1/2010 11:45       1.25     17908.0  United Kingdom  "
      ]
     },
     "execution_count": 6,
     "metadata": {},
     "output_type": "execute_result"
    }
   ],
   "source": [
    "ecommerce_data[(ecommerce_data['InvoiceNo'] == '536409') & (ecommerce_data['StockCode'] == '21866')]"
   ]
  },
  {
   "cell_type": "markdown",
   "metadata": {},
   "source": [
    "Those duplicated records can skew our analysis. Therefore, let's drop these records."
   ]
  },
  {
   "cell_type": "code",
   "execution_count": 7,
   "metadata": {},
   "outputs": [
    {
     "name": "stdout",
     "output_type": "stream",
     "text": [
      "Number of duplicated rows: 0\n"
     ]
    }
   ],
   "source": [
    "ecommerce_data.drop_duplicates(inplace=True)\n",
    "print(f'Number of duplicated rows: {ecommerce_data.duplicated().sum()}')"
   ]
  },
  {
   "cell_type": "markdown",
   "metadata": {},
   "source": [
    "## 1.4. Handling Missing Data"
   ]
  },
  {
   "cell_type": "code",
   "execution_count": 8,
   "metadata": {},
   "outputs": [
    {
     "data": {
      "text/html": [
       "<div>\n",
       "<style scoped>\n",
       "    .dataframe tbody tr th:only-of-type {\n",
       "        vertical-align: middle;\n",
       "    }\n",
       "\n",
       "    .dataframe tbody tr th {\n",
       "        vertical-align: top;\n",
       "    }\n",
       "\n",
       "    .dataframe thead th {\n",
       "        text-align: right;\n",
       "    }\n",
       "</style>\n",
       "<table border=\"1\" class=\"dataframe\">\n",
       "  <thead>\n",
       "    <tr style=\"text-align: right;\">\n",
       "      <th></th>\n",
       "      <th>total</th>\n",
       "      <th>percent</th>\n",
       "    </tr>\n",
       "  </thead>\n",
       "  <tbody>\n",
       "    <tr>\n",
       "      <th>InvoiceNo</th>\n",
       "      <td>0</td>\n",
       "      <td>0.000000</td>\n",
       "    </tr>\n",
       "    <tr>\n",
       "      <th>StockCode</th>\n",
       "      <td>0</td>\n",
       "      <td>0.000000</td>\n",
       "    </tr>\n",
       "    <tr>\n",
       "      <th>Description</th>\n",
       "      <td>1454</td>\n",
       "      <td>0.270945</td>\n",
       "    </tr>\n",
       "    <tr>\n",
       "      <th>Quantity</th>\n",
       "      <td>0</td>\n",
       "      <td>0.000000</td>\n",
       "    </tr>\n",
       "    <tr>\n",
       "      <th>InvoiceDate</th>\n",
       "      <td>0</td>\n",
       "      <td>0.000000</td>\n",
       "    </tr>\n",
       "    <tr>\n",
       "      <th>UnitPrice</th>\n",
       "      <td>0</td>\n",
       "      <td>0.000000</td>\n",
       "    </tr>\n",
       "    <tr>\n",
       "      <th>CustomerID</th>\n",
       "      <td>135037</td>\n",
       "      <td>25.163377</td>\n",
       "    </tr>\n",
       "    <tr>\n",
       "      <th>Country</th>\n",
       "      <td>0</td>\n",
       "      <td>0.000000</td>\n",
       "    </tr>\n",
       "  </tbody>\n",
       "</table>\n",
       "</div>"
      ],
      "text/plain": [
       "              total    percent\n",
       "InvoiceNo         0   0.000000\n",
       "StockCode         0   0.000000\n",
       "Description    1454   0.270945\n",
       "Quantity          0   0.000000\n",
       "InvoiceDate       0   0.000000\n",
       "UnitPrice         0   0.000000\n",
       "CustomerID   135037  25.163377\n",
       "Country           0   0.000000"
      ]
     },
     "execution_count": 8,
     "metadata": {},
     "output_type": "execute_result"
    }
   ],
   "source": [
    "missing_data = ecommerce_data.isnull().sum().to_frame().rename(columns={0: 'total'})\n",
    "missing_data['percent'] = (missing_data['total'] / ecommerce_data.shape[0]) * 100   \n",
    "missing_data"
   ]
  },
  {
   "cell_type": "markdown",
   "metadata": {},
   "source": [
    "CustomerID has the highest null value taking up to 25% of total records, we can try:\n",
    "1. Drop all null value rows\n",
    "2. Try to find ways to fill those Nan values\n",
    "\n",
    "With option 2 in mind, I have a theory to fill in values. For example, InvoiceNo A has CustomerID A and Customer null, I can replace these NaN CustomerID with existing CustomerID A since it's just missing input error. \n",
    "\n",
    "If option 2 failed, I will do option 1 which is dropping all null value rows for further analysis."
   ]
  },
  {
   "cell_type": "code",
   "execution_count": 9,
   "metadata": {},
   "outputs": [
    {
     "data": {
      "text/plain": [
       "(135037, 8)"
      ]
     },
     "execution_count": 9,
     "metadata": {},
     "output_type": "execute_result"
    },
    {
     "data": {
      "text/html": [
       "<div>\n",
       "<style scoped>\n",
       "    .dataframe tbody tr th:only-of-type {\n",
       "        vertical-align: middle;\n",
       "    }\n",
       "\n",
       "    .dataframe tbody tr th {\n",
       "        vertical-align: top;\n",
       "    }\n",
       "\n",
       "    .dataframe thead th {\n",
       "        text-align: right;\n",
       "    }\n",
       "</style>\n",
       "<table border=\"1\" class=\"dataframe\">\n",
       "  <thead>\n",
       "    <tr style=\"text-align: right;\">\n",
       "      <th></th>\n",
       "      <th>InvoiceNo</th>\n",
       "      <th>StockCode</th>\n",
       "      <th>Description</th>\n",
       "      <th>Quantity</th>\n",
       "      <th>InvoiceDate</th>\n",
       "      <th>UnitPrice</th>\n",
       "      <th>CustomerID</th>\n",
       "      <th>Country</th>\n",
       "    </tr>\n",
       "  </thead>\n",
       "  <tbody>\n",
       "    <tr>\n",
       "      <th>0</th>\n",
       "      <td>536414</td>\n",
       "      <td>22139</td>\n",
       "      <td>NaN</td>\n",
       "      <td>56</td>\n",
       "      <td>12/1/2010 11:52</td>\n",
       "      <td>0.00</td>\n",
       "      <td>NaN</td>\n",
       "      <td>United Kingdom</td>\n",
       "    </tr>\n",
       "    <tr>\n",
       "      <th>1</th>\n",
       "      <td>536544</td>\n",
       "      <td>21773</td>\n",
       "      <td>DECORATIVE ROSE BATHROOM BOTTLE</td>\n",
       "      <td>1</td>\n",
       "      <td>12/1/2010 14:32</td>\n",
       "      <td>2.51</td>\n",
       "      <td>NaN</td>\n",
       "      <td>United Kingdom</td>\n",
       "    </tr>\n",
       "    <tr>\n",
       "      <th>2</th>\n",
       "      <td>536544</td>\n",
       "      <td>21774</td>\n",
       "      <td>DECORATIVE CATS BATHROOM BOTTLE</td>\n",
       "      <td>2</td>\n",
       "      <td>12/1/2010 14:32</td>\n",
       "      <td>2.51</td>\n",
       "      <td>NaN</td>\n",
       "      <td>United Kingdom</td>\n",
       "    </tr>\n",
       "    <tr>\n",
       "      <th>3</th>\n",
       "      <td>536544</td>\n",
       "      <td>21786</td>\n",
       "      <td>POLKADOT RAIN HAT</td>\n",
       "      <td>4</td>\n",
       "      <td>12/1/2010 14:32</td>\n",
       "      <td>0.85</td>\n",
       "      <td>NaN</td>\n",
       "      <td>United Kingdom</td>\n",
       "    </tr>\n",
       "    <tr>\n",
       "      <th>4</th>\n",
       "      <td>536544</td>\n",
       "      <td>21787</td>\n",
       "      <td>RAIN PONCHO RETROSPOT</td>\n",
       "      <td>2</td>\n",
       "      <td>12/1/2010 14:32</td>\n",
       "      <td>1.66</td>\n",
       "      <td>NaN</td>\n",
       "      <td>United Kingdom</td>\n",
       "    </tr>\n",
       "  </tbody>\n",
       "</table>\n",
       "</div>"
      ],
      "text/plain": [
       "  InvoiceNo StockCode                      Description  Quantity  \\\n",
       "0    536414     22139                              NaN        56   \n",
       "1    536544     21773  DECORATIVE ROSE BATHROOM BOTTLE         1   \n",
       "2    536544     21774  DECORATIVE CATS BATHROOM BOTTLE         2   \n",
       "3    536544     21786               POLKADOT RAIN HAT          4   \n",
       "4    536544     21787            RAIN PONCHO RETROSPOT         2   \n",
       "\n",
       "       InvoiceDate  UnitPrice  CustomerID         Country  \n",
       "0  12/1/2010 11:52       0.00         NaN  United Kingdom  \n",
       "1  12/1/2010 14:32       2.51         NaN  United Kingdom  \n",
       "2  12/1/2010 14:32       2.51         NaN  United Kingdom  \n",
       "3  12/1/2010 14:32       0.85         NaN  United Kingdom  \n",
       "4  12/1/2010 14:32       1.66         NaN  United Kingdom  "
      ]
     },
     "execution_count": 9,
     "metadata": {},
     "output_type": "execute_result"
    }
   ],
   "source": [
    "null_df = ecommerce_data[ecommerce_data['CustomerID'].isnull()]\n",
    "null_df.reset_index(drop=True, inplace=True)\n",
    "null_df.shape\n",
    "null_df.head()"
   ]
  },
  {
   "cell_type": "code",
   "execution_count": 10,
   "metadata": {},
   "outputs": [
    {
     "data": {
      "text/plain": [
       "(401604, 8)"
      ]
     },
     "execution_count": 10,
     "metadata": {},
     "output_type": "execute_result"
    },
    {
     "data": {
      "text/html": [
       "<div>\n",
       "<style scoped>\n",
       "    .dataframe tbody tr th:only-of-type {\n",
       "        vertical-align: middle;\n",
       "    }\n",
       "\n",
       "    .dataframe tbody tr th {\n",
       "        vertical-align: top;\n",
       "    }\n",
       "\n",
       "    .dataframe thead th {\n",
       "        text-align: right;\n",
       "    }\n",
       "</style>\n",
       "<table border=\"1\" class=\"dataframe\">\n",
       "  <thead>\n",
       "    <tr style=\"text-align: right;\">\n",
       "      <th></th>\n",
       "      <th>InvoiceNo</th>\n",
       "      <th>StockCode</th>\n",
       "      <th>Description</th>\n",
       "      <th>Quantity</th>\n",
       "      <th>InvoiceDate</th>\n",
       "      <th>UnitPrice</th>\n",
       "      <th>CustomerID</th>\n",
       "      <th>Country</th>\n",
       "    </tr>\n",
       "  </thead>\n",
       "  <tbody>\n",
       "    <tr>\n",
       "      <th>0</th>\n",
       "      <td>536365</td>\n",
       "      <td>85123A</td>\n",
       "      <td>WHITE HANGING HEART T-LIGHT HOLDER</td>\n",
       "      <td>6</td>\n",
       "      <td>12/1/2010 8:26</td>\n",
       "      <td>2.55</td>\n",
       "      <td>17850.0</td>\n",
       "      <td>United Kingdom</td>\n",
       "    </tr>\n",
       "    <tr>\n",
       "      <th>1</th>\n",
       "      <td>536365</td>\n",
       "      <td>71053</td>\n",
       "      <td>WHITE METAL LANTERN</td>\n",
       "      <td>6</td>\n",
       "      <td>12/1/2010 8:26</td>\n",
       "      <td>3.39</td>\n",
       "      <td>17850.0</td>\n",
       "      <td>United Kingdom</td>\n",
       "    </tr>\n",
       "    <tr>\n",
       "      <th>2</th>\n",
       "      <td>536365</td>\n",
       "      <td>84406B</td>\n",
       "      <td>CREAM CUPID HEARTS COAT HANGER</td>\n",
       "      <td>8</td>\n",
       "      <td>12/1/2010 8:26</td>\n",
       "      <td>2.75</td>\n",
       "      <td>17850.0</td>\n",
       "      <td>United Kingdom</td>\n",
       "    </tr>\n",
       "    <tr>\n",
       "      <th>3</th>\n",
       "      <td>536365</td>\n",
       "      <td>84029G</td>\n",
       "      <td>KNITTED UNION FLAG HOT WATER BOTTLE</td>\n",
       "      <td>6</td>\n",
       "      <td>12/1/2010 8:26</td>\n",
       "      <td>3.39</td>\n",
       "      <td>17850.0</td>\n",
       "      <td>United Kingdom</td>\n",
       "    </tr>\n",
       "    <tr>\n",
       "      <th>4</th>\n",
       "      <td>536365</td>\n",
       "      <td>84029E</td>\n",
       "      <td>RED WOOLLY HOTTIE WHITE HEART.</td>\n",
       "      <td>6</td>\n",
       "      <td>12/1/2010 8:26</td>\n",
       "      <td>3.39</td>\n",
       "      <td>17850.0</td>\n",
       "      <td>United Kingdom</td>\n",
       "    </tr>\n",
       "  </tbody>\n",
       "</table>\n",
       "</div>"
      ],
      "text/plain": [
       "  InvoiceNo StockCode                          Description  Quantity  \\\n",
       "0    536365    85123A   WHITE HANGING HEART T-LIGHT HOLDER         6   \n",
       "1    536365     71053                  WHITE METAL LANTERN         6   \n",
       "2    536365    84406B       CREAM CUPID HEARTS COAT HANGER         8   \n",
       "3    536365    84029G  KNITTED UNION FLAG HOT WATER BOTTLE         6   \n",
       "4    536365    84029E       RED WOOLLY HOTTIE WHITE HEART.         6   \n",
       "\n",
       "      InvoiceDate  UnitPrice  CustomerID         Country  \n",
       "0  12/1/2010 8:26       2.55     17850.0  United Kingdom  \n",
       "1  12/1/2010 8:26       3.39     17850.0  United Kingdom  \n",
       "2  12/1/2010 8:26       2.75     17850.0  United Kingdom  \n",
       "3  12/1/2010 8:26       3.39     17850.0  United Kingdom  \n",
       "4  12/1/2010 8:26       3.39     17850.0  United Kingdom  "
      ]
     },
     "execution_count": 10,
     "metadata": {},
     "output_type": "execute_result"
    }
   ],
   "source": [
    "not_null_df=ecommerce_data[ecommerce_data['CustomerID'].isnull() == False]\n",
    "not_null_df.reset_index(drop=True, inplace=True)\n",
    "not_null_df.shape\n",
    "not_null_df.head()"
   ]
  },
  {
   "cell_type": "code",
   "execution_count": 11,
   "metadata": {},
   "outputs": [
    {
     "data": {
      "text/html": [
       "<div>\n",
       "<style scoped>\n",
       "    .dataframe tbody tr th:only-of-type {\n",
       "        vertical-align: middle;\n",
       "    }\n",
       "\n",
       "    .dataframe tbody tr th {\n",
       "        vertical-align: top;\n",
       "    }\n",
       "\n",
       "    .dataframe thead th {\n",
       "        text-align: right;\n",
       "    }\n",
       "</style>\n",
       "<table border=\"1\" class=\"dataframe\">\n",
       "  <thead>\n",
       "    <tr style=\"text-align: right;\">\n",
       "      <th></th>\n",
       "      <th>InvoiceNo</th>\n",
       "      <th>StockCode</th>\n",
       "      <th>Description</th>\n",
       "      <th>Quantity</th>\n",
       "      <th>InvoiceDate</th>\n",
       "      <th>UnitPrice</th>\n",
       "      <th>CustomerID</th>\n",
       "      <th>Country</th>\n",
       "    </tr>\n",
       "  </thead>\n",
       "  <tbody>\n",
       "  </tbody>\n",
       "</table>\n",
       "</div>"
      ],
      "text/plain": [
       "Empty DataFrame\n",
       "Columns: [InvoiceNo, StockCode, Description, Quantity, InvoiceDate, UnitPrice, CustomerID, Country]\n",
       "Index: []"
      ]
     },
     "execution_count": 11,
     "metadata": {},
     "output_type": "execute_result"
    }
   ],
   "source": [
    "##### Find intersection between 2 dataframes with same InvoiceNo values\n",
    "null_df[null_df['InvoiceNo'].isin(not_null_df['InvoiceNo'].unique())]"
   ]
  },
  {
   "cell_type": "markdown",
   "metadata": {},
   "source": [
    "There is no repeated Invoice Number between the not null and the null customerID data. Therefore, we can not perform any imputation here, this leaves us no choice but to remove these null records."
   ]
  },
  {
   "cell_type": "code",
   "execution_count": 12,
   "metadata": {},
   "outputs": [
    {
     "data": {
      "text/html": [
       "<div>\n",
       "<style scoped>\n",
       "    .dataframe tbody tr th:only-of-type {\n",
       "        vertical-align: middle;\n",
       "    }\n",
       "\n",
       "    .dataframe tbody tr th {\n",
       "        vertical-align: top;\n",
       "    }\n",
       "\n",
       "    .dataframe thead th {\n",
       "        text-align: right;\n",
       "    }\n",
       "</style>\n",
       "<table border=\"1\" class=\"dataframe\">\n",
       "  <thead>\n",
       "    <tr style=\"text-align: right;\">\n",
       "      <th></th>\n",
       "      <th>InvoiceNo</th>\n",
       "      <th>StockCode</th>\n",
       "      <th>Description</th>\n",
       "      <th>Quantity</th>\n",
       "      <th>InvoiceDate</th>\n",
       "      <th>UnitPrice</th>\n",
       "      <th>CustomerID</th>\n",
       "      <th>Country</th>\n",
       "    </tr>\n",
       "  </thead>\n",
       "  <tbody>\n",
       "    <tr>\n",
       "      <th>0</th>\n",
       "      <td>536365</td>\n",
       "      <td>85123A</td>\n",
       "      <td>WHITE HANGING HEART T-LIGHT HOLDER</td>\n",
       "      <td>6</td>\n",
       "      <td>12/1/2010 8:26</td>\n",
       "      <td>2.55</td>\n",
       "      <td>17850.0</td>\n",
       "      <td>United Kingdom</td>\n",
       "    </tr>\n",
       "    <tr>\n",
       "      <th>1</th>\n",
       "      <td>536365</td>\n",
       "      <td>71053</td>\n",
       "      <td>WHITE METAL LANTERN</td>\n",
       "      <td>6</td>\n",
       "      <td>12/1/2010 8:26</td>\n",
       "      <td>3.39</td>\n",
       "      <td>17850.0</td>\n",
       "      <td>United Kingdom</td>\n",
       "    </tr>\n",
       "    <tr>\n",
       "      <th>2</th>\n",
       "      <td>536365</td>\n",
       "      <td>84406B</td>\n",
       "      <td>CREAM CUPID HEARTS COAT HANGER</td>\n",
       "      <td>8</td>\n",
       "      <td>12/1/2010 8:26</td>\n",
       "      <td>2.75</td>\n",
       "      <td>17850.0</td>\n",
       "      <td>United Kingdom</td>\n",
       "    </tr>\n",
       "    <tr>\n",
       "      <th>3</th>\n",
       "      <td>536365</td>\n",
       "      <td>84029G</td>\n",
       "      <td>KNITTED UNION FLAG HOT WATER BOTTLE</td>\n",
       "      <td>6</td>\n",
       "      <td>12/1/2010 8:26</td>\n",
       "      <td>3.39</td>\n",
       "      <td>17850.0</td>\n",
       "      <td>United Kingdom</td>\n",
       "    </tr>\n",
       "    <tr>\n",
       "      <th>4</th>\n",
       "      <td>536365</td>\n",
       "      <td>84029E</td>\n",
       "      <td>RED WOOLLY HOTTIE WHITE HEART.</td>\n",
       "      <td>6</td>\n",
       "      <td>12/1/2010 8:26</td>\n",
       "      <td>3.39</td>\n",
       "      <td>17850.0</td>\n",
       "      <td>United Kingdom</td>\n",
       "    </tr>\n",
       "  </tbody>\n",
       "</table>\n",
       "</div>"
      ],
      "text/plain": [
       "  InvoiceNo StockCode                          Description  Quantity  \\\n",
       "0    536365    85123A   WHITE HANGING HEART T-LIGHT HOLDER         6   \n",
       "1    536365     71053                  WHITE METAL LANTERN         6   \n",
       "2    536365    84406B       CREAM CUPID HEARTS COAT HANGER         8   \n",
       "3    536365    84029G  KNITTED UNION FLAG HOT WATER BOTTLE         6   \n",
       "4    536365    84029E       RED WOOLLY HOTTIE WHITE HEART.         6   \n",
       "\n",
       "      InvoiceDate  UnitPrice  CustomerID         Country  \n",
       "0  12/1/2010 8:26       2.55     17850.0  United Kingdom  \n",
       "1  12/1/2010 8:26       3.39     17850.0  United Kingdom  \n",
       "2  12/1/2010 8:26       2.75     17850.0  United Kingdom  \n",
       "3  12/1/2010 8:26       3.39     17850.0  United Kingdom  \n",
       "4  12/1/2010 8:26       3.39     17850.0  United Kingdom  "
      ]
     },
     "execution_count": 12,
     "metadata": {},
     "output_type": "execute_result"
    }
   ],
   "source": [
    "# Drop rows with missing CustomerID\n",
    "ecommerce_data = ecommerce_data[~ecommerce_data['CustomerID'].isnull()]\n",
    "ecommerce_data.reset_index(drop=True, inplace=True)\n",
    "ecommerce_data.head()\n"
   ]
  },
  {
   "cell_type": "code",
   "execution_count": 13,
   "metadata": {},
   "outputs": [
    {
     "data": {
      "text/html": [
       "<div>\n",
       "<style scoped>\n",
       "    .dataframe tbody tr th:only-of-type {\n",
       "        vertical-align: middle;\n",
       "    }\n",
       "\n",
       "    .dataframe tbody tr th {\n",
       "        vertical-align: top;\n",
       "    }\n",
       "\n",
       "    .dataframe thead th {\n",
       "        text-align: right;\n",
       "    }\n",
       "</style>\n",
       "<table border=\"1\" class=\"dataframe\">\n",
       "  <thead>\n",
       "    <tr style=\"text-align: right;\">\n",
       "      <th></th>\n",
       "      <th>total</th>\n",
       "      <th>percent</th>\n",
       "    </tr>\n",
       "  </thead>\n",
       "  <tbody>\n",
       "    <tr>\n",
       "      <th>InvoiceNo</th>\n",
       "      <td>0</td>\n",
       "      <td>0.0</td>\n",
       "    </tr>\n",
       "    <tr>\n",
       "      <th>StockCode</th>\n",
       "      <td>0</td>\n",
       "      <td>0.0</td>\n",
       "    </tr>\n",
       "    <tr>\n",
       "      <th>Description</th>\n",
       "      <td>0</td>\n",
       "      <td>0.0</td>\n",
       "    </tr>\n",
       "    <tr>\n",
       "      <th>Quantity</th>\n",
       "      <td>0</td>\n",
       "      <td>0.0</td>\n",
       "    </tr>\n",
       "    <tr>\n",
       "      <th>InvoiceDate</th>\n",
       "      <td>0</td>\n",
       "      <td>0.0</td>\n",
       "    </tr>\n",
       "    <tr>\n",
       "      <th>UnitPrice</th>\n",
       "      <td>0</td>\n",
       "      <td>0.0</td>\n",
       "    </tr>\n",
       "    <tr>\n",
       "      <th>CustomerID</th>\n",
       "      <td>0</td>\n",
       "      <td>0.0</td>\n",
       "    </tr>\n",
       "    <tr>\n",
       "      <th>Country</th>\n",
       "      <td>0</td>\n",
       "      <td>0.0</td>\n",
       "    </tr>\n",
       "  </tbody>\n",
       "</table>\n",
       "</div>"
      ],
      "text/plain": [
       "             total  percent\n",
       "InvoiceNo        0      0.0\n",
       "StockCode        0      0.0\n",
       "Description      0      0.0\n",
       "Quantity         0      0.0\n",
       "InvoiceDate      0      0.0\n",
       "UnitPrice        0      0.0\n",
       "CustomerID       0      0.0\n",
       "Country          0      0.0"
      ]
     },
     "execution_count": 13,
     "metadata": {},
     "output_type": "execute_result"
    }
   ],
   "source": [
    "# Check missing values again\n",
    "missing_data = ecommerce_data.isnull().sum().to_frame().rename(columns={0: 'total'})\n",
    "missing_data['percent'] = (missing_data['total'] / ecommerce_data.shape[0]) * 100   \n",
    "missing_data"
   ]
  },
  {
   "cell_type": "markdown",
   "metadata": {},
   "source": [
    "## 1.5. Datetime Datatype Conversion"
   ]
  },
  {
   "cell_type": "markdown",
   "metadata": {},
   "source": [
    "According to the Description of the Dataset, InvoiceDate is the only column containing datetime datatype and is extremely crucial for generating Recency, Frequency feature of RFM Analysis."
   ]
  },
  {
   "cell_type": "code",
   "execution_count": 14,
   "metadata": {},
   "outputs": [
    {
     "data": {
      "text/html": [
       "<div>\n",
       "<style scoped>\n",
       "    .dataframe tbody tr th:only-of-type {\n",
       "        vertical-align: middle;\n",
       "    }\n",
       "\n",
       "    .dataframe tbody tr th {\n",
       "        vertical-align: top;\n",
       "    }\n",
       "\n",
       "    .dataframe thead th {\n",
       "        text-align: right;\n",
       "    }\n",
       "</style>\n",
       "<table border=\"1\" class=\"dataframe\">\n",
       "  <thead>\n",
       "    <tr style=\"text-align: right;\">\n",
       "      <th></th>\n",
       "      <th>InvoiceNo</th>\n",
       "      <th>StockCode</th>\n",
       "      <th>Description</th>\n",
       "      <th>Quantity</th>\n",
       "      <th>InvoiceDate</th>\n",
       "      <th>UnitPrice</th>\n",
       "      <th>CustomerID</th>\n",
       "      <th>Country</th>\n",
       "    </tr>\n",
       "  </thead>\n",
       "  <tbody>\n",
       "  </tbody>\n",
       "</table>\n",
       "</div>"
      ],
      "text/plain": [
       "Empty DataFrame\n",
       "Columns: [InvoiceNo, StockCode, Description, Quantity, InvoiceDate, UnitPrice, CustomerID, Country]\n",
       "Index: []"
      ]
     },
     "execution_count": 14,
     "metadata": {},
     "output_type": "execute_result"
    }
   ],
   "source": [
    "import datetime # datetime manipulation\n",
    "\n",
    "# validate date format\n",
    "def validate_datetime(d):\n",
    "    try:\n",
    "        datetime.datetime.strptime('4/21/2011 19:05', '%m/%d/%Y %H:%M')\n",
    "        return True\n",
    "    except ValueError:\n",
    "        return False\n",
    "    \n",
    "ecommerce_data[~ecommerce_data['InvoiceDate'].apply(lambda x: validate_datetime(x))]"
   ]
  },
  {
   "cell_type": "markdown",
   "metadata": {},
   "source": [
    "So our datetime data is validated with '%m/%d/%Y %H:%M' format, let's convert them from object to datetime"
   ]
  },
  {
   "cell_type": "code",
   "execution_count": 15,
   "metadata": {},
   "outputs": [
    {
     "data": {
      "text/plain": [
       "count                           401604\n",
       "mean     2011-07-10 12:08:23.848567552\n",
       "min                2010-12-01 08:26:00\n",
       "25%                2011-04-06 15:02:00\n",
       "50%                2011-07-29 15:40:00\n",
       "75%                2011-10-20 11:58:30\n",
       "max                2011-12-09 12:50:00\n",
       "Name: InvoiceDate, dtype: object"
      ]
     },
     "execution_count": 15,
     "metadata": {},
     "output_type": "execute_result"
    }
   ],
   "source": [
    "# datetime conversion\n",
    "ecommerce_data['InvoiceDate'] = pd.to_datetime(ecommerce_data['InvoiceDate'],format='%m/%d/%Y %H:%M')\n",
    "ecommerce_data['InvoiceDate'].describe()"
   ]
  },
  {
   "cell_type": "markdown",
   "metadata": {},
   "source": [
    "## 1.6. Object Datatype Conversion"
   ]
  },
  {
   "cell_type": "markdown",
   "metadata": {},
   "source": [
    "Follow the description of dataset, there are 5 Columns containing Nominal datatype:\n",
    "- InvoiceNo\n",
    "- StockCode\n",
    "- Description\n",
    "- CustomerID\n",
    "- Country"
   ]
  },
  {
   "cell_type": "code",
   "execution_count": 16,
   "metadata": {},
   "outputs": [
    {
     "name": "stdout",
     "output_type": "stream",
     "text": [
      "There are currently only 4 Nominal columns\n",
      "\n",
      "InvoiceNo: 22190 unique values\n",
      "StockCode: 3684 unique values\n",
      "Description: 3896 unique values\n",
      "Country: 37 unique values\n"
     ]
    }
   ],
   "source": [
    "# Check the number of categorical columns\n",
    "print(f'There are currently only {ecommerce_data.select_dtypes(include=\"object\").columns.size} Nominal columns\\n')\n",
    "\n",
    "# Check the unique values of each categorical column\n",
    "for cate_col in ecommerce_data.select_dtypes(include='object').columns:\n",
    "    print(f'{cate_col}: {ecommerce_data[cate_col].nunique()} unique values')"
   ]
  },
  {
   "cell_type": "markdown",
   "metadata": {},
   "source": [
    "Let's convert CustomerID into Nominal type too."
   ]
  },
  {
   "cell_type": "code",
   "execution_count": 17,
   "metadata": {},
   "outputs": [
    {
     "name": "stdout",
     "output_type": "stream",
     "text": [
      "There are currently 5 Nominal columns\n",
      "\n",
      "InvoiceNo: 22190 unique values\n",
      "StockCode: 3684 unique values\n",
      "Description: 3896 unique values\n",
      "CustomerID: 4372 unique values\n",
      "Country: 37 unique values\n"
     ]
    }
   ],
   "source": [
    "ecommerce_data['CustomerID'] = ecommerce_data['CustomerID'].astype(int).astype(str)\n",
    "# Check the number of categorical columns\n",
    "print(f'There are currently {ecommerce_data.select_dtypes(include=\"object\").columns.size} Nominal columns\\n')\n",
    "\n",
    "# Check the unique values of each categorical column\n",
    "for cate_col in ecommerce_data.select_dtypes(include='object').columns:\n",
    "    print(f'{cate_col}: {ecommerce_data[cate_col].nunique()} unique values')"
   ]
  },
  {
   "cell_type": "markdown",
   "metadata": {},
   "source": [
    "## 1.7. Checking Outliers"
   ]
  },
  {
   "cell_type": "code",
   "execution_count": 18,
   "metadata": {},
   "outputs": [
    {
     "data": {
      "text/plain": [
       "Index(['Quantity', 'UnitPrice'], dtype='object')"
      ]
     },
     "execution_count": 18,
     "metadata": {},
     "output_type": "execute_result"
    }
   ],
   "source": [
    "ecommerce_data.select_dtypes([int,float]).columns"
   ]
  },
  {
   "cell_type": "code",
   "execution_count": 19,
   "metadata": {},
   "outputs": [
    {
     "data": {
      "text/plain": [
       "<Figure size 900x600 with 0 Axes>"
      ]
     },
     "execution_count": 19,
     "metadata": {},
     "output_type": "execute_result"
    },
    {
     "data": {
      "image/png": "[encoded data removed]",
      "text/plain": [
       "<Figure size 900x600 with 2 Axes>"
      ]
     },
     "metadata": {},
     "output_type": "display_data"
    }
   ],
   "source": [
    "import matplotlib.gridspec as gridspec # subplots\n",
    "\n",
    "# Create 2x2 sub plots\n",
    "gs = gridspec.GridSpec(2, 1)\n",
    "\n",
    "# Create a figure\n",
    "plt.figure(figsize=(9,6))\n",
    "\n",
    "# add axes_1\n",
    "ax1 = plt.subplot(gs[0, 0]) \n",
    "ax1 = sns.boxplot(\n",
    "    data=ecommerce_data.UnitPrice\n",
    "    ,orient='h'\n",
    ")\n",
    "\n",
    "# add axes_2\n",
    "ax2 = plt.subplot(gs[1, 0]) \n",
    "ax2 = sns.boxplot(\n",
    "    data=ecommerce_data.Quantity\n",
    "    ,orient='h'\n",
    ")\n",
    "\n",
    "plt.show()"
   ]
  },
  {
   "cell_type": "markdown",
   "metadata": {},
   "source": [
    "As box plot shown above, there a number of records with negative values of quantity. These negative values could be indicates a cancellation, discount, which from RFM Analysis aspect, we may need some transaction such as discount to reflect the actual customer behaviour. So these negative values could be true outliers, not incorrect, structural errors caused by data entry, processing stages."
   ]
  },
  {
   "cell_type": "markdown",
   "metadata": {},
   "source": [
    "# II. Data Filtering"
   ]
  },
  {
   "cell_type": "markdown",
   "metadata": {},
   "source": [
    "This process involves removing or excluding data that does not meet certain conditions or criteria. Includes filtering based on values, ranges, or conditions (e.g., removing outliers, selecting specific time periods) with the purpose to select only a subset of data based on specific criteria to focus on relevant information in order to produce a refined dataset that contains only the relevant information needed for analysis, in this case, for the RFM analysis."
   ]
  },
  {
   "cell_type": "markdown",
   "metadata": {},
   "source": [
    "## 2.1. Non-Product Description"
   ]
  },
  {
   "cell_type": "code",
   "execution_count": 20,
   "metadata": {},
   "outputs": [
    {
     "data": {
      "text/plain": [
       "Description\n",
       "Manual                                 460\n",
       "BAG 125g SWIRLY MARBLES                252\n",
       "3 TRADITIONAl BISCUIT CUTTERS  SET     207\n",
       "BAG 250g SWIRLY MARBLES                201\n",
       "POLYESTER FILLER PAD 40x40cm           185\n",
       "POLYESTER FILLER PAD 45x45cm           135\n",
       "BAG 500g SWIRLY MARBLES                115\n",
       "Next Day Carriage                       80\n",
       "Discount                                77\n",
       "FRENCH BLUE METAL DOOR SIGN No          75\n",
       "POLYESTER FILLER PAD 45x30cm            37\n",
       "POLYESTER FILLER PAD 30CMx30CM          26\n",
       "ESSENTIAL BALM 3.5g TIN IN ENVELOPE     18\n",
       "CRUK Commission                         16\n",
       "NUMBER TILE COTTAGE GARDEN No           12\n",
       "Bank Charges                            12\n",
       "FOLK ART GREETING CARD,pack/12          10\n",
       "NUMBER TILE VINTAGE FONT No              7\n",
       "THE KING GIFT BAG 25x24x12cm             7\n",
       "POLYESTER FILLER PAD 65CMx65CM           5\n",
       "FLOWERS HANDBAG blue and orange          3\n",
       "High Resolution Image                    3\n",
       "POLYESTER FILLER PAD 60x40cm             1\n",
       "Name: count, dtype: int64"
      ]
     },
     "execution_count": 20,
     "metadata": {},
     "output_type": "execute_result"
    }
   ],
   "source": [
    "# Check lowercase Description\n",
    "ecommerce_data[ecommerce_data['Description'].str.contains('[a-z]')]['Description'].value_counts()"
   ]
  },
  {
   "cell_type": "markdown",
   "metadata": {},
   "source": [
    "Description such as Manual, Bank Charges, etc is not product, therefore, let's gather these values into a non product list."
   ]
  },
  {
   "cell_type": "code",
   "execution_count": 21,
   "metadata": {},
   "outputs": [],
   "source": [
    "not_products = ['Next Day Carriage', \n",
    "                'Discount', \n",
    "                'CRUK Commission', \n",
    "                'Bank Charges', \n",
    "                'Manual']"
   ]
  },
  {
   "cell_type": "code",
   "execution_count": 22,
   "metadata": {},
   "outputs": [
    {
     "data": {
      "text/plain": [
       "array(['POSTAGE', 'CHOCOLATE CALCULATOR', 'CHILLI LIGHTS', 'PHOTO CUBE',\n",
       "       'RETROSPOT LAMP', 'PICTURE DOMINOES', 'DOORMAT TOPIARY',\n",
       "       'DOORMAT HEARTS', 'WRAP COWBOYS  ', 'FLOWERS  STICKERS',\n",
       "       'OWL DOORSTOP', 'WICKER STAR ', 'CHRYSANTHEMUM NOTEBOOK',\n",
       "       'BUTTON BOX ', 'POLKADOT PEN', 'GRAND CHOCOLATECANDLE', 'CARRIAGE',\n",
       "       'DOORMAT AIRMAIL ', 'NEWSPAPER STAND', 'BINGO SET',\n",
       "       'CHRYSANTHEMUM SKETCHBOOK ', 'SKULLS  STICKERS', 'GLAMOROUS  MUG',\n",
       "       'SPACE FROG', 'SPACE OWL', 'DECOUPAGE,GREETING CARD,',\n",
       "       'DOGGY RUBBER', 'SKULLS TAPE', 'HEARTS  STICKERS', 'PARTY BUNTING',\n",
       "       'POTTERING MUG', 'SANDALWOOD FAN', 'SOMBRERO ', 'ANIMAL STICKERS',\n",
       "       'RAIN PONCHO ', 'MIRROR CORNICE', 'CARNIVAL BRACELET',\n",
       "       'HEART CALCULATOR', 'CHRYSANTHEMUM  JOURNAL',\n",
       "       'BUTTERFLIES STICKERS', 'TUMBLER, BAROQUE', 'PLASMATRONIC LAMP',\n",
       "       'DAISY JOURNAL ', 'SWEETIES  STICKERS', 'DAISY NOTEBOOK ',\n",
       "       'GOLD WASHBAG', 'WOODLAND  STICKERS', 'DAISY SKETCHBOOK ',\n",
       "       'RIBBONS PURSE ', 'POMPOM CURTAIN', 'VIPPASSPORT COVER ',\n",
       "       'FROG CANDLE', 'TOYBOX  WRAP ', 'FLAMINGO LIGHTS',\n",
       "       'CONGRATULATIONS BUNTING', 'WRAP, CAROUSEL',\n",
       "       'PINK/AMETHYST/GOLD NECKLACE', 'WRAP CAROUSEL', 'TUMBLER BAROQUE',\n",
       "       'RIVIERA NECKLACE', 'CINDERELLA CHANDELIER ', 'SPOTTY BUNTING',\n",
       "       'ALUMINIUM HEART', 'CAPIZ CHANDELIER', 'POPCORN HOLDER',\n",
       "       'DOLPHIN WINDMILL', 'PACKING CHARGE', 'SPACEBOY BEAKER',\n",
       "       'DIAMANTE NECKLACE', 'CORDIAL JUG', 'DOTCOM POSTAGE',\n",
       "       'BATHROOM HOOK', 'CHAMBRE HOOK'], dtype=object)"
      ]
     },
     "execution_count": 22,
     "metadata": {},
     "output_type": "execute_result"
    }
   ],
   "source": [
    "# Check short Description\n",
    "def short_description(desc):\n",
    "    return len(desc.split()) < 3\n",
    "ecommerce_data[\n",
    "    (ecommerce_data['Description'].apply(lambda x: short_description(x))) &\n",
    "    (~ecommerce_data['Description'].isin(not_products))\n",
    "]['Description'].unique()"
   ]
  },
  {
   "cell_type": "markdown",
   "metadata": {},
   "source": [
    "'POSTAGE', 'DOTCOM POSTAGE' and 'CARRIAGE' are not products. So I will have them appended to the not_products list"
   ]
  },
  {
   "cell_type": "code",
   "execution_count": 23,
   "metadata": {},
   "outputs": [
    {
     "data": {
      "text/plain": [
       "['Next Day Carriage',\n",
       " 'Discount',\n",
       " 'CRUK Commission',\n",
       " 'Bank Charges',\n",
       " 'Manual',\n",
       " 'POSTAGE',\n",
       " 'CARRIAGE',\n",
       " 'DOTCOM POSTAGE']"
      ]
     },
     "execution_count": 23,
     "metadata": {},
     "output_type": "execute_result"
    }
   ],
   "source": [
    "not_products.append('POSTAGE')\n",
    "not_products.append('CARRIAGE')\n",
    "not_products.append('DOTCOM POSTAGE')\n",
    "not_products"
   ]
  },
  {
   "cell_type": "markdown",
   "metadata": {},
   "source": [
    "Let's review records contain these non-product description"
   ]
  },
  {
   "cell_type": "code",
   "execution_count": 24,
   "metadata": {},
   "outputs": [
    {
     "data": {
      "text/html": [
       "<div>\n",
       "<style scoped>\n",
       "    .dataframe tbody tr th:only-of-type {\n",
       "        vertical-align: middle;\n",
       "    }\n",
       "\n",
       "    .dataframe tbody tr th {\n",
       "        vertical-align: top;\n",
       "    }\n",
       "\n",
       "    .dataframe thead th {\n",
       "        text-align: right;\n",
       "    }\n",
       "</style>\n",
       "<table border=\"1\" class=\"dataframe\">\n",
       "  <thead>\n",
       "    <tr style=\"text-align: right;\">\n",
       "      <th></th>\n",
       "      <th>InvoiceNo</th>\n",
       "      <th>StockCode</th>\n",
       "      <th>Description</th>\n",
       "      <th>Quantity</th>\n",
       "      <th>InvoiceDate</th>\n",
       "      <th>UnitPrice</th>\n",
       "      <th>CustomerID</th>\n",
       "      <th>Country</th>\n",
       "    </tr>\n",
       "  </thead>\n",
       "  <tbody>\n",
       "    <tr>\n",
       "      <th>316375</th>\n",
       "      <td>573351</td>\n",
       "      <td>23444</td>\n",
       "      <td>Next Day Carriage</td>\n",
       "      <td>1</td>\n",
       "      <td>2011-10-30 12:34:00</td>\n",
       "      <td>15.0</td>\n",
       "      <td>13524</td>\n",
       "      <td>United Kingdom</td>\n",
       "    </tr>\n",
       "    <tr>\n",
       "      <th>354694</th>\n",
       "      <td>577025</td>\n",
       "      <td>23444</td>\n",
       "      <td>Next Day Carriage</td>\n",
       "      <td>1</td>\n",
       "      <td>2011-11-17 12:54:00</td>\n",
       "      <td>15.0</td>\n",
       "      <td>16161</td>\n",
       "      <td>United Kingdom</td>\n",
       "    </tr>\n",
       "  </tbody>\n",
       "</table>\n",
       "</div>"
      ],
      "text/plain": [
       "       InvoiceNo StockCode        Description  Quantity         InvoiceDate  \\\n",
       "316375    573351     23444  Next Day Carriage         1 2011-10-30 12:34:00   \n",
       "354694    577025     23444  Next Day Carriage         1 2011-11-17 12:54:00   \n",
       "\n",
       "        UnitPrice CustomerID         Country  \n",
       "316375       15.0      13524  United Kingdom  \n",
       "354694       15.0      16161  United Kingdom  "
      ]
     },
     "execution_count": 24,
     "metadata": {},
     "output_type": "execute_result"
    },
    {
     "data": {
      "text/html": [
       "<div>\n",
       "<style scoped>\n",
       "    .dataframe tbody tr th:only-of-type {\n",
       "        vertical-align: middle;\n",
       "    }\n",
       "\n",
       "    .dataframe tbody tr th {\n",
       "        vertical-align: top;\n",
       "    }\n",
       "\n",
       "    .dataframe thead th {\n",
       "        text-align: right;\n",
       "    }\n",
       "</style>\n",
       "<table border=\"1\" class=\"dataframe\">\n",
       "  <thead>\n",
       "    <tr style=\"text-align: right;\">\n",
       "      <th></th>\n",
       "      <th>InvoiceNo</th>\n",
       "      <th>StockCode</th>\n",
       "      <th>Description</th>\n",
       "      <th>Quantity</th>\n",
       "      <th>InvoiceDate</th>\n",
       "      <th>UnitPrice</th>\n",
       "      <th>CustomerID</th>\n",
       "      <th>Country</th>\n",
       "    </tr>\n",
       "  </thead>\n",
       "  <tbody>\n",
       "    <tr>\n",
       "      <th>20799</th>\n",
       "      <td>C539003</td>\n",
       "      <td>D</td>\n",
       "      <td>Discount</td>\n",
       "      <td>-1</td>\n",
       "      <td>2010-12-15 12:35:00</td>\n",
       "      <td>26.93</td>\n",
       "      <td>14527</td>\n",
       "      <td>United Kingdom</td>\n",
       "    </tr>\n",
       "    <tr>\n",
       "      <th>238368</th>\n",
       "      <td>C566078</td>\n",
       "      <td>D</td>\n",
       "      <td>Discount</td>\n",
       "      <td>-1</td>\n",
       "      <td>2011-09-09 09:38:00</td>\n",
       "      <td>45.33</td>\n",
       "      <td>13137</td>\n",
       "      <td>United Kingdom</td>\n",
       "    </tr>\n",
       "  </tbody>\n",
       "</table>\n",
       "</div>"
      ],
      "text/plain": [
       "       InvoiceNo StockCode Description  Quantity         InvoiceDate  \\\n",
       "20799    C539003         D    Discount        -1 2010-12-15 12:35:00   \n",
       "238368   C566078         D    Discount        -1 2011-09-09 09:38:00   \n",
       "\n",
       "        UnitPrice CustomerID         Country  \n",
       "20799       26.93      14527  United Kingdom  \n",
       "238368      45.33      13137  United Kingdom  "
      ]
     },
     "execution_count": 24,
     "metadata": {},
     "output_type": "execute_result"
    },
    {
     "data": {
      "text/html": [
       "<div>\n",
       "<style scoped>\n",
       "    .dataframe tbody tr th:only-of-type {\n",
       "        vertical-align: middle;\n",
       "    }\n",
       "\n",
       "    .dataframe tbody tr th {\n",
       "        vertical-align: top;\n",
       "    }\n",
       "\n",
       "    .dataframe thead th {\n",
       "        text-align: right;\n",
       "    }\n",
       "</style>\n",
       "<table border=\"1\" class=\"dataframe\">\n",
       "  <thead>\n",
       "    <tr style=\"text-align: right;\">\n",
       "      <th></th>\n",
       "      <th>InvoiceNo</th>\n",
       "      <th>StockCode</th>\n",
       "      <th>Description</th>\n",
       "      <th>Quantity</th>\n",
       "      <th>InvoiceDate</th>\n",
       "      <th>UnitPrice</th>\n",
       "      <th>CustomerID</th>\n",
       "      <th>Country</th>\n",
       "    </tr>\n",
       "  </thead>\n",
       "  <tbody>\n",
       "    <tr>\n",
       "      <th>393597</th>\n",
       "      <td>C580726</td>\n",
       "      <td>CRUK</td>\n",
       "      <td>CRUK Commission</td>\n",
       "      <td>-1</td>\n",
       "      <td>2011-12-05 17:17:00</td>\n",
       "      <td>1100.44</td>\n",
       "      <td>14096</td>\n",
       "      <td>United Kingdom</td>\n",
       "    </tr>\n",
       "    <tr>\n",
       "      <th>271880</th>\n",
       "      <td>C569245</td>\n",
       "      <td>CRUK</td>\n",
       "      <td>CRUK Commission</td>\n",
       "      <td>-1</td>\n",
       "      <td>2011-10-03 09:57:00</td>\n",
       "      <td>361.59</td>\n",
       "      <td>14096</td>\n",
       "      <td>United Kingdom</td>\n",
       "    </tr>\n",
       "  </tbody>\n",
       "</table>\n",
       "</div>"
      ],
      "text/plain": [
       "       InvoiceNo StockCode      Description  Quantity         InvoiceDate  \\\n",
       "393597   C580726      CRUK  CRUK Commission        -1 2011-12-05 17:17:00   \n",
       "271880   C569245      CRUK  CRUK Commission        -1 2011-10-03 09:57:00   \n",
       "\n",
       "        UnitPrice CustomerID         Country  \n",
       "393597    1100.44      14096  United Kingdom  \n",
       "271880     361.59      14096  United Kingdom  "
      ]
     },
     "execution_count": 24,
     "metadata": {},
     "output_type": "execute_result"
    },
    {
     "data": {
      "text/html": [
       "<div>\n",
       "<style scoped>\n",
       "    .dataframe tbody tr th:only-of-type {\n",
       "        vertical-align: middle;\n",
       "    }\n",
       "\n",
       "    .dataframe tbody tr th {\n",
       "        vertical-align: top;\n",
       "    }\n",
       "\n",
       "    .dataframe thead th {\n",
       "        text-align: right;\n",
       "    }\n",
       "</style>\n",
       "<table border=\"1\" class=\"dataframe\">\n",
       "  <thead>\n",
       "    <tr style=\"text-align: right;\">\n",
       "      <th></th>\n",
       "      <th>InvoiceNo</th>\n",
       "      <th>StockCode</th>\n",
       "      <th>Description</th>\n",
       "      <th>Quantity</th>\n",
       "      <th>InvoiceDate</th>\n",
       "      <th>UnitPrice</th>\n",
       "      <th>CustomerID</th>\n",
       "      <th>Country</th>\n",
       "    </tr>\n",
       "  </thead>\n",
       "  <tbody>\n",
       "    <tr>\n",
       "      <th>235306</th>\n",
       "      <td>565735</td>\n",
       "      <td>BANK CHARGES</td>\n",
       "      <td>Bank Charges</td>\n",
       "      <td>1</td>\n",
       "      <td>2011-09-06 12:25:00</td>\n",
       "      <td>15.0</td>\n",
       "      <td>16904</td>\n",
       "      <td>United Kingdom</td>\n",
       "    </tr>\n",
       "    <tr>\n",
       "      <th>121491</th>\n",
       "      <td>551945</td>\n",
       "      <td>BANK CHARGES</td>\n",
       "      <td>Bank Charges</td>\n",
       "      <td>1</td>\n",
       "      <td>2011-05-05 11:09:00</td>\n",
       "      <td>15.0</td>\n",
       "      <td>16714</td>\n",
       "      <td>United Kingdom</td>\n",
       "    </tr>\n",
       "  </tbody>\n",
       "</table>\n",
       "</div>"
      ],
      "text/plain": [
       "       InvoiceNo     StockCode   Description  Quantity         InvoiceDate  \\\n",
       "235306    565735  BANK CHARGES  Bank Charges         1 2011-09-06 12:25:00   \n",
       "121491    551945  BANK CHARGES  Bank Charges         1 2011-05-05 11:09:00   \n",
       "\n",
       "        UnitPrice CustomerID         Country  \n",
       "235306       15.0      16904  United Kingdom  \n",
       "121491       15.0      16714  United Kingdom  "
      ]
     },
     "execution_count": 24,
     "metadata": {},
     "output_type": "execute_result"
    },
    {
     "data": {
      "text/html": [
       "<div>\n",
       "<style scoped>\n",
       "    .dataframe tbody tr th:only-of-type {\n",
       "        vertical-align: middle;\n",
       "    }\n",
       "\n",
       "    .dataframe tbody tr th {\n",
       "        vertical-align: top;\n",
       "    }\n",
       "\n",
       "    .dataframe thead th {\n",
       "        text-align: right;\n",
       "    }\n",
       "</style>\n",
       "<table border=\"1\" class=\"dataframe\">\n",
       "  <thead>\n",
       "    <tr style=\"text-align: right;\">\n",
       "      <th></th>\n",
       "      <th>InvoiceNo</th>\n",
       "      <th>StockCode</th>\n",
       "      <th>Description</th>\n",
       "      <th>Quantity</th>\n",
       "      <th>InvoiceDate</th>\n",
       "      <th>UnitPrice</th>\n",
       "      <th>CustomerID</th>\n",
       "      <th>Country</th>\n",
       "    </tr>\n",
       "  </thead>\n",
       "  <tbody>\n",
       "    <tr>\n",
       "      <th>273190</th>\n",
       "      <td>C569390</td>\n",
       "      <td>M</td>\n",
       "      <td>Manual</td>\n",
       "      <td>-1</td>\n",
       "      <td>2011-10-03 16:53:00</td>\n",
       "      <td>32.22</td>\n",
       "      <td>15502</td>\n",
       "      <td>United Kingdom</td>\n",
       "    </tr>\n",
       "    <tr>\n",
       "      <th>306372</th>\n",
       "      <td>572423</td>\n",
       "      <td>M</td>\n",
       "      <td>Manual</td>\n",
       "      <td>1</td>\n",
       "      <td>2011-10-24 12:02:00</td>\n",
       "      <td>464.90</td>\n",
       "      <td>16742</td>\n",
       "      <td>United Kingdom</td>\n",
       "    </tr>\n",
       "  </tbody>\n",
       "</table>\n",
       "</div>"
      ],
      "text/plain": [
       "       InvoiceNo StockCode Description  Quantity         InvoiceDate  \\\n",
       "273190   C569390         M      Manual        -1 2011-10-03 16:53:00   \n",
       "306372    572423         M      Manual         1 2011-10-24 12:02:00   \n",
       "\n",
       "        UnitPrice CustomerID         Country  \n",
       "273190      32.22      15502  United Kingdom  \n",
       "306372     464.90      16742  United Kingdom  "
      ]
     },
     "execution_count": 24,
     "metadata": {},
     "output_type": "execute_result"
    },
    {
     "data": {
      "text/html": [
       "<div>\n",
       "<style scoped>\n",
       "    .dataframe tbody tr th:only-of-type {\n",
       "        vertical-align: middle;\n",
       "    }\n",
       "\n",
       "    .dataframe tbody tr th {\n",
       "        vertical-align: top;\n",
       "    }\n",
       "\n",
       "    .dataframe thead th {\n",
       "        text-align: right;\n",
       "    }\n",
       "</style>\n",
       "<table border=\"1\" class=\"dataframe\">\n",
       "  <thead>\n",
       "    <tr style=\"text-align: right;\">\n",
       "      <th></th>\n",
       "      <th>InvoiceNo</th>\n",
       "      <th>StockCode</th>\n",
       "      <th>Description</th>\n",
       "      <th>Quantity</th>\n",
       "      <th>InvoiceDate</th>\n",
       "      <th>UnitPrice</th>\n",
       "      <th>CustomerID</th>\n",
       "      <th>Country</th>\n",
       "    </tr>\n",
       "  </thead>\n",
       "  <tbody>\n",
       "    <tr>\n",
       "      <th>13027</th>\n",
       "      <td>537995</td>\n",
       "      <td>POST</td>\n",
       "      <td>POSTAGE</td>\n",
       "      <td>2</td>\n",
       "      <td>2010-12-09 11:39:00</td>\n",
       "      <td>18.0</td>\n",
       "      <td>12712</td>\n",
       "      <td>Germany</td>\n",
       "    </tr>\n",
       "    <tr>\n",
       "      <th>202007</th>\n",
       "      <td>561898</td>\n",
       "      <td>POST</td>\n",
       "      <td>POSTAGE</td>\n",
       "      <td>7</td>\n",
       "      <td>2011-07-31 15:25:00</td>\n",
       "      <td>40.0</td>\n",
       "      <td>12456</td>\n",
       "      <td>Switzerland</td>\n",
       "    </tr>\n",
       "  </tbody>\n",
       "</table>\n",
       "</div>"
      ],
      "text/plain": [
       "       InvoiceNo StockCode Description  Quantity         InvoiceDate  \\\n",
       "13027     537995      POST     POSTAGE         2 2010-12-09 11:39:00   \n",
       "202007    561898      POST     POSTAGE         7 2011-07-31 15:25:00   \n",
       "\n",
       "        UnitPrice CustomerID      Country  \n",
       "13027        18.0      12712      Germany  \n",
       "202007       40.0      12456  Switzerland  "
      ]
     },
     "execution_count": 24,
     "metadata": {},
     "output_type": "execute_result"
    },
    {
     "data": {
      "text/html": [
       "<div>\n",
       "<style scoped>\n",
       "    .dataframe tbody tr th:only-of-type {\n",
       "        vertical-align: middle;\n",
       "    }\n",
       "\n",
       "    .dataframe tbody tr th {\n",
       "        vertical-align: top;\n",
       "    }\n",
       "\n",
       "    .dataframe thead th {\n",
       "        text-align: right;\n",
       "    }\n",
       "</style>\n",
       "<table border=\"1\" class=\"dataframe\">\n",
       "  <thead>\n",
       "    <tr style=\"text-align: right;\">\n",
       "      <th></th>\n",
       "      <th>InvoiceNo</th>\n",
       "      <th>StockCode</th>\n",
       "      <th>Description</th>\n",
       "      <th>Quantity</th>\n",
       "      <th>InvoiceDate</th>\n",
       "      <th>UnitPrice</th>\n",
       "      <th>CustomerID</th>\n",
       "      <th>Country</th>\n",
       "    </tr>\n",
       "  </thead>\n",
       "  <tbody>\n",
       "    <tr>\n",
       "      <th>383679</th>\n",
       "      <td>579768</td>\n",
       "      <td>C2</td>\n",
       "      <td>CARRIAGE</td>\n",
       "      <td>1</td>\n",
       "      <td>2011-11-30 15:08:00</td>\n",
       "      <td>50.0</td>\n",
       "      <td>14911</td>\n",
       "      <td>EIRE</td>\n",
       "    </tr>\n",
       "    <tr>\n",
       "      <th>177295</th>\n",
       "      <td>558908</td>\n",
       "      <td>C2</td>\n",
       "      <td>CARRIAGE</td>\n",
       "      <td>1</td>\n",
       "      <td>2011-07-05 09:06:00</td>\n",
       "      <td>50.0</td>\n",
       "      <td>13338</td>\n",
       "      <td>United Kingdom</td>\n",
       "    </tr>\n",
       "  </tbody>\n",
       "</table>\n",
       "</div>"
      ],
      "text/plain": [
       "       InvoiceNo StockCode Description  Quantity         InvoiceDate  \\\n",
       "383679    579768        C2    CARRIAGE         1 2011-11-30 15:08:00   \n",
       "177295    558908        C2    CARRIAGE         1 2011-07-05 09:06:00   \n",
       "\n",
       "        UnitPrice CustomerID         Country  \n",
       "383679       50.0      14911            EIRE  \n",
       "177295       50.0      13338  United Kingdom  "
      ]
     },
     "execution_count": 24,
     "metadata": {},
     "output_type": "execute_result"
    },
    {
     "data": {
      "text/html": [
       "<div>\n",
       "<style scoped>\n",
       "    .dataframe tbody tr th:only-of-type {\n",
       "        vertical-align: middle;\n",
       "    }\n",
       "\n",
       "    .dataframe tbody tr th {\n",
       "        vertical-align: top;\n",
       "    }\n",
       "\n",
       "    .dataframe thead th {\n",
       "        text-align: right;\n",
       "    }\n",
       "</style>\n",
       "<table border=\"1\" class=\"dataframe\">\n",
       "  <thead>\n",
       "    <tr style=\"text-align: right;\">\n",
       "      <th></th>\n",
       "      <th>InvoiceNo</th>\n",
       "      <th>StockCode</th>\n",
       "      <th>Description</th>\n",
       "      <th>Quantity</th>\n",
       "      <th>InvoiceDate</th>\n",
       "      <th>UnitPrice</th>\n",
       "      <th>CustomerID</th>\n",
       "      <th>Country</th>\n",
       "    </tr>\n",
       "  </thead>\n",
       "  <tbody>\n",
       "    <tr>\n",
       "      <th>271861</th>\n",
       "      <td>569246</td>\n",
       "      <td>DOT</td>\n",
       "      <td>DOTCOM POSTAGE</td>\n",
       "      <td>1</td>\n",
       "      <td>2011-10-03 09:57:00</td>\n",
       "      <td>490.25</td>\n",
       "      <td>14096</td>\n",
       "      <td>United Kingdom</td>\n",
       "    </tr>\n",
       "    <tr>\n",
       "      <th>307827</th>\n",
       "      <td>572552</td>\n",
       "      <td>DOT</td>\n",
       "      <td>DOTCOM POSTAGE</td>\n",
       "      <td>1</td>\n",
       "      <td>2011-10-24 17:07:00</td>\n",
       "      <td>638.30</td>\n",
       "      <td>14096</td>\n",
       "      <td>United Kingdom</td>\n",
       "    </tr>\n",
       "  </tbody>\n",
       "</table>\n",
       "</div>"
      ],
      "text/plain": [
       "       InvoiceNo StockCode     Description  Quantity         InvoiceDate  \\\n",
       "271861    569246       DOT  DOTCOM POSTAGE         1 2011-10-03 09:57:00   \n",
       "307827    572552       DOT  DOTCOM POSTAGE         1 2011-10-24 17:07:00   \n",
       "\n",
       "        UnitPrice CustomerID         Country  \n",
       "271861     490.25      14096  United Kingdom  \n",
       "307827     638.30      14096  United Kingdom  "
      ]
     },
     "execution_count": 24,
     "metadata": {},
     "output_type": "execute_result"
    }
   ],
   "source": [
    "for not_product in not_products:    \n",
    "    ecommerce_data[ecommerce_data['Description'] == not_product].sample(2)"
   ]
  },
  {
   "cell_type": "markdown",
   "metadata": {},
   "source": [
    "From the data above and through online research, I came to conclusion that: \n",
    "- POSTAGE/DOTCOM POSTAGE/Next Day Carriage: The amount spent by the user on postages.\n",
    "- Discount: This explains the discount provided for a product.\n",
    "- CRUK Commission: An initiative to pay some part of the sales to the Cancer Research UK (CRUK).\n",
    "- Bank Charges: A default fee (about 15 sterling) that customers pay every time they use a bank service as payment method for each purchase. This fee does not directly affect sales.\n",
    "- Manual: Since there is no proper definition we can think of this as manual service provided for the purchase of an item.\n",
    "\n",
    "\n",
    "Except for Discount, all the other categories do not directly affect the sales. Hence, we can remove those from the data."
   ]
  },
  {
   "cell_type": "code",
   "execution_count": 25,
   "metadata": {},
   "outputs": [
    {
     "data": {
      "text/plain": [
       "0"
      ]
     },
     "execution_count": 25,
     "metadata": {},
     "output_type": "execute_result"
    }
   ],
   "source": [
    "not_products.remove('Discount')\n",
    "\n",
    "# Drop rows with not products\n",
    "ecommerce_data = ecommerce_data[~ecommerce_data['Description'].isin(not_products)]\n",
    "\n",
    "# validate the result\n",
    "ecommerce_data['Description'].isin(not_products).sum()"
   ]
  },
  {
   "cell_type": "code",
   "execution_count": 26,
   "metadata": {},
   "outputs": [
    {
     "name": "stdout",
     "output_type": "stream",
     "text": [
      "<class 'pandas.core.frame.DataFrame'>\n",
      "Index: 399690 entries, 0 to 401603\n",
      "Data columns (total 8 columns):\n",
      " #   Column       Non-Null Count   Dtype         \n",
      "---  ------       --------------   -----         \n",
      " 0   InvoiceNo    399690 non-null  object        \n",
      " 1   StockCode    399690 non-null  object        \n",
      " 2   Description  399690 non-null  object        \n",
      " 3   Quantity     399690 non-null  int64         \n",
      " 4   InvoiceDate  399690 non-null  datetime64[ns]\n",
      " 5   UnitPrice    399690 non-null  float64       \n",
      " 6   CustomerID   399690 non-null  object        \n",
      " 7   Country      399690 non-null  object        \n",
      "dtypes: datetime64[ns](1), float64(1), int64(1), object(5)\n",
      "memory usage: 27.4+ MB\n"
     ]
    }
   ],
   "source": [
    "ecommerce_data.info()"
   ]
  },
  {
   "cell_type": "markdown",
   "metadata": {},
   "source": [
    "## 2.2. Cancelled Transactions\n",
    "As the data description, invoiceNo starting with 'C' are cancelled transactions. Let's check if they are directly affected to the sales or not."
   ]
  },
  {
   "cell_type": "code",
   "execution_count": 27,
   "metadata": {},
   "outputs": [
    {
     "data": {
      "text/html": [
       "<div>\n",
       "<style scoped>\n",
       "    .dataframe tbody tr th:only-of-type {\n",
       "        vertical-align: middle;\n",
       "    }\n",
       "\n",
       "    .dataframe tbody tr th {\n",
       "        vertical-align: top;\n",
       "    }\n",
       "\n",
       "    .dataframe thead th {\n",
       "        text-align: right;\n",
       "    }\n",
       "</style>\n",
       "<table border=\"1\" class=\"dataframe\">\n",
       "  <thead>\n",
       "    <tr style=\"text-align: right;\">\n",
       "      <th></th>\n",
       "      <th>InvoiceNo</th>\n",
       "      <th>StockCode</th>\n",
       "      <th>Description</th>\n",
       "      <th>Quantity</th>\n",
       "      <th>InvoiceDate</th>\n",
       "      <th>UnitPrice</th>\n",
       "      <th>CustomerID</th>\n",
       "      <th>Country</th>\n",
       "    </tr>\n",
       "  </thead>\n",
       "  <tbody>\n",
       "    <tr>\n",
       "      <th>154</th>\n",
       "      <td>C536383</td>\n",
       "      <td>35004C</td>\n",
       "      <td>SET OF 3 COLOURED  FLYING DUCKS</td>\n",
       "      <td>-1</td>\n",
       "      <td>2010-12-01 09:49:00</td>\n",
       "      <td>4.65</td>\n",
       "      <td>15311</td>\n",
       "      <td>United Kingdom</td>\n",
       "    </tr>\n",
       "    <tr>\n",
       "      <th>235</th>\n",
       "      <td>C536391</td>\n",
       "      <td>22556</td>\n",
       "      <td>PLASTERS IN TIN CIRCUS PARADE</td>\n",
       "      <td>-12</td>\n",
       "      <td>2010-12-01 10:24:00</td>\n",
       "      <td>1.65</td>\n",
       "      <td>17548</td>\n",
       "      <td>United Kingdom</td>\n",
       "    </tr>\n",
       "    <tr>\n",
       "      <th>236</th>\n",
       "      <td>C536391</td>\n",
       "      <td>21984</td>\n",
       "      <td>PACK OF 12 PINK PAISLEY TISSUES</td>\n",
       "      <td>-24</td>\n",
       "      <td>2010-12-01 10:24:00</td>\n",
       "      <td>0.29</td>\n",
       "      <td>17548</td>\n",
       "      <td>United Kingdom</td>\n",
       "    </tr>\n",
       "    <tr>\n",
       "      <th>237</th>\n",
       "      <td>C536391</td>\n",
       "      <td>21983</td>\n",
       "      <td>PACK OF 12 BLUE PAISLEY TISSUES</td>\n",
       "      <td>-24</td>\n",
       "      <td>2010-12-01 10:24:00</td>\n",
       "      <td>0.29</td>\n",
       "      <td>17548</td>\n",
       "      <td>United Kingdom</td>\n",
       "    </tr>\n",
       "    <tr>\n",
       "      <th>238</th>\n",
       "      <td>C536391</td>\n",
       "      <td>21980</td>\n",
       "      <td>PACK OF 12 RED RETROSPOT TISSUES</td>\n",
       "      <td>-24</td>\n",
       "      <td>2010-12-01 10:24:00</td>\n",
       "      <td>0.29</td>\n",
       "      <td>17548</td>\n",
       "      <td>United Kingdom</td>\n",
       "    </tr>\n",
       "    <tr>\n",
       "      <th>239</th>\n",
       "      <td>C536391</td>\n",
       "      <td>21484</td>\n",
       "      <td>CHICK GREY HOT WATER BOTTLE</td>\n",
       "      <td>-12</td>\n",
       "      <td>2010-12-01 10:24:00</td>\n",
       "      <td>3.45</td>\n",
       "      <td>17548</td>\n",
       "      <td>United Kingdom</td>\n",
       "    </tr>\n",
       "    <tr>\n",
       "      <th>240</th>\n",
       "      <td>C536391</td>\n",
       "      <td>22557</td>\n",
       "      <td>PLASTERS IN TIN VINTAGE PAISLEY</td>\n",
       "      <td>-12</td>\n",
       "      <td>2010-12-01 10:24:00</td>\n",
       "      <td>1.65</td>\n",
       "      <td>17548</td>\n",
       "      <td>United Kingdom</td>\n",
       "    </tr>\n",
       "    <tr>\n",
       "      <th>241</th>\n",
       "      <td>C536391</td>\n",
       "      <td>22553</td>\n",
       "      <td>PLASTERS IN TIN SKULLS</td>\n",
       "      <td>-24</td>\n",
       "      <td>2010-12-01 10:24:00</td>\n",
       "      <td>1.65</td>\n",
       "      <td>17548</td>\n",
       "      <td>United Kingdom</td>\n",
       "    </tr>\n",
       "    <tr>\n",
       "      <th>915</th>\n",
       "      <td>C536506</td>\n",
       "      <td>22960</td>\n",
       "      <td>JAM MAKING SET WITH JARS</td>\n",
       "      <td>-6</td>\n",
       "      <td>2010-12-01 12:38:00</td>\n",
       "      <td>4.25</td>\n",
       "      <td>17897</td>\n",
       "      <td>United Kingdom</td>\n",
       "    </tr>\n",
       "    <tr>\n",
       "      <th>1404</th>\n",
       "      <td>C536543</td>\n",
       "      <td>22632</td>\n",
       "      <td>HAND WARMER RED RETROSPOT</td>\n",
       "      <td>-1</td>\n",
       "      <td>2010-12-01 14:30:00</td>\n",
       "      <td>2.10</td>\n",
       "      <td>17841</td>\n",
       "      <td>United Kingdom</td>\n",
       "    </tr>\n",
       "  </tbody>\n",
       "</table>\n",
       "</div>"
      ],
      "text/plain": [
       "     InvoiceNo StockCode                        Description  Quantity  \\\n",
       "154    C536383    35004C    SET OF 3 COLOURED  FLYING DUCKS        -1   \n",
       "235    C536391     22556     PLASTERS IN TIN CIRCUS PARADE        -12   \n",
       "236    C536391     21984   PACK OF 12 PINK PAISLEY TISSUES        -24   \n",
       "237    C536391     21983   PACK OF 12 BLUE PAISLEY TISSUES        -24   \n",
       "238    C536391     21980  PACK OF 12 RED RETROSPOT TISSUES        -24   \n",
       "239    C536391     21484        CHICK GREY HOT WATER BOTTLE       -12   \n",
       "240    C536391     22557   PLASTERS IN TIN VINTAGE PAISLEY        -12   \n",
       "241    C536391     22553             PLASTERS IN TIN SKULLS       -24   \n",
       "915    C536506     22960           JAM MAKING SET WITH JARS        -6   \n",
       "1404   C536543     22632          HAND WARMER RED RETROSPOT        -1   \n",
       "\n",
       "             InvoiceDate  UnitPrice CustomerID         Country  \n",
       "154  2010-12-01 09:49:00       4.65      15311  United Kingdom  \n",
       "235  2010-12-01 10:24:00       1.65      17548  United Kingdom  \n",
       "236  2010-12-01 10:24:00       0.29      17548  United Kingdom  \n",
       "237  2010-12-01 10:24:00       0.29      17548  United Kingdom  \n",
       "238  2010-12-01 10:24:00       0.29      17548  United Kingdom  \n",
       "239  2010-12-01 10:24:00       3.45      17548  United Kingdom  \n",
       "240  2010-12-01 10:24:00       1.65      17548  United Kingdom  \n",
       "241  2010-12-01 10:24:00       1.65      17548  United Kingdom  \n",
       "915  2010-12-01 12:38:00       4.25      17897  United Kingdom  \n",
       "1404 2010-12-01 14:30:00       2.10      17841  United Kingdom  "
      ]
     },
     "execution_count": 27,
     "metadata": {},
     "output_type": "execute_result"
    }
   ],
   "source": [
    "condition = (ecommerce_data['InvoiceNo'].str.contains('C')) & (~ecommerce_data['Description'].str.contains('Discount'))\n",
    "ecommerce_data[condition].head(10)"
   ]
  },
  {
   "cell_type": "code",
   "execution_count": 28,
   "metadata": {},
   "outputs": [
    {
     "data": {
      "text/plain": [
       "(array([2.000e+00, 0.000e+00, 0.000e+00, 0.000e+00, 0.000e+00, 0.000e+00,\n",
       "        0.000e+00, 0.000e+00, 1.000e+00, 8.502e+03]),\n",
       " array([-8.09950e+04, -7.28956e+04, -6.47962e+04, -5.66968e+04,\n",
       "        -4.85974e+04, -4.04980e+04, -3.23986e+04, -2.42992e+04,\n",
       "        -1.61998e+04, -8.10040e+03, -1.00000e+00]),\n",
       " <BarContainer object of 10 artists>)"
      ]
     },
     "execution_count": 28,
     "metadata": {},
     "output_type": "execute_result"
    },
    {
     "data": {
      "image/png": "[encoded data removed]",
      "text/plain": [
       "<Figure size 640x480 with 1 Axes>"
      ]
     },
     "metadata": {},
     "output_type": "display_data"
    }
   ],
   "source": [
    "plt.hist(ecommerce_data[condition]['Quantity'])"
   ]
  },
  {
   "cell_type": "code",
   "execution_count": 29,
   "metadata": {},
   "outputs": [
    {
     "data": {
      "text/plain": [
       "Description\n",
       "REGENCY CAKESTAND 3 TIER              180\n",
       "JAM MAKING SET WITH JARS               86\n",
       "SET OF 3 CAKE TINS PANTRY DESIGN       72\n",
       "STRAWBERRY CERAMIC TRINKET BOX         54\n",
       "ROSES REGENCY TEACUP AND SAUCER        53\n",
       "RECIPE BOX PANTRY YELLOW DESIGN        47\n",
       "JUMBO BAG RED RETROSPOT                44\n",
       "WOOD 2 DRAWER CABINET WHITE FINISH     42\n",
       "WHITE HANGING HEART T-LIGHT HOLDER     42\n",
       "LUNCH BAG RED RETROSPOT                42\n",
       "Name: count, dtype: int64"
      ]
     },
     "execution_count": 29,
     "metadata": {},
     "output_type": "execute_result"
    }
   ],
   "source": [
    "ecommerce_data[condition]['Description'].value_counts().head(10)"
   ]
  },
  {
   "cell_type": "code",
   "execution_count": 30,
   "metadata": {},
   "outputs": [
    {
     "data": {
      "text/html": [
       "<div>\n",
       "<style scoped>\n",
       "    .dataframe tbody tr th:only-of-type {\n",
       "        vertical-align: middle;\n",
       "    }\n",
       "\n",
       "    .dataframe tbody tr th {\n",
       "        vertical-align: top;\n",
       "    }\n",
       "\n",
       "    .dataframe thead th {\n",
       "        text-align: right;\n",
       "    }\n",
       "</style>\n",
       "<table border=\"1\" class=\"dataframe\">\n",
       "  <thead>\n",
       "    <tr style=\"text-align: right;\">\n",
       "      <th></th>\n",
       "      <th>InvoiceNo</th>\n",
       "      <th>StockCode</th>\n",
       "      <th>Description</th>\n",
       "      <th>Quantity</th>\n",
       "      <th>InvoiceDate</th>\n",
       "      <th>UnitPrice</th>\n",
       "      <th>CustomerID</th>\n",
       "      <th>Country</th>\n",
       "    </tr>\n",
       "  </thead>\n",
       "  <tbody>\n",
       "    <tr>\n",
       "      <th>235</th>\n",
       "      <td>C536391</td>\n",
       "      <td>22556</td>\n",
       "      <td>PLASTERS IN TIN CIRCUS PARADE</td>\n",
       "      <td>-12</td>\n",
       "      <td>2010-12-01 10:24:00</td>\n",
       "      <td>1.65</td>\n",
       "      <td>17548</td>\n",
       "      <td>United Kingdom</td>\n",
       "    </tr>\n",
       "    <tr>\n",
       "      <th>236</th>\n",
       "      <td>C536391</td>\n",
       "      <td>21984</td>\n",
       "      <td>PACK OF 12 PINK PAISLEY TISSUES</td>\n",
       "      <td>-24</td>\n",
       "      <td>2010-12-01 10:24:00</td>\n",
       "      <td>0.29</td>\n",
       "      <td>17548</td>\n",
       "      <td>United Kingdom</td>\n",
       "    </tr>\n",
       "    <tr>\n",
       "      <th>237</th>\n",
       "      <td>C536391</td>\n",
       "      <td>21983</td>\n",
       "      <td>PACK OF 12 BLUE PAISLEY TISSUES</td>\n",
       "      <td>-24</td>\n",
       "      <td>2010-12-01 10:24:00</td>\n",
       "      <td>0.29</td>\n",
       "      <td>17548</td>\n",
       "      <td>United Kingdom</td>\n",
       "    </tr>\n",
       "    <tr>\n",
       "      <th>238</th>\n",
       "      <td>C536391</td>\n",
       "      <td>21980</td>\n",
       "      <td>PACK OF 12 RED RETROSPOT TISSUES</td>\n",
       "      <td>-24</td>\n",
       "      <td>2010-12-01 10:24:00</td>\n",
       "      <td>0.29</td>\n",
       "      <td>17548</td>\n",
       "      <td>United Kingdom</td>\n",
       "    </tr>\n",
       "    <tr>\n",
       "      <th>239</th>\n",
       "      <td>C536391</td>\n",
       "      <td>21484</td>\n",
       "      <td>CHICK GREY HOT WATER BOTTLE</td>\n",
       "      <td>-12</td>\n",
       "      <td>2010-12-01 10:24:00</td>\n",
       "      <td>3.45</td>\n",
       "      <td>17548</td>\n",
       "      <td>United Kingdom</td>\n",
       "    </tr>\n",
       "  </tbody>\n",
       "</table>\n",
       "</div>"
      ],
      "text/plain": [
       "    InvoiceNo StockCode                        Description  Quantity  \\\n",
       "235   C536391     22556     PLASTERS IN TIN CIRCUS PARADE        -12   \n",
       "236   C536391     21984   PACK OF 12 PINK PAISLEY TISSUES        -24   \n",
       "237   C536391     21983   PACK OF 12 BLUE PAISLEY TISSUES        -24   \n",
       "238   C536391     21980  PACK OF 12 RED RETROSPOT TISSUES        -24   \n",
       "239   C536391     21484        CHICK GREY HOT WATER BOTTLE       -12   \n",
       "\n",
       "            InvoiceDate  UnitPrice CustomerID         Country  \n",
       "235 2010-12-01 10:24:00       1.65      17548  United Kingdom  \n",
       "236 2010-12-01 10:24:00       0.29      17548  United Kingdom  \n",
       "237 2010-12-01 10:24:00       0.29      17548  United Kingdom  \n",
       "238 2010-12-01 10:24:00       0.29      17548  United Kingdom  \n",
       "239 2010-12-01 10:24:00       3.45      17548  United Kingdom  "
      ]
     },
     "execution_count": 30,
     "metadata": {},
     "output_type": "execute_result"
    }
   ],
   "source": [
    "ecommerce_data[ecommerce_data['CustomerID']=='17548'].sort_values(by='InvoiceDate').head(5)"
   ]
  },
  {
   "cell_type": "markdown",
   "metadata": {},
   "source": [
    "Cancelled Transactions are refunded transactions for the customers after they cancelled their orders, this data is directly affecting the sales only when it had a successful recorded order beforehand. (For example: on 2010-12-01, there is only the cancelled Invoice, this does not make sense since it lacks it's cancelled order since the data is recorded from 2010-12-01, therefore, it does not accurately represent an aspect of monetary and should be excluded from the calcualation)"
   ]
  },
  {
   "cell_type": "code",
   "execution_count": 31,
   "metadata": {},
   "outputs": [
    {
     "data": {
      "text/html": [
       "<div>\n",
       "<style scoped>\n",
       "    .dataframe tbody tr th:only-of-type {\n",
       "        vertical-align: middle;\n",
       "    }\n",
       "\n",
       "    .dataframe tbody tr th {\n",
       "        vertical-align: top;\n",
       "    }\n",
       "\n",
       "    .dataframe thead th {\n",
       "        text-align: right;\n",
       "    }\n",
       "</style>\n",
       "<table border=\"1\" class=\"dataframe\">\n",
       "  <thead>\n",
       "    <tr style=\"text-align: right;\">\n",
       "      <th></th>\n",
       "      <th>CustomerID</th>\n",
       "      <th>InvoiceOnlyDate</th>\n",
       "      <th>Monetary</th>\n",
       "      <th>InvoiceNo</th>\n",
       "    </tr>\n",
       "  </thead>\n",
       "  <tbody>\n",
       "    <tr>\n",
       "      <th>0</th>\n",
       "      <td>12346</td>\n",
       "      <td>2011-01-18</td>\n",
       "      <td>0.00</td>\n",
       "      <td>1.0</td>\n",
       "    </tr>\n",
       "    <tr>\n",
       "      <th>1</th>\n",
       "      <td>12347</td>\n",
       "      <td>2010-12-07</td>\n",
       "      <td>711.79</td>\n",
       "      <td>1.0</td>\n",
       "    </tr>\n",
       "    <tr>\n",
       "      <th>2</th>\n",
       "      <td>12347</td>\n",
       "      <td>2011-01-26</td>\n",
       "      <td>475.39</td>\n",
       "      <td>1.0</td>\n",
       "    </tr>\n",
       "    <tr>\n",
       "      <th>3</th>\n",
       "      <td>12347</td>\n",
       "      <td>2011-04-07</td>\n",
       "      <td>636.25</td>\n",
       "      <td>1.0</td>\n",
       "    </tr>\n",
       "    <tr>\n",
       "      <th>4</th>\n",
       "      <td>12347</td>\n",
       "      <td>2011-06-09</td>\n",
       "      <td>382.52</td>\n",
       "      <td>1.0</td>\n",
       "    </tr>\n",
       "  </tbody>\n",
       "</table>\n",
       "</div>"
      ],
      "text/plain": [
       "  CustomerID InvoiceOnlyDate  Monetary  InvoiceNo\n",
       "0      12346      2011-01-18      0.00        1.0\n",
       "1      12347      2010-12-07    711.79        1.0\n",
       "2      12347      2011-01-26    475.39        1.0\n",
       "3      12347      2011-04-07    636.25        1.0\n",
       "4      12347      2011-06-09    382.52        1.0"
      ]
     },
     "execution_count": 31,
     "metadata": {},
     "output_type": "execute_result"
    }
   ],
   "source": [
    "# Calculate the Monetary value for each record\n",
    "ecommerce_data['Monetary'] = ecommerce_data['Quantity'] * ecommerce_data['UnitPrice']\n",
    "# Create a new column for the date only\n",
    "ecommerce_data['InvoiceOnlyDate'] = ecommerce_data['InvoiceDate'].apply(lambda x: dt.datetime.date(x))\n",
    "# pre-processed data\n",
    "preprocessed_data = ecommerce_data.groupby(['CustomerID','InvoiceOnlyDate']).agg({\n",
    "    'Monetary': 'sum' # Monetary value: sum of all transactions\n",
    "    ,'InvoiceNo': 'nunique'\n",
    "}).reset_index()\n",
    "\n",
    "cancelled_data = ecommerce_data[(ecommerce_data['InvoiceNo'].str.contains('C'))].groupby(['CustomerID','InvoiceOnlyDate']).agg({\n",
    "    'InvoiceNo': 'nunique'\n",
    "}).rename(columns={'InvoiceNo':'CancelledNo'}).reset_index()\n",
    "preprocessed_data = preprocessed_data.merge(cancelled_data, on=['CustomerID','InvoiceOnlyDate'], how='left').fillna(0)\n",
    "preprocessed_data['InvoiceNo'] = preprocessed_data['InvoiceNo'] - preprocessed_data['CancelledNo']\n",
    "preprocessed_data.drop(columns=['CancelledNo'], inplace=True)\n",
    "preprocessed_data.head()"
   ]
  },
  {
   "cell_type": "code",
   "execution_count": 32,
   "metadata": {},
   "outputs": [
    {
     "name": "stdout",
     "output_type": "stream",
     "text": [
      "<class 'pandas.core.frame.DataFrame'>\n",
      "RangeIndex: 19129 entries, 0 to 19128\n",
      "Data columns (total 4 columns):\n",
      " #   Column           Non-Null Count  Dtype  \n",
      "---  ------           --------------  -----  \n",
      " 0   CustomerID       19129 non-null  object \n",
      " 1   InvoiceOnlyDate  19129 non-null  object \n",
      " 2   Monetary         19129 non-null  float64\n",
      " 3   InvoiceNo        19129 non-null  float64\n",
      "dtypes: float64(2), object(2)\n",
      "memory usage: 597.9+ KB\n"
     ]
    }
   ],
   "source": [
    "preprocessed_data.info()"
   ]
  },
  {
   "cell_type": "code",
   "execution_count": 33,
   "metadata": {},
   "outputs": [],
   "source": [
    "# Remove negative and zero Monetary values\n",
    "first_purchase_indexes = preprocessed_data.groupby('CustomerID')['InvoiceOnlyDate'].idxmin()\n",
    "first_payment = preprocessed_data.loc[first_purchase_indexes, 'Monetary']\n",
    "while any(x <= 0 for x in first_payment):\n",
    "    preprocessed_data.drop(first_payment[first_payment <= 0].index, inplace=True)\n",
    "    first_purchase_indexes = preprocessed_data.groupby('CustomerID')['InvoiceOnlyDate'].idxmin()\n",
    "    first_payment = preprocessed_data.loc[first_purchase_indexes, 'Monetary']"
   ]
  },
  {
   "cell_type": "code",
   "execution_count": 34,
   "metadata": {},
   "outputs": [
    {
     "name": "stdout",
     "output_type": "stream",
     "text": [
      "<class 'pandas.core.frame.DataFrame'>\n",
      "Index: 18980 entries, 1 to 19128\n",
      "Data columns (total 4 columns):\n",
      " #   Column           Non-Null Count  Dtype  \n",
      "---  ------           --------------  -----  \n",
      " 0   CustomerID       18980 non-null  object \n",
      " 1   InvoiceOnlyDate  18980 non-null  object \n",
      " 2   Monetary         18980 non-null  float64\n",
      " 3   InvoiceNo        18980 non-null  float64\n",
      "dtypes: float64(2), object(2)\n",
      "memory usage: 1.2+ MB\n"
     ]
    }
   ],
   "source": [
    "preprocessed_data.info()"
   ]
  },
  {
   "cell_type": "code",
   "execution_count": 35,
   "metadata": {},
   "outputs": [
    {
     "data": {
      "text/html": [
       "<div>\n",
       "<style scoped>\n",
       "    .dataframe tbody tr th:only-of-type {\n",
       "        vertical-align: middle;\n",
       "    }\n",
       "\n",
       "    .dataframe tbody tr th {\n",
       "        vertical-align: top;\n",
       "    }\n",
       "\n",
       "    .dataframe thead th {\n",
       "        text-align: right;\n",
       "    }\n",
       "</style>\n",
       "<table border=\"1\" class=\"dataframe\">\n",
       "  <thead>\n",
       "    <tr style=\"text-align: right;\">\n",
       "      <th></th>\n",
       "      <th>CustomerID</th>\n",
       "      <th>InvoiceOnlyDate</th>\n",
       "      <th>Monetary</th>\n",
       "      <th>InvoiceNo</th>\n",
       "    </tr>\n",
       "  </thead>\n",
       "  <tbody>\n",
       "    <tr>\n",
       "      <th>1</th>\n",
       "      <td>12347</td>\n",
       "      <td>2010-12-07</td>\n",
       "      <td>711.79</td>\n",
       "      <td>1.0</td>\n",
       "    </tr>\n",
       "    <tr>\n",
       "      <th>2</th>\n",
       "      <td>12347</td>\n",
       "      <td>2011-01-26</td>\n",
       "      <td>475.39</td>\n",
       "      <td>1.0</td>\n",
       "    </tr>\n",
       "    <tr>\n",
       "      <th>3</th>\n",
       "      <td>12347</td>\n",
       "      <td>2011-04-07</td>\n",
       "      <td>636.25</td>\n",
       "      <td>1.0</td>\n",
       "    </tr>\n",
       "    <tr>\n",
       "      <th>4</th>\n",
       "      <td>12347</td>\n",
       "      <td>2011-06-09</td>\n",
       "      <td>382.52</td>\n",
       "      <td>1.0</td>\n",
       "    </tr>\n",
       "    <tr>\n",
       "      <th>5</th>\n",
       "      <td>12347</td>\n",
       "      <td>2011-08-02</td>\n",
       "      <td>584.91</td>\n",
       "      <td>1.0</td>\n",
       "    </tr>\n",
       "    <tr>\n",
       "      <th>6</th>\n",
       "      <td>12347</td>\n",
       "      <td>2011-10-31</td>\n",
       "      <td>1294.32</td>\n",
       "      <td>1.0</td>\n",
       "    </tr>\n",
       "    <tr>\n",
       "      <th>7</th>\n",
       "      <td>12347</td>\n",
       "      <td>2011-12-07</td>\n",
       "      <td>224.82</td>\n",
       "      <td>1.0</td>\n",
       "    </tr>\n",
       "    <tr>\n",
       "      <th>8</th>\n",
       "      <td>12348</td>\n",
       "      <td>2010-12-16</td>\n",
       "      <td>652.80</td>\n",
       "      <td>1.0</td>\n",
       "    </tr>\n",
       "    <tr>\n",
       "      <th>9</th>\n",
       "      <td>12348</td>\n",
       "      <td>2011-01-25</td>\n",
       "      <td>187.44</td>\n",
       "      <td>1.0</td>\n",
       "    </tr>\n",
       "    <tr>\n",
       "      <th>10</th>\n",
       "      <td>12348</td>\n",
       "      <td>2011-04-05</td>\n",
       "      <td>327.00</td>\n",
       "      <td>1.0</td>\n",
       "    </tr>\n",
       "  </tbody>\n",
       "</table>\n",
       "</div>"
      ],
      "text/plain": [
       "   CustomerID InvoiceOnlyDate  Monetary  InvoiceNo\n",
       "1       12347      2010-12-07    711.79        1.0\n",
       "2       12347      2011-01-26    475.39        1.0\n",
       "3       12347      2011-04-07    636.25        1.0\n",
       "4       12347      2011-06-09    382.52        1.0\n",
       "5       12347      2011-08-02    584.91        1.0\n",
       "6       12347      2011-10-31   1294.32        1.0\n",
       "7       12347      2011-12-07    224.82        1.0\n",
       "8       12348      2010-12-16    652.80        1.0\n",
       "9       12348      2011-01-25    187.44        1.0\n",
       "10      12348      2011-04-05    327.00        1.0"
      ]
     },
     "execution_count": 35,
     "metadata": {},
     "output_type": "execute_result"
    }
   ],
   "source": [
    "preprocessed_data.head(10)"
   ]
  },
  {
   "cell_type": "code",
   "execution_count": 36,
   "metadata": {},
   "outputs": [
    {
     "data": {
      "text/plain": [
       "4332"
      ]
     },
     "execution_count": 36,
     "metadata": {},
     "output_type": "execute_result"
    }
   ],
   "source": [
    "preprocessed_data.CustomerID.nunique()"
   ]
  },
  {
   "cell_type": "markdown",
   "metadata": {},
   "source": [
    "The data is cleaned and ready to generate the RFM Score"
   ]
  },
  {
   "cell_type": "markdown",
   "metadata": {},
   "source": [
    "# III. Features Engineering\n",
    "- **Recency (days)**: Measures how recent was each customer's last purchase\n",
    "- **Frequency (invoices)**: Measures how many purchases the customer has done in the recorded period (in this case 12-month)\n",
    "- **Monetary (M)**: How much money a customer spends in the recorded period (in this case 12-month). Customers who spend more are considered high-value and should be prioritized in retention and upselling strategies."
   ]
  },
  {
   "cell_type": "markdown",
   "metadata": {},
   "source": [
    "## 3.1. Generating Recency, Frequency, Monetary Features"
   ]
  },
  {
   "cell_type": "code",
   "execution_count": 37,
   "metadata": {},
   "outputs": [
    {
     "data": {
      "text/html": [
       "<div>\n",
       "<style scoped>\n",
       "    .dataframe tbody tr th:only-of-type {\n",
       "        vertical-align: middle;\n",
       "    }\n",
       "\n",
       "    .dataframe tbody tr th {\n",
       "        vertical-align: top;\n",
       "    }\n",
       "\n",
       "    .dataframe thead th {\n",
       "        text-align: right;\n",
       "    }\n",
       "</style>\n",
       "<table border=\"1\" class=\"dataframe\">\n",
       "  <thead>\n",
       "    <tr style=\"text-align: right;\">\n",
       "      <th></th>\n",
       "      <th>Recency</th>\n",
       "      <th>Frequency</th>\n",
       "      <th>Monetary</th>\n",
       "    </tr>\n",
       "    <tr>\n",
       "      <th>CustomerID</th>\n",
       "      <th></th>\n",
       "      <th></th>\n",
       "      <th></th>\n",
       "    </tr>\n",
       "  </thead>\n",
       "  <tbody>\n",
       "    <tr>\n",
       "      <th>12347</th>\n",
       "      <td>2</td>\n",
       "      <td>7</td>\n",
       "      <td>4310.00</td>\n",
       "    </tr>\n",
       "    <tr>\n",
       "      <th>12348</th>\n",
       "      <td>75</td>\n",
       "      <td>4</td>\n",
       "      <td>1437.24</td>\n",
       "    </tr>\n",
       "    <tr>\n",
       "      <th>12349</th>\n",
       "      <td>18</td>\n",
       "      <td>1</td>\n",
       "      <td>1457.55</td>\n",
       "    </tr>\n",
       "    <tr>\n",
       "      <th>12350</th>\n",
       "      <td>310</td>\n",
       "      <td>1</td>\n",
       "      <td>294.40</td>\n",
       "    </tr>\n",
       "    <tr>\n",
       "      <th>12352</th>\n",
       "      <td>36</td>\n",
       "      <td>7</td>\n",
       "      <td>1265.41</td>\n",
       "    </tr>\n",
       "  </tbody>\n",
       "</table>\n",
       "</div>"
      ],
      "text/plain": [
       "            Recency  Frequency  Monetary\n",
       "CustomerID                              \n",
       "12347             2          7   4310.00\n",
       "12348            75          4   1437.24\n",
       "12349            18          1   1457.55\n",
       "12350           310          1    294.40\n",
       "12352            36          7   1265.41"
      ]
     },
     "execution_count": 37,
     "metadata": {},
     "output_type": "execute_result"
    }
   ],
   "source": [
    "processed_data = preprocessed_data.groupby('CustomerID').agg({\n",
    "    'InvoiceOnlyDate': 'max', # Recency: the last transaction date\n",
    "    'InvoiceNo': 'sum', # Frequency: total number of transactions excluding cancelled ones\n",
    "    'Monetary': 'sum' # Monetary: sum of all transactions\n",
    "}).rename(columns={\n",
    "    'InvoiceOnlyDate': 'Recency'\n",
    "    ,'InvoiceNo': 'Frequency'\n",
    "})\n",
    "processed_data['Frequency'] = processed_data['Frequency'].astype(int)\n",
    "processed_data['Recency'] = (processed_data['Recency'].max() - processed_data['Recency'])\n",
    "processed_data['Recency'] = processed_data['Recency'].apply(lambda x: x.days)\n",
    "processed_data.head()"
   ]
  },
  {
   "cell_type": "code",
   "execution_count": 38,
   "metadata": {},
   "outputs": [
    {
     "name": "stdout",
     "output_type": "stream",
     "text": [
      "<class 'pandas.core.frame.DataFrame'>\n",
      "Index: 4332 entries, 12347 to 18287\n",
      "Data columns (total 3 columns):\n",
      " #   Column     Non-Null Count  Dtype  \n",
      "---  ------     --------------  -----  \n",
      " 0   Recency    4332 non-null   int64  \n",
      " 1   Frequency  4332 non-null   int32  \n",
      " 2   Monetary   4332 non-null   float64\n",
      "dtypes: float64(1), int32(1), int64(1)\n",
      "memory usage: 118.5+ KB\n"
     ]
    }
   ],
   "source": [
    "processed_data.info()"
   ]
  },
  {
   "cell_type": "code",
   "execution_count": 39,
   "metadata": {},
   "outputs": [
    {
     "name": "stdout",
     "output_type": "stream",
     "text": [
      "skewness: 1.2603365850994042\n"
     ]
    },
    {
     "data": {
      "text/plain": [
       "<Figure size 900x900 with 0 Axes>"
      ]
     },
     "execution_count": 39,
     "metadata": {},
     "output_type": "execute_result"
    },
    {
     "data": {
      "image/png": "[encoded data removed]",
      "text/plain": [
       "<Figure size 900x900 with 2 Axes>"
      ]
     },
     "metadata": {},
     "output_type": "display_data"
    }
   ],
   "source": [
    "# Create 2x1 sub plots\n",
    "gs = gridspec.GridSpec(2, 1)\n",
    "\n",
    "x = processed_data['Recency']\n",
    "\n",
    "# Calculate the skewness \n",
    "print(f'skewness: {skew(x, axis=0, bias=True)}')\n",
    "\n",
    "# Create a figure\n",
    "plt.figure(figsize=(9,9))\n",
    "\n",
    "# add axes_1 row 0, col 0\n",
    "ax1 = plt.subplot(gs[0, 0]) \n",
    "ax1 = plt.hist(x, bins=40)\n",
    "\n",
    "# add axes_2 row 1, col 0\n",
    "ax2 = plt.subplot(gs[1, 0]) \n",
    "ax2 = sns.boxplot(\n",
    "    data=x\n",
    "    ,orient='h'\n",
    ")\n",
    "\n",
    "# display plot\n",
    "plt.show()"
   ]
  },
  {
   "cell_type": "code",
   "execution_count": 40,
   "metadata": {},
   "outputs": [
    {
     "name": "stdout",
     "output_type": "stream",
     "text": [
      "skewness: 11.941316632319461\n"
     ]
    },
    {
     "data": {
      "text/plain": [
       "<Figure size 900x900 with 0 Axes>"
      ]
     },
     "execution_count": 40,
     "metadata": {},
     "output_type": "execute_result"
    },
    {
     "data": {
      "image/png": "[encoded data removed]",
      "text/plain": [
       "<Figure size 900x900 with 2 Axes>"
      ]
     },
     "metadata": {},
     "output_type": "display_data"
    }
   ],
   "source": [
    "# Create 2x1 sub plots\n",
    "gs = gridspec.GridSpec(2, 1)\n",
    "\n",
    "x = processed_data['Frequency']\n",
    "\n",
    "# Calculate the skewness \n",
    "print(f'skewness: {skew(x, axis=0, bias=True)}')\n",
    "\n",
    "# Create a figure\n",
    "plt.figure(figsize=(9,9))\n",
    "\n",
    "# add axes_1 row 0, col 0\n",
    "ax1 = plt.subplot(gs[0, 0]) \n",
    "ax1 = plt.hist(x, bins=40)\n",
    "\n",
    "# add axes_2 row 1, col 0\n",
    "ax2 = plt.subplot(gs[1, 0]) \n",
    "ax2 = sns.boxplot(\n",
    "    data=x\n",
    "    ,orient='h'\n",
    ")\n",
    "\n",
    "# display plot\n",
    "plt.show()"
   ]
  },
  {
   "cell_type": "code",
   "execution_count": 41,
   "metadata": {},
   "outputs": [
    {
     "name": "stdout",
     "output_type": "stream",
     "text": [
      "skewness: 21.565161216928185\n"
     ]
    },
    {
     "data": {
      "text/plain": [
       "<Figure size 900x900 with 0 Axes>"
      ]
     },
     "execution_count": 41,
     "metadata": {},
     "output_type": "execute_result"
    },
    {
     "data": {
      "image/png": "[encoded data removed]",
      "text/plain": [
       "<Figure size 900x900 with 2 Axes>"
      ]
     },
     "metadata": {},
     "output_type": "display_data"
    }
   ],
   "source": [
    "# Create 2x1 sub plots\n",
    "gs = gridspec.GridSpec(2, 1)\n",
    "\n",
    "x = processed_data['Monetary']\n",
    "\n",
    "# Calculate the skewness \n",
    "print(f'skewness: {skew(x, axis=0, bias=True)}')\n",
    "\n",
    "# Create a figure\n",
    "plt.figure(figsize=(9,9))\n",
    "\n",
    "# add axes_1 row 0, col 0\n",
    "ax1 = plt.subplot(gs[0, 0]) \n",
    "ax1 = plt.hist(x, bins=50)\n",
    "\n",
    "# add axes_2 row 1, col 0\n",
    "ax2 = plt.subplot(gs[1, 0]) \n",
    "ax2 = sns.boxplot(\n",
    "    data=x\n",
    "    ,orient='h'\n",
    ")\n",
    "\n",
    "# display plot\n",
    "plt.show()"
   ]
  },
  {
   "cell_type": "markdown",
   "metadata": {},
   "source": [
    "After looking at the extremely skewed distribution (Frequency & Monetary) of each feature, \n",
    "\n",
    "I came to an conclusion that we can not use Quantile Cuts method to segment customers based on Recency, Frequency, and Monetary (RFM) metrics since with highly skewed or unevenly distributed, using quantile cuts might lead to unbalanced segments.\n",
    "\n",
    "Instead, using a method based on percentiles and the IQR can help to create more robust thresholds that focus on the majority of your data, while excluding extreme outliers.\n",
    "\n",
    "Method Detail: \n",
    "- Outlier Detection: The formula Q75 + 1.5 * IQR is a standard rule for detecting outliers. The IQR (Interquartile Range) is the difference between the 25th percentile (Q25) and the 75th percentile (Q75), which measures the spread of the middle 50% of the data. By setting the threshold as Q75 + 1.5 * IQR, I will define a cutoff beyond which values can be considered outliers (values beyond Q75 + 1.5 * IQR are considered unusually high). This method will be applied for Frequency and Monetary because of their extremely high skewness (>10)\n",
    "- Quantile Cuts: Divide each RFM variable (Recency because of it's low skewness) into several equal-sized groups based on the quantiles of the distribution. Commonly, we use quartiles (4 groups)"
   ]
  },
  {
   "cell_type": "markdown",
   "metadata": {},
   "source": [
    "## 3.2. Generating Scores of each Feature"
   ]
  },
  {
   "cell_type": "markdown",
   "metadata": {},
   "source": [
    "### 3.2.1. Frequency Score"
   ]
  },
  {
   "cell_type": "code",
   "execution_count": 42,
   "metadata": {},
   "outputs": [],
   "source": [
    "# Disable SettingWithCopyWarning\n",
    "# reference: https://stackoverflow.com/questions/20625582/how-to-deal-with-settingwithcopywarning-in-pandas\n",
    "pd.options.mode.chained_assignment = None  # default='warn'\n",
    "\n",
    "IQR = processed_data['Frequency'].quantile(0.75) - processed_data['Frequency'].quantile(0.25)\n",
    "threshold = processed_data['Frequency'].quantile(0.75) + 1.5 * IQR\n",
    "\n",
    "low_frequency = processed_data[processed_data['Frequency'] <= threshold]\n",
    "IQR = low_frequency['Frequency'].quantile(0.75) - low_frequency['Frequency'].quantile(0.25)\n",
    "threshold = low_frequency['Frequency'].quantile(0.75) + 1.5 * IQR\n",
    "\n",
    "low_frequency_df = low_frequency[low_frequency['Frequency'] <= threshold]\n",
    "low_frequency_df['FrequencyScore'] = 1\n",
    "\n",
    "high_frequency = processed_data[processed_data['Frequency'] > threshold]\n",
    "IQR = high_frequency['Frequency'].quantile(0.75) - high_frequency['Frequency'].quantile(0.25)\n",
    "threshold = high_frequency['Frequency'].quantile(0.75) + 1.5 * IQR\n",
    "\n",
    "high_frequency_df = high_frequency[high_frequency['Frequency'] <= threshold]\n",
    "high_frequency_df['FrequencyScore'] = 2\n",
    "\n",
    "very_high_frequency = high_frequency[high_frequency['Frequency'] > threshold]\n",
    "IQR = very_high_frequency['Frequency'].quantile(0.75) - very_high_frequency['Frequency'].quantile(0.25)\n",
    "threshold = very_high_frequency['Frequency'].quantile(0.75) + 1.5 * IQR\n",
    "\n",
    "very_high_frequency_df = very_high_frequency[very_high_frequency['Frequency'] <= threshold]\n",
    "very_high_frequency_df['FrequencyScore'] = 3\n",
    "\n",
    "very_very_high_frequency_df = very_high_frequency[very_high_frequency['Frequency'] > threshold]\n",
    "very_very_high_frequency_df['FrequencyScore'] = 4"
   ]
  },
  {
   "cell_type": "code",
   "execution_count": 43,
   "metadata": {},
   "outputs": [
    {
     "data": {
      "text/html": [
       "<div>\n",
       "<style scoped>\n",
       "    .dataframe tbody tr th:only-of-type {\n",
       "        vertical-align: middle;\n",
       "    }\n",
       "\n",
       "    .dataframe tbody tr th {\n",
       "        vertical-align: top;\n",
       "    }\n",
       "\n",
       "    .dataframe thead th {\n",
       "        text-align: right;\n",
       "    }\n",
       "</style>\n",
       "<table border=\"1\" class=\"dataframe\">\n",
       "  <thead>\n",
       "    <tr style=\"text-align: right;\">\n",
       "      <th></th>\n",
       "      <th>Recency</th>\n",
       "      <th>Frequency</th>\n",
       "      <th>Monetary</th>\n",
       "      <th>FrequencyScore</th>\n",
       "    </tr>\n",
       "    <tr>\n",
       "      <th>CustomerID</th>\n",
       "      <th></th>\n",
       "      <th></th>\n",
       "      <th></th>\n",
       "      <th></th>\n",
       "    </tr>\n",
       "  </thead>\n",
       "  <tbody>\n",
       "    <tr>\n",
       "      <th>12347</th>\n",
       "      <td>2</td>\n",
       "      <td>7</td>\n",
       "      <td>4310.00</td>\n",
       "      <td>1</td>\n",
       "    </tr>\n",
       "    <tr>\n",
       "      <th>12348</th>\n",
       "      <td>75</td>\n",
       "      <td>4</td>\n",
       "      <td>1437.24</td>\n",
       "      <td>1</td>\n",
       "    </tr>\n",
       "    <tr>\n",
       "      <th>12349</th>\n",
       "      <td>18</td>\n",
       "      <td>1</td>\n",
       "      <td>1457.55</td>\n",
       "      <td>1</td>\n",
       "    </tr>\n",
       "    <tr>\n",
       "      <th>12350</th>\n",
       "      <td>310</td>\n",
       "      <td>1</td>\n",
       "      <td>294.40</td>\n",
       "      <td>1</td>\n",
       "    </tr>\n",
       "    <tr>\n",
       "      <th>12352</th>\n",
       "      <td>36</td>\n",
       "      <td>7</td>\n",
       "      <td>1265.41</td>\n",
       "      <td>1</td>\n",
       "    </tr>\n",
       "  </tbody>\n",
       "</table>\n",
       "</div>"
      ],
      "text/plain": [
       "            Recency  Frequency  Monetary  FrequencyScore\n",
       "CustomerID                                              \n",
       "12347             2          7   4310.00               1\n",
       "12348            75          4   1437.24               1\n",
       "12349            18          1   1457.55               1\n",
       "12350           310          1    294.40               1\n",
       "12352            36          7   1265.41               1"
      ]
     },
     "execution_count": 43,
     "metadata": {},
     "output_type": "execute_result"
    },
    {
     "data": {
      "text/plain": [
       "(4332, 4)"
      ]
     },
     "execution_count": 43,
     "metadata": {},
     "output_type": "execute_result"
    },
    {
     "data": {
      "text/plain": [
       "FrequencyScore\n",
       "1    3877\n",
       "2     419\n",
       "3      33\n",
       "4       3\n",
       "Name: count, dtype: int64"
      ]
     },
     "execution_count": 43,
     "metadata": {},
     "output_type": "execute_result"
    }
   ],
   "source": [
    "rfm_frequency = pd.concat([low_frequency_df, high_frequency_df, very_high_frequency_df, very_very_high_frequency_df])\n",
    "rfm_frequency.head()\n",
    "rfm_frequency.shape\n",
    "rfm_frequency['FrequencyScore'].value_counts()"
   ]
  },
  {
   "cell_type": "code",
   "execution_count": 44,
   "metadata": {},
   "outputs": [
    {
     "name": "stdout",
     "output_type": "stream",
     "text": [
      "skewness: 1.1602187033391245\n"
     ]
    },
    {
     "data": {
      "text/plain": [
       "<Figure size 1200x300 with 0 Axes>"
      ]
     },
     "execution_count": 44,
     "metadata": {},
     "output_type": "execute_result"
    },
    {
     "data": {
      "image/png": "[encoded data removed]",
      "text/plain": [
       "<Figure size 1200x300 with 2 Axes>"
      ]
     },
     "metadata": {},
     "output_type": "display_data"
    },
    {
     "name": "stdout",
     "output_type": "stream",
     "text": [
      "skewness: 1.2935904963529326\n"
     ]
    },
    {
     "data": {
      "text/plain": [
       "<Figure size 1200x300 with 0 Axes>"
      ]
     },
     "execution_count": 44,
     "metadata": {},
     "output_type": "execute_result"
    },
    {
     "data": {
      "image/png": "[encoded data removed]",
      "text/plain": [
       "<Figure size 1200x300 with 2 Axes>"
      ]
     },
     "metadata": {},
     "output_type": "display_data"
    },
    {
     "name": "stdout",
     "output_type": "stream",
     "text": [
      "skewness: 1.2494257021322834\n"
     ]
    },
    {
     "data": {
      "text/plain": [
       "<Figure size 1200x300 with 0 Axes>"
      ]
     },
     "execution_count": 44,
     "metadata": {},
     "output_type": "execute_result"
    },
    {
     "data": {
      "image/png": "[encoded data removed]",
      "text/plain": [
       "<Figure size 1200x300 with 2 Axes>"
      ]
     },
     "metadata": {},
     "output_type": "display_data"
    },
    {
     "name": "stdout",
     "output_type": "stream",
     "text": [
      "skewness: -0.6822802981483861\n"
     ]
    },
    {
     "data": {
      "text/plain": [
       "<Figure size 1200x300 with 0 Axes>"
      ]
     },
     "execution_count": 44,
     "metadata": {},
     "output_type": "execute_result"
    },
    {
     "data": {
      "image/png": "[encoded data removed]",
      "text/plain": [
       "<Figure size 1200x300 with 2 Axes>"
      ]
     },
     "metadata": {},
     "output_type": "display_data"
    }
   ],
   "source": [
    "\n",
    "\n",
    "for i in range(1,5):\n",
    "    x = rfm_frequency[rfm_frequency['FrequencyScore'] == i]['Frequency']\n",
    "\n",
    "    # Calculate the skewness \n",
    "    print(f'skewness: {skew(x, axis=0, bias=True)}')\n",
    "\n",
    "    # Create 2x1 sub plots\n",
    "    gs = gridspec.GridSpec(1, 2)\n",
    "\n",
    "    # Create a figure\n",
    "    plt.figure(figsize=(12,3))\n",
    "\n",
    "    # add axes_1 row 0, col 0\n",
    "    ax1 = plt.subplot(gs[0, 0]) \n",
    "    ax1 = plt.hist(x, bins=40)\n",
    "\n",
    "    # add axes_2 row 0, col 1\n",
    "    ax2 = plt.subplot(gs[0, 1]) \n",
    "    ax2 = sns.boxplot(data=x,orient='h')\n",
    "\n",
    "    # display plot\n",
    "    plt.show()"
   ]
  },
  {
   "cell_type": "markdown",
   "metadata": {},
   "source": [
    "### 3.2.2. Monetary Score"
   ]
  },
  {
   "cell_type": "code",
   "execution_count": 45,
   "metadata": {},
   "outputs": [],
   "source": [
    "IQR = processed_data['Monetary'].quantile(0.75) - processed_data['Monetary'].quantile(0.25)\n",
    "threshold = processed_data['Monetary'].quantile(0.75) + 1.5 * IQR\n",
    "\n",
    "low_monetary = processed_data[processed_data['Monetary'] <= threshold]\n",
    "IQR = low_monetary['Monetary'].quantile(0.75) - low_monetary['Monetary'].quantile(0.25)\n",
    "threshold = low_monetary['Monetary'].quantile(0.75) + 1.5 * IQR\n",
    "\n",
    "low_monetary_df = low_monetary[low_monetary['Monetary'] <= threshold]\n",
    "low_monetary_df['MonetaryScore'] = 1\n",
    "\n",
    "high_monetary = processed_data[processed_data['Monetary'] > threshold]\n",
    "IQR = high_monetary['Monetary'].quantile(0.75) - high_monetary['Monetary'].quantile(0.25)\n",
    "threshold = high_monetary['Monetary'].quantile(0.75) + 1.5 * IQR\n",
    "\n",
    "high_monetary_df = high_monetary[high_monetary['Monetary'] <= threshold]\n",
    "high_monetary_df['MonetaryScore'] = 2\n",
    "\n",
    "very_high_monetary = high_monetary[high_monetary['Monetary'] > threshold]\n",
    "IQR = very_high_monetary['Monetary'].quantile(0.75) - very_high_monetary['Monetary'].quantile(0.25)\n",
    "threshold = very_high_monetary['Monetary'].quantile(0.75) + 1.5 * IQR\n",
    "\n",
    "very_high_monetary_df = very_high_monetary[very_high_monetary['Monetary'] <= threshold]\n",
    "very_high_monetary_df['MonetaryScore'] = 3\n",
    "\n",
    "very_very_high_monetary_df = very_high_monetary[very_high_monetary['Monetary'] > threshold]\n",
    "very_very_high_monetary_df['MonetaryScore'] = 4"
   ]
  },
  {
   "cell_type": "code",
   "execution_count": 46,
   "metadata": {},
   "outputs": [
    {
     "data": {
      "text/html": [
       "<div>\n",
       "<style scoped>\n",
       "    .dataframe tbody tr th:only-of-type {\n",
       "        vertical-align: middle;\n",
       "    }\n",
       "\n",
       "    .dataframe tbody tr th {\n",
       "        vertical-align: top;\n",
       "    }\n",
       "\n",
       "    .dataframe thead th {\n",
       "        text-align: right;\n",
       "    }\n",
       "</style>\n",
       "<table border=\"1\" class=\"dataframe\">\n",
       "  <thead>\n",
       "    <tr style=\"text-align: right;\">\n",
       "      <th></th>\n",
       "      <th>Recency</th>\n",
       "      <th>Frequency</th>\n",
       "      <th>Monetary</th>\n",
       "      <th>MonetaryScore</th>\n",
       "    </tr>\n",
       "    <tr>\n",
       "      <th>CustomerID</th>\n",
       "      <th></th>\n",
       "      <th></th>\n",
       "      <th></th>\n",
       "      <th></th>\n",
       "    </tr>\n",
       "  </thead>\n",
       "  <tbody>\n",
       "    <tr>\n",
       "      <th>12348</th>\n",
       "      <td>75</td>\n",
       "      <td>4</td>\n",
       "      <td>1437.24</td>\n",
       "      <td>1</td>\n",
       "    </tr>\n",
       "    <tr>\n",
       "      <th>12349</th>\n",
       "      <td>18</td>\n",
       "      <td>1</td>\n",
       "      <td>1457.55</td>\n",
       "      <td>1</td>\n",
       "    </tr>\n",
       "    <tr>\n",
       "      <th>12350</th>\n",
       "      <td>310</td>\n",
       "      <td>1</td>\n",
       "      <td>294.40</td>\n",
       "      <td>1</td>\n",
       "    </tr>\n",
       "    <tr>\n",
       "      <th>12352</th>\n",
       "      <td>36</td>\n",
       "      <td>7</td>\n",
       "      <td>1265.41</td>\n",
       "      <td>1</td>\n",
       "    </tr>\n",
       "    <tr>\n",
       "      <th>12353</th>\n",
       "      <td>204</td>\n",
       "      <td>1</td>\n",
       "      <td>89.00</td>\n",
       "      <td>1</td>\n",
       "    </tr>\n",
       "  </tbody>\n",
       "</table>\n",
       "</div>"
      ],
      "text/plain": [
       "            Recency  Frequency  Monetary  MonetaryScore\n",
       "CustomerID                                             \n",
       "12348            75          4   1437.24              1\n",
       "12349            18          1   1457.55              1\n",
       "12350           310          1    294.40              1\n",
       "12352            36          7   1265.41              1\n",
       "12353           204          1     89.00              1"
      ]
     },
     "execution_count": 46,
     "metadata": {},
     "output_type": "execute_result"
    },
    {
     "data": {
      "text/plain": [
       "(4332, 4)"
      ]
     },
     "execution_count": 46,
     "metadata": {},
     "output_type": "execute_result"
    },
    {
     "data": {
      "text/plain": [
       "MonetaryScore\n",
       "1    3695\n",
       "2     567\n",
       "3      64\n",
       "4       6\n",
       "Name: count, dtype: int64"
      ]
     },
     "execution_count": 46,
     "metadata": {},
     "output_type": "execute_result"
    }
   ],
   "source": [
    "rfm_monetary = pd.concat([low_monetary_df, high_monetary_df, very_high_monetary_df, very_very_high_monetary_df])\n",
    "rfm_monetary.head()\n",
    "rfm_monetary.shape\n",
    "rfm_monetary['MonetaryScore'].value_counts()"
   ]
  },
  {
   "cell_type": "code",
   "execution_count": 47,
   "metadata": {},
   "outputs": [
    {
     "name": "stdout",
     "output_type": "stream",
     "text": [
      "skewness: 1.1649340969083\n"
     ]
    },
    {
     "data": {
      "text/plain": [
       "<Figure size 1200x300 with 0 Axes>"
      ]
     },
     "execution_count": 47,
     "metadata": {},
     "output_type": "execute_result"
    },
    {
     "data": {
      "image/png": "[encoded data removed]",
      "text/plain": [
       "<Figure size 1200x300 with 2 Axes>"
      ]
     },
     "metadata": {},
     "output_type": "display_data"
    },
    {
     "name": "stdout",
     "output_type": "stream",
     "text": [
      "skewness: 1.3860975958728499\n"
     ]
    },
    {
     "data": {
      "text/plain": [
       "<Figure size 1200x300 with 0 Axes>"
      ]
     },
     "execution_count": 47,
     "metadata": {},
     "output_type": "execute_result"
    },
    {
     "data": {
      "image/png": "[encoded data removed]",
      "text/plain": [
       "<Figure size 1200x300 with 2 Axes>"
      ]
     },
     "metadata": {},
     "output_type": "display_data"
    },
    {
     "name": "stdout",
     "output_type": "stream",
     "text": [
      "skewness: 1.3239545470344\n"
     ]
    },
    {
     "data": {
      "text/plain": [
       "<Figure size 1200x300 with 0 Axes>"
      ]
     },
     "execution_count": 47,
     "metadata": {},
     "output_type": "execute_result"
    },
    {
     "data": {
      "image/png": "[encoded data removed]",
      "text/plain": [
       "<Figure size 1200x300 with 2 Axes>"
      ]
     },
     "metadata": {},
     "output_type": "display_data"
    },
    {
     "name": "stdout",
     "output_type": "stream",
     "text": [
      "skewness: 0.3885617596971251\n"
     ]
    },
    {
     "data": {
      "text/plain": [
       "<Figure size 1200x300 with 0 Axes>"
      ]
     },
     "execution_count": 47,
     "metadata": {},
     "output_type": "execute_result"
    },
    {
     "data": {
      "image/png": "[encoded data removed]",
      "text/plain": [
       "<Figure size 1200x300 with 2 Axes>"
      ]
     },
     "metadata": {},
     "output_type": "display_data"
    }
   ],
   "source": [
    "import matplotlib.gridspec as gridspec\n",
    "\n",
    "for i in range(1,5):\n",
    "    x = rfm_monetary[rfm_monetary['MonetaryScore'] == i]['Monetary']\n",
    "\n",
    "    # Calculate the skewness \n",
    "    print(f'skewness: {skew(x, axis=0, bias=True)}')\n",
    "\n",
    "    # Create 2x1 sub plots\n",
    "    gs = gridspec.GridSpec(1, 2)\n",
    "\n",
    "    # Create a figure\n",
    "    plt.figure(figsize=(12,3))\n",
    "\n",
    "    # add axes_1 row 0, col 0\n",
    "    ax1 = plt.subplot(gs[0, 0]) \n",
    "    ax1 = plt.hist(x, bins=40)\n",
    "\n",
    "    # add axes_2 row 0, col 1\n",
    "    ax2 = plt.subplot(gs[0, 1]) \n",
    "    ax2 = sns.boxplot(data=x,orient='h')\n",
    "\n",
    "    # display plot\n",
    "    plt.show()"
   ]
  },
  {
   "cell_type": "markdown",
   "metadata": {},
   "source": [
    "### 3.2.3. Recency Score"
   ]
  },
  {
   "cell_type": "code",
   "execution_count": 48,
   "metadata": {},
   "outputs": [
    {
     "name": "stdout",
     "output_type": "stream",
     "text": [
      "skewness: 1.2603365850994042\n"
     ]
    },
    {
     "data": {
      "text/plain": [
       "<Figure size 1200x600 with 0 Axes>"
      ]
     },
     "execution_count": 48,
     "metadata": {},
     "output_type": "execute_result"
    },
    {
     "data": {
      "image/png": "[encoded data removed]",
      "text/plain": [
       "<Figure size 1200x600 with 2 Axes>"
      ]
     },
     "metadata": {},
     "output_type": "display_data"
    }
   ],
   "source": [
    "# Create 2x1 sub plots\n",
    "gs = gridspec.GridSpec(2, 1)\n",
    "\n",
    "x = processed_data['Recency']\n",
    "\n",
    "# Calculate the skewness \n",
    "print(f'skewness: {skew(x, axis=0, bias=True)}')\n",
    "\n",
    "# Create a figure\n",
    "plt.figure(figsize=(12,6))\n",
    "\n",
    "# add axes_1 row 0, col 0\n",
    "ax1 = plt.subplot(gs[0, 0]) \n",
    "ax1 = plt.hist(x, bins=350)\n",
    "\n",
    "# add axes_2 row 1, col 0\n",
    "ax2 = plt.subplot(gs[1, 0]) \n",
    "ax2 = sns.boxplot(\n",
    "    data=x\n",
    "    ,orient='h'\n",
    ")\n",
    "\n",
    "# display plot\n",
    "plt.show()"
   ]
  },
  {
   "cell_type": "code",
   "execution_count": 49,
   "metadata": {},
   "outputs": [
    {
     "name": "stdout",
     "output_type": "stream",
     "text": [
      "skewness: 0.3583917325333018\n"
     ]
    },
    {
     "data": {
      "text/plain": [
       "<Figure size 1200x300 with 0 Axes>"
      ]
     },
     "execution_count": 49,
     "metadata": {},
     "output_type": "execute_result"
    },
    {
     "data": {
      "image/png": "[encoded data removed]",
      "text/plain": [
       "<Figure size 1200x300 with 2 Axes>"
      ]
     },
     "metadata": {},
     "output_type": "display_data"
    },
    {
     "name": "stdout",
     "output_type": "stream",
     "text": [
      "skewness: 0.39626642031680165\n"
     ]
    },
    {
     "data": {
      "text/plain": [
       "<Figure size 1200x300 with 0 Axes>"
      ]
     },
     "execution_count": 49,
     "metadata": {},
     "output_type": "execute_result"
    },
    {
     "data": {
      "image/png": "[encoded data removed]",
      "text/plain": [
       "<Figure size 1200x300 with 2 Axes>"
      ]
     },
     "metadata": {},
     "output_type": "display_data"
    },
    {
     "name": "stdout",
     "output_type": "stream",
     "text": [
      "skewness: 0.6843695700996344\n"
     ]
    },
    {
     "data": {
      "text/plain": [
       "<Figure size 1200x300 with 0 Axes>"
      ]
     },
     "execution_count": 49,
     "metadata": {},
     "output_type": "execute_result"
    },
    {
     "data": {
      "image/png": "[encoded data removed]",
      "text/plain": [
       "<Figure size 1200x300 with 2 Axes>"
      ]
     },
     "metadata": {},
     "output_type": "display_data"
    },
    {
     "name": "stdout",
     "output_type": "stream",
     "text": [
      "skewness: 0.31199419152492136\n"
     ]
    },
    {
     "data": {
      "text/plain": [
       "<Figure size 1200x300 with 0 Axes>"
      ]
     },
     "execution_count": 49,
     "metadata": {},
     "output_type": "execute_result"
    },
    {
     "data": {
      "image/png": "[encoded data removed]",
      "text/plain": [
       "<Figure size 1200x300 with 2 Axes>"
      ]
     },
     "metadata": {},
     "output_type": "display_data"
    }
   ],
   "source": [
    "# Recency feature of the RFM model is the opposite of the Monetary feature since the more recent the transaction, the higher the Recency value, therefore we need to reverse the Recency values\n",
    "processed_data[\"RecencyScore\"] = pd.qcut(processed_data[\"Recency\"], 4, labels = [4, 3, 2, 1])\n",
    "processed_data[\"RecencyScore\"] = processed_data[\"RecencyScore\"].astype(int)\n",
    "for i in [4, 3, 2, 1]:\n",
    "    x = processed_data[processed_data['RecencyScore'] == i]['Recency']\n",
    "\n",
    "    # Calculate the skewness \n",
    "    print(f'skewness: {skew(x, axis=0, bias=True)}')\n",
    "\n",
    "    # Create 2x1 sub plots\n",
    "    gs = gridspec.GridSpec(1, 2)\n",
    "\n",
    "    # Create a figure\n",
    "    plt.figure(figsize=(12,3))\n",
    "\n",
    "    # add axes_1 row 0, col 0\n",
    "    ax1 = plt.subplot(gs[0, 0]) \n",
    "    ax1 = plt.hist(x, bins=40)\n",
    "\n",
    "    # add axes_2 row 0, col 1\n",
    "    ax2 = plt.subplot(gs[0, 1]) \n",
    "    ax2 = sns.boxplot(data=x,orient='h')\n",
    "\n",
    "    # display plot\n",
    "    plt.show()"
   ]
  },
  {
   "cell_type": "markdown",
   "metadata": {},
   "source": [
    "# IV. RFM Score & RFM Segment"
   ]
  },
  {
   "cell_type": "code",
   "execution_count": 50,
   "metadata": {},
   "outputs": [
    {
     "data": {
      "text/html": [
       "<div>\n",
       "<style scoped>\n",
       "    .dataframe tbody tr th:only-of-type {\n",
       "        vertical-align: middle;\n",
       "    }\n",
       "\n",
       "    .dataframe tbody tr th {\n",
       "        vertical-align: top;\n",
       "    }\n",
       "\n",
       "    .dataframe thead th {\n",
       "        text-align: right;\n",
       "    }\n",
       "</style>\n",
       "<table border=\"1\" class=\"dataframe\">\n",
       "  <thead>\n",
       "    <tr style=\"text-align: right;\">\n",
       "      <th></th>\n",
       "      <th>Recency</th>\n",
       "      <th>Frequency</th>\n",
       "      <th>Monetary</th>\n",
       "      <th>RecencyScore</th>\n",
       "      <th>FrequencyScore</th>\n",
       "      <th>MonetaryScore</th>\n",
       "    </tr>\n",
       "    <tr>\n",
       "      <th>CustomerID</th>\n",
       "      <th></th>\n",
       "      <th></th>\n",
       "      <th></th>\n",
       "      <th></th>\n",
       "      <th></th>\n",
       "      <th></th>\n",
       "    </tr>\n",
       "  </thead>\n",
       "  <tbody>\n",
       "    <tr>\n",
       "      <th>12347</th>\n",
       "      <td>2</td>\n",
       "      <td>7</td>\n",
       "      <td>4310.00</td>\n",
       "      <td>4</td>\n",
       "      <td>1</td>\n",
       "      <td>2</td>\n",
       "    </tr>\n",
       "    <tr>\n",
       "      <th>12348</th>\n",
       "      <td>75</td>\n",
       "      <td>4</td>\n",
       "      <td>1437.24</td>\n",
       "      <td>2</td>\n",
       "      <td>1</td>\n",
       "      <td>1</td>\n",
       "    </tr>\n",
       "    <tr>\n",
       "      <th>12349</th>\n",
       "      <td>18</td>\n",
       "      <td>1</td>\n",
       "      <td>1457.55</td>\n",
       "      <td>3</td>\n",
       "      <td>1</td>\n",
       "      <td>1</td>\n",
       "    </tr>\n",
       "    <tr>\n",
       "      <th>12350</th>\n",
       "      <td>310</td>\n",
       "      <td>1</td>\n",
       "      <td>294.40</td>\n",
       "      <td>1</td>\n",
       "      <td>1</td>\n",
       "      <td>1</td>\n",
       "    </tr>\n",
       "    <tr>\n",
       "      <th>12352</th>\n",
       "      <td>36</td>\n",
       "      <td>7</td>\n",
       "      <td>1265.41</td>\n",
       "      <td>3</td>\n",
       "      <td>1</td>\n",
       "      <td>1</td>\n",
       "    </tr>\n",
       "  </tbody>\n",
       "</table>\n",
       "</div>"
      ],
      "text/plain": [
       "            Recency  Frequency  Monetary  RecencyScore  FrequencyScore  \\\n",
       "CustomerID                                                               \n",
       "12347             2          7   4310.00             4               1   \n",
       "12348            75          4   1437.24             2               1   \n",
       "12349            18          1   1457.55             3               1   \n",
       "12350           310          1    294.40             1               1   \n",
       "12352            36          7   1265.41             3               1   \n",
       "\n",
       "            MonetaryScore  \n",
       "CustomerID                 \n",
       "12347                   2  \n",
       "12348                   1  \n",
       "12349                   1  \n",
       "12350                   1  \n",
       "12352                   1  "
      ]
     },
     "execution_count": 50,
     "metadata": {},
     "output_type": "execute_result"
    }
   ],
   "source": [
    "# Merge the RFM features into the processed data to create the RFM date with all the scores\n",
    "scored_data = processed_data.merge(rfm_frequency[['FrequencyScore']], on='CustomerID', how='left').merge(rfm_monetary[['MonetaryScore']], on='CustomerID', how='left')\n",
    "scored_data.head()\n"
   ]
  },
  {
   "cell_type": "code",
   "execution_count": 51,
   "metadata": {},
   "outputs": [
    {
     "name": "stdout",
     "output_type": "stream",
     "text": [
      "<class 'pandas.core.frame.DataFrame'>\n",
      "Index: 4332 entries, 12347 to 18287\n",
      "Data columns (total 6 columns):\n",
      " #   Column          Non-Null Count  Dtype  \n",
      "---  ------          --------------  -----  \n",
      " 0   Recency         4332 non-null   int64  \n",
      " 1   Frequency       4332 non-null   int32  \n",
      " 2   Monetary        4332 non-null   float64\n",
      " 3   RecencyScore    4332 non-null   int32  \n",
      " 4   FrequencyScore  4332 non-null   int64  \n",
      " 5   MonetaryScore   4332 non-null   int64  \n",
      "dtypes: float64(1), int32(2), int64(3)\n",
      "memory usage: 203.1+ KB\n"
     ]
    }
   ],
   "source": [
    "scored_data.info()"
   ]
  },
  {
   "cell_type": "code",
   "execution_count": 52,
   "metadata": {},
   "outputs": [
    {
     "data": {
      "text/html": [
       "<div>\n",
       "<style scoped>\n",
       "    .dataframe tbody tr th:only-of-type {\n",
       "        vertical-align: middle;\n",
       "    }\n",
       "\n",
       "    .dataframe tbody tr th {\n",
       "        vertical-align: top;\n",
       "    }\n",
       "\n",
       "    .dataframe thead th {\n",
       "        text-align: right;\n",
       "    }\n",
       "</style>\n",
       "<table border=\"1\" class=\"dataframe\">\n",
       "  <thead>\n",
       "    <tr style=\"text-align: right;\">\n",
       "      <th></th>\n",
       "      <th>Recency</th>\n",
       "      <th>Frequency</th>\n",
       "      <th>Monetary</th>\n",
       "      <th>RecencyScore</th>\n",
       "      <th>FrequencyScore</th>\n",
       "      <th>MonetaryScore</th>\n",
       "      <th>RFMSegment</th>\n",
       "      <th>RFMScore</th>\n",
       "    </tr>\n",
       "    <tr>\n",
       "      <th>CustomerID</th>\n",
       "      <th></th>\n",
       "      <th></th>\n",
       "      <th></th>\n",
       "      <th></th>\n",
       "      <th></th>\n",
       "      <th></th>\n",
       "      <th></th>\n",
       "      <th></th>\n",
       "    </tr>\n",
       "  </thead>\n",
       "  <tbody>\n",
       "    <tr>\n",
       "      <th>12347</th>\n",
       "      <td>2</td>\n",
       "      <td>7</td>\n",
       "      <td>4310.00</td>\n",
       "      <td>4</td>\n",
       "      <td>1</td>\n",
       "      <td>2</td>\n",
       "      <td>412</td>\n",
       "      <td>7</td>\n",
       "    </tr>\n",
       "    <tr>\n",
       "      <th>12348</th>\n",
       "      <td>75</td>\n",
       "      <td>4</td>\n",
       "      <td>1437.24</td>\n",
       "      <td>2</td>\n",
       "      <td>1</td>\n",
       "      <td>1</td>\n",
       "      <td>211</td>\n",
       "      <td>4</td>\n",
       "    </tr>\n",
       "    <tr>\n",
       "      <th>12349</th>\n",
       "      <td>18</td>\n",
       "      <td>1</td>\n",
       "      <td>1457.55</td>\n",
       "      <td>3</td>\n",
       "      <td>1</td>\n",
       "      <td>1</td>\n",
       "      <td>311</td>\n",
       "      <td>5</td>\n",
       "    </tr>\n",
       "    <tr>\n",
       "      <th>12350</th>\n",
       "      <td>310</td>\n",
       "      <td>1</td>\n",
       "      <td>294.40</td>\n",
       "      <td>1</td>\n",
       "      <td>1</td>\n",
       "      <td>1</td>\n",
       "      <td>111</td>\n",
       "      <td>3</td>\n",
       "    </tr>\n",
       "    <tr>\n",
       "      <th>12352</th>\n",
       "      <td>36</td>\n",
       "      <td>7</td>\n",
       "      <td>1265.41</td>\n",
       "      <td>3</td>\n",
       "      <td>1</td>\n",
       "      <td>1</td>\n",
       "      <td>311</td>\n",
       "      <td>5</td>\n",
       "    </tr>\n",
       "  </tbody>\n",
       "</table>\n",
       "</div>"
      ],
      "text/plain": [
       "            Recency  Frequency  Monetary  RecencyScore  FrequencyScore  \\\n",
       "CustomerID                                                               \n",
       "12347             2          7   4310.00             4               1   \n",
       "12348            75          4   1437.24             2               1   \n",
       "12349            18          1   1457.55             3               1   \n",
       "12350           310          1    294.40             1               1   \n",
       "12352            36          7   1265.41             3               1   \n",
       "\n",
       "            MonetaryScore RFMSegment  RFMScore  \n",
       "CustomerID                                      \n",
       "12347                   2        412         7  \n",
       "12348                   1        211         4  \n",
       "12349                   1        311         5  \n",
       "12350                   1        111         3  \n",
       "12352                   1        311         5  "
      ]
     },
     "execution_count": 52,
     "metadata": {},
     "output_type": "execute_result"
    },
    {
     "name": "stdout",
     "output_type": "stream",
     "text": [
      "an RFM segment based from three different RFM values has 30 unique values\n",
      "RFM score that sums up the RFM values and indicates a relative customer value has 10 unique values ranging from 3 to 12\n"
     ]
    }
   ],
   "source": [
    "# RFMSegment feature is created by concatenating the RecencyScore, FrequencyScore and MonetaryScore columns\n",
    "scored_data[\"RFMSegment\"] = (\n",
    "    scored_data['RecencyScore'].astype(str) + \n",
    "    scored_data['FrequencyScore'].astype(str) + \n",
    "    scored_data['MonetaryScore'].astype(str)\n",
    ")\n",
    "\n",
    "# RFMScore feature is calculated by summing the RecencyScore, FrequencyScore and MonetaryScore columns\n",
    "scored_data[\"RFMScore\"] = scored_data[['RecencyScore','FrequencyScore','MonetaryScore']].sum(axis=1)\n",
    "scored_data.head()\n",
    "print(f'an RFM segment based from three different RFM values has {scored_data[\"RFMSegment\"].nunique()} unique values')\n",
    "print(f'RFM score that sums up the RFM values and indicates a relative customer value has {scored_data[\"RFMScore\"].nunique()} unique values ranging from {scored_data[\"RFMScore\"].min()} to {scored_data[\"RFMScore\"].max()}')"
   ]
  },
  {
   "cell_type": "markdown",
   "metadata": {},
   "source": [
    "# V. Top 10 largest RFM segments"
   ]
  },
  {
   "cell_type": "code",
   "execution_count": 53,
   "metadata": {},
   "outputs": [
    {
     "data": {
      "text/plain": [
       "RFMSegment\n",
       "111    1057\n",
       "211     994\n",
       "311     890\n",
       "411     659\n",
       "422     201\n",
       "412     108\n",
       "312      82\n",
       "322      71\n",
       "212      68\n",
       "421      57\n",
       "Name: count, dtype: int64"
      ]
     },
     "execution_count": 53,
     "metadata": {},
     "output_type": "execute_result"
    }
   ],
   "source": [
    "# top 10 largest RFM segments\n",
    "scored_data['RFMSegment'].value_counts()[:10]"
   ]
  },
  {
   "cell_type": "markdown",
   "metadata": {},
   "source": [
    "# VI. Customer Segmentation"
   ]
  },
  {
   "cell_type": "markdown",
   "metadata": {},
   "source": [
    "## 6.2. Segmentation by RFMSegment"
   ]
  },
  {
   "cell_type": "markdown",
   "metadata": {},
   "source": [
    "### Breakdown of the Segments"
   ]
  },
  {
   "cell_type": "markdown",
   "metadata": {},
   "source": [
    "\n",
    "1. Champions\n",
    "- Recency: 4 (most recent)\n",
    "- Frequency: 4 (most frequent)\n",
    "- Monetary: 4 (highest spender)\n",
    "- These are your best customers — they buy frequently, spend a lot, and have purchased recently.\n",
    "\n",
    "2. Runner-ups\n",
    "- Recency: 3 or 4\n",
    "- Frequency: 3 or 4\n",
    "- Monetary: 4\n",
    "- These customers buy often and spend a lot, but they may not have bought as recently or frequently as the \"Champions\"\n",
    "\n",
    "3. Loyal Customers\n",
    "- Recency: 3 or 4\n",
    "- Frequency: 3 or 4\n",
    "- Monetary: 1 or 2 or 3\n",
    "- Loyal customers are those who buy frequently and recently, but they may not always spend as much as \"Champions\" or \"Runner-ups\". \n",
    "\n",
    "4. Can't Lose Them\n",
    "- Recency: 1 or 2\n",
    "- Frequency: 4\n",
    "- Monetary: 3 or 4\n",
    "- These customers have purchased frequently and high-spending. They’re valuable but sleeping for a long time now. \n",
    "\n",
    "5. Potential Loyalists\n",
    "- Recency: 4\n",
    "- Frequency: 2\n",
    "- Monetary: 2 or 3\n",
    "- These customers have made a recent purchase but may not have bought frequently or spent much. They show promise and could be turned into loyal customers with the right strategy.\n",
    "\n",
    "6. Promising\n",
    "- Recency: 3\n",
    "- Frequency: 2 or 3\n",
    "- Monetary: 1, 3 or 4\n",
    "- These customers may not be your top spenders or most frequent buyers yet, but they’ve shown interest and could develop into high-value customers over time.\n",
    "\n",
    "7. New Customers\n",
    "- Recency: 4\n",
    "- Frequency: 1 or 2\n",
    "- Monetary: 1, 2 or 3\n",
    "- These are recent customers who haven’t purchased frequently or spent a lot yet. They are still in the early stages of the customer lifecycle and need nurturing to increase their loyalty.\n",
    "\n",
    "8. Needs Attention\n",
    "- Recency: 2 or 3\n",
    "- Frequency: 1 or 2\n",
    "- Monetary: 1, 2 or 3\n",
    "- These customers used to buy but have become less frequent. You need to re-engage them with targeted promotions or reminders before they churn.\n",
    "\n",
    "9. About to Sleep\n",
    "- Recency: 2\n",
    "- Frequency: 1\n",
    "- Monetary: 1 or 2\n",
    "- These customers haven’t bought in a while and are about to sleep. They need a re-engagement strategy to revive their interest.\n",
    "\n",
    "10. Hibernating\n",
    "- Recency: 1\n",
    "- Frequency: 2 or 3\n",
    "- Monetary: 1 or 2\n",
    "- These customers haven’t purchased in a long time and don’t spend much. They are not completely lost, but they are dormant and require strong efforts to bring them back.\n",
    "\n",
    "11. Lost Customer\n",
    "- Recency: 1 (least recent)\n",
    "- Frequency: 1 (least frequent)\n",
    "- These customers have not purchased for a long time, never buy much, and are at risk of being completely lost. If they haven't responded to previous attempts at engagement, they might be considered for exclusion from future marketing campaigns."
   ]
  },
  {
   "cell_type": "code",
   "execution_count": 83,
   "metadata": {},
   "outputs": [],
   "source": [
    "# logic for RFM segmentation\n",
    "seg_map = {\n",
    "    r'444': 'Champions',\n",
    "    r'[3-4][3-4]4': 'Runner-ups',\n",
    "    r'4[3-4][1-3]': 'Loyal Customers',\n",
    "    r'34[1-3]': 'Loyal Customers',\n",
    "    r'[1-2]44': 'Can\\'t Lose Them',\n",
    "    r'42[2-3]': 'Potential Loyalists',\n",
    "    r'4[1-2][1-2]': 'New Customers',\n",
    "    r'[2-3]3[1-3]': 'Promising',\n",
    "    r'324': 'Promising',\n",
    "    r'22[1-3]': 'Needs Attention',\n",
    "    r'3[1-2][1-3]': 'Needs Attention',\n",
    "    r'21[1-4]': 'About to Sleep',\n",
    "    r'11[1-3]': 'Lost Customers',\n",
    "    r'1[2-3][1-3]': 'Hibernating',\n",
    "    r'413': 'New Customers'\n",
    "}"
   ]
  },
  {
   "cell_type": "code",
   "execution_count": 85,
   "metadata": {},
   "outputs": [
    {
     "data": {
      "text/html": [
       "<div>\n",
       "<style scoped>\n",
       "    .dataframe tbody tr th:only-of-type {\n",
       "        vertical-align: middle;\n",
       "    }\n",
       "\n",
       "    .dataframe tbody tr th {\n",
       "        vertical-align: top;\n",
       "    }\n",
       "\n",
       "    .dataframe thead th {\n",
       "        text-align: right;\n",
       "    }\n",
       "</style>\n",
       "<table border=\"1\" class=\"dataframe\">\n",
       "  <thead>\n",
       "    <tr style=\"text-align: right;\">\n",
       "      <th></th>\n",
       "      <th>Recency</th>\n",
       "      <th>Frequency</th>\n",
       "      <th>Monetary</th>\n",
       "      <th>RecencyScore</th>\n",
       "      <th>FrequencyScore</th>\n",
       "      <th>MonetaryScore</th>\n",
       "      <th>RFMSegment</th>\n",
       "      <th>RFMScore</th>\n",
       "      <th>Segment</th>\n",
       "    </tr>\n",
       "    <tr>\n",
       "      <th>CustomerID</th>\n",
       "      <th></th>\n",
       "      <th></th>\n",
       "      <th></th>\n",
       "      <th></th>\n",
       "      <th></th>\n",
       "      <th></th>\n",
       "      <th></th>\n",
       "      <th></th>\n",
       "      <th></th>\n",
       "    </tr>\n",
       "  </thead>\n",
       "  <tbody>\n",
       "    <tr>\n",
       "      <th>12347</th>\n",
       "      <td>2</td>\n",
       "      <td>7</td>\n",
       "      <td>4310.00</td>\n",
       "      <td>4</td>\n",
       "      <td>1</td>\n",
       "      <td>2</td>\n",
       "      <td>412</td>\n",
       "      <td>7</td>\n",
       "      <td>New Customers</td>\n",
       "    </tr>\n",
       "    <tr>\n",
       "      <th>12348</th>\n",
       "      <td>75</td>\n",
       "      <td>4</td>\n",
       "      <td>1437.24</td>\n",
       "      <td>2</td>\n",
       "      <td>1</td>\n",
       "      <td>1</td>\n",
       "      <td>211</td>\n",
       "      <td>4</td>\n",
       "      <td>About to Sleep</td>\n",
       "    </tr>\n",
       "    <tr>\n",
       "      <th>12349</th>\n",
       "      <td>18</td>\n",
       "      <td>1</td>\n",
       "      <td>1457.55</td>\n",
       "      <td>3</td>\n",
       "      <td>1</td>\n",
       "      <td>1</td>\n",
       "      <td>311</td>\n",
       "      <td>5</td>\n",
       "      <td>Needs Attention</td>\n",
       "    </tr>\n",
       "    <tr>\n",
       "      <th>12350</th>\n",
       "      <td>310</td>\n",
       "      <td>1</td>\n",
       "      <td>294.40</td>\n",
       "      <td>1</td>\n",
       "      <td>1</td>\n",
       "      <td>1</td>\n",
       "      <td>111</td>\n",
       "      <td>3</td>\n",
       "      <td>Lost Customers</td>\n",
       "    </tr>\n",
       "    <tr>\n",
       "      <th>12352</th>\n",
       "      <td>36</td>\n",
       "      <td>7</td>\n",
       "      <td>1265.41</td>\n",
       "      <td>3</td>\n",
       "      <td>1</td>\n",
       "      <td>1</td>\n",
       "      <td>311</td>\n",
       "      <td>5</td>\n",
       "      <td>Needs Attention</td>\n",
       "    </tr>\n",
       "  </tbody>\n",
       "</table>\n",
       "</div>"
      ],
      "text/plain": [
       "            Recency  Frequency  Monetary  RecencyScore  FrequencyScore  \\\n",
       "CustomerID                                                               \n",
       "12347             2          7   4310.00             4               1   \n",
       "12348            75          4   1437.24             2               1   \n",
       "12349            18          1   1457.55             3               1   \n",
       "12350           310          1    294.40             1               1   \n",
       "12352            36          7   1265.41             3               1   \n",
       "\n",
       "            MonetaryScore RFMSegment  RFMScore          Segment  \n",
       "CustomerID                                                       \n",
       "12347                   2        412         7    New Customers  \n",
       "12348                   1        211         4   About to Sleep  \n",
       "12349                   1        311         5  Needs Attention  \n",
       "12350                   1        111         3   Lost Customers  \n",
       "12352                   1        311         5  Needs Attention  "
      ]
     },
     "execution_count": 85,
     "metadata": {},
     "output_type": "execute_result"
    },
    {
     "data": {
      "text/html": [
       "<div>\n",
       "<style scoped>\n",
       "    .dataframe tbody tr th:only-of-type {\n",
       "        vertical-align: middle;\n",
       "    }\n",
       "\n",
       "    .dataframe tbody tr th {\n",
       "        vertical-align: top;\n",
       "    }\n",
       "\n",
       "    .dataframe thead th {\n",
       "        text-align: right;\n",
       "    }\n",
       "</style>\n",
       "<table border=\"1\" class=\"dataframe\">\n",
       "  <thead>\n",
       "    <tr style=\"text-align: right;\">\n",
       "      <th></th>\n",
       "      <th>Recency</th>\n",
       "      <th>Frequency</th>\n",
       "      <th>Monetary</th>\n",
       "      <th>RecencyScore</th>\n",
       "      <th>FrequencyScore</th>\n",
       "      <th>MonetaryScore</th>\n",
       "      <th>RFMSegment</th>\n",
       "      <th>RFMScore</th>\n",
       "      <th>Segment</th>\n",
       "    </tr>\n",
       "    <tr>\n",
       "      <th>CustomerID</th>\n",
       "      <th></th>\n",
       "      <th></th>\n",
       "      <th></th>\n",
       "      <th></th>\n",
       "      <th></th>\n",
       "      <th></th>\n",
       "      <th></th>\n",
       "      <th></th>\n",
       "      <th></th>\n",
       "    </tr>\n",
       "  </thead>\n",
       "  <tbody>\n",
       "    <tr>\n",
       "      <th>18280</th>\n",
       "      <td>277</td>\n",
       "      <td>1</td>\n",
       "      <td>180.60</td>\n",
       "      <td>1</td>\n",
       "      <td>1</td>\n",
       "      <td>1</td>\n",
       "      <td>111</td>\n",
       "      <td>3</td>\n",
       "      <td>Lost Customers</td>\n",
       "    </tr>\n",
       "    <tr>\n",
       "      <th>18281</th>\n",
       "      <td>180</td>\n",
       "      <td>1</td>\n",
       "      <td>80.82</td>\n",
       "      <td>1</td>\n",
       "      <td>1</td>\n",
       "      <td>1</td>\n",
       "      <td>111</td>\n",
       "      <td>3</td>\n",
       "      <td>Lost Customers</td>\n",
       "    </tr>\n",
       "    <tr>\n",
       "      <th>18282</th>\n",
       "      <td>7</td>\n",
       "      <td>2</td>\n",
       "      <td>176.60</td>\n",
       "      <td>4</td>\n",
       "      <td>1</td>\n",
       "      <td>1</td>\n",
       "      <td>411</td>\n",
       "      <td>6</td>\n",
       "      <td>New Customers</td>\n",
       "    </tr>\n",
       "    <tr>\n",
       "      <th>18283</th>\n",
       "      <td>3</td>\n",
       "      <td>16</td>\n",
       "      <td>2039.58</td>\n",
       "      <td>4</td>\n",
       "      <td>2</td>\n",
       "      <td>1</td>\n",
       "      <td>421</td>\n",
       "      <td>7</td>\n",
       "      <td>New Customers</td>\n",
       "    </tr>\n",
       "    <tr>\n",
       "      <th>18287</th>\n",
       "      <td>42</td>\n",
       "      <td>3</td>\n",
       "      <td>1837.28</td>\n",
       "      <td>3</td>\n",
       "      <td>1</td>\n",
       "      <td>1</td>\n",
       "      <td>311</td>\n",
       "      <td>5</td>\n",
       "      <td>Needs Attention</td>\n",
       "    </tr>\n",
       "  </tbody>\n",
       "</table>\n",
       "</div>"
      ],
      "text/plain": [
       "            Recency  Frequency  Monetary  RecencyScore  FrequencyScore  \\\n",
       "CustomerID                                                               \n",
       "18280           277          1    180.60             1               1   \n",
       "18281           180          1     80.82             1               1   \n",
       "18282             7          2    176.60             4               1   \n",
       "18283             3         16   2039.58             4               2   \n",
       "18287            42          3   1837.28             3               1   \n",
       "\n",
       "            MonetaryScore RFMSegment  RFMScore          Segment  \n",
       "CustomerID                                                       \n",
       "18280                   1        111         3   Lost Customers  \n",
       "18281                   1        111         3   Lost Customers  \n",
       "18282                   1        411         6    New Customers  \n",
       "18283                   1        421         7    New Customers  \n",
       "18287                   1        311         5  Needs Attention  "
      ]
     },
     "execution_count": 85,
     "metadata": {},
     "output_type": "execute_result"
    }
   ],
   "source": [
    "# Create a new column for the segment\n",
    "scored_data['Segment'] = scored_data['RFMSegment'].replace(seg_map, regex=True)\n",
    "scored_data.head()\n",
    "scored_data.tail()"
   ]
  },
  {
   "cell_type": "code",
   "execution_count": 145,
   "metadata": {},
   "outputs": [
    {
     "data": {
      "text/plain": [
       "Segment\n",
       "Champions                 1\n",
       "Promising                 4\n",
       "Runner-ups                4\n",
       "Hibernating               8\n",
       "Loyal Customers          27\n",
       "Potential Loyalists     233\n",
       "New Customers           827\n",
       "About to Sleep         1062\n",
       "Lost Customers         1072\n",
       "Needs Attention        1094\n",
       "Name: count, dtype: int64"
      ]
     },
     "execution_count": 145,
     "metadata": {},
     "output_type": "execute_result"
    }
   ],
   "source": [
    "scored_data['Segment'].value_counts().sort_values(ascending=True)"
   ]
  },
  {
   "cell_type": "code",
   "execution_count": 87,
   "metadata": {},
   "outputs": [
    {
     "data": {
      "text/plain": [
       "Segment              RFMSegment\n",
       "About to Sleep       211            994\n",
       "                     212             68\n",
       "Champions            444              1\n",
       "Hibernating          122              4\n",
       "                     121              3\n",
       "                     132              1\n",
       "Lost Customers       111           1057\n",
       "                     112             13\n",
       "                     113              2\n",
       "Loyal Customers      433             17\n",
       "                     432              8\n",
       "                     443              2\n",
       "Needs Attention      311            890\n",
       "                     312             82\n",
       "                     322             71\n",
       "                     321             24\n",
       "                     222             11\n",
       "                     221             10\n",
       "                     323              5\n",
       "                     313              1\n",
       "New Customers        411            659\n",
       "                     412            108\n",
       "                     421             57\n",
       "                     413              3\n",
       "Potential Loyalists  422            201\n",
       "                     423             32\n",
       "Promising            333              2\n",
       "                     324              1\n",
       "                     331              1\n",
       "Runner-ups           434              4\n",
       "Name: count, dtype: int64"
      ]
     },
     "execution_count": 87,
     "metadata": {},
     "output_type": "execute_result"
    }
   ],
   "source": [
    "scored_data.groupby(['Segment'])['RFMSegment'].value_counts()"
   ]
  },
  {
   "cell_type": "code",
   "execution_count": 93,
   "metadata": {},
   "outputs": [
    {
     "data": {
      "text/html": [
       "<div>\n",
       "<style scoped>\n",
       "    .dataframe tbody tr th:only-of-type {\n",
       "        vertical-align: middle;\n",
       "    }\n",
       "\n",
       "    .dataframe tbody tr th {\n",
       "        vertical-align: top;\n",
       "    }\n",
       "\n",
       "    .dataframe thead th {\n",
       "        text-align: right;\n",
       "    }\n",
       "</style>\n",
       "<table border=\"1\" class=\"dataframe\">\n",
       "  <thead>\n",
       "    <tr style=\"text-align: right;\">\n",
       "      <th></th>\n",
       "      <th>Recency</th>\n",
       "      <th>Frequency</th>\n",
       "      <th>Monetary</th>\n",
       "      <th>RecencyScore</th>\n",
       "      <th>FrequencyScore</th>\n",
       "      <th>MonetaryScore</th>\n",
       "      <th>RFMSegment</th>\n",
       "      <th>RFMScore</th>\n",
       "      <th>Segment</th>\n",
       "    </tr>\n",
       "    <tr>\n",
       "      <th>CustomerID</th>\n",
       "      <th></th>\n",
       "      <th></th>\n",
       "      <th></th>\n",
       "      <th></th>\n",
       "      <th></th>\n",
       "      <th></th>\n",
       "      <th></th>\n",
       "      <th></th>\n",
       "      <th></th>\n",
       "    </tr>\n",
       "  </thead>\n",
       "  <tbody>\n",
       "    <tr>\n",
       "      <th>12347</th>\n",
       "      <td>2</td>\n",
       "      <td>7</td>\n",
       "      <td>4310.00</td>\n",
       "      <td>4</td>\n",
       "      <td>1</td>\n",
       "      <td>2</td>\n",
       "      <td>412</td>\n",
       "      <td>7</td>\n",
       "      <td>New Customers</td>\n",
       "    </tr>\n",
       "    <tr>\n",
       "      <th>12348</th>\n",
       "      <td>75</td>\n",
       "      <td>4</td>\n",
       "      <td>1437.24</td>\n",
       "      <td>2</td>\n",
       "      <td>1</td>\n",
       "      <td>1</td>\n",
       "      <td>211</td>\n",
       "      <td>4</td>\n",
       "      <td>About to Sleep</td>\n",
       "    </tr>\n",
       "    <tr>\n",
       "      <th>12349</th>\n",
       "      <td>18</td>\n",
       "      <td>1</td>\n",
       "      <td>1457.55</td>\n",
       "      <td>3</td>\n",
       "      <td>1</td>\n",
       "      <td>1</td>\n",
       "      <td>311</td>\n",
       "      <td>5</td>\n",
       "      <td>Needs Attention</td>\n",
       "    </tr>\n",
       "    <tr>\n",
       "      <th>12350</th>\n",
       "      <td>310</td>\n",
       "      <td>1</td>\n",
       "      <td>294.40</td>\n",
       "      <td>1</td>\n",
       "      <td>1</td>\n",
       "      <td>1</td>\n",
       "      <td>111</td>\n",
       "      <td>3</td>\n",
       "      <td>Lost Customers</td>\n",
       "    </tr>\n",
       "    <tr>\n",
       "      <th>12352</th>\n",
       "      <td>36</td>\n",
       "      <td>7</td>\n",
       "      <td>1265.41</td>\n",
       "      <td>3</td>\n",
       "      <td>1</td>\n",
       "      <td>1</td>\n",
       "      <td>311</td>\n",
       "      <td>5</td>\n",
       "      <td>Needs Attention</td>\n",
       "    </tr>\n",
       "  </tbody>\n",
       "</table>\n",
       "</div>"
      ],
      "text/plain": [
       "            Recency  Frequency  Monetary  RecencyScore  FrequencyScore  \\\n",
       "CustomerID                                                               \n",
       "12347             2          7   4310.00             4               1   \n",
       "12348            75          4   1437.24             2               1   \n",
       "12349            18          1   1457.55             3               1   \n",
       "12350           310          1    294.40             1               1   \n",
       "12352            36          7   1265.41             3               1   \n",
       "\n",
       "            MonetaryScore RFMSegment  RFMScore          Segment  \n",
       "CustomerID                                                       \n",
       "12347                   2        412         7    New Customers  \n",
       "12348                   1        211         4   About to Sleep  \n",
       "12349                   1        311         5  Needs Attention  \n",
       "12350                   1        111         3   Lost Customers  \n",
       "12352                   1        311         5  Needs Attention  "
      ]
     },
     "execution_count": 93,
     "metadata": {},
     "output_type": "execute_result"
    }
   ],
   "source": [
    "scored_data.head()"
   ]
  },
  {
   "cell_type": "code",
   "execution_count": 94,
   "metadata": {},
   "outputs": [
    {
     "data": {
      "text/html": [
       "<div>\n",
       "<style scoped>\n",
       "    .dataframe tbody tr th:only-of-type {\n",
       "        vertical-align: middle;\n",
       "    }\n",
       "\n",
       "    .dataframe tbody tr th {\n",
       "        vertical-align: top;\n",
       "    }\n",
       "\n",
       "    .dataframe thead th {\n",
       "        text-align: right;\n",
       "    }\n",
       "</style>\n",
       "<table border=\"1\" class=\"dataframe\">\n",
       "  <thead>\n",
       "    <tr style=\"text-align: right;\">\n",
       "      <th></th>\n",
       "      <th>Segment</th>\n",
       "      <th>Recency</th>\n",
       "      <th>Frequency</th>\n",
       "      <th>Monetary</th>\n",
       "      <th>Proportion</th>\n",
       "    </tr>\n",
       "  </thead>\n",
       "  <tbody>\n",
       "    <tr>\n",
       "      <th>0</th>\n",
       "      <td>About to Sleep</td>\n",
       "      <td>81.552731</td>\n",
       "      <td>2.443503</td>\n",
       "      <td>924.010481</td>\n",
       "      <td>24.52</td>\n",
       "    </tr>\n",
       "    <tr>\n",
       "      <th>1</th>\n",
       "      <td>Champions</td>\n",
       "      <td>1.000000</td>\n",
       "      <td>198.000000</td>\n",
       "      <td>128333.730000</td>\n",
       "      <td>0.02</td>\n",
       "    </tr>\n",
       "    <tr>\n",
       "      <th>2</th>\n",
       "      <td>Hibernating</td>\n",
       "      <td>191.750000</td>\n",
       "      <td>13.250000</td>\n",
       "      <td>3494.618750</td>\n",
       "      <td>0.18</td>\n",
       "    </tr>\n",
       "    <tr>\n",
       "      <th>3</th>\n",
       "      <td>Lost Customers</td>\n",
       "      <td>244.442164</td>\n",
       "      <td>1.533582</td>\n",
       "      <td>515.461624</td>\n",
       "      <td>24.75</td>\n",
       "    </tr>\n",
       "    <tr>\n",
       "      <th>4</th>\n",
       "      <td>Loyal Customers</td>\n",
       "      <td>2.185185</td>\n",
       "      <td>58.518519</td>\n",
       "      <td>26941.392222</td>\n",
       "      <td>0.62</td>\n",
       "    </tr>\n",
       "    <tr>\n",
       "      <th>5</th>\n",
       "      <td>Needs Attention</td>\n",
       "      <td>30.451554</td>\n",
       "      <td>4.078611</td>\n",
       "      <td>1522.444014</td>\n",
       "      <td>25.25</td>\n",
       "    </tr>\n",
       "    <tr>\n",
       "      <th>6</th>\n",
       "      <td>New Customers</td>\n",
       "      <td>7.487304</td>\n",
       "      <td>4.378476</td>\n",
       "      <td>1476.182092</td>\n",
       "      <td>19.09</td>\n",
       "    </tr>\n",
       "    <tr>\n",
       "      <th>7</th>\n",
       "      <td>Potential Loyalists</td>\n",
       "      <td>5.523605</td>\n",
       "      <td>16.236052</td>\n",
       "      <td>8167.465708</td>\n",
       "      <td>5.38</td>\n",
       "    </tr>\n",
       "    <tr>\n",
       "      <th>8</th>\n",
       "      <td>Promising</td>\n",
       "      <td>25.000000</td>\n",
       "      <td>43.000000</td>\n",
       "      <td>54827.612500</td>\n",
       "      <td>0.09</td>\n",
       "    </tr>\n",
       "    <tr>\n",
       "      <th>9</th>\n",
       "      <td>Runner-ups</td>\n",
       "      <td>4.500000</td>\n",
       "      <td>58.250000</td>\n",
       "      <td>210353.230000</td>\n",
       "      <td>0.09</td>\n",
       "    </tr>\n",
       "  </tbody>\n",
       "</table>\n",
       "</div>"
      ],
      "text/plain": [
       "               Segment     Recency   Frequency       Monetary  Proportion\n",
       "0       About to Sleep   81.552731    2.443503     924.010481       24.52\n",
       "1            Champions    1.000000  198.000000  128333.730000        0.02\n",
       "2          Hibernating  191.750000   13.250000    3494.618750        0.18\n",
       "3       Lost Customers  244.442164    1.533582     515.461624       24.75\n",
       "4      Loyal Customers    2.185185   58.518519   26941.392222        0.62\n",
       "5      Needs Attention   30.451554    4.078611    1522.444014       25.25\n",
       "6        New Customers    7.487304    4.378476    1476.182092       19.09\n",
       "7  Potential Loyalists    5.523605   16.236052    8167.465708        5.38\n",
       "8            Promising   25.000000   43.000000   54827.612500        0.09\n",
       "9           Runner-ups    4.500000   58.250000  210353.230000        0.09"
      ]
     },
     "execution_count": 94,
     "metadata": {},
     "output_type": "execute_result"
    }
   ],
   "source": [
    "# display full outputs in Jupyter Notebook, not only the last command's output\n",
    "from IPython.core.interactiveshell import InteractiveShell\n",
    "InteractiveShell.ast_node_interactivity = \"all\"\n",
    "\n",
    "agg_segment = scored_data.reset_index().groupby('Segment').agg({\n",
    "    'Recency': 'mean'\n",
    "    ,'Frequency': 'mean'\n",
    "    ,'Monetary': 'mean'\n",
    "    ,'CustomerID':'count'\n",
    "}).reset_index()\n",
    "\n",
    "agg_segment['Proportion'] = round(agg_segment['CustomerID'] * 100 / scored_data.shape[0],2)\n",
    "agg_segment.drop(columns='CustomerID',inplace=True)\n",
    "agg_segment"
   ]
  },
  {
   "cell_type": "markdown",
   "metadata": {},
   "source": [
    "## 6.3. Visualizing RFM Segments"
   ]
  },
  {
   "cell_type": "markdown",
   "metadata": {},
   "source": [
    "### 6.3.1. 3D Scatter Plot"
   ]
  },
  {
   "cell_type": "code",
   "execution_count": 96,
   "metadata": {},
   "outputs": [
    {
     "data": {
      "image/png": "[encoded data removed]",
      "text/plain": [
       "<Figure size 1000x800 with 1 Axes>"
      ]
     },
     "metadata": {},
     "output_type": "display_data"
    }
   ],
   "source": [
    "# display the last command's output\n",
    "from IPython.core.interactiveshell import InteractiveShell\n",
    "InteractiveShell.ast_node_interactivity = \"last_expr\"\n",
    "\n",
    "# Assuming your RFM data is in a dataframe `x`\n",
    "fig = plt.figure(figsize=(10, 8))\n",
    "ax = fig.add_subplot(111, projection='3d')\n",
    "condition = scored_data['Segment'].isin(['Potential Loyalists','Loyal Customers'])\n",
    "data = scored_data[condition]\n",
    "data['Colors'] = data['Segment'].apply(lambda x: 'red' if x == 'Potential Loyalists' else 'blue')\n",
    "\n",
    " \n",
    "for x, y, z, c, l in zip(data.Recency, data.Frequency, data.Monetary, data.Colors, data.Segment):\n",
    "    ax.scatter(xs=x, ys=y, zs=z, s=40, c=c, label=l)\n",
    "\n",
    "# ax.legend(ncol=1)\n",
    "plt.grid(b=True)\n",
    "ax.set_xlabel('Recency')\n",
    "ax.set_ylabel('Frequency')\n",
    "ax.set_zlabel('Monetary')\n",
    "plt.title('RFM Segments in 3D')\n",
    "plt.show()"
   ]
  },
  {
   "cell_type": "markdown",
   "metadata": {},
   "source": [
    "### 6.3.2. 2D Bubble Chart"
   ]
  },
  {
   "cell_type": "code",
   "execution_count": 97,
   "metadata": {},
   "outputs": [
    {
     "data": {
      "text/plain": [
       "['Segment: About to Sleep<br>Monetary: 924.0104811676083<br>',\n",
       " 'Segment: Champions<br>Monetary: 128333.73<br>',\n",
       " 'Segment: Hibernating<br>Monetary: 3494.61875<br>',\n",
       " 'Segment: Lost Customers<br>Monetary: 515.4616240671642<br>',\n",
       " 'Segment: Loyal Customers<br>Monetary: 26941.39222222222<br>',\n",
       " 'Segment: Needs Attention<br>Monetary: 1522.4440137111517<br>',\n",
       " 'Segment: New Customers<br>Monetary: 1476.182091898428<br>',\n",
       " 'Segment: Potential Loyalists<br>Monetary: 8167.4657081545065<br>',\n",
       " 'Segment: Promising<br>Monetary: 54827.6125<br>',\n",
       " 'Segment: Runner-ups<br>Monetary: 210353.22999999998<br>']"
      ]
     },
     "execution_count": 97,
     "metadata": {},
     "output_type": "execute_result"
    }
   ],
   "source": [
    "hover_text = []\n",
    "for index, row in agg_segment.iterrows():\n",
    "    hover_text.append(\n",
    "        (\n",
    "            'Segment: {Segment}<br>'+\n",
    "            'Monetary: {Monetary}<br>'\n",
    "        ).format(Segment=row['Segment'],Monetary=row['Monetary'])\n",
    "    )\n",
    "\n",
    "hover_text"
   ]
  },
  {
   "cell_type": "code",
   "execution_count": 99,
   "metadata": {},
   "outputs": [],
   "source": [
    "agg_segment['text'] = hover_text\n",
    "agg_segment['color'] = [\n",
    "    '#9e0142'\n",
    "    ,'#d53e4f'\n",
    "    ,'#f46d43'\n",
    "    ,'#fdae61'\n",
    "    ,'#7c6523'\n",
    "    ,'#000000'\n",
    "    ,'#3b4507'\n",
    "    ,'#abdda4'\n",
    "    ,'#66c2a5'\n",
    "    ,'#3288bd'\n",
    "    # ,'#beb0ff'\n",
    "]"
   ]
  },
  {
   "cell_type": "code",
   "execution_count": 101,
   "metadata": {},
   "outputs": [
    {
     "data": {
      "application/vnd.plotly.v1+json": {
       "config": {
        "plotlyServerURL": "https://plot.ly"
       },
       "data": [
        {
         "marker": {
          "color": [
           "#9e0142",
           "#d53e4f",
           "#f46d43",
           "#fdae61",
           "#7c6523",
           "#000000",
           "#3b4507",
           "#abdda4",
           "#66c2a5",
           "#3288bd"
          ],
          "size": [
           924.0104811676083,
           128333.73,
           3494.61875,
           515.4616240671642,
           26941.39222222222,
           1522.4440137111517,
           1476.182091898428,
           8167.4657081545065,
           54827.6125,
           210353.22999999998
          ],
          "sizemin": 4,
          "sizemode": "area",
          "sizeref": 262.9415375
         },
         "mode": "markers",
         "text": [
          "Segment: About to Sleep<br>Monetary: 924.0104811676083<br>",
          "Segment: Champions<br>Monetary: 128333.73<br>",
          "Segment: Hibernating<br>Monetary: 3494.61875<br>",
          "Segment: Lost Customers<br>Monetary: 515.4616240671642<br>",
          "Segment: Loyal Customers<br>Monetary: 26941.39222222222<br>",
          "Segment: Needs Attention<br>Monetary: 1522.4440137111517<br>",
          "Segment: New Customers<br>Monetary: 1476.182091898428<br>",
          "Segment: Potential Loyalists<br>Monetary: 8167.4657081545065<br>",
          "Segment: Promising<br>Monetary: 54827.6125<br>",
          "Segment: Runner-ups<br>Monetary: 210353.22999999998<br>"
         ],
         "type": "scatter",
         "x": [
          81.55273069679849,
          1,
          191.75,
          244.44216417910448,
          2.185185185185185,
          30.451553930530164,
          7.4873035066505444,
          5.523605150214593,
          25,
          4.5
         ],
         "y": [
          2.443502824858757,
          198,
          13.25,
          1.5335820895522387,
          58.51851851851852,
          4.078610603290676,
          4.378476420798065,
          16.236051502145923,
          43,
          58.25
         ]
        }
       ],
       "layout": {
        "paper_bgcolor": "rgb(243, 243, 243)",
        "plot_bgcolor": "rgb(243, 243, 243)",
        "template": {
         "data": {
          "bar": [
           {
            "error_x": {
             "color": "#2a3f5f"
            },
            "error_y": {
             "color": "#2a3f5f"
            },
            "marker": {
             "line": {
              "color": "#E5ECF6",
              "width": 0.5
             },
             "pattern": {
              "fillmode": "overlay",
              "size": 10,
              "solidity": 0.2
             }
            },
            "type": "bar"
           }
          ],
          "barpolar": [
           {
            "marker": {
             "line": {
              "color": "#E5ECF6",
              "width": 0.5
             },
             "pattern": {
              "fillmode": "overlay",
              "size": 10,
              "solidity": 0.2
             }
            },
            "type": "barpolar"
           }
          ],
          "carpet": [
           {
            "aaxis": {
             "endlinecolor": "#2a3f5f",
             "gridcolor": "white",
             "linecolor": "white",
             "minorgridcolor": "white",
             "startlinecolor": "#2a3f5f"
            },
            "baxis": {
             "endlinecolor": "#2a3f5f",
             "gridcolor": "white",
             "linecolor": "white",
             "minorgridcolor": "white",
             "startlinecolor": "#2a3f5f"
            },
            "type": "carpet"
           }
          ],
          "choropleth": [
           {
            "colorbar": {
             "outlinewidth": 0,
             "ticks": ""
            },
            "type": "choropleth"
           }
          ],
          "contour": [
           {
            "colorbar": {
             "outlinewidth": 0,
             "ticks": ""
            },
            "colorscale": [
             [
              0,
              "#0d0887"
             ],
             [
              0.1111111111111111,
              "#46039f"
             ],
             [
              0.2222222222222222,
              "#7201a8"
             ],
             [
              0.3333333333333333,
              "#9c179e"
             ],
             [
              0.4444444444444444,
              "#bd3786"
             ],
             [
              0.5555555555555556,
              "#d8576b"
             ],
             [
              0.6666666666666666,
              "#ed7953"
             ],
             [
              0.7777777777777778,
              "#fb9f3a"
             ],
             [
              0.8888888888888888,
              "#fdca26"
             ],
             [
              1,
              "#f0f921"
             ]
            ],
            "type": "contour"
           }
          ],
          "contourcarpet": [
           {
            "colorbar": {
             "outlinewidth": 0,
             "ticks": ""
            },
            "type": "contourcarpet"
           }
          ],
          "heatmap": [
           {
            "colorbar": {
             "outlinewidth": 0,
             "ticks": ""
            },
            "colorscale": [
             [
              0,
              "#0d0887"
             ],
             [
              0.1111111111111111,
              "#46039f"
             ],
             [
              0.2222222222222222,
              "#7201a8"
             ],
             [
              0.3333333333333333,
              "#9c179e"
             ],
             [
              0.4444444444444444,
              "#bd3786"
             ],
             [
              0.5555555555555556,
              "#d8576b"
             ],
             [
              0.6666666666666666,
              "#ed7953"
             ],
             [
              0.7777777777777778,
              "#fb9f3a"
             ],
             [
              0.8888888888888888,
              "#fdca26"
             ],
             [
              1,
              "#f0f921"
             ]
            ],
            "type": "heatmap"
           }
          ],
          "heatmapgl": [
           {
            "colorbar": {
             "outlinewidth": 0,
             "ticks": ""
            },
            "colorscale": [
             [
              0,
              "#0d0887"
             ],
             [
              0.1111111111111111,
              "#46039f"
             ],
             [
              0.2222222222222222,
              "#7201a8"
             ],
             [
              0.3333333333333333,
              "#9c179e"
             ],
             [
              0.4444444444444444,
              "#bd3786"
             ],
             [
              0.5555555555555556,
              "#d8576b"
             ],
             [
              0.6666666666666666,
              "#ed7953"
             ],
             [
              0.7777777777777778,
              "#fb9f3a"
             ],
             [
              0.8888888888888888,
              "#fdca26"
             ],
             [
              1,
              "#f0f921"
             ]
            ],
            "type": "heatmapgl"
           }
          ],
          "histogram": [
           {
            "marker": {
             "pattern": {
              "fillmode": "overlay",
              "size": 10,
              "solidity": 0.2
             }
            },
            "type": "histogram"
           }
          ],
          "histogram2d": [
           {
            "colorbar": {
             "outlinewidth": 0,
             "ticks": ""
            },
            "colorscale": [
             [
              0,
              "#0d0887"
             ],
             [
              0.1111111111111111,
              "#46039f"
             ],
             [
              0.2222222222222222,
              "#7201a8"
             ],
             [
              0.3333333333333333,
              "#9c179e"
             ],
             [
              0.4444444444444444,
              "#bd3786"
             ],
             [
              0.5555555555555556,
              "#d8576b"
             ],
             [
              0.6666666666666666,
              "#ed7953"
             ],
             [
              0.7777777777777778,
              "#fb9f3a"
             ],
             [
              0.8888888888888888,
              "#fdca26"
             ],
             [
              1,
              "#f0f921"
             ]
            ],
            "type": "histogram2d"
           }
          ],
          "histogram2dcontour": [
           {
            "colorbar": {
             "outlinewidth": 0,
             "ticks": ""
            },
            "colorscale": [
             [
              0,
              "#0d0887"
             ],
             [
              0.1111111111111111,
              "#46039f"
             ],
             [
              0.2222222222222222,
              "#7201a8"
             ],
             [
              0.3333333333333333,
              "#9c179e"
             ],
             [
              0.4444444444444444,
              "#bd3786"
             ],
             [
              0.5555555555555556,
              "#d8576b"
             ],
             [
              0.6666666666666666,
              "#ed7953"
             ],
             [
              0.7777777777777778,
              "#fb9f3a"
             ],
             [
              0.8888888888888888,
              "#fdca26"
             ],
             [
              1,
              "#f0f921"
             ]
            ],
            "type": "histogram2dcontour"
           }
          ],
          "mesh3d": [
           {
            "colorbar": {
             "outlinewidth": 0,
             "ticks": ""
            },
            "type": "mesh3d"
           }
          ],
          "parcoords": [
           {
            "line": {
             "colorbar": {
              "outlinewidth": 0,
              "ticks": ""
             }
            },
            "type": "parcoords"
           }
          ],
          "pie": [
           {
            "automargin": true,
            "type": "pie"
           }
          ],
          "scatter": [
           {
            "fillpattern": {
             "fillmode": "overlay",
             "size": 10,
             "solidity": 0.2
            },
            "type": "scatter"
           }
          ],
          "scatter3d": [
           {
            "line": {
             "colorbar": {
              "outlinewidth": 0,
              "ticks": ""
             }
            },
            "marker": {
             "colorbar": {
              "outlinewidth": 0,
              "ticks": ""
             }
            },
            "type": "scatter3d"
           }
          ],
          "scattercarpet": [
           {
            "marker": {
             "colorbar": {
              "outlinewidth": 0,
              "ticks": ""
             }
            },
            "type": "scattercarpet"
           }
          ],
          "scattergeo": [
           {
            "marker": {
             "colorbar": {
              "outlinewidth": 0,
              "ticks": ""
             }
            },
            "type": "scattergeo"
           }
          ],
          "scattergl": [
           {
            "marker": {
             "colorbar": {
              "outlinewidth": 0,
              "ticks": ""
             }
            },
            "type": "scattergl"
           }
          ],
          "scattermapbox": [
           {
            "marker": {
             "colorbar": {
              "outlinewidth": 0,
              "ticks": ""
             }
            },
            "type": "scattermapbox"
           }
          ],
          "scatterpolar": [
           {
            "marker": {
             "colorbar": {
              "outlinewidth": 0,
              "ticks": ""
             }
            },
            "type": "scatterpolar"
           }
          ],
          "scatterpolargl": [
           {
            "marker": {
             "colorbar": {
              "outlinewidth": 0,
              "ticks": ""
             }
            },
            "type": "scatterpolargl"
           }
          ],
          "scatterternary": [
           {
            "marker": {
             "colorbar": {
              "outlinewidth": 0,
              "ticks": ""
             }
            },
            "type": "scatterternary"
           }
          ],
          "surface": [
           {
            "colorbar": {
             "outlinewidth": 0,
             "ticks": ""
            },
            "colorscale": [
             [
              0,
              "#0d0887"
             ],
             [
              0.1111111111111111,
              "#46039f"
             ],
             [
              0.2222222222222222,
              "#7201a8"
             ],
             [
              0.3333333333333333,
              "#9c179e"
             ],
             [
              0.4444444444444444,
              "#bd3786"
             ],
             [
              0.5555555555555556,
              "#d8576b"
             ],
             [
              0.6666666666666666,
              "#ed7953"
             ],
             [
              0.7777777777777778,
              "#fb9f3a"
             ],
             [
              0.8888888888888888,
              "#fdca26"
             ],
             [
              1,
              "#f0f921"
             ]
            ],
            "type": "surface"
           }
          ],
          "table": [
           {
            "cells": {
             "fill": {
              "color": "#EBF0F8"
             },
             "line": {
              "color": "white"
             }
            },
            "header": {
             "fill": {
              "color": "#C8D4E3"
             },
             "line": {
              "color": "white"
             }
            },
            "type": "table"
           }
          ]
         },
         "layout": {
          "annotationdefaults": {
           "arrowcolor": "#2a3f5f",
           "arrowhead": 0,
           "arrowwidth": 1
          },
          "autotypenumbers": "strict",
          "coloraxis": {
           "colorbar": {
            "outlinewidth": 0,
            "ticks": ""
           }
          },
          "colorscale": {
           "diverging": [
            [
             0,
             "#8e0152"
            ],
            [
             0.1,
             "#c51b7d"
            ],
            [
             0.2,
             "#de77ae"
            ],
            [
             0.3,
             "#f1b6da"
            ],
            [
             0.4,
             "#fde0ef"
            ],
            [
             0.5,
             "#f7f7f7"
            ],
            [
             0.6,
             "#e6f5d0"
            ],
            [
             0.7,
             "#b8e186"
            ],
            [
             0.8,
             "#7fbc41"
            ],
            [
             0.9,
             "#4d9221"
            ],
            [
             1,
             "#276419"
            ]
           ],
           "sequential": [
            [
             0,
             "#0d0887"
            ],
            [
             0.1111111111111111,
             "#46039f"
            ],
            [
             0.2222222222222222,
             "#7201a8"
            ],
            [
             0.3333333333333333,
             "#9c179e"
            ],
            [
             0.4444444444444444,
             "#bd3786"
            ],
            [
             0.5555555555555556,
             "#d8576b"
            ],
            [
             0.6666666666666666,
             "#ed7953"
            ],
            [
             0.7777777777777778,
             "#fb9f3a"
            ],
            [
             0.8888888888888888,
             "#fdca26"
            ],
            [
             1,
             "#f0f921"
            ]
           ],
           "sequentialminus": [
            [
             0,
             "#0d0887"
            ],
            [
             0.1111111111111111,
             "#46039f"
            ],
            [
             0.2222222222222222,
             "#7201a8"
            ],
            [
             0.3333333333333333,
             "#9c179e"
            ],
            [
             0.4444444444444444,
             "#bd3786"
            ],
            [
             0.5555555555555556,
             "#d8576b"
            ],
            [
             0.6666666666666666,
             "#ed7953"
            ],
            [
             0.7777777777777778,
             "#fb9f3a"
            ],
            [
             0.8888888888888888,
             "#fdca26"
            ],
            [
             1,
             "#f0f921"
            ]
           ]
          },
          "colorway": [
           "#636efa",
           "#EF553B",
           "#00cc96",
           "#ab63fa",
           "#FFA15A",
           "#19d3f3",
           "#FF6692",
           "#B6E880",
           "#FF97FF",
           "#FECB52"
          ],
          "font": {
           "color": "#2a3f5f"
          },
          "geo": {
           "bgcolor": "white",
           "lakecolor": "white",
           "landcolor": "#E5ECF6",
           "showlakes": true,
           "showland": true,
           "subunitcolor": "white"
          },
          "hoverlabel": {
           "align": "left"
          },
          "hovermode": "closest",
          "mapbox": {
           "style": "light"
          },
          "paper_bgcolor": "white",
          "plot_bgcolor": "#E5ECF6",
          "polar": {
           "angularaxis": {
            "gridcolor": "white",
            "linecolor": "white",
            "ticks": ""
           },
           "bgcolor": "#E5ECF6",
           "radialaxis": {
            "gridcolor": "white",
            "linecolor": "white",
            "ticks": ""
           }
          },
          "scene": {
           "xaxis": {
            "backgroundcolor": "#E5ECF6",
            "gridcolor": "white",
            "gridwidth": 2,
            "linecolor": "white",
            "showbackground": true,
            "ticks": "",
            "zerolinecolor": "white"
           },
           "yaxis": {
            "backgroundcolor": "#E5ECF6",
            "gridcolor": "white",
            "gridwidth": 2,
            "linecolor": "white",
            "showbackground": true,
            "ticks": "",
            "zerolinecolor": "white"
           },
           "zaxis": {
            "backgroundcolor": "#E5ECF6",
            "gridcolor": "white",
            "gridwidth": 2,
            "linecolor": "white",
            "showbackground": true,
            "ticks": "",
            "zerolinecolor": "white"
           }
          },
          "shapedefaults": {
           "line": {
            "color": "#2a3f5f"
           }
          },
          "ternary": {
           "aaxis": {
            "gridcolor": "white",
            "linecolor": "white",
            "ticks": ""
           },
           "baxis": {
            "gridcolor": "white",
            "linecolor": "white",
            "ticks": ""
           },
           "bgcolor": "#E5ECF6",
           "caxis": {
            "gridcolor": "white",
            "linecolor": "white",
            "ticks": ""
           }
          },
          "title": {
           "x": 0.05
          },
          "xaxis": {
           "automargin": true,
           "gridcolor": "white",
           "linecolor": "white",
           "ticks": "",
           "title": {
            "standoff": 15
           },
           "zerolinecolor": "white",
           "zerolinewidth": 2
          },
          "yaxis": {
           "automargin": true,
           "gridcolor": "white",
           "linecolor": "white",
           "ticks": "",
           "title": {
            "standoff": 15
           },
           "zerolinecolor": "white",
           "zerolinewidth": 2
          }
         }
        },
        "title": {
         "text": "Customer Segments by Average RFM Features, Size by Monetary"
        },
        "xaxis": {
         "title": {
          "text": "Recency"
         }
        },
        "yaxis": {
         "title": {
          "text": "Frequency"
         }
        }
       }
      }
     },
     "metadata": {},
     "output_type": "display_data"
    }
   ],
   "source": [
    "fig = go.Figure(\n",
    "    data=[\n",
    "        go.Scatter(       \n",
    "            x=agg_segment['Recency'],\n",
    "            y=agg_segment['Frequency'],\n",
    "            mode='markers',\n",
    "            marker=dict(\n",
    "                size=agg_segment['Monetary'],\n",
    "                sizemode='area',\n",
    "                sizeref=2.*max(agg_segment['Monetary'])/(40.**2),\n",
    "                sizemin=4,\n",
    "                color=agg_segment['color']\n",
    "            ),\n",
    "            text=agg_segment['text']\n",
    "        )\n",
    "    ]\n",
    ")\n",
    "\n",
    "fig.update_layout(\n",
    "    title=dict(text='Customer Segments by Average RFM Features, Size by Monetary'),\n",
    "    xaxis=dict(title=dict(text='Recency')),\n",
    "    yaxis=dict(title=dict(text='Frequency')),\n",
    "    paper_bgcolor='rgb(243, 243, 243)',\n",
    "    plot_bgcolor='rgb(243, 243, 243)'\n",
    ")\n"
   ]
  },
  {
   "cell_type": "code",
   "execution_count": 102,
   "metadata": {},
   "outputs": [
    {
     "data": {
      "application/vnd.plotly.v1+json": {
       "config": {
        "plotlyServerURL": "https://plot.ly"
       },
       "data": [
        {
         "marker": {
          "color": [
           "#9e0142",
           "#d53e4f",
           "#f46d43",
           "#fdae61",
           "#7c6523",
           "#000000",
           "#3b4507",
           "#abdda4",
           "#66c2a5",
           "#3288bd"
          ],
          "size": [
           24.52,
           0.02,
           0.18,
           24.75,
           0.62,
           25.25,
           19.09,
           5.38,
           0.09,
           0.09
          ],
          "sizemin": 4,
          "sizemode": "area",
          "sizeref": 0.0315625
         },
         "mode": "markers",
         "text": [
          "Segment: About to Sleep<br>Monetary: 924.0104811676083<br>",
          "Segment: Champions<br>Monetary: 128333.73<br>",
          "Segment: Hibernating<br>Monetary: 3494.61875<br>",
          "Segment: Lost Customers<br>Monetary: 515.4616240671642<br>",
          "Segment: Loyal Customers<br>Monetary: 26941.39222222222<br>",
          "Segment: Needs Attention<br>Monetary: 1522.4440137111517<br>",
          "Segment: New Customers<br>Monetary: 1476.182091898428<br>",
          "Segment: Potential Loyalists<br>Monetary: 8167.4657081545065<br>",
          "Segment: Promising<br>Monetary: 54827.6125<br>",
          "Segment: Runner-ups<br>Monetary: 210353.22999999998<br>"
         ],
         "type": "scatter",
         "x": [
          81.55273069679849,
          1,
          191.75,
          244.44216417910448,
          2.185185185185185,
          30.451553930530164,
          7.4873035066505444,
          5.523605150214593,
          25,
          4.5
         ],
         "y": [
          2.443502824858757,
          198,
          13.25,
          1.5335820895522387,
          58.51851851851852,
          4.078610603290676,
          4.378476420798065,
          16.236051502145923,
          43,
          58.25
         ]
        }
       ],
       "layout": {
        "paper_bgcolor": "rgb(243, 243, 243)",
        "plot_bgcolor": "rgb(243, 243, 243)",
        "template": {
         "data": {
          "bar": [
           {
            "error_x": {
             "color": "#2a3f5f"
            },
            "error_y": {
             "color": "#2a3f5f"
            },
            "marker": {
             "line": {
              "color": "#E5ECF6",
              "width": 0.5
             },
             "pattern": {
              "fillmode": "overlay",
              "size": 10,
              "solidity": 0.2
             }
            },
            "type": "bar"
           }
          ],
          "barpolar": [
           {
            "marker": {
             "line": {
              "color": "#E5ECF6",
              "width": 0.5
             },
             "pattern": {
              "fillmode": "overlay",
              "size": 10,
              "solidity": 0.2
             }
            },
            "type": "barpolar"
           }
          ],
          "carpet": [
           {
            "aaxis": {
             "endlinecolor": "#2a3f5f",
             "gridcolor": "white",
             "linecolor": "white",
             "minorgridcolor": "white",
             "startlinecolor": "#2a3f5f"
            },
            "baxis": {
             "endlinecolor": "#2a3f5f",
             "gridcolor": "white",
             "linecolor": "white",
             "minorgridcolor": "white",
             "startlinecolor": "#2a3f5f"
            },
            "type": "carpet"
           }
          ],
          "choropleth": [
           {
            "colorbar": {
             "outlinewidth": 0,
             "ticks": ""
            },
            "type": "choropleth"
           }
          ],
          "contour": [
           {
            "colorbar": {
             "outlinewidth": 0,
             "ticks": ""
            },
            "colorscale": [
             [
              0,
              "#0d0887"
             ],
             [
              0.1111111111111111,
              "#46039f"
             ],
             [
              0.2222222222222222,
              "#7201a8"
             ],
             [
              0.3333333333333333,
              "#9c179e"
             ],
             [
              0.4444444444444444,
              "#bd3786"
             ],
             [
              0.5555555555555556,
              "#d8576b"
             ],
             [
              0.6666666666666666,
              "#ed7953"
             ],
             [
              0.7777777777777778,
              "#fb9f3a"
             ],
             [
              0.8888888888888888,
              "#fdca26"
             ],
             [
              1,
              "#f0f921"
             ]
            ],
            "type": "contour"
           }
          ],
          "contourcarpet": [
           {
            "colorbar": {
             "outlinewidth": 0,
             "ticks": ""
            },
            "type": "contourcarpet"
           }
          ],
          "heatmap": [
           {
            "colorbar": {
             "outlinewidth": 0,
             "ticks": ""
            },
            "colorscale": [
             [
              0,
              "#0d0887"
             ],
             [
              0.1111111111111111,
              "#46039f"
             ],
             [
              0.2222222222222222,
              "#7201a8"
             ],
             [
              0.3333333333333333,
              "#9c179e"
             ],
             [
              0.4444444444444444,
              "#bd3786"
             ],
             [
              0.5555555555555556,
              "#d8576b"
             ],
             [
              0.6666666666666666,
              "#ed7953"
             ],
             [
              0.7777777777777778,
              "#fb9f3a"
             ],
             [
              0.8888888888888888,
              "#fdca26"
             ],
             [
              1,
              "#f0f921"
             ]
            ],
            "type": "heatmap"
           }
          ],
          "heatmapgl": [
           {
            "colorbar": {
             "outlinewidth": 0,
             "ticks": ""
            },
            "colorscale": [
             [
              0,
              "#0d0887"
             ],
             [
              0.1111111111111111,
              "#46039f"
             ],
             [
              0.2222222222222222,
              "#7201a8"
             ],
             [
              0.3333333333333333,
              "#9c179e"
             ],
             [
              0.4444444444444444,
              "#bd3786"
             ],
             [
              0.5555555555555556,
              "#d8576b"
             ],
             [
              0.6666666666666666,
              "#ed7953"
             ],
             [
              0.7777777777777778,
              "#fb9f3a"
             ],
             [
              0.8888888888888888,
              "#fdca26"
             ],
             [
              1,
              "#f0f921"
             ]
            ],
            "type": "heatmapgl"
           }
          ],
          "histogram": [
           {
            "marker": {
             "pattern": {
              "fillmode": "overlay",
              "size": 10,
              "solidity": 0.2
             }
            },
            "type": "histogram"
           }
          ],
          "histogram2d": [
           {
            "colorbar": {
             "outlinewidth": 0,
             "ticks": ""
            },
            "colorscale": [
             [
              0,
              "#0d0887"
             ],
             [
              0.1111111111111111,
              "#46039f"
             ],
             [
              0.2222222222222222,
              "#7201a8"
             ],
             [
              0.3333333333333333,
              "#9c179e"
             ],
             [
              0.4444444444444444,
              "#bd3786"
             ],
             [
              0.5555555555555556,
              "#d8576b"
             ],
             [
              0.6666666666666666,
              "#ed7953"
             ],
             [
              0.7777777777777778,
              "#fb9f3a"
             ],
             [
              0.8888888888888888,
              "#fdca26"
             ],
             [
              1,
              "#f0f921"
             ]
            ],
            "type": "histogram2d"
           }
          ],
          "histogram2dcontour": [
           {
            "colorbar": {
             "outlinewidth": 0,
             "ticks": ""
            },
            "colorscale": [
             [
              0,
              "#0d0887"
             ],
             [
              0.1111111111111111,
              "#46039f"
             ],
             [
              0.2222222222222222,
              "#7201a8"
             ],
             [
              0.3333333333333333,
              "#9c179e"
             ],
             [
              0.4444444444444444,
              "#bd3786"
             ],
             [
              0.5555555555555556,
              "#d8576b"
             ],
             [
              0.6666666666666666,
              "#ed7953"
             ],
             [
              0.7777777777777778,
              "#fb9f3a"
             ],
             [
              0.8888888888888888,
              "#fdca26"
             ],
             [
              1,
              "#f0f921"
             ]
            ],
            "type": "histogram2dcontour"
           }
          ],
          "mesh3d": [
           {
            "colorbar": {
             "outlinewidth": 0,
             "ticks": ""
            },
            "type": "mesh3d"
           }
          ],
          "parcoords": [
           {
            "line": {
             "colorbar": {
              "outlinewidth": 0,
              "ticks": ""
             }
            },
            "type": "parcoords"
           }
          ],
          "pie": [
           {
            "automargin": true,
            "type": "pie"
           }
          ],
          "scatter": [
           {
            "fillpattern": {
             "fillmode": "overlay",
             "size": 10,
             "solidity": 0.2
            },
            "type": "scatter"
           }
          ],
          "scatter3d": [
           {
            "line": {
             "colorbar": {
              "outlinewidth": 0,
              "ticks": ""
             }
            },
            "marker": {
             "colorbar": {
              "outlinewidth": 0,
              "ticks": ""
             }
            },
            "type": "scatter3d"
           }
          ],
          "scattercarpet": [
           {
            "marker": {
             "colorbar": {
              "outlinewidth": 0,
              "ticks": ""
             }
            },
            "type": "scattercarpet"
           }
          ],
          "scattergeo": [
           {
            "marker": {
             "colorbar": {
              "outlinewidth": 0,
              "ticks": ""
             }
            },
            "type": "scattergeo"
           }
          ],
          "scattergl": [
           {
            "marker": {
             "colorbar": {
              "outlinewidth": 0,
              "ticks": ""
             }
            },
            "type": "scattergl"
           }
          ],
          "scattermapbox": [
           {
            "marker": {
             "colorbar": {
              "outlinewidth": 0,
              "ticks": ""
             }
            },
            "type": "scattermapbox"
           }
          ],
          "scatterpolar": [
           {
            "marker": {
             "colorbar": {
              "outlinewidth": 0,
              "ticks": ""
             }
            },
            "type": "scatterpolar"
           }
          ],
          "scatterpolargl": [
           {
            "marker": {
             "colorbar": {
              "outlinewidth": 0,
              "ticks": ""
             }
            },
            "type": "scatterpolargl"
           }
          ],
          "scatterternary": [
           {
            "marker": {
             "colorbar": {
              "outlinewidth": 0,
              "ticks": ""
             }
            },
            "type": "scatterternary"
           }
          ],
          "surface": [
           {
            "colorbar": {
             "outlinewidth": 0,
             "ticks": ""
            },
            "colorscale": [
             [
              0,
              "#0d0887"
             ],
             [
              0.1111111111111111,
              "#46039f"
             ],
             [
              0.2222222222222222,
              "#7201a8"
             ],
             [
              0.3333333333333333,
              "#9c179e"
             ],
             [
              0.4444444444444444,
              "#bd3786"
             ],
             [
              0.5555555555555556,
              "#d8576b"
             ],
             [
              0.6666666666666666,
              "#ed7953"
             ],
             [
              0.7777777777777778,
              "#fb9f3a"
             ],
             [
              0.8888888888888888,
              "#fdca26"
             ],
             [
              1,
              "#f0f921"
             ]
            ],
            "type": "surface"
           }
          ],
          "table": [
           {
            "cells": {
             "fill": {
              "color": "#EBF0F8"
             },
             "line": {
              "color": "white"
             }
            },
            "header": {
             "fill": {
              "color": "#C8D4E3"
             },
             "line": {
              "color": "white"
             }
            },
            "type": "table"
           }
          ]
         },
         "layout": {
          "annotationdefaults": {
           "arrowcolor": "#2a3f5f",
           "arrowhead": 0,
           "arrowwidth": 1
          },
          "autotypenumbers": "strict",
          "coloraxis": {
           "colorbar": {
            "outlinewidth": 0,
            "ticks": ""
           }
          },
          "colorscale": {
           "diverging": [
            [
             0,
             "#8e0152"
            ],
            [
             0.1,
             "#c51b7d"
            ],
            [
             0.2,
             "#de77ae"
            ],
            [
             0.3,
             "#f1b6da"
            ],
            [
             0.4,
             "#fde0ef"
            ],
            [
             0.5,
             "#f7f7f7"
            ],
            [
             0.6,
             "#e6f5d0"
            ],
            [
             0.7,
             "#b8e186"
            ],
            [
             0.8,
             "#7fbc41"
            ],
            [
             0.9,
             "#4d9221"
            ],
            [
             1,
             "#276419"
            ]
           ],
           "sequential": [
            [
             0,
             "#0d0887"
            ],
            [
             0.1111111111111111,
             "#46039f"
            ],
            [
             0.2222222222222222,
             "#7201a8"
            ],
            [
             0.3333333333333333,
             "#9c179e"
            ],
            [
             0.4444444444444444,
             "#bd3786"
            ],
            [
             0.5555555555555556,
             "#d8576b"
            ],
            [
             0.6666666666666666,
             "#ed7953"
            ],
            [
             0.7777777777777778,
             "#fb9f3a"
            ],
            [
             0.8888888888888888,
             "#fdca26"
            ],
            [
             1,
             "#f0f921"
            ]
           ],
           "sequentialminus": [
            [
             0,
             "#0d0887"
            ],
            [
             0.1111111111111111,
             "#46039f"
            ],
            [
             0.2222222222222222,
             "#7201a8"
            ],
            [
             0.3333333333333333,
             "#9c179e"
            ],
            [
             0.4444444444444444,
             "#bd3786"
            ],
            [
             0.5555555555555556,
             "#d8576b"
            ],
            [
             0.6666666666666666,
             "#ed7953"
            ],
            [
             0.7777777777777778,
             "#fb9f3a"
            ],
            [
             0.8888888888888888,
             "#fdca26"
            ],
            [
             1,
             "#f0f921"
            ]
           ]
          },
          "colorway": [
           "#636efa",
           "#EF553B",
           "#00cc96",
           "#ab63fa",
           "#FFA15A",
           "#19d3f3",
           "#FF6692",
           "#B6E880",
           "#FF97FF",
           "#FECB52"
          ],
          "font": {
           "color": "#2a3f5f"
          },
          "geo": {
           "bgcolor": "white",
           "lakecolor": "white",
           "landcolor": "#E5ECF6",
           "showlakes": true,
           "showland": true,
           "subunitcolor": "white"
          },
          "hoverlabel": {
           "align": "left"
          },
          "hovermode": "closest",
          "mapbox": {
           "style": "light"
          },
          "paper_bgcolor": "white",
          "plot_bgcolor": "#E5ECF6",
          "polar": {
           "angularaxis": {
            "gridcolor": "white",
            "linecolor": "white",
            "ticks": ""
           },
           "bgcolor": "#E5ECF6",
           "radialaxis": {
            "gridcolor": "white",
            "linecolor": "white",
            "ticks": ""
           }
          },
          "scene": {
           "xaxis": {
            "backgroundcolor": "#E5ECF6",
            "gridcolor": "white",
            "gridwidth": 2,
            "linecolor": "white",
            "showbackground": true,
            "ticks": "",
            "zerolinecolor": "white"
           },
           "yaxis": {
            "backgroundcolor": "#E5ECF6",
            "gridcolor": "white",
            "gridwidth": 2,
            "linecolor": "white",
            "showbackground": true,
            "ticks": "",
            "zerolinecolor": "white"
           },
           "zaxis": {
            "backgroundcolor": "#E5ECF6",
            "gridcolor": "white",
            "gridwidth": 2,
            "linecolor": "white",
            "showbackground": true,
            "ticks": "",
            "zerolinecolor": "white"
           }
          },
          "shapedefaults": {
           "line": {
            "color": "#2a3f5f"
           }
          },
          "ternary": {
           "aaxis": {
            "gridcolor": "white",
            "linecolor": "white",
            "ticks": ""
           },
           "baxis": {
            "gridcolor": "white",
            "linecolor": "white",
            "ticks": ""
           },
           "bgcolor": "#E5ECF6",
           "caxis": {
            "gridcolor": "white",
            "linecolor": "white",
            "ticks": ""
           }
          },
          "title": {
           "x": 0.05
          },
          "xaxis": {
           "automargin": true,
           "gridcolor": "white",
           "linecolor": "white",
           "ticks": "",
           "title": {
            "standoff": 15
           },
           "zerolinecolor": "white",
           "zerolinewidth": 2
          },
          "yaxis": {
           "automargin": true,
           "gridcolor": "white",
           "linecolor": "white",
           "ticks": "",
           "title": {
            "standoff": 15
           },
           "zerolinecolor": "white",
           "zerolinewidth": 2
          }
         }
        },
        "title": {
         "text": "Customer Segments by Average RFM Features, Size by Proportion"
        },
        "xaxis": {
         "title": {
          "text": "Recency"
         }
        },
        "yaxis": {
         "title": {
          "text": "Frequency"
         }
        }
       }
      }
     },
     "metadata": {},
     "output_type": "display_data"
    }
   ],
   "source": [
    "fig = go.Figure(\n",
    "    data=[\n",
    "        go.Scatter(       \n",
    "            x=agg_segment['Recency'],\n",
    "            y=agg_segment['Frequency'],\n",
    "            mode='markers',\n",
    "            marker=dict(\n",
    "                size=agg_segment['Proportion'],\n",
    "                sizemode='area',\n",
    "                sizeref=2.*max(agg_segment['Proportion'])/(40.**2),\n",
    "                sizemin=4,\n",
    "                color=agg_segment['color']\n",
    "            ),\n",
    "            text=agg_segment['text']\n",
    "        )\n",
    "    ]\n",
    ")\n",
    "\n",
    "fig.update_layout(\n",
    "    title=dict(text='Customer Segments by Average RFM Features, Size by Proportion'),\n",
    "    xaxis=dict(title=dict(text='Recency')),\n",
    "    yaxis=dict(title=dict(text='Frequency')),\n",
    "    paper_bgcolor='rgb(243, 243, 243)',\n",
    "    plot_bgcolor='rgb(243, 243, 243)'\n",
    ")\n"
   ]
  },
  {
   "cell_type": "code",
   "execution_count": null,
   "metadata": {},
   "outputs": [],
   "source": []
  },
  {
   "cell_type": "markdown",
   "metadata": {},
   "source": [
    "### 6.3.4. RFM Graph"
   ]
  },
  {
   "cell_type": "code",
   "execution_count": 113,
   "metadata": {},
   "outputs": [
    {
     "name": "stdout",
     "output_type": "stream",
     "text": [
      "<class 'pandas.core.frame.DataFrame'>\n",
      "Index: 4332 entries, 12347 to 18287\n",
      "Data columns (total 9 columns):\n",
      " #   Column          Non-Null Count  Dtype  \n",
      "---  ------          --------------  -----  \n",
      " 0   Recency         4332 non-null   int64  \n",
      " 1   Frequency       4332 non-null   int32  \n",
      " 2   Monetary        4332 non-null   float64\n",
      " 3   RecencyScore    4332 non-null   int32  \n",
      " 4   FrequencyScore  4332 non-null   int64  \n",
      " 5   MonetaryScore   4332 non-null   int64  \n",
      " 6   RFMSegment      4332 non-null   object \n",
      " 7   RFMScore        4332 non-null   int64  \n",
      " 8   Segment         4332 non-null   object \n",
      "dtypes: float64(1), int32(2), int64(4), object(2)\n",
      "memory usage: 433.6+ KB\n"
     ]
    }
   ],
   "source": [
    "scored_data['RecencyScore'] = scored_data['RecencyScore'].astype(int)\n",
    "scored_data.info()"
   ]
  },
  {
   "cell_type": "code",
   "execution_count": 143,
   "metadata": {},
   "outputs": [],
   "source": [
    "described_data = scored_data.groupby('Segment').agg({\n",
    "    'RecencyScore':'unique'\n",
    "    ,'FrequencyScore':'unique'\n",
    "    ,'MonetaryScore':'unique'\n",
    "})\n",
    "described_data = described_data.loc[[\n",
    "    'Champions'\n",
    "    ,'Runner-ups'\n",
    "    ,'Loyal Customers'\n",
    "    ,'Potential Loyalists'\n",
    "    ,'New Customers'\n",
    "    ,'Promising'\n",
    "    ,'Needs Attention'\n",
    "    ,'About to Sleep'\n",
    "    ,'Hibernating'\n",
    "    ,'Lost Customers'\n",
    "]]\n",
    "\n",
    "described_data['RFM Description']=[\n",
    "        'Best customers; frequent, recent, and high spenders'\n",
    "        ,'Second best customers; Recent, high spenders but less frequent'\n",
    "        ,'Frequent buyers with average spending'\n",
    "        ,'Recent buyers with potential to be frequent customers'\n",
    "        ,'Recent customers, need nurturing'\n",
    "        ,'Moderate engagement; future potential'\n",
    "        ,'Low engagement & drifting aways, need nurturing'\n",
    "        ,'Inactive customers, need re-engagement'\n",
    "        ,'Long-term inactive, low engagement, spenders'\n",
    "        ,'Long-term inactive, low spenders'\n",
    "    ]\n",
    "described_data.reset_index(drop=False, inplace=True)\n",
    "# described_data"
   ]
  },
  {
   "cell_type": "code",
   "execution_count": 142,
   "metadata": {},
   "outputs": [
    {
     "data": {
      "text/html": [
       "<div>\n",
       "<style scoped>\n",
       "    .dataframe tbody tr th:only-of-type {\n",
       "        vertical-align: middle;\n",
       "    }\n",
       "\n",
       "    .dataframe tbody tr th {\n",
       "        vertical-align: top;\n",
       "    }\n",
       "\n",
       "    .dataframe thead th {\n",
       "        text-align: right;\n",
       "    }\n",
       "</style>\n",
       "<table border=\"1\" class=\"dataframe\">\n",
       "  <thead>\n",
       "    <tr style=\"text-align: right;\">\n",
       "      <th></th>\n",
       "      <th>Segment</th>\n",
       "      <th>RecencyScore</th>\n",
       "      <th>FrequencyScore</th>\n",
       "      <th>MonetaryScore</th>\n",
       "      <th>RFM Description</th>\n",
       "      <th>Proportion</th>\n",
       "    </tr>\n",
       "  </thead>\n",
       "  <tbody>\n",
       "    <tr>\n",
       "      <th>0</th>\n",
       "      <td>Champions</td>\n",
       "      <td>[4]</td>\n",
       "      <td>[4]</td>\n",
       "      <td>[4]</td>\n",
       "      <td>Best customers; frequent, recent, and high spenders</td>\n",
       "      <td>0.02</td>\n",
       "    </tr>\n",
       "    <tr>\n",
       "      <th>1</th>\n",
       "      <td>Runner-ups</td>\n",
       "      <td>[4]</td>\n",
       "      <td>[3]</td>\n",
       "      <td>[4]</td>\n",
       "      <td>Second best customers; Recent, high spenders but less frequent</td>\n",
       "      <td>0.09</td>\n",
       "    </tr>\n",
       "    <tr>\n",
       "      <th>2</th>\n",
       "      <td>Loyal Customers</td>\n",
       "      <td>[4]</td>\n",
       "      <td>[4, 3]</td>\n",
       "      <td>[3, 2]</td>\n",
       "      <td>Frequent buyers with average spending</td>\n",
       "      <td>0.62</td>\n",
       "    </tr>\n",
       "    <tr>\n",
       "      <th>3</th>\n",
       "      <td>Potential Loyalists</td>\n",
       "      <td>[4]</td>\n",
       "      <td>[2]</td>\n",
       "      <td>[2, 3]</td>\n",
       "      <td>Recent buyers with potential to be frequent customers</td>\n",
       "      <td>5.38</td>\n",
       "    </tr>\n",
       "    <tr>\n",
       "      <th>4</th>\n",
       "      <td>New Customers</td>\n",
       "      <td>[4]</td>\n",
       "      <td>[1, 2]</td>\n",
       "      <td>[2, 1, 3]</td>\n",
       "      <td>Recent customers, need nurturing</td>\n",
       "      <td>19.09</td>\n",
       "    </tr>\n",
       "    <tr>\n",
       "      <th>5</th>\n",
       "      <td>Promising</td>\n",
       "      <td>[3]</td>\n",
       "      <td>[2, 3]</td>\n",
       "      <td>[4, 3, 1]</td>\n",
       "      <td>Moderate engagement; future potential</td>\n",
       "      <td>0.09</td>\n",
       "    </tr>\n",
       "    <tr>\n",
       "      <th>6</th>\n",
       "      <td>Needs Attention</td>\n",
       "      <td>[3, 2]</td>\n",
       "      <td>[1, 2]</td>\n",
       "      <td>[1, 2, 3]</td>\n",
       "      <td>Low engagement &amp; drifting aways, need nurturing</td>\n",
       "      <td>25.25</td>\n",
       "    </tr>\n",
       "    <tr>\n",
       "      <th>7</th>\n",
       "      <td>About to Sleep</td>\n",
       "      <td>[2]</td>\n",
       "      <td>[1]</td>\n",
       "      <td>[1, 2]</td>\n",
       "      <td>Inactive customers, need re-engagement</td>\n",
       "      <td>24.52</td>\n",
       "    </tr>\n",
       "    <tr>\n",
       "      <th>8</th>\n",
       "      <td>Hibernating</td>\n",
       "      <td>[1]</td>\n",
       "      <td>[2, 3]</td>\n",
       "      <td>[2, 1]</td>\n",
       "      <td>Long-term inactive, low engagement, spenders</td>\n",
       "      <td>0.18</td>\n",
       "    </tr>\n",
       "    <tr>\n",
       "      <th>9</th>\n",
       "      <td>Lost Customers</td>\n",
       "      <td>[1]</td>\n",
       "      <td>[1]</td>\n",
       "      <td>[1, 2, 3]</td>\n",
       "      <td>Long-term inactive, low spenders</td>\n",
       "      <td>24.75</td>\n",
       "    </tr>\n",
       "  </tbody>\n",
       "</table>\n",
       "</div>"
      ],
      "text/plain": [
       "               Segment RecencyScore FrequencyScore MonetaryScore  \\\n",
       "0            Champions          [4]            [4]           [4]   \n",
       "1           Runner-ups          [4]            [3]           [4]   \n",
       "2      Loyal Customers          [4]         [4, 3]        [3, 2]   \n",
       "3  Potential Loyalists          [4]            [2]        [2, 3]   \n",
       "4        New Customers          [4]         [1, 2]     [2, 1, 3]   \n",
       "5            Promising          [3]         [2, 3]     [4, 3, 1]   \n",
       "6      Needs Attention       [3, 2]         [1, 2]     [1, 2, 3]   \n",
       "7       About to Sleep          [2]            [1]        [1, 2]   \n",
       "8          Hibernating          [1]         [2, 3]        [2, 1]   \n",
       "9       Lost Customers          [1]            [1]     [1, 2, 3]   \n",
       "\n",
       "                                                  RFM Description  Proportion  \n",
       "0             Best customers; frequent, recent, and high spenders        0.02  \n",
       "1  Second best customers; Recent, high spenders but less frequent        0.09  \n",
       "2                           Frequent buyers with average spending        0.62  \n",
       "3           Recent buyers with potential to be frequent customers        5.38  \n",
       "4                                Recent customers, need nurturing       19.09  \n",
       "5                           Moderate engagement; future potential        0.09  \n",
       "6                 Low engagement & drifting aways, need nurturing       25.25  \n",
       "7                          Inactive customers, need re-engagement       24.52  \n",
       "8                    Long-term inactive, low engagement, spenders        0.18  \n",
       "9                                Long-term inactive, low spenders       24.75  "
      ]
     },
     "execution_count": 142,
     "metadata": {},
     "output_type": "execute_result"
    }
   ],
   "source": [
    "described_data = described_data.merge(agg_segment[['Segment','Proportion']], how='left',on='Segment')\n",
    "described_data"
   ]
  },
  {
   "cell_type": "code",
   "execution_count": null,
   "metadata": {},
   "outputs": [],
   "source": []
  },
  {
   "cell_type": "markdown",
   "metadata": {},
   "source": [
    "## 6.4. Comparing Features of each segmentation"
   ]
  },
  {
   "cell_type": "code",
   "execution_count": 110,
   "metadata": {},
   "outputs": [
    {
     "name": "stderr",
     "output_type": "stream",
     "text": [
      "C:\\Users\\Hung\\AppData\\Local\\Temp\\ipykernel_18716\\3609500118.py:10: UserWarning:\n",
      "\n",
      "set_ticklabels() should only be used with a fixed number of ticks, i.e. after set_ticks() or using a FixedLocator.\n",
      "\n"
     ]
    },
    {
     "data": {
      "text/plain": [
       "[Text(0, 0, 'Lost Customers'),\n",
       " Text(1, 0, 'About to Sleep'),\n",
       " Text(2, 0, 'New Customers'),\n",
       " Text(3, 0, 'Needs Attention'),\n",
       " Text(4, 0, 'Hibernating'),\n",
       " Text(5, 0, 'Potential Loyalists'),\n",
       " Text(6, 0, 'Loyal Customers'),\n",
       " Text(7, 0, 'Promising'),\n",
       " Text(8, 0, 'Champions'),\n",
       " Text(9, 0, 'Runner-ups')]"
      ]
     },
     "execution_count": 110,
     "metadata": {},
     "output_type": "execute_result"
    },
    {
     "data": {
      "image/png": "[encoded data removed]",
      "text/plain": [
       "<Figure size 1200x600 with 1 Axes>"
      ]
     },
     "metadata": {},
     "output_type": "display_data"
    }
   ],
   "source": [
    "# compare the segments with the monetary value\n",
    "plt.figure(figsize=(12,6))\n",
    "sns.barplot(\n",
    "    data=agg_segment\n",
    "    ,x='Segment'\n",
    "    ,y='Monetary'\n",
    "    ,hue='Segment'\n",
    "    ,order=agg_segment.sort_values('Monetary')['Segment']\n",
    "    ,legend=True\n",
    ").set_xticklabels(labels=agg_segment.sort_values('Monetary')['Segment'],rotation=45)\n"
   ]
  },
  {
   "cell_type": "code",
   "execution_count": 111,
   "metadata": {},
   "outputs": [
    {
     "name": "stderr",
     "output_type": "stream",
     "text": [
      "C:\\Users\\Hung\\AppData\\Local\\Temp\\ipykernel_18716\\4205531957.py:11: UserWarning:\n",
      "\n",
      "set_ticklabels() should only be used with a fixed number of ticks, i.e. after set_ticks() or using a FixedLocator.\n",
      "\n"
     ]
    },
    {
     "data": {
      "text/plain": [
       "[Text(0, 0, 'Lost Customers'),\n",
       " Text(1, 0, 'About to Sleep'),\n",
       " Text(2, 0, 'Needs Attention'),\n",
       " Text(3, 0, 'New Customers'),\n",
       " Text(4, 0, 'Hibernating'),\n",
       " Text(5, 0, 'Potential Loyalists'),\n",
       " Text(6, 0, 'Promising'),\n",
       " Text(7, 0, 'Runner-ups'),\n",
       " Text(8, 0, 'Loyal Customers'),\n",
       " Text(9, 0, 'Champions')]"
      ]
     },
     "execution_count": 111,
     "metadata": {},
     "output_type": "execute_result"
    },
    {
     "data": {
      "image/png": "[encoded data removed]",
      "text/plain": [
       "<Figure size 1200x600 with 1 Axes>"
      ]
     },
     "metadata": {},
     "output_type": "display_data"
    }
   ],
   "source": [
    "# compare the segments with the frequency value\n",
    "plt.figure(figsize=(12,6))\n",
    "sns.barplot(\n",
    "    data=agg_segment\n",
    "    ,x='Segment'\n",
    "    ,y='Frequency'\n",
    "    ,hue='Segment'\n",
    "    ,order=agg_segment.sort_values('Frequency')['Segment']\n",
    "    ,legend=True\n",
    ")\\\n",
    "    .set_xticklabels(labels=agg_segment.sort_values('Frequency')['Segment'],rotation=45)"
   ]
  },
  {
   "cell_type": "code",
   "execution_count": 112,
   "metadata": {},
   "outputs": [
    {
     "name": "stderr",
     "output_type": "stream",
     "text": [
      "C:\\Users\\Hung\\AppData\\Local\\Temp\\ipykernel_18716\\143744218.py:10: UserWarning:\n",
      "\n",
      "set_ticklabels() should only be used with a fixed number of ticks, i.e. after set_ticks() or using a FixedLocator.\n",
      "\n"
     ]
    },
    {
     "data": {
      "text/plain": [
       "[Text(0, 0, 'Champions'),\n",
       " Text(1, 0, 'Loyal Customers'),\n",
       " Text(2, 0, 'Runner-ups'),\n",
       " Text(3, 0, 'Potential Loyalists'),\n",
       " Text(4, 0, 'New Customers'),\n",
       " Text(5, 0, 'Promising'),\n",
       " Text(6, 0, 'Needs Attention'),\n",
       " Text(7, 0, 'About to Sleep'),\n",
       " Text(8, 0, 'Hibernating'),\n",
       " Text(9, 0, 'Lost Customers')]"
      ]
     },
     "execution_count": 112,
     "metadata": {},
     "output_type": "execute_result"
    },
    {
     "data": {
      "image/png": "[encoded data removed]",
      "text/plain": [
       "<Figure size 1200x600 with 1 Axes>"
      ]
     },
     "metadata": {},
     "output_type": "display_data"
    }
   ],
   "source": [
    "# compare the segments with the Recency value\n",
    "plt.figure(figsize=(12,6))\n",
    "sns.barplot(\n",
    "    data=agg_segment\n",
    "    ,x='Segment'\n",
    "    ,y='Recency'\n",
    "    ,hue='Segment'\n",
    "    ,order=agg_segment.sort_values('Recency')['Segment']\n",
    "    ,legend=True\n",
    ").set_xticklabels(labels=agg_segment.sort_values('Recency')['Segment'],rotation=45)"
   ]
  },
  {
   "cell_type": "markdown",
   "metadata": {},
   "source": [
    "# VII. Recommendations"
   ]
  },
  {
   "cell_type": "markdown",
   "metadata": {},
   "source": [
    "## 7.1. Action Plans tailored for each segments"
   ]
  },
  {
   "cell_type": "markdown",
   "metadata": {},
   "source": [
    "**1. Champions**\n",
    "- Customer Profile: These are your best customers—frequent buyers who spend a lot and have purchased recently.\n",
    "- Action Plan:\n",
    "    + Reward loyalty: Offer exclusive loyalty programs, early access to new products, or VIP rewards.\n",
    "    + Personalized offers: Send personalized messages and tailored discounts based on their past purchase behavior.\n",
    "    + Referral programs: Encourage these customers to refer others by offering them incentives or rewards for successful referrals.\n",
    "    + Surprise and delight: Send them thank-you gifts or special offers as a gesture of appreciation for their loyalty.\n",
    "    + Content engagement: Continue to engage them through newsletters, social media, and special events.\n",
    "\n",
    "\n",
    "**2. Runner-ups**\n",
    "- Customer Profile: These customers are recent and spend a lot, but may not purchase as frequently.\n",
    "- Action Plan:\n",
    "    + Increase frequency: Use targeted campaigns to increase purchase frequency. Offer time-limited discounts or reminders to encourage repeat purchases.\n",
    "    + Reinforce loyalty: Send personalized loyalty offers to keep them engaged, such as exclusive discounts on their next purchase.\n",
    "    + Leverage exclusivity: Offer access to members-only products or promotions that encourage a deeper connection.\n",
    "\n",
    "\n",
    "**3. Loyal Customers**\n",
    "- Customer Profile: These customers are regular, moderately high spenders, and still fairly recent.\n",
    "- Action Plan:\n",
    "    + Retention strategies: Focus on retention efforts such as personalized discounts, loyalty programs, and seasonal offers to keep them coming back.\n",
    "    + Exclusive content: Provide access to exclusive content, sneak peeks of new arrivals, or early product releases.\n",
    "    + Upsell and cross-sell: Use their purchase history to suggest complementary products or services to increase their overall spend.\n",
    "\n",
    "\n",
    "**4. Potential Loyalists**\n",
    "- Customer Profile: These customers have recently purchased and spent well, but their frequency needs improvement.\n",
    "- Action Plan:\n",
    "    + Encourage more purchases: Create special offers, incentives, or loyalty bonuses for making additional purchases within a given period.\n",
    "    + Nurture the relationship: Continue to engage them through newsletters, exclusive offers, or product recommendations based on their initial purchase.\n",
    "    + Feedback request: Ask them for feedback to improve your product offerings and make them feel valued.\n",
    "\n",
    "\n",
    "**5. Promising**\n",
    "- Customer Profile: These customers spend well but aren't as recent or frequent as Loyal Customers or Runner-ups Segments.\n",
    "- Action Plan:\n",
    "    + Re-engage: Use targeted email campaigns to bring them back with promotions like discounts or reminders.\n",
    "    + Encourage frequency: Offer a time-sensitive incentive to increase the frequency of their next purchase.\n",
    "    + Personalized offers: Create targeted offers that appeal to their past purchasing habits and preferences.\n",
    "\n",
    "\n",
    "**6. New Customers**\n",
    "- Customer Profile: These customers have just made a purchase but are infrequent and low spenders.\n",
    "- Action Plan:\n",
    "    + Welcome series: Send a welcome email series to introduce them to your brand and make them aware of your loyalty programs and discounts.\n",
    "    + Incentivize repeat purchases: Offer them a discount on their next purchase or other promotions to encourage them to make another purchase.\n",
    "    + Personalize engagement: Continue engaging them with product recommendations based on their initial purchase and highlight your best-selling or most relevant items.\n",
    "\n",
    "\n",
    "**7. Need Attention** \n",
    "- Customer Profile: Customers who are infrequent and not very recent, but they spend moderately.\n",
    "- Action Plan:\n",
    "    + Personalized outreach: Reach out to them with special offers that encourage them to return, such as a personalized discount or exclusive offers.\n",
    "    + Re-engagement emails: Send them emails tailored to their past behavior, reminding them of the value your brand can offer.\n",
    "    + Promotions: Offer a limited-time offer or flash sales to increase the urgency for them to make a purchase.\n",
    "\n",
    "\n",
    "**8. About to Sleep** \n",
    "- Customer Profile: These customers have been inactive for some time and don't purchase frequently, with moderate spending.\n",
    "- Action Plan:\n",
    "    + Re-engagement efforts: Send them special offers or reminder emails with a focus on their past purchase behavior.\n",
    "    + Incentivize: Offer incentives to encourage their return, such as discounts or exclusive access to new products.\n",
    "    + Survey them: Ask for feedback to understand why they stopped purchasing and address any concerns they may have.\n",
    "\n",
    "\n",
    "**9. Hibernating**\n",
    "- Customer Profile: Customers who have been inactive for a long time, but have been more engaged in the past (showing moderate frequency)\n",
    "- Action Plan:\n",
    "    + Win-back campaigns: Offer exclusive deals, discounts, or incentives to bring them back.\n",
    "    + Re-engagement emails - Reminder of Past Interests: Email them with suggestions based on their previous purchases, showing them products they might have missed or that complement what they previously bought.\n",
    "    + Personalized messaging: Reach out with personalized messages and address any potential issues with their past experience to entice them back.\n",
    "    + Customer Service Outreach: Send a personal email or have a customer service representative reach out to inquire how the brand can better serve them. Sometimes, these customers need an extra nudge or reassurance that the brand is listening to them.\n",
    "\n",
    "\n",
    "**10. Lost Customers (R1, F1, M1)**\n",
    "- Customer Profile: Customers who have been inactive for a long time, rarely purchase, and spend very little.\n",
    "- Action Plan:\n",
    "    + Re-engagement campaigns: Implement a re-engagement campaign with a strong incentive, like deep discounts or exclusive deals.\n",
    "    + Targeted outreach: Send them personalized emails or even try direct mail if your brand has a strong offline presence.\n",
    "    + Feedback and Survey: Send them a survey to understand why they stopped purchasing. Offer an incentive for completing the survey (e.g., a discount or small gift). Knowing their reasons can help tailor future communications.\n"
   ]
  },
  {
   "cell_type": "markdown",
   "metadata": {},
   "source": [
    "## 7.2. Summary for each Segments"
   ]
  },
  {
   "cell_type": "markdown",
   "metadata": {},
   "source": [
    "- Champions: Reward them with loyalty programs, exclusive offers, and personalized engagement.\n",
    "- Runner-ups: Use targeted promotions to increase frequency or maintain loyalty.\n",
    "- Loyal Customers: Offer incentives for continued engagement, like discounts for repeat purchases.\n",
    "- Can't Lose Them: Retarget with special offers, reminders, or loyalty bonuses to ensure they stay engaged.\n",
    "- Potential Loyalists: Provide incentives to convert them into regular customers (e.g., discounts, loyalty programs).\n",
    "- Promising: Introduce cross-selling or upselling strategies to increase their overall value.\n",
    "- New Customers: Nurture with welcome offers and build a relationship to convert them into loyal buyers.\n",
    "- Needs Attention: Use re-engagement campaigns, such as time-limited offers or discounts.\n",
    "- About to Sleep: Re-engage with personalized offers or reminders about their previous spending.\n",
    "- Hibernating: Consider re-engagement campaigns or remove them from your active marketing.\n",
    "- Lost Customers: Target them with win-back campaigns or exclude from future marketing efforts."
   ]
  },
  {
   "cell_type": "markdown",
   "metadata": {},
   "source": [
    "## 7.3. Performance Monitor Metrics"
   ]
  },
  {
   "cell_type": "markdown",
   "metadata": {},
   "source": [
    "- Customer Retention Rate: Measure how well each segment is retained after specific campaigns.\n",
    "- Conversion Rate: Track how many customers in each segment convert based on targeted offers.\n",
    "- Customer Lifetime Value (CLV): Monitor changes in CLV after executing specific segment strategies.\n",
    "- Revenue per Customer: Calculate the increase in revenue per customer per segment after targeted marketing."
   ]
  },
  {
   "cell_type": "markdown",
   "metadata": {},
   "source": [
    "# VIII. Additional Resources"
   ]
  },
  {
   "cell_type": "markdown",
   "metadata": {},
   "source": [
    "Interesting theory about how to choose scale from your dataset size: https://www.omniconvert.com/blog/rfm-segmentation-guide/#:~:text=RFM%20segmentation%20is%20a%20method,customer%20loyalty%20and%20lifetime%20value."
   ]
  }
 ],
 "metadata": {
  "kernelspec": {
   "display_name": "python311",
   "language": "python",
   "name": "python3"
  },
  "language_info": {
   "codemirror_mode": {
    "name": "ipython",
    "version": 3
   },
   "file_extension": ".py",
   "mimetype": "text/x-python",
   "name": "python",
   "nbconvert_exporter": "python",
   "pygments_lexer": "ipython3",
   "version": "3.11.9"
  }
 },
 "nbformat": 4,
 "nbformat_minor": 2
}
