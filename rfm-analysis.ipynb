{
 "cells": [
  {
   "cell_type": "markdown",
   "metadata": {},
   "source": [
    "# RFM Customer Segmentation Project"
   ]
  },
  {
   "cell_type": "markdown",
   "metadata": {},
   "source": [
    "RFM (Recency, Frequency, and Monetary) analysis is a popular method for customer segmentation that helps businesses understand customer behavior and target them more effectively. It's used primarily to evaluate customer value and predict future purchasing behavior by analyzing three key aspects:\n",
    "\n",
    "- Recency (days): Measures how recent was each customer's last purchase\n",
    "- Frequency (invoices): Measures how many purchases the customer has done in the recorded period (in this case 12-month)\n",
    "- Monetary (sterling): How much money a customer spends in the recorded period (in this case 12-month). Customers who spend more are considered high-value and should be prioritized in retention and upselling strategies."
   ]
  },
  {
   "cell_type": "markdown",
   "metadata": {},
   "source": [
    "## Data Dictionary"
   ]
  },
  {
   "cell_type": "markdown",
   "metadata": {},
   "source": [
    "UCI Online Retail Dataset\n",
    "\n",
    "This is a transnational data set which contains all the transactions occurring from December 1st 2010 until December 9th 2011 for a UK-based and registered non-store online retail.The company mainly sells unique all-occasion gifts. Many customers of the company are wholesalers. Each row represents the transaction that occurs. It includes the product name, quantity, price, and other columns that represents ID.\n",
    "\n",
    "Source: http://archive.ics.uci.edu/ml/datasets/Online+Retail (Dr Daqing Chen, Director: Public Analytics group. chend '@' lsbu.ac.uk, School of Engineering, London South Bank University, London SE1 0AA, UK.)"
   ]
  },
  {
   "cell_type": "code",
   "execution_count": 1,
   "metadata": {},
   "outputs": [
    {
     "data": {
      "text/html": [
       "<div>\n",
       "<style scoped>\n",
       "    .dataframe tbody tr th:only-of-type {\n",
       "        vertical-align: middle;\n",
       "    }\n",
       "\n",
       "    .dataframe tbody tr th {\n",
       "        vertical-align: top;\n",
       "    }\n",
       "\n",
       "    .dataframe thead th {\n",
       "        text-align: right;\n",
       "    }\n",
       "</style>\n",
       "<table border=\"1\" class=\"dataframe\">\n",
       "  <thead>\n",
       "    <tr style=\"text-align: right;\">\n",
       "      <th></th>\n",
       "      <th>Column Name</th>\n",
       "      <th>Description</th>\n",
       "      <th>Data Type</th>\n",
       "    </tr>\n",
       "  </thead>\n",
       "  <tbody>\n",
       "    <tr>\n",
       "      <th>0</th>\n",
       "      <td>InvoiceNo</td>\n",
       "      <td>Invoice number.If this code starts with letter \"c\", it indicates a cancellation.</td>\n",
       "      <td>Nominal, a 6-digit integral number uniquely assigned to each transaction</td>\n",
       "    </tr>\n",
       "    <tr>\n",
       "      <th>1</th>\n",
       "      <td>StockCode</td>\n",
       "      <td>Product (item) code</td>\n",
       "      <td>Nominal, a 5-digit integral number uniquely assigned to each distinct product</td>\n",
       "    </tr>\n",
       "    <tr>\n",
       "      <th>2</th>\n",
       "      <td>Description</td>\n",
       "      <td>Product (item) name.</td>\n",
       "      <td>Nominal</td>\n",
       "    </tr>\n",
       "    <tr>\n",
       "      <th>3</th>\n",
       "      <td>Quantity</td>\n",
       "      <td>The quantities of each product (item) per transaction.</td>\n",
       "      <td>Numeric</td>\n",
       "    </tr>\n",
       "    <tr>\n",
       "      <th>4</th>\n",
       "      <td>InvoiceDate</td>\n",
       "      <td>Invice Date and time</td>\n",
       "      <td>Numeric, the day and time when each transaction was generated</td>\n",
       "    </tr>\n",
       "    <tr>\n",
       "      <th>5</th>\n",
       "      <td>UnitPrice</td>\n",
       "      <td>Unit price</td>\n",
       "      <td>Numeric, Product price per unit in sterling</td>\n",
       "    </tr>\n",
       "    <tr>\n",
       "      <th>6</th>\n",
       "      <td>CustomerID</td>\n",
       "      <td>Customer number</td>\n",
       "      <td>Nominal, a 5-digit integral number uniquely assigned to each customer</td>\n",
       "    </tr>\n",
       "    <tr>\n",
       "      <th>7</th>\n",
       "      <td>Country</td>\n",
       "      <td>Country name</td>\n",
       "      <td>Nominal, the name of the country where each customer reside</td>\n",
       "    </tr>\n",
       "  </tbody>\n",
       "</table>\n",
       "</div>"
      ],
      "text/plain": [
       "   Column Name  \\\n",
       "0    InvoiceNo   \n",
       "1    StockCode   \n",
       "2  Description   \n",
       "3     Quantity   \n",
       "4  InvoiceDate   \n",
       "5    UnitPrice   \n",
       "6   CustomerID   \n",
       "7      Country   \n",
       "\n",
       "                                                                        Description  \\\n",
       "0  Invoice number.If this code starts with letter \"c\", it indicates a cancellation.   \n",
       "1                                                               Product (item) code   \n",
       "2                                                              Product (item) name.   \n",
       "3                            The quantities of each product (item) per transaction.   \n",
       "4                                                              Invice Date and time   \n",
       "5                                                                        Unit price   \n",
       "6                                                                   Customer number   \n",
       "7                                                                      Country name   \n",
       "\n",
       "                                                                       Data Type  \n",
       "0       Nominal, a 6-digit integral number uniquely assigned to each transaction  \n",
       "1  Nominal, a 5-digit integral number uniquely assigned to each distinct product  \n",
       "2                                                                        Nominal  \n",
       "3                                                                        Numeric  \n",
       "4                  Numeric, the day and time when each transaction was generated  \n",
       "5                                    Numeric, Product price per unit in sterling  \n",
       "6          Nominal, a 5-digit integral number uniquely assigned to each customer  \n",
       "7                    Nominal, the name of the country where each customer reside  "
      ]
     },
     "execution_count": 1,
     "metadata": {},
     "output_type": "execute_result"
    }
   ],
   "source": [
    "import pandas as pd\n",
    "# Show all columns and rows\n",
    "pd.set_option('display.max_columns', None)\n",
    "pd.set_option('display.max_rows', None)\n",
    "pd.set_option('display.max_colwidth', 1000)\n",
    "\n",
    "# Data Description for each column\n",
    "column_description = pd.DataFrame({\n",
    "    'Column Name':['InvoiceNo','StockCode','Description','Quantity','InvoiceDate','UnitPrice','CustomerID','Country']\n",
    "    ,'Description':[\n",
    "        'Invoice number.If this code starts with letter \"c\", it indicates a cancellation.'\n",
    "        ,'Product (item) code'\n",
    "        ,'Product (item) name.'\n",
    "        ,'The quantities of each product (item) per transaction.'\n",
    "        ,'Invice Date and time'\n",
    "        ,'Unit price'\n",
    "        ,'Customer number'\n",
    "        ,'Country name'\n",
    "    ]\n",
    "    ,'Data Type':[\n",
    "        'Nominal, a 6-digit integral number uniquely assigned to each transaction'\n",
    "        ,'Nominal, a 5-digit integral number uniquely assigned to each distinct product'\n",
    "        ,'Nominal'\n",
    "        ,'Numeric'\n",
    "        ,'Numeric, the day and time when each transaction was generated'\n",
    "        ,'Numeric, Product price per unit in sterling'\n",
    "        ,'Nominal, a 5-digit integral number uniquely assigned to each customer'\n",
    "        ,'Nominal, the name of the country where each customer reside'\n",
    "    ]\n",
    "})\n",
    "column_description"
   ]
  },
  {
   "cell_type": "markdown",
   "metadata": {},
   "source": [
    "# I. Data Validation"
   ]
  },
  {
   "cell_type": "markdown",
   "metadata": {},
   "source": [
    "This process involves checking for errors, inconsistencies, and missing values in the data to ensures the accuracy, quality, and integrity of the data by checking duplicates, missing data, structural errors, outliers of the dataset.\n",
    "\n",
    "Data Validation is necessary to produce clean and reliable data that is ready for analysis or further processing."
   ]
  },
  {
   "cell_type": "markdown",
   "metadata": {},
   "source": [
    "## 1.1. Import the necessary libraries"
   ]
  },
  {
   "cell_type": "code",
   "execution_count": 2,
   "metadata": {},
   "outputs": [],
   "source": [
    "import pandas as pd # data processing, CSV file I/O (e.g. pd.read_csv)\n",
    "import numpy as np # linear algebra\n",
    "\n",
    "# data visualization\n",
    "import matplotlib.pyplot as plt \n",
    "import seaborn as sns \n",
    "import matplotlib.gridspec as gridspec \n",
    "\n",
    "import datetime as dt # datetime manipulation\n",
    "from scipy.stats import skew # calculating skewness\n",
    "\n",
    "# display full outputs in Jupyter Notebook, not only the last command's output\n",
    "from IPython.core.interactiveshell import InteractiveShell\n",
    "InteractiveShell.ast_node_interactivity = \"all\""
   ]
  },
  {
   "cell_type": "markdown",
   "metadata": {},
   "source": [
    "## 1.2. Load the dataset"
   ]
  },
  {
   "cell_type": "code",
   "execution_count": 3,
   "metadata": {},
   "outputs": [
    {
     "data": {
      "text/html": [
       "<div>\n",
       "<style scoped>\n",
       "    .dataframe tbody tr th:only-of-type {\n",
       "        vertical-align: middle;\n",
       "    }\n",
       "\n",
       "    .dataframe tbody tr th {\n",
       "        vertical-align: top;\n",
       "    }\n",
       "\n",
       "    .dataframe thead th {\n",
       "        text-align: right;\n",
       "    }\n",
       "</style>\n",
       "<table border=\"1\" class=\"dataframe\">\n",
       "  <thead>\n",
       "    <tr style=\"text-align: right;\">\n",
       "      <th></th>\n",
       "      <th>InvoiceNo</th>\n",
       "      <th>StockCode</th>\n",
       "      <th>Description</th>\n",
       "      <th>Quantity</th>\n",
       "      <th>InvoiceDate</th>\n",
       "      <th>UnitPrice</th>\n",
       "      <th>CustomerID</th>\n",
       "      <th>Country</th>\n",
       "    </tr>\n",
       "  </thead>\n",
       "  <tbody>\n",
       "    <tr>\n",
       "      <th>0</th>\n",
       "      <td>536365</td>\n",
       "      <td>85123A</td>\n",
       "      <td>WHITE HANGING HEART T-LIGHT HOLDER</td>\n",
       "      <td>6</td>\n",
       "      <td>12/1/2010 8:26</td>\n",
       "      <td>2.55</td>\n",
       "      <td>17850.0</td>\n",
       "      <td>United Kingdom</td>\n",
       "    </tr>\n",
       "    <tr>\n",
       "      <th>1</th>\n",
       "      <td>536365</td>\n",
       "      <td>71053</td>\n",
       "      <td>WHITE METAL LANTERN</td>\n",
       "      <td>6</td>\n",
       "      <td>12/1/2010 8:26</td>\n",
       "      <td>3.39</td>\n",
       "      <td>17850.0</td>\n",
       "      <td>United Kingdom</td>\n",
       "    </tr>\n",
       "    <tr>\n",
       "      <th>2</th>\n",
       "      <td>536365</td>\n",
       "      <td>84406B</td>\n",
       "      <td>CREAM CUPID HEARTS COAT HANGER</td>\n",
       "      <td>8</td>\n",
       "      <td>12/1/2010 8:26</td>\n",
       "      <td>2.75</td>\n",
       "      <td>17850.0</td>\n",
       "      <td>United Kingdom</td>\n",
       "    </tr>\n",
       "    <tr>\n",
       "      <th>3</th>\n",
       "      <td>536365</td>\n",
       "      <td>84029G</td>\n",
       "      <td>KNITTED UNION FLAG HOT WATER BOTTLE</td>\n",
       "      <td>6</td>\n",
       "      <td>12/1/2010 8:26</td>\n",
       "      <td>3.39</td>\n",
       "      <td>17850.0</td>\n",
       "      <td>United Kingdom</td>\n",
       "    </tr>\n",
       "    <tr>\n",
       "      <th>4</th>\n",
       "      <td>536365</td>\n",
       "      <td>84029E</td>\n",
       "      <td>RED WOOLLY HOTTIE WHITE HEART.</td>\n",
       "      <td>6</td>\n",
       "      <td>12/1/2010 8:26</td>\n",
       "      <td>3.39</td>\n",
       "      <td>17850.0</td>\n",
       "      <td>United Kingdom</td>\n",
       "    </tr>\n",
       "  </tbody>\n",
       "</table>\n",
       "</div>"
      ],
      "text/plain": [
       "  InvoiceNo StockCode                          Description  Quantity  \\\n",
       "0    536365    85123A   WHITE HANGING HEART T-LIGHT HOLDER         6   \n",
       "1    536365     71053                  WHITE METAL LANTERN         6   \n",
       "2    536365    84406B       CREAM CUPID HEARTS COAT HANGER         8   \n",
       "3    536365    84029G  KNITTED UNION FLAG HOT WATER BOTTLE         6   \n",
       "4    536365    84029E       RED WOOLLY HOTTIE WHITE HEART.         6   \n",
       "\n",
       "      InvoiceDate  UnitPrice  CustomerID         Country  \n",
       "0  12/1/2010 8:26       2.55     17850.0  United Kingdom  \n",
       "1  12/1/2010 8:26       3.39     17850.0  United Kingdom  \n",
       "2  12/1/2010 8:26       2.75     17850.0  United Kingdom  \n",
       "3  12/1/2010 8:26       3.39     17850.0  United Kingdom  \n",
       "4  12/1/2010 8:26       3.39     17850.0  United Kingdom  "
      ]
     },
     "execution_count": 3,
     "metadata": {},
     "output_type": "execute_result"
    }
   ],
   "source": [
    "# read the data\n",
    "ecommerce_data = pd.read_csv(r'data\\\\E-Commerce Data.csv', encoding='ISO-8859-1')\n",
    "ecommerce_data.head()"
   ]
  },
  {
   "cell_type": "markdown",
   "metadata": {},
   "source": [
    "## 1.3. Removing Duplicates"
   ]
  },
  {
   "cell_type": "code",
   "execution_count": 4,
   "metadata": {},
   "outputs": [
    {
     "name": "stdout",
     "output_type": "stream",
     "text": [
      "Number of duplicated rows: 5268\n"
     ]
    }
   ],
   "source": [
    "print(f'Number of duplicated rows: {ecommerce_data.duplicated().sum()}')"
   ]
  },
  {
   "cell_type": "code",
   "execution_count": 5,
   "metadata": {},
   "outputs": [
    {
     "data": {
      "text/plain": [
       "InvoiceNo                           536409\n",
       "StockCode                            21866\n",
       "Description    UNION JACK FLAG LUGGAGE TAG\n",
       "Quantity                                 1\n",
       "InvoiceDate                12/1/2010 11:45\n",
       "UnitPrice                             1.25\n",
       "CustomerID                         17908.0\n",
       "Country                     United Kingdom\n",
       "Name: 517, dtype: object"
      ]
     },
     "execution_count": 5,
     "metadata": {},
     "output_type": "execute_result"
    }
   ],
   "source": [
    "# duplicate sample row\n",
    "ecommerce_data[ecommerce_data.duplicated()].iloc[0]"
   ]
  },
  {
   "cell_type": "code",
   "execution_count": 6,
   "metadata": {},
   "outputs": [
    {
     "data": {
      "text/html": [
       "<div>\n",
       "<style scoped>\n",
       "    .dataframe tbody tr th:only-of-type {\n",
       "        vertical-align: middle;\n",
       "    }\n",
       "\n",
       "    .dataframe tbody tr th {\n",
       "        vertical-align: top;\n",
       "    }\n",
       "\n",
       "    .dataframe thead th {\n",
       "        text-align: right;\n",
       "    }\n",
       "</style>\n",
       "<table border=\"1\" class=\"dataframe\">\n",
       "  <thead>\n",
       "    <tr style=\"text-align: right;\">\n",
       "      <th></th>\n",
       "      <th>InvoiceNo</th>\n",
       "      <th>StockCode</th>\n",
       "      <th>Description</th>\n",
       "      <th>Quantity</th>\n",
       "      <th>InvoiceDate</th>\n",
       "      <th>UnitPrice</th>\n",
       "      <th>CustomerID</th>\n",
       "      <th>Country</th>\n",
       "    </tr>\n",
       "  </thead>\n",
       "  <tbody>\n",
       "    <tr>\n",
       "      <th>494</th>\n",
       "      <td>536409</td>\n",
       "      <td>21866</td>\n",
       "      <td>UNION JACK FLAG LUGGAGE TAG</td>\n",
       "      <td>1</td>\n",
       "      <td>12/1/2010 11:45</td>\n",
       "      <td>1.25</td>\n",
       "      <td>17908.0</td>\n",
       "      <td>United Kingdom</td>\n",
       "    </tr>\n",
       "    <tr>\n",
       "      <th>517</th>\n",
       "      <td>536409</td>\n",
       "      <td>21866</td>\n",
       "      <td>UNION JACK FLAG LUGGAGE TAG</td>\n",
       "      <td>1</td>\n",
       "      <td>12/1/2010 11:45</td>\n",
       "      <td>1.25</td>\n",
       "      <td>17908.0</td>\n",
       "      <td>United Kingdom</td>\n",
       "    </tr>\n",
       "  </tbody>\n",
       "</table>\n",
       "</div>"
      ],
      "text/plain": [
       "    InvoiceNo StockCode                  Description  Quantity  \\\n",
       "494    536409     21866  UNION JACK FLAG LUGGAGE TAG         1   \n",
       "517    536409     21866  UNION JACK FLAG LUGGAGE TAG         1   \n",
       "\n",
       "         InvoiceDate  UnitPrice  CustomerID         Country  \n",
       "494  12/1/2010 11:45       1.25     17908.0  United Kingdom  \n",
       "517  12/1/2010 11:45       1.25     17908.0  United Kingdom  "
      ]
     },
     "execution_count": 6,
     "metadata": {},
     "output_type": "execute_result"
    }
   ],
   "source": [
    "ecommerce_data[(ecommerce_data['InvoiceNo'] == '536409') & (ecommerce_data['StockCode'] == '21866')]"
   ]
  },
  {
   "cell_type": "markdown",
   "metadata": {},
   "source": [
    "Those duplicated records can skew our analysis. Therefore, let's drop these records."
   ]
  },
  {
   "cell_type": "code",
   "execution_count": 7,
   "metadata": {},
   "outputs": [
    {
     "name": "stdout",
     "output_type": "stream",
     "text": [
      "Number of duplicated rows: 0\n"
     ]
    }
   ],
   "source": [
    "ecommerce_data.drop_duplicates(inplace=True)\n",
    "print(f'Number of duplicated rows: {ecommerce_data.duplicated().sum()}')"
   ]
  },
  {
   "cell_type": "markdown",
   "metadata": {},
   "source": [
    "## 1.4. Handling Missing Data"
   ]
  },
  {
   "cell_type": "code",
   "execution_count": 8,
   "metadata": {},
   "outputs": [
    {
     "data": {
      "text/html": [
       "<div>\n",
       "<style scoped>\n",
       "    .dataframe tbody tr th:only-of-type {\n",
       "        vertical-align: middle;\n",
       "    }\n",
       "\n",
       "    .dataframe tbody tr th {\n",
       "        vertical-align: top;\n",
       "    }\n",
       "\n",
       "    .dataframe thead th {\n",
       "        text-align: right;\n",
       "    }\n",
       "</style>\n",
       "<table border=\"1\" class=\"dataframe\">\n",
       "  <thead>\n",
       "    <tr style=\"text-align: right;\">\n",
       "      <th></th>\n",
       "      <th>total</th>\n",
       "      <th>percent</th>\n",
       "    </tr>\n",
       "  </thead>\n",
       "  <tbody>\n",
       "    <tr>\n",
       "      <th>InvoiceNo</th>\n",
       "      <td>0</td>\n",
       "      <td>0.000000</td>\n",
       "    </tr>\n",
       "    <tr>\n",
       "      <th>StockCode</th>\n",
       "      <td>0</td>\n",
       "      <td>0.000000</td>\n",
       "    </tr>\n",
       "    <tr>\n",
       "      <th>Description</th>\n",
       "      <td>1454</td>\n",
       "      <td>0.270945</td>\n",
       "    </tr>\n",
       "    <tr>\n",
       "      <th>Quantity</th>\n",
       "      <td>0</td>\n",
       "      <td>0.000000</td>\n",
       "    </tr>\n",
       "    <tr>\n",
       "      <th>InvoiceDate</th>\n",
       "      <td>0</td>\n",
       "      <td>0.000000</td>\n",
       "    </tr>\n",
       "    <tr>\n",
       "      <th>UnitPrice</th>\n",
       "      <td>0</td>\n",
       "      <td>0.000000</td>\n",
       "    </tr>\n",
       "    <tr>\n",
       "      <th>CustomerID</th>\n",
       "      <td>135037</td>\n",
       "      <td>25.163377</td>\n",
       "    </tr>\n",
       "    <tr>\n",
       "      <th>Country</th>\n",
       "      <td>0</td>\n",
       "      <td>0.000000</td>\n",
       "    </tr>\n",
       "  </tbody>\n",
       "</table>\n",
       "</div>"
      ],
      "text/plain": [
       "              total    percent\n",
       "InvoiceNo         0   0.000000\n",
       "StockCode         0   0.000000\n",
       "Description    1454   0.270945\n",
       "Quantity          0   0.000000\n",
       "InvoiceDate       0   0.000000\n",
       "UnitPrice         0   0.000000\n",
       "CustomerID   135037  25.163377\n",
       "Country           0   0.000000"
      ]
     },
     "execution_count": 8,
     "metadata": {},
     "output_type": "execute_result"
    }
   ],
   "source": [
    "missing_data = ecommerce_data.isnull().sum().to_frame().rename(columns={0: 'total'})\n",
    "missing_data['percent'] = (missing_data['total'] / ecommerce_data.shape[0]) * 100   \n",
    "missing_data"
   ]
  },
  {
   "cell_type": "markdown",
   "metadata": {},
   "source": [
    "CustomerID has the highest null value taking up to 25% of total records, we can try:\n",
    "1. Drop all null value rows\n",
    "2. Try to find ways to fill those Nan values\n",
    "\n",
    "With option 2 in mind, I have a theory to fill in values. For example, InvoiceNo A has CustomerID A and Customer null, I can replace these NaN CustomerID with existing CustomerID A since it's just missing input error. \n",
    "\n",
    "If option 2 failed, I will do option 1 which is dropping all null value rows for further analysis."
   ]
  },
  {
   "cell_type": "code",
   "execution_count": 9,
   "metadata": {},
   "outputs": [
    {
     "data": {
      "text/plain": [
       "(135037, 8)"
      ]
     },
     "execution_count": 9,
     "metadata": {},
     "output_type": "execute_result"
    },
    {
     "data": {
      "text/html": [
       "<div>\n",
       "<style scoped>\n",
       "    .dataframe tbody tr th:only-of-type {\n",
       "        vertical-align: middle;\n",
       "    }\n",
       "\n",
       "    .dataframe tbody tr th {\n",
       "        vertical-align: top;\n",
       "    }\n",
       "\n",
       "    .dataframe thead th {\n",
       "        text-align: right;\n",
       "    }\n",
       "</style>\n",
       "<table border=\"1\" class=\"dataframe\">\n",
       "  <thead>\n",
       "    <tr style=\"text-align: right;\">\n",
       "      <th></th>\n",
       "      <th>InvoiceNo</th>\n",
       "      <th>StockCode</th>\n",
       "      <th>Description</th>\n",
       "      <th>Quantity</th>\n",
       "      <th>InvoiceDate</th>\n",
       "      <th>UnitPrice</th>\n",
       "      <th>CustomerID</th>\n",
       "      <th>Country</th>\n",
       "    </tr>\n",
       "  </thead>\n",
       "  <tbody>\n",
       "    <tr>\n",
       "      <th>0</th>\n",
       "      <td>536414</td>\n",
       "      <td>22139</td>\n",
       "      <td>NaN</td>\n",
       "      <td>56</td>\n",
       "      <td>12/1/2010 11:52</td>\n",
       "      <td>0.00</td>\n",
       "      <td>NaN</td>\n",
       "      <td>United Kingdom</td>\n",
       "    </tr>\n",
       "    <tr>\n",
       "      <th>1</th>\n",
       "      <td>536544</td>\n",
       "      <td>21773</td>\n",
       "      <td>DECORATIVE ROSE BATHROOM BOTTLE</td>\n",
       "      <td>1</td>\n",
       "      <td>12/1/2010 14:32</td>\n",
       "      <td>2.51</td>\n",
       "      <td>NaN</td>\n",
       "      <td>United Kingdom</td>\n",
       "    </tr>\n",
       "    <tr>\n",
       "      <th>2</th>\n",
       "      <td>536544</td>\n",
       "      <td>21774</td>\n",
       "      <td>DECORATIVE CATS BATHROOM BOTTLE</td>\n",
       "      <td>2</td>\n",
       "      <td>12/1/2010 14:32</td>\n",
       "      <td>2.51</td>\n",
       "      <td>NaN</td>\n",
       "      <td>United Kingdom</td>\n",
       "    </tr>\n",
       "    <tr>\n",
       "      <th>3</th>\n",
       "      <td>536544</td>\n",
       "      <td>21786</td>\n",
       "      <td>POLKADOT RAIN HAT</td>\n",
       "      <td>4</td>\n",
       "      <td>12/1/2010 14:32</td>\n",
       "      <td>0.85</td>\n",
       "      <td>NaN</td>\n",
       "      <td>United Kingdom</td>\n",
       "    </tr>\n",
       "    <tr>\n",
       "      <th>4</th>\n",
       "      <td>536544</td>\n",
       "      <td>21787</td>\n",
       "      <td>RAIN PONCHO RETROSPOT</td>\n",
       "      <td>2</td>\n",
       "      <td>12/1/2010 14:32</td>\n",
       "      <td>1.66</td>\n",
       "      <td>NaN</td>\n",
       "      <td>United Kingdom</td>\n",
       "    </tr>\n",
       "  </tbody>\n",
       "</table>\n",
       "</div>"
      ],
      "text/plain": [
       "  InvoiceNo StockCode                      Description  Quantity  \\\n",
       "0    536414     22139                              NaN        56   \n",
       "1    536544     21773  DECORATIVE ROSE BATHROOM BOTTLE         1   \n",
       "2    536544     21774  DECORATIVE CATS BATHROOM BOTTLE         2   \n",
       "3    536544     21786               POLKADOT RAIN HAT          4   \n",
       "4    536544     21787            RAIN PONCHO RETROSPOT         2   \n",
       "\n",
       "       InvoiceDate  UnitPrice  CustomerID         Country  \n",
       "0  12/1/2010 11:52       0.00         NaN  United Kingdom  \n",
       "1  12/1/2010 14:32       2.51         NaN  United Kingdom  \n",
       "2  12/1/2010 14:32       2.51         NaN  United Kingdom  \n",
       "3  12/1/2010 14:32       0.85         NaN  United Kingdom  \n",
       "4  12/1/2010 14:32       1.66         NaN  United Kingdom  "
      ]
     },
     "execution_count": 9,
     "metadata": {},
     "output_type": "execute_result"
    }
   ],
   "source": [
    "null_df = ecommerce_data[ecommerce_data['CustomerID'].isnull()]\n",
    "null_df.reset_index(drop=True, inplace=True)\n",
    "null_df.shape\n",
    "null_df.head()"
   ]
  },
  {
   "cell_type": "code",
   "execution_count": 10,
   "metadata": {},
   "outputs": [
    {
     "data": {
      "text/plain": [
       "(401604, 8)"
      ]
     },
     "execution_count": 10,
     "metadata": {},
     "output_type": "execute_result"
    },
    {
     "data": {
      "text/html": [
       "<div>\n",
       "<style scoped>\n",
       "    .dataframe tbody tr th:only-of-type {\n",
       "        vertical-align: middle;\n",
       "    }\n",
       "\n",
       "    .dataframe tbody tr th {\n",
       "        vertical-align: top;\n",
       "    }\n",
       "\n",
       "    .dataframe thead th {\n",
       "        text-align: right;\n",
       "    }\n",
       "</style>\n",
       "<table border=\"1\" class=\"dataframe\">\n",
       "  <thead>\n",
       "    <tr style=\"text-align: right;\">\n",
       "      <th></th>\n",
       "      <th>InvoiceNo</th>\n",
       "      <th>StockCode</th>\n",
       "      <th>Description</th>\n",
       "      <th>Quantity</th>\n",
       "      <th>InvoiceDate</th>\n",
       "      <th>UnitPrice</th>\n",
       "      <th>CustomerID</th>\n",
       "      <th>Country</th>\n",
       "    </tr>\n",
       "  </thead>\n",
       "  <tbody>\n",
       "    <tr>\n",
       "      <th>0</th>\n",
       "      <td>536365</td>\n",
       "      <td>85123A</td>\n",
       "      <td>WHITE HANGING HEART T-LIGHT HOLDER</td>\n",
       "      <td>6</td>\n",
       "      <td>12/1/2010 8:26</td>\n",
       "      <td>2.55</td>\n",
       "      <td>17850.0</td>\n",
       "      <td>United Kingdom</td>\n",
       "    </tr>\n",
       "    <tr>\n",
       "      <th>1</th>\n",
       "      <td>536365</td>\n",
       "      <td>71053</td>\n",
       "      <td>WHITE METAL LANTERN</td>\n",
       "      <td>6</td>\n",
       "      <td>12/1/2010 8:26</td>\n",
       "      <td>3.39</td>\n",
       "      <td>17850.0</td>\n",
       "      <td>United Kingdom</td>\n",
       "    </tr>\n",
       "    <tr>\n",
       "      <th>2</th>\n",
       "      <td>536365</td>\n",
       "      <td>84406B</td>\n",
       "      <td>CREAM CUPID HEARTS COAT HANGER</td>\n",
       "      <td>8</td>\n",
       "      <td>12/1/2010 8:26</td>\n",
       "      <td>2.75</td>\n",
       "      <td>17850.0</td>\n",
       "      <td>United Kingdom</td>\n",
       "    </tr>\n",
       "    <tr>\n",
       "      <th>3</th>\n",
       "      <td>536365</td>\n",
       "      <td>84029G</td>\n",
       "      <td>KNITTED UNION FLAG HOT WATER BOTTLE</td>\n",
       "      <td>6</td>\n",
       "      <td>12/1/2010 8:26</td>\n",
       "      <td>3.39</td>\n",
       "      <td>17850.0</td>\n",
       "      <td>United Kingdom</td>\n",
       "    </tr>\n",
       "    <tr>\n",
       "      <th>4</th>\n",
       "      <td>536365</td>\n",
       "      <td>84029E</td>\n",
       "      <td>RED WOOLLY HOTTIE WHITE HEART.</td>\n",
       "      <td>6</td>\n",
       "      <td>12/1/2010 8:26</td>\n",
       "      <td>3.39</td>\n",
       "      <td>17850.0</td>\n",
       "      <td>United Kingdom</td>\n",
       "    </tr>\n",
       "  </tbody>\n",
       "</table>\n",
       "</div>"
      ],
      "text/plain": [
       "  InvoiceNo StockCode                          Description  Quantity  \\\n",
       "0    536365    85123A   WHITE HANGING HEART T-LIGHT HOLDER         6   \n",
       "1    536365     71053                  WHITE METAL LANTERN         6   \n",
       "2    536365    84406B       CREAM CUPID HEARTS COAT HANGER         8   \n",
       "3    536365    84029G  KNITTED UNION FLAG HOT WATER BOTTLE         6   \n",
       "4    536365    84029E       RED WOOLLY HOTTIE WHITE HEART.         6   \n",
       "\n",
       "      InvoiceDate  UnitPrice  CustomerID         Country  \n",
       "0  12/1/2010 8:26       2.55     17850.0  United Kingdom  \n",
       "1  12/1/2010 8:26       3.39     17850.0  United Kingdom  \n",
       "2  12/1/2010 8:26       2.75     17850.0  United Kingdom  \n",
       "3  12/1/2010 8:26       3.39     17850.0  United Kingdom  \n",
       "4  12/1/2010 8:26       3.39     17850.0  United Kingdom  "
      ]
     },
     "execution_count": 10,
     "metadata": {},
     "output_type": "execute_result"
    }
   ],
   "source": [
    "not_null_df=ecommerce_data[ecommerce_data['CustomerID'].isnull() == False]\n",
    "not_null_df.reset_index(drop=True, inplace=True)\n",
    "not_null_df.shape\n",
    "not_null_df.head()"
   ]
  },
  {
   "cell_type": "code",
   "execution_count": 11,
   "metadata": {},
   "outputs": [
    {
     "data": {
      "text/html": [
       "<div>\n",
       "<style scoped>\n",
       "    .dataframe tbody tr th:only-of-type {\n",
       "        vertical-align: middle;\n",
       "    }\n",
       "\n",
       "    .dataframe tbody tr th {\n",
       "        vertical-align: top;\n",
       "    }\n",
       "\n",
       "    .dataframe thead th {\n",
       "        text-align: right;\n",
       "    }\n",
       "</style>\n",
       "<table border=\"1\" class=\"dataframe\">\n",
       "  <thead>\n",
       "    <tr style=\"text-align: right;\">\n",
       "      <th></th>\n",
       "      <th>InvoiceNo</th>\n",
       "      <th>StockCode</th>\n",
       "      <th>Description</th>\n",
       "      <th>Quantity</th>\n",
       "      <th>InvoiceDate</th>\n",
       "      <th>UnitPrice</th>\n",
       "      <th>CustomerID</th>\n",
       "      <th>Country</th>\n",
       "    </tr>\n",
       "  </thead>\n",
       "  <tbody>\n",
       "  </tbody>\n",
       "</table>\n",
       "</div>"
      ],
      "text/plain": [
       "Empty DataFrame\n",
       "Columns: [InvoiceNo, StockCode, Description, Quantity, InvoiceDate, UnitPrice, CustomerID, Country]\n",
       "Index: []"
      ]
     },
     "execution_count": 11,
     "metadata": {},
     "output_type": "execute_result"
    }
   ],
   "source": [
    "##### Find intersection between 2 dataframes with same InvoiceNo values\n",
    "null_df[null_df['InvoiceNo'].isin(not_null_df['InvoiceNo'].unique())]"
   ]
  },
  {
   "cell_type": "markdown",
   "metadata": {},
   "source": [
    "There is no repeated Invoice Number between the not null and the null customerID data. Therefore, we can not perform any imputation here, this leaves us no choice but to remove these null records."
   ]
  },
  {
   "cell_type": "code",
   "execution_count": 12,
   "metadata": {},
   "outputs": [
    {
     "data": {
      "text/html": [
       "<div>\n",
       "<style scoped>\n",
       "    .dataframe tbody tr th:only-of-type {\n",
       "        vertical-align: middle;\n",
       "    }\n",
       "\n",
       "    .dataframe tbody tr th {\n",
       "        vertical-align: top;\n",
       "    }\n",
       "\n",
       "    .dataframe thead th {\n",
       "        text-align: right;\n",
       "    }\n",
       "</style>\n",
       "<table border=\"1\" class=\"dataframe\">\n",
       "  <thead>\n",
       "    <tr style=\"text-align: right;\">\n",
       "      <th></th>\n",
       "      <th>InvoiceNo</th>\n",
       "      <th>StockCode</th>\n",
       "      <th>Description</th>\n",
       "      <th>Quantity</th>\n",
       "      <th>InvoiceDate</th>\n",
       "      <th>UnitPrice</th>\n",
       "      <th>CustomerID</th>\n",
       "      <th>Country</th>\n",
       "    </tr>\n",
       "  </thead>\n",
       "  <tbody>\n",
       "    <tr>\n",
       "      <th>0</th>\n",
       "      <td>536365</td>\n",
       "      <td>85123A</td>\n",
       "      <td>WHITE HANGING HEART T-LIGHT HOLDER</td>\n",
       "      <td>6</td>\n",
       "      <td>12/1/2010 8:26</td>\n",
       "      <td>2.55</td>\n",
       "      <td>17850.0</td>\n",
       "      <td>United Kingdom</td>\n",
       "    </tr>\n",
       "    <tr>\n",
       "      <th>1</th>\n",
       "      <td>536365</td>\n",
       "      <td>71053</td>\n",
       "      <td>WHITE METAL LANTERN</td>\n",
       "      <td>6</td>\n",
       "      <td>12/1/2010 8:26</td>\n",
       "      <td>3.39</td>\n",
       "      <td>17850.0</td>\n",
       "      <td>United Kingdom</td>\n",
       "    </tr>\n",
       "    <tr>\n",
       "      <th>2</th>\n",
       "      <td>536365</td>\n",
       "      <td>84406B</td>\n",
       "      <td>CREAM CUPID HEARTS COAT HANGER</td>\n",
       "      <td>8</td>\n",
       "      <td>12/1/2010 8:26</td>\n",
       "      <td>2.75</td>\n",
       "      <td>17850.0</td>\n",
       "      <td>United Kingdom</td>\n",
       "    </tr>\n",
       "    <tr>\n",
       "      <th>3</th>\n",
       "      <td>536365</td>\n",
       "      <td>84029G</td>\n",
       "      <td>KNITTED UNION FLAG HOT WATER BOTTLE</td>\n",
       "      <td>6</td>\n",
       "      <td>12/1/2010 8:26</td>\n",
       "      <td>3.39</td>\n",
       "      <td>17850.0</td>\n",
       "      <td>United Kingdom</td>\n",
       "    </tr>\n",
       "    <tr>\n",
       "      <th>4</th>\n",
       "      <td>536365</td>\n",
       "      <td>84029E</td>\n",
       "      <td>RED WOOLLY HOTTIE WHITE HEART.</td>\n",
       "      <td>6</td>\n",
       "      <td>12/1/2010 8:26</td>\n",
       "      <td>3.39</td>\n",
       "      <td>17850.0</td>\n",
       "      <td>United Kingdom</td>\n",
       "    </tr>\n",
       "  </tbody>\n",
       "</table>\n",
       "</div>"
      ],
      "text/plain": [
       "  InvoiceNo StockCode                          Description  Quantity  \\\n",
       "0    536365    85123A   WHITE HANGING HEART T-LIGHT HOLDER         6   \n",
       "1    536365     71053                  WHITE METAL LANTERN         6   \n",
       "2    536365    84406B       CREAM CUPID HEARTS COAT HANGER         8   \n",
       "3    536365    84029G  KNITTED UNION FLAG HOT WATER BOTTLE         6   \n",
       "4    536365    84029E       RED WOOLLY HOTTIE WHITE HEART.         6   \n",
       "\n",
       "      InvoiceDate  UnitPrice  CustomerID         Country  \n",
       "0  12/1/2010 8:26       2.55     17850.0  United Kingdom  \n",
       "1  12/1/2010 8:26       3.39     17850.0  United Kingdom  \n",
       "2  12/1/2010 8:26       2.75     17850.0  United Kingdom  \n",
       "3  12/1/2010 8:26       3.39     17850.0  United Kingdom  \n",
       "4  12/1/2010 8:26       3.39     17850.0  United Kingdom  "
      ]
     },
     "execution_count": 12,
     "metadata": {},
     "output_type": "execute_result"
    }
   ],
   "source": [
    "# Drop rows with missing CustomerID\n",
    "ecommerce_data = ecommerce_data[~ecommerce_data['CustomerID'].isnull()]\n",
    "ecommerce_data.reset_index(drop=True, inplace=True)\n",
    "ecommerce_data.head()\n"
   ]
  },
  {
   "cell_type": "code",
   "execution_count": 13,
   "metadata": {},
   "outputs": [
    {
     "data": {
      "text/html": [
       "<div>\n",
       "<style scoped>\n",
       "    .dataframe tbody tr th:only-of-type {\n",
       "        vertical-align: middle;\n",
       "    }\n",
       "\n",
       "    .dataframe tbody tr th {\n",
       "        vertical-align: top;\n",
       "    }\n",
       "\n",
       "    .dataframe thead th {\n",
       "        text-align: right;\n",
       "    }\n",
       "</style>\n",
       "<table border=\"1\" class=\"dataframe\">\n",
       "  <thead>\n",
       "    <tr style=\"text-align: right;\">\n",
       "      <th></th>\n",
       "      <th>total</th>\n",
       "      <th>percent</th>\n",
       "    </tr>\n",
       "  </thead>\n",
       "  <tbody>\n",
       "    <tr>\n",
       "      <th>InvoiceNo</th>\n",
       "      <td>0</td>\n",
       "      <td>0.0</td>\n",
       "    </tr>\n",
       "    <tr>\n",
       "      <th>StockCode</th>\n",
       "      <td>0</td>\n",
       "      <td>0.0</td>\n",
       "    </tr>\n",
       "    <tr>\n",
       "      <th>Description</th>\n",
       "      <td>0</td>\n",
       "      <td>0.0</td>\n",
       "    </tr>\n",
       "    <tr>\n",
       "      <th>Quantity</th>\n",
       "      <td>0</td>\n",
       "      <td>0.0</td>\n",
       "    </tr>\n",
       "    <tr>\n",
       "      <th>InvoiceDate</th>\n",
       "      <td>0</td>\n",
       "      <td>0.0</td>\n",
       "    </tr>\n",
       "    <tr>\n",
       "      <th>UnitPrice</th>\n",
       "      <td>0</td>\n",
       "      <td>0.0</td>\n",
       "    </tr>\n",
       "    <tr>\n",
       "      <th>CustomerID</th>\n",
       "      <td>0</td>\n",
       "      <td>0.0</td>\n",
       "    </tr>\n",
       "    <tr>\n",
       "      <th>Country</th>\n",
       "      <td>0</td>\n",
       "      <td>0.0</td>\n",
       "    </tr>\n",
       "  </tbody>\n",
       "</table>\n",
       "</div>"
      ],
      "text/plain": [
       "             total  percent\n",
       "InvoiceNo        0      0.0\n",
       "StockCode        0      0.0\n",
       "Description      0      0.0\n",
       "Quantity         0      0.0\n",
       "InvoiceDate      0      0.0\n",
       "UnitPrice        0      0.0\n",
       "CustomerID       0      0.0\n",
       "Country          0      0.0"
      ]
     },
     "execution_count": 13,
     "metadata": {},
     "output_type": "execute_result"
    }
   ],
   "source": [
    "# Check missing values again\n",
    "missing_data = ecommerce_data.isnull().sum().to_frame().rename(columns={0: 'total'})\n",
    "missing_data['percent'] = (missing_data['total'] / ecommerce_data.shape[0]) * 100   \n",
    "missing_data"
   ]
  },
  {
   "cell_type": "markdown",
   "metadata": {},
   "source": [
    "## 1.5. Datetime Datatype Conversion"
   ]
  },
  {
   "cell_type": "markdown",
   "metadata": {},
   "source": [
    "According to the Description of the Dataset, InvoiceDate is the only column containing datetime datatype and is extremely crucial for generating Recency, Frequency feature of RFM Analysis."
   ]
  },
  {
   "cell_type": "code",
   "execution_count": 14,
   "metadata": {},
   "outputs": [
    {
     "data": {
      "text/html": [
       "<div>\n",
       "<style scoped>\n",
       "    .dataframe tbody tr th:only-of-type {\n",
       "        vertical-align: middle;\n",
       "    }\n",
       "\n",
       "    .dataframe tbody tr th {\n",
       "        vertical-align: top;\n",
       "    }\n",
       "\n",
       "    .dataframe thead th {\n",
       "        text-align: right;\n",
       "    }\n",
       "</style>\n",
       "<table border=\"1\" class=\"dataframe\">\n",
       "  <thead>\n",
       "    <tr style=\"text-align: right;\">\n",
       "      <th></th>\n",
       "      <th>InvoiceNo</th>\n",
       "      <th>StockCode</th>\n",
       "      <th>Description</th>\n",
       "      <th>Quantity</th>\n",
       "      <th>InvoiceDate</th>\n",
       "      <th>UnitPrice</th>\n",
       "      <th>CustomerID</th>\n",
       "      <th>Country</th>\n",
       "    </tr>\n",
       "  </thead>\n",
       "  <tbody>\n",
       "  </tbody>\n",
       "</table>\n",
       "</div>"
      ],
      "text/plain": [
       "Empty DataFrame\n",
       "Columns: [InvoiceNo, StockCode, Description, Quantity, InvoiceDate, UnitPrice, CustomerID, Country]\n",
       "Index: []"
      ]
     },
     "execution_count": 14,
     "metadata": {},
     "output_type": "execute_result"
    }
   ],
   "source": [
    "import datetime # datetime manipulation\n",
    "\n",
    "# validate date format\n",
    "def validate_datetime(d):\n",
    "    try:\n",
    "        datetime.datetime.strptime('4/21/2011 19:05', '%m/%d/%Y %H:%M')\n",
    "        return True\n",
    "    except ValueError:\n",
    "        return False\n",
    "    \n",
    "ecommerce_data[~ecommerce_data['InvoiceDate'].apply(lambda x: validate_datetime(x))]"
   ]
  },
  {
   "cell_type": "markdown",
   "metadata": {},
   "source": [
    "So our datetime data is validated with '%m/%d/%Y %H:%M' format, let's convert them from object to datetime"
   ]
  },
  {
   "cell_type": "code",
   "execution_count": 15,
   "metadata": {},
   "outputs": [
    {
     "data": {
      "text/plain": [
       "count                           401604\n",
       "mean     2011-07-10 12:08:23.848567552\n",
       "min                2010-12-01 08:26:00\n",
       "25%                2011-04-06 15:02:00\n",
       "50%                2011-07-29 15:40:00\n",
       "75%                2011-10-20 11:58:30\n",
       "max                2011-12-09 12:50:00\n",
       "Name: InvoiceDate, dtype: object"
      ]
     },
     "execution_count": 15,
     "metadata": {},
     "output_type": "execute_result"
    }
   ],
   "source": [
    "# datetime conversion\n",
    "ecommerce_data['InvoiceDate'] = pd.to_datetime(ecommerce_data['InvoiceDate'],format='%m/%d/%Y %H:%M')\n",
    "ecommerce_data['InvoiceDate'].describe()"
   ]
  },
  {
   "cell_type": "markdown",
   "metadata": {},
   "source": [
    "## 1.6. Object Datatype Conversion"
   ]
  },
  {
   "cell_type": "markdown",
   "metadata": {},
   "source": [
    "Follow the description of dataset, there are 5 Columns containing Nominal datatype:\n",
    "- InvoiceNo\n",
    "- StockCode\n",
    "- Description\n",
    "- CustomerID\n",
    "- Country"
   ]
  },
  {
   "cell_type": "code",
   "execution_count": 16,
   "metadata": {},
   "outputs": [
    {
     "name": "stdout",
     "output_type": "stream",
     "text": [
      "There are currently only 4 Nominal columns\n",
      "\n",
      "InvoiceNo: 22190 unique values\n",
      "StockCode: 3684 unique values\n",
      "Description: 3896 unique values\n",
      "Country: 37 unique values\n"
     ]
    }
   ],
   "source": [
    "# Check the number of categorical columns\n",
    "print(f'There are currently only {ecommerce_data.select_dtypes(include=\"object\").columns.size} Nominal columns\\n')\n",
    "\n",
    "# Check the unique values of each categorical column\n",
    "for cate_col in ecommerce_data.select_dtypes(include='object').columns:\n",
    "    print(f'{cate_col}: {ecommerce_data[cate_col].nunique()} unique values')"
   ]
  },
  {
   "cell_type": "markdown",
   "metadata": {},
   "source": [
    "Let's convert CustomerID into Nominal type too."
   ]
  },
  {
   "cell_type": "code",
   "execution_count": 17,
   "metadata": {},
   "outputs": [
    {
     "name": "stdout",
     "output_type": "stream",
     "text": [
      "There are currently 5 Nominal columns\n",
      "\n",
      "InvoiceNo: 22190 unique values\n",
      "StockCode: 3684 unique values\n",
      "Description: 3896 unique values\n",
      "CustomerID: 4372 unique values\n",
      "Country: 37 unique values\n"
     ]
    }
   ],
   "source": [
    "ecommerce_data['CustomerID'] = ecommerce_data['CustomerID'].astype(int).astype(str)\n",
    "# Check the number of categorical columns\n",
    "print(f'There are currently {ecommerce_data.select_dtypes(include=\"object\").columns.size} Nominal columns\\n')\n",
    "\n",
    "# Check the unique values of each categorical column\n",
    "for cate_col in ecommerce_data.select_dtypes(include='object').columns:\n",
    "    print(f'{cate_col}: {ecommerce_data[cate_col].nunique()} unique values')"
   ]
  },
  {
   "cell_type": "markdown",
   "metadata": {},
   "source": [
    "## 1.7. Checking Outliers"
   ]
  },
  {
   "cell_type": "code",
   "execution_count": 18,
   "metadata": {},
   "outputs": [
    {
     "data": {
      "text/plain": [
       "Index(['Quantity', 'UnitPrice'], dtype='object')"
      ]
     },
     "execution_count": 18,
     "metadata": {},
     "output_type": "execute_result"
    }
   ],
   "source": [
    "ecommerce_data.select_dtypes([int,float]).columns"
   ]
  },
  {
   "cell_type": "code",
   "execution_count": 19,
   "metadata": {},
   "outputs": [
    {
     "data": {
      "text/plain": [
       "<Figure size 900x600 with 0 Axes>"
      ]
     },
     "execution_count": 19,
     "metadata": {},
     "output_type": "execute_result"
    },
    {
     "data": {
      "image/png": "[encoded data removed]",
      "text/plain": [
       "<Figure size 900x600 with 2 Axes>"
      ]
     },
     "metadata": {},
     "output_type": "display_data"
    }
   ],
   "source": [
    "import matplotlib.gridspec as gridspec # subplots\n",
    "\n",
    "# Create 2x2 sub plots\n",
    "gs = gridspec.GridSpec(2, 1)\n",
    "\n",
    "# Create a figure\n",
    "plt.figure(figsize=(9,6))\n",
    "\n",
    "# add axes_1\n",
    "ax1 = plt.subplot(gs[0, 0]) \n",
    "ax1 = sns.boxplot(\n",
    "    data=ecommerce_data.UnitPrice\n",
    "    ,orient='h'\n",
    ")\n",
    "\n",
    "# add axes_2\n",
    "ax2 = plt.subplot(gs[1, 0]) \n",
    "ax2 = sns.boxplot(\n",
    "    data=ecommerce_data.Quantity\n",
    "    ,orient='h'\n",
    ")\n",
    "\n",
    "plt.show()"
   ]
  },
  {
   "cell_type": "markdown",
   "metadata": {},
   "source": [
    "As box plot shown above, there a number of records with negative values of quantity. These negative values could be indicates a cancellation, discount, which from RFM Analysis aspect, we may need some transaction such as discount to reflect the actual customer behaviour. So these negative values could be true outliers, not incorrect, structural errors caused by data entry, processing stages."
   ]
  },
  {
   "cell_type": "markdown",
   "metadata": {},
   "source": [
    "# II. Data Filtering"
   ]
  },
  {
   "cell_type": "markdown",
   "metadata": {},
   "source": [
    "This process involves removing or excluding data that does not meet certain conditions or criteria. Includes filtering based on values, ranges, or conditions (e.g., removing outliers, selecting specific time periods) with the purpose to select only a subset of data based on specific criteria to focus on relevant information in order to produce a refined dataset that contains only the relevant information needed for analysis, in this case, for the RFM analysis."
   ]
  },
  {
   "cell_type": "markdown",
   "metadata": {},
   "source": [
    "## 2.1. Non-Product Description"
   ]
  },
  {
   "cell_type": "code",
   "execution_count": 20,
   "metadata": {},
   "outputs": [
    {
     "data": {
      "text/plain": [
       "Description\n",
       "Manual                                 460\n",
       "BAG 125g SWIRLY MARBLES                252\n",
       "3 TRADITIONAl BISCUIT CUTTERS  SET     207\n",
       "BAG 250g SWIRLY MARBLES                201\n",
       "POLYESTER FILLER PAD 40x40cm           185\n",
       "POLYESTER FILLER PAD 45x45cm           135\n",
       "BAG 500g SWIRLY MARBLES                115\n",
       "Next Day Carriage                       80\n",
       "Discount                                77\n",
       "FRENCH BLUE METAL DOOR SIGN No          75\n",
       "POLYESTER FILLER PAD 45x30cm            37\n",
       "POLYESTER FILLER PAD 30CMx30CM          26\n",
       "ESSENTIAL BALM 3.5g TIN IN ENVELOPE     18\n",
       "CRUK Commission                         16\n",
       "NUMBER TILE COTTAGE GARDEN No           12\n",
       "Bank Charges                            12\n",
       "FOLK ART GREETING CARD,pack/12          10\n",
       "NUMBER TILE VINTAGE FONT No              7\n",
       "THE KING GIFT BAG 25x24x12cm             7\n",
       "POLYESTER FILLER PAD 65CMx65CM           5\n",
       "FLOWERS HANDBAG blue and orange          3\n",
       "High Resolution Image                    3\n",
       "POLYESTER FILLER PAD 60x40cm             1\n",
       "Name: count, dtype: int64"
      ]
     },
     "execution_count": 20,
     "metadata": {},
     "output_type": "execute_result"
    }
   ],
   "source": [
    "# Check lowercase Description\n",
    "ecommerce_data[ecommerce_data['Description'].str.contains('[a-z]')]['Description'].value_counts()"
   ]
  },
  {
   "cell_type": "markdown",
   "metadata": {},
   "source": [
    "Description such as Manual, Bank Charges, etc is not product, therefore, let's gather these values into a non product list."
   ]
  },
  {
   "cell_type": "code",
   "execution_count": 21,
   "metadata": {},
   "outputs": [],
   "source": [
    "not_products = ['Next Day Carriage', \n",
    "                'Discount', \n",
    "                'CRUK Commission', \n",
    "                'Bank Charges', \n",
    "                'Manual']"
   ]
  },
  {
   "cell_type": "code",
   "execution_count": 22,
   "metadata": {},
   "outputs": [
    {
     "data": {
      "text/plain": [
       "array(['POSTAGE', 'CHOCOLATE CALCULATOR', 'CHILLI LIGHTS', 'PHOTO CUBE',\n",
       "       'RETROSPOT LAMP', 'PICTURE DOMINOES', 'DOORMAT TOPIARY',\n",
       "       'DOORMAT HEARTS', 'WRAP COWBOYS  ', 'FLOWERS  STICKERS',\n",
       "       'OWL DOORSTOP', 'WICKER STAR ', 'CHRYSANTHEMUM NOTEBOOK',\n",
       "       'BUTTON BOX ', 'POLKADOT PEN', 'GRAND CHOCOLATECANDLE', 'CARRIAGE',\n",
       "       'DOORMAT AIRMAIL ', 'NEWSPAPER STAND', 'BINGO SET',\n",
       "       'CHRYSANTHEMUM SKETCHBOOK ', 'SKULLS  STICKERS', 'GLAMOROUS  MUG',\n",
       "       'SPACE FROG', 'SPACE OWL', 'DECOUPAGE,GREETING CARD,',\n",
       "       'DOGGY RUBBER', 'SKULLS TAPE', 'HEARTS  STICKERS', 'PARTY BUNTING',\n",
       "       'POTTERING MUG', 'SANDALWOOD FAN', 'SOMBRERO ', 'ANIMAL STICKERS',\n",
       "       'RAIN PONCHO ', 'MIRROR CORNICE', 'CARNIVAL BRACELET',\n",
       "       'HEART CALCULATOR', 'CHRYSANTHEMUM  JOURNAL',\n",
       "       'BUTTERFLIES STICKERS', 'TUMBLER, BAROQUE', 'PLASMATRONIC LAMP',\n",
       "       'DAISY JOURNAL ', 'SWEETIES  STICKERS', 'DAISY NOTEBOOK ',\n",
       "       'GOLD WASHBAG', 'WOODLAND  STICKERS', 'DAISY SKETCHBOOK ',\n",
       "       'RIBBONS PURSE ', 'POMPOM CURTAIN', 'VIPPASSPORT COVER ',\n",
       "       'FROG CANDLE', 'TOYBOX  WRAP ', 'FLAMINGO LIGHTS',\n",
       "       'CONGRATULATIONS BUNTING', 'WRAP, CAROUSEL',\n",
       "       'PINK/AMETHYST/GOLD NECKLACE', 'WRAP CAROUSEL', 'TUMBLER BAROQUE',\n",
       "       'RIVIERA NECKLACE', 'CINDERELLA CHANDELIER ', 'SPOTTY BUNTING',\n",
       "       'ALUMINIUM HEART', 'CAPIZ CHANDELIER', 'POPCORN HOLDER',\n",
       "       'DOLPHIN WINDMILL', 'PACKING CHARGE', 'SPACEBOY BEAKER',\n",
       "       'DIAMANTE NECKLACE', 'CORDIAL JUG', 'DOTCOM POSTAGE',\n",
       "       'BATHROOM HOOK', 'CHAMBRE HOOK'], dtype=object)"
      ]
     },
     "execution_count": 22,
     "metadata": {},
     "output_type": "execute_result"
    }
   ],
   "source": [
    "# Check short Description\n",
    "def short_description(desc):\n",
    "    return len(desc.split()) < 3\n",
    "ecommerce_data[\n",
    "    (ecommerce_data['Description'].apply(lambda x: short_description(x))) &\n",
    "    (~ecommerce_data['Description'].isin(not_products))\n",
    "]['Description'].unique()"
   ]
  },
  {
   "cell_type": "markdown",
   "metadata": {},
   "source": [
    "'POSTAGE', 'DOTCOM POSTAGE' and 'CARRIAGE' are not products. So I will have them appended to the not_products list"
   ]
  },
  {
   "cell_type": "code",
   "execution_count": 23,
   "metadata": {},
   "outputs": [
    {
     "data": {
      "text/plain": [
       "['Next Day Carriage',\n",
       " 'Discount',\n",
       " 'CRUK Commission',\n",
       " 'Bank Charges',\n",
       " 'Manual',\n",
       " 'POSTAGE',\n",
       " 'CARRIAGE',\n",
       " 'DOTCOM POSTAGE']"
      ]
     },
     "execution_count": 23,
     "metadata": {},
     "output_type": "execute_result"
    }
   ],
   "source": [
    "not_products.append('POSTAGE')\n",
    "not_products.append('CARRIAGE')\n",
    "not_products.append('DOTCOM POSTAGE')\n",
    "not_products"
   ]
  },
  {
   "cell_type": "markdown",
   "metadata": {},
   "source": [
    "Let's review records contain these non-product description"
   ]
  },
  {
   "cell_type": "code",
   "execution_count": 24,
   "metadata": {},
   "outputs": [
    {
     "data": {
      "text/html": [
       "<div>\n",
       "<style scoped>\n",
       "    .dataframe tbody tr th:only-of-type {\n",
       "        vertical-align: middle;\n",
       "    }\n",
       "\n",
       "    .dataframe tbody tr th {\n",
       "        vertical-align: top;\n",
       "    }\n",
       "\n",
       "    .dataframe thead th {\n",
       "        text-align: right;\n",
       "    }\n",
       "</style>\n",
       "<table border=\"1\" class=\"dataframe\">\n",
       "  <thead>\n",
       "    <tr style=\"text-align: right;\">\n",
       "      <th></th>\n",
       "      <th>InvoiceNo</th>\n",
       "      <th>StockCode</th>\n",
       "      <th>Description</th>\n",
       "      <th>Quantity</th>\n",
       "      <th>InvoiceDate</th>\n",
       "      <th>UnitPrice</th>\n",
       "      <th>CustomerID</th>\n",
       "      <th>Country</th>\n",
       "    </tr>\n",
       "  </thead>\n",
       "  <tbody>\n",
       "    <tr>\n",
       "      <th>265409</th>\n",
       "      <td>568680</td>\n",
       "      <td>23444</td>\n",
       "      <td>Next Day Carriage</td>\n",
       "      <td>1</td>\n",
       "      <td>2011-09-28 14:10:00</td>\n",
       "      <td>15.0</td>\n",
       "      <td>18265</td>\n",
       "      <td>United Kingdom</td>\n",
       "    </tr>\n",
       "    <tr>\n",
       "      <th>250704</th>\n",
       "      <td>567252</td>\n",
       "      <td>23444</td>\n",
       "      <td>Next Day Carriage</td>\n",
       "      <td>1</td>\n",
       "      <td>2011-09-19 11:37:00</td>\n",
       "      <td>15.0</td>\n",
       "      <td>13695</td>\n",
       "      <td>United Kingdom</td>\n",
       "    </tr>\n",
       "  </tbody>\n",
       "</table>\n",
       "</div>"
      ],
      "text/plain": [
       "       InvoiceNo StockCode        Description  Quantity         InvoiceDate  \\\n",
       "265409    568680     23444  Next Day Carriage         1 2011-09-28 14:10:00   \n",
       "250704    567252     23444  Next Day Carriage         1 2011-09-19 11:37:00   \n",
       "\n",
       "        UnitPrice CustomerID         Country  \n",
       "265409       15.0      18265  United Kingdom  \n",
       "250704       15.0      13695  United Kingdom  "
      ]
     },
     "execution_count": 24,
     "metadata": {},
     "output_type": "execute_result"
    },
    {
     "data": {
      "text/html": [
       "<div>\n",
       "<style scoped>\n",
       "    .dataframe tbody tr th:only-of-type {\n",
       "        vertical-align: middle;\n",
       "    }\n",
       "\n",
       "    .dataframe tbody tr th {\n",
       "        vertical-align: top;\n",
       "    }\n",
       "\n",
       "    .dataframe thead th {\n",
       "        text-align: right;\n",
       "    }\n",
       "</style>\n",
       "<table border=\"1\" class=\"dataframe\">\n",
       "  <thead>\n",
       "    <tr style=\"text-align: right;\">\n",
       "      <th></th>\n",
       "      <th>InvoiceNo</th>\n",
       "      <th>StockCode</th>\n",
       "      <th>Description</th>\n",
       "      <th>Quantity</th>\n",
       "      <th>InvoiceDate</th>\n",
       "      <th>UnitPrice</th>\n",
       "      <th>CustomerID</th>\n",
       "      <th>Country</th>\n",
       "    </tr>\n",
       "  </thead>\n",
       "  <tbody>\n",
       "    <tr>\n",
       "      <th>9977</th>\n",
       "      <td>C537597</td>\n",
       "      <td>D</td>\n",
       "      <td>Discount</td>\n",
       "      <td>-1</td>\n",
       "      <td>2010-12-07 12:34:00</td>\n",
       "      <td>281.0</td>\n",
       "      <td>15498</td>\n",
       "      <td>United Kingdom</td>\n",
       "    </tr>\n",
       "    <tr>\n",
       "      <th>169669</th>\n",
       "      <td>C557927</td>\n",
       "      <td>D</td>\n",
       "      <td>Discount</td>\n",
       "      <td>-1</td>\n",
       "      <td>2011-06-23 14:56:00</td>\n",
       "      <td>10.0</td>\n",
       "      <td>16029</td>\n",
       "      <td>United Kingdom</td>\n",
       "    </tr>\n",
       "  </tbody>\n",
       "</table>\n",
       "</div>"
      ],
      "text/plain": [
       "       InvoiceNo StockCode Description  Quantity         InvoiceDate  \\\n",
       "9977     C537597         D    Discount        -1 2010-12-07 12:34:00   \n",
       "169669   C557927         D    Discount        -1 2011-06-23 14:56:00   \n",
       "\n",
       "        UnitPrice CustomerID         Country  \n",
       "9977        281.0      15498  United Kingdom  \n",
       "169669       10.0      16029  United Kingdom  "
      ]
     },
     "execution_count": 24,
     "metadata": {},
     "output_type": "execute_result"
    },
    {
     "data": {
      "text/html": [
       "<div>\n",
       "<style scoped>\n",
       "    .dataframe tbody tr th:only-of-type {\n",
       "        vertical-align: middle;\n",
       "    }\n",
       "\n",
       "    .dataframe tbody tr th {\n",
       "        vertical-align: top;\n",
       "    }\n",
       "\n",
       "    .dataframe thead th {\n",
       "        text-align: right;\n",
       "    }\n",
       "</style>\n",
       "<table border=\"1\" class=\"dataframe\">\n",
       "  <thead>\n",
       "    <tr style=\"text-align: right;\">\n",
       "      <th></th>\n",
       "      <th>InvoiceNo</th>\n",
       "      <th>StockCode</th>\n",
       "      <th>Description</th>\n",
       "      <th>Quantity</th>\n",
       "      <th>InvoiceDate</th>\n",
       "      <th>UnitPrice</th>\n",
       "      <th>CustomerID</th>\n",
       "      <th>Country</th>\n",
       "    </tr>\n",
       "  </thead>\n",
       "  <tbody>\n",
       "    <tr>\n",
       "      <th>262600</th>\n",
       "      <td>C568345</td>\n",
       "      <td>CRUK</td>\n",
       "      <td>CRUK Commission</td>\n",
       "      <td>-1</td>\n",
       "      <td>2011-09-26 15:28:00</td>\n",
       "      <td>447.56</td>\n",
       "      <td>14096</td>\n",
       "      <td>United Kingdom</td>\n",
       "    </tr>\n",
       "    <tr>\n",
       "      <th>239504</th>\n",
       "      <td>C566216</td>\n",
       "      <td>CRUK</td>\n",
       "      <td>CRUK Commission</td>\n",
       "      <td>-1</td>\n",
       "      <td>2011-09-09 15:17:00</td>\n",
       "      <td>15.96</td>\n",
       "      <td>14096</td>\n",
       "      <td>United Kingdom</td>\n",
       "    </tr>\n",
       "  </tbody>\n",
       "</table>\n",
       "</div>"
      ],
      "text/plain": [
       "       InvoiceNo StockCode      Description  Quantity         InvoiceDate  \\\n",
       "262600   C568345      CRUK  CRUK Commission        -1 2011-09-26 15:28:00   \n",
       "239504   C566216      CRUK  CRUK Commission        -1 2011-09-09 15:17:00   \n",
       "\n",
       "        UnitPrice CustomerID         Country  \n",
       "262600     447.56      14096  United Kingdom  \n",
       "239504      15.96      14096  United Kingdom  "
      ]
     },
     "execution_count": 24,
     "metadata": {},
     "output_type": "execute_result"
    },
    {
     "data": {
      "text/html": [
       "<div>\n",
       "<style scoped>\n",
       "    .dataframe tbody tr th:only-of-type {\n",
       "        vertical-align: middle;\n",
       "    }\n",
       "\n",
       "    .dataframe tbody tr th {\n",
       "        vertical-align: top;\n",
       "    }\n",
       "\n",
       "    .dataframe thead th {\n",
       "        text-align: right;\n",
       "    }\n",
       "</style>\n",
       "<table border=\"1\" class=\"dataframe\">\n",
       "  <thead>\n",
       "    <tr style=\"text-align: right;\">\n",
       "      <th></th>\n",
       "      <th>InvoiceNo</th>\n",
       "      <th>StockCode</th>\n",
       "      <th>Description</th>\n",
       "      <th>Quantity</th>\n",
       "      <th>InvoiceDate</th>\n",
       "      <th>UnitPrice</th>\n",
       "      <th>CustomerID</th>\n",
       "      <th>Country</th>\n",
       "    </tr>\n",
       "  </thead>\n",
       "  <tbody>\n",
       "    <tr>\n",
       "      <th>327551</th>\n",
       "      <td>574546</td>\n",
       "      <td>BANK CHARGES</td>\n",
       "      <td>Bank Charges</td>\n",
       "      <td>1</td>\n",
       "      <td>2011-11-04 14:59:00</td>\n",
       "      <td>15.0</td>\n",
       "      <td>13651</td>\n",
       "      <td>United Kingdom</td>\n",
       "    </tr>\n",
       "    <tr>\n",
       "      <th>104648</th>\n",
       "      <td>549717</td>\n",
       "      <td>BANK CHARGES</td>\n",
       "      <td>Bank Charges</td>\n",
       "      <td>1</td>\n",
       "      <td>2011-04-11 14:56:00</td>\n",
       "      <td>15.0</td>\n",
       "      <td>14606</td>\n",
       "      <td>United Kingdom</td>\n",
       "    </tr>\n",
       "  </tbody>\n",
       "</table>\n",
       "</div>"
      ],
      "text/plain": [
       "       InvoiceNo     StockCode   Description  Quantity         InvoiceDate  \\\n",
       "327551    574546  BANK CHARGES  Bank Charges         1 2011-11-04 14:59:00   \n",
       "104648    549717  BANK CHARGES  Bank Charges         1 2011-04-11 14:56:00   \n",
       "\n",
       "        UnitPrice CustomerID         Country  \n",
       "327551       15.0      13651  United Kingdom  \n",
       "104648       15.0      14606  United Kingdom  "
      ]
     },
     "execution_count": 24,
     "metadata": {},
     "output_type": "execute_result"
    },
    {
     "data": {
      "text/html": [
       "<div>\n",
       "<style scoped>\n",
       "    .dataframe tbody tr th:only-of-type {\n",
       "        vertical-align: middle;\n",
       "    }\n",
       "\n",
       "    .dataframe tbody tr th {\n",
       "        vertical-align: top;\n",
       "    }\n",
       "\n",
       "    .dataframe thead th {\n",
       "        text-align: right;\n",
       "    }\n",
       "</style>\n",
       "<table border=\"1\" class=\"dataframe\">\n",
       "  <thead>\n",
       "    <tr style=\"text-align: right;\">\n",
       "      <th></th>\n",
       "      <th>InvoiceNo</th>\n",
       "      <th>StockCode</th>\n",
       "      <th>Description</th>\n",
       "      <th>Quantity</th>\n",
       "      <th>InvoiceDate</th>\n",
       "      <th>UnitPrice</th>\n",
       "      <th>CustomerID</th>\n",
       "      <th>Country</th>\n",
       "    </tr>\n",
       "  </thead>\n",
       "  <tbody>\n",
       "    <tr>\n",
       "      <th>193850</th>\n",
       "      <td>C560904</td>\n",
       "      <td>M</td>\n",
       "      <td>Manual</td>\n",
       "      <td>-1</td>\n",
       "      <td>2011-07-21 17:51:00</td>\n",
       "      <td>8.95</td>\n",
       "      <td>14875</td>\n",
       "      <td>United Kingdom</td>\n",
       "    </tr>\n",
       "    <tr>\n",
       "      <th>40224</th>\n",
       "      <td>541808</td>\n",
       "      <td>M</td>\n",
       "      <td>Manual</td>\n",
       "      <td>1</td>\n",
       "      <td>2011-01-21 14:51:00</td>\n",
       "      <td>10.00</td>\n",
       "      <td>16210</td>\n",
       "      <td>United Kingdom</td>\n",
       "    </tr>\n",
       "  </tbody>\n",
       "</table>\n",
       "</div>"
      ],
      "text/plain": [
       "       InvoiceNo StockCode Description  Quantity         InvoiceDate  \\\n",
       "193850   C560904         M      Manual        -1 2011-07-21 17:51:00   \n",
       "40224     541808         M      Manual         1 2011-01-21 14:51:00   \n",
       "\n",
       "        UnitPrice CustomerID         Country  \n",
       "193850       8.95      14875  United Kingdom  \n",
       "40224       10.00      16210  United Kingdom  "
      ]
     },
     "execution_count": 24,
     "metadata": {},
     "output_type": "execute_result"
    },
    {
     "data": {
      "text/html": [
       "<div>\n",
       "<style scoped>\n",
       "    .dataframe tbody tr th:only-of-type {\n",
       "        vertical-align: middle;\n",
       "    }\n",
       "\n",
       "    .dataframe tbody tr th {\n",
       "        vertical-align: top;\n",
       "    }\n",
       "\n",
       "    .dataframe thead th {\n",
       "        text-align: right;\n",
       "    }\n",
       "</style>\n",
       "<table border=\"1\" class=\"dataframe\">\n",
       "  <thead>\n",
       "    <tr style=\"text-align: right;\">\n",
       "      <th></th>\n",
       "      <th>InvoiceNo</th>\n",
       "      <th>StockCode</th>\n",
       "      <th>Description</th>\n",
       "      <th>Quantity</th>\n",
       "      <th>InvoiceDate</th>\n",
       "      <th>UnitPrice</th>\n",
       "      <th>CustomerID</th>\n",
       "      <th>Country</th>\n",
       "    </tr>\n",
       "  </thead>\n",
       "  <tbody>\n",
       "    <tr>\n",
       "      <th>266655</th>\n",
       "      <td>568798</td>\n",
       "      <td>POST</td>\n",
       "      <td>POSTAGE</td>\n",
       "      <td>3</td>\n",
       "      <td>2011-09-29 10:23:00</td>\n",
       "      <td>18.0</td>\n",
       "      <td>12615</td>\n",
       "      <td>France</td>\n",
       "    </tr>\n",
       "    <tr>\n",
       "      <th>289591</th>\n",
       "      <td>570875</td>\n",
       "      <td>POST</td>\n",
       "      <td>POSTAGE</td>\n",
       "      <td>4</td>\n",
       "      <td>2011-10-12 17:00:00</td>\n",
       "      <td>40.0</td>\n",
       "      <td>12667</td>\n",
       "      <td>Finland</td>\n",
       "    </tr>\n",
       "  </tbody>\n",
       "</table>\n",
       "</div>"
      ],
      "text/plain": [
       "       InvoiceNo StockCode Description  Quantity         InvoiceDate  \\\n",
       "266655    568798      POST     POSTAGE         3 2011-09-29 10:23:00   \n",
       "289591    570875      POST     POSTAGE         4 2011-10-12 17:00:00   \n",
       "\n",
       "        UnitPrice CustomerID  Country  \n",
       "266655       18.0      12615   France  \n",
       "289591       40.0      12667  Finland  "
      ]
     },
     "execution_count": 24,
     "metadata": {},
     "output_type": "execute_result"
    },
    {
     "data": {
      "text/html": [
       "<div>\n",
       "<style scoped>\n",
       "    .dataframe tbody tr th:only-of-type {\n",
       "        vertical-align: middle;\n",
       "    }\n",
       "\n",
       "    .dataframe tbody tr th {\n",
       "        vertical-align: top;\n",
       "    }\n",
       "\n",
       "    .dataframe thead th {\n",
       "        text-align: right;\n",
       "    }\n",
       "</style>\n",
       "<table border=\"1\" class=\"dataframe\">\n",
       "  <thead>\n",
       "    <tr style=\"text-align: right;\">\n",
       "      <th></th>\n",
       "      <th>InvoiceNo</th>\n",
       "      <th>StockCode</th>\n",
       "      <th>Description</th>\n",
       "      <th>Quantity</th>\n",
       "      <th>InvoiceDate</th>\n",
       "      <th>UnitPrice</th>\n",
       "      <th>CustomerID</th>\n",
       "      <th>Country</th>\n",
       "    </tr>\n",
       "  </thead>\n",
       "  <tbody>\n",
       "    <tr>\n",
       "      <th>199394</th>\n",
       "      <td>561631</td>\n",
       "      <td>C2</td>\n",
       "      <td>CARRIAGE</td>\n",
       "      <td>1</td>\n",
       "      <td>2011-07-28 14:27:00</td>\n",
       "      <td>50.0</td>\n",
       "      <td>14911</td>\n",
       "      <td>EIRE</td>\n",
       "    </tr>\n",
       "    <tr>\n",
       "      <th>73567</th>\n",
       "      <td>545854</td>\n",
       "      <td>C2</td>\n",
       "      <td>CARRIAGE</td>\n",
       "      <td>1</td>\n",
       "      <td>2011-03-07 13:51:00</td>\n",
       "      <td>50.0</td>\n",
       "      <td>14817</td>\n",
       "      <td>United Kingdom</td>\n",
       "    </tr>\n",
       "  </tbody>\n",
       "</table>\n",
       "</div>"
      ],
      "text/plain": [
       "       InvoiceNo StockCode Description  Quantity         InvoiceDate  \\\n",
       "199394    561631        C2    CARRIAGE         1 2011-07-28 14:27:00   \n",
       "73567     545854        C2    CARRIAGE         1 2011-03-07 13:51:00   \n",
       "\n",
       "        UnitPrice CustomerID         Country  \n",
       "199394       50.0      14911            EIRE  \n",
       "73567        50.0      14817  United Kingdom  "
      ]
     },
     "execution_count": 24,
     "metadata": {},
     "output_type": "execute_result"
    },
    {
     "data": {
      "text/html": [
       "<div>\n",
       "<style scoped>\n",
       "    .dataframe tbody tr th:only-of-type {\n",
       "        vertical-align: middle;\n",
       "    }\n",
       "\n",
       "    .dataframe tbody tr th {\n",
       "        vertical-align: top;\n",
       "    }\n",
       "\n",
       "    .dataframe thead th {\n",
       "        text-align: right;\n",
       "    }\n",
       "</style>\n",
       "<table border=\"1\" class=\"dataframe\">\n",
       "  <thead>\n",
       "    <tr style=\"text-align: right;\">\n",
       "      <th></th>\n",
       "      <th>InvoiceNo</th>\n",
       "      <th>StockCode</th>\n",
       "      <th>Description</th>\n",
       "      <th>Quantity</th>\n",
       "      <th>InvoiceDate</th>\n",
       "      <th>UnitPrice</th>\n",
       "      <th>CustomerID</th>\n",
       "      <th>Country</th>\n",
       "    </tr>\n",
       "  </thead>\n",
       "  <tbody>\n",
       "    <tr>\n",
       "      <th>379224</th>\n",
       "      <td>579196</td>\n",
       "      <td>DOT</td>\n",
       "      <td>DOTCOM POSTAGE</td>\n",
       "      <td>1</td>\n",
       "      <td>2011-11-28 15:54:00</td>\n",
       "      <td>1526.76</td>\n",
       "      <td>14096</td>\n",
       "      <td>United Kingdom</td>\n",
       "    </tr>\n",
       "    <tr>\n",
       "      <th>228469</th>\n",
       "      <td>564764</td>\n",
       "      <td>DOT</td>\n",
       "      <td>DOTCOM POSTAGE</td>\n",
       "      <td>1</td>\n",
       "      <td>2011-08-30 10:49:00</td>\n",
       "      <td>11.17</td>\n",
       "      <td>14096</td>\n",
       "      <td>United Kingdom</td>\n",
       "    </tr>\n",
       "  </tbody>\n",
       "</table>\n",
       "</div>"
      ],
      "text/plain": [
       "       InvoiceNo StockCode     Description  Quantity         InvoiceDate  \\\n",
       "379224    579196       DOT  DOTCOM POSTAGE         1 2011-11-28 15:54:00   \n",
       "228469    564764       DOT  DOTCOM POSTAGE         1 2011-08-30 10:49:00   \n",
       "\n",
       "        UnitPrice CustomerID         Country  \n",
       "379224    1526.76      14096  United Kingdom  \n",
       "228469      11.17      14096  United Kingdom  "
      ]
     },
     "execution_count": 24,
     "metadata": {},
     "output_type": "execute_result"
    }
   ],
   "source": [
    "for not_product in not_products:    \n",
    "    ecommerce_data[ecommerce_data['Description'] == not_product].sample(2)"
   ]
  },
  {
   "cell_type": "markdown",
   "metadata": {},
   "source": [
    "From the data above and through online research, I came to conclusion that: \n",
    "- POSTAGE/DOTCOM POSTAGE/Next Day Carriage: The amount spent by the user on postages.\n",
    "- Discount: This explains the discount provided for a product.\n",
    "- CRUK Commission: An initiative to pay some part of the sales to the Cancer Research UK (CRUK).\n",
    "- Bank Charges: A default fee (about 15 sterling) that customers pay every time they use a bank service as payment method for each purchase. This fee does not directly affect sales.\n",
    "- Manual: Since there is no proper definition we can think of this as manual service provided for the purchase of an item.\n",
    "\n",
    "\n",
    "Except for Discount, all the other categories do not directly affect the sales. Hence, we can remove those from the data."
   ]
  },
  {
   "cell_type": "code",
   "execution_count": 25,
   "metadata": {},
   "outputs": [
    {
     "data": {
      "text/plain": [
       "0"
      ]
     },
     "execution_count": 25,
     "metadata": {},
     "output_type": "execute_result"
    }
   ],
   "source": [
    "not_products.remove('Discount')\n",
    "\n",
    "# Drop rows with not products\n",
    "ecommerce_data = ecommerce_data[~ecommerce_data['Description'].isin(not_products)]\n",
    "\n",
    "# validate the result\n",
    "ecommerce_data['Description'].isin(not_products).sum()"
   ]
  },
  {
   "cell_type": "code",
   "execution_count": 26,
   "metadata": {},
   "outputs": [
    {
     "name": "stdout",
     "output_type": "stream",
     "text": [
      "<class 'pandas.core.frame.DataFrame'>\n",
      "Index: 399690 entries, 0 to 401603\n",
      "Data columns (total 8 columns):\n",
      " #   Column       Non-Null Count   Dtype         \n",
      "---  ------       --------------   -----         \n",
      " 0   InvoiceNo    399690 non-null  object        \n",
      " 1   StockCode    399690 non-null  object        \n",
      " 2   Description  399690 non-null  object        \n",
      " 3   Quantity     399690 non-null  int64         \n",
      " 4   InvoiceDate  399690 non-null  datetime64[ns]\n",
      " 5   UnitPrice    399690 non-null  float64       \n",
      " 6   CustomerID   399690 non-null  object        \n",
      " 7   Country      399690 non-null  object        \n",
      "dtypes: datetime64[ns](1), float64(1), int64(1), object(5)\n",
      "memory usage: 27.4+ MB\n"
     ]
    }
   ],
   "source": [
    "ecommerce_data.info()"
   ]
  },
  {
   "cell_type": "markdown",
   "metadata": {},
   "source": [
    "## 2.2. Cancelled Transactions\n",
    "As the data description, invoiceNo starting with 'C' are cancelled transactions. Let's check if they are directly affected to the sales or not."
   ]
  },
  {
   "cell_type": "code",
   "execution_count": 27,
   "metadata": {},
   "outputs": [
    {
     "data": {
      "text/html": [
       "<div>\n",
       "<style scoped>\n",
       "    .dataframe tbody tr th:only-of-type {\n",
       "        vertical-align: middle;\n",
       "    }\n",
       "\n",
       "    .dataframe tbody tr th {\n",
       "        vertical-align: top;\n",
       "    }\n",
       "\n",
       "    .dataframe thead th {\n",
       "        text-align: right;\n",
       "    }\n",
       "</style>\n",
       "<table border=\"1\" class=\"dataframe\">\n",
       "  <thead>\n",
       "    <tr style=\"text-align: right;\">\n",
       "      <th></th>\n",
       "      <th>InvoiceNo</th>\n",
       "      <th>StockCode</th>\n",
       "      <th>Description</th>\n",
       "      <th>Quantity</th>\n",
       "      <th>InvoiceDate</th>\n",
       "      <th>UnitPrice</th>\n",
       "      <th>CustomerID</th>\n",
       "      <th>Country</th>\n",
       "    </tr>\n",
       "  </thead>\n",
       "  <tbody>\n",
       "    <tr>\n",
       "      <th>154</th>\n",
       "      <td>C536383</td>\n",
       "      <td>35004C</td>\n",
       "      <td>SET OF 3 COLOURED  FLYING DUCKS</td>\n",
       "      <td>-1</td>\n",
       "      <td>2010-12-01 09:49:00</td>\n",
       "      <td>4.65</td>\n",
       "      <td>15311</td>\n",
       "      <td>United Kingdom</td>\n",
       "    </tr>\n",
       "    <tr>\n",
       "      <th>235</th>\n",
       "      <td>C536391</td>\n",
       "      <td>22556</td>\n",
       "      <td>PLASTERS IN TIN CIRCUS PARADE</td>\n",
       "      <td>-12</td>\n",
       "      <td>2010-12-01 10:24:00</td>\n",
       "      <td>1.65</td>\n",
       "      <td>17548</td>\n",
       "      <td>United Kingdom</td>\n",
       "    </tr>\n",
       "    <tr>\n",
       "      <th>236</th>\n",
       "      <td>C536391</td>\n",
       "      <td>21984</td>\n",
       "      <td>PACK OF 12 PINK PAISLEY TISSUES</td>\n",
       "      <td>-24</td>\n",
       "      <td>2010-12-01 10:24:00</td>\n",
       "      <td>0.29</td>\n",
       "      <td>17548</td>\n",
       "      <td>United Kingdom</td>\n",
       "    </tr>\n",
       "    <tr>\n",
       "      <th>237</th>\n",
       "      <td>C536391</td>\n",
       "      <td>21983</td>\n",
       "      <td>PACK OF 12 BLUE PAISLEY TISSUES</td>\n",
       "      <td>-24</td>\n",
       "      <td>2010-12-01 10:24:00</td>\n",
       "      <td>0.29</td>\n",
       "      <td>17548</td>\n",
       "      <td>United Kingdom</td>\n",
       "    </tr>\n",
       "    <tr>\n",
       "      <th>238</th>\n",
       "      <td>C536391</td>\n",
       "      <td>21980</td>\n",
       "      <td>PACK OF 12 RED RETROSPOT TISSUES</td>\n",
       "      <td>-24</td>\n",
       "      <td>2010-12-01 10:24:00</td>\n",
       "      <td>0.29</td>\n",
       "      <td>17548</td>\n",
       "      <td>United Kingdom</td>\n",
       "    </tr>\n",
       "    <tr>\n",
       "      <th>239</th>\n",
       "      <td>C536391</td>\n",
       "      <td>21484</td>\n",
       "      <td>CHICK GREY HOT WATER BOTTLE</td>\n",
       "      <td>-12</td>\n",
       "      <td>2010-12-01 10:24:00</td>\n",
       "      <td>3.45</td>\n",
       "      <td>17548</td>\n",
       "      <td>United Kingdom</td>\n",
       "    </tr>\n",
       "    <tr>\n",
       "      <th>240</th>\n",
       "      <td>C536391</td>\n",
       "      <td>22557</td>\n",
       "      <td>PLASTERS IN TIN VINTAGE PAISLEY</td>\n",
       "      <td>-12</td>\n",
       "      <td>2010-12-01 10:24:00</td>\n",
       "      <td>1.65</td>\n",
       "      <td>17548</td>\n",
       "      <td>United Kingdom</td>\n",
       "    </tr>\n",
       "    <tr>\n",
       "      <th>241</th>\n",
       "      <td>C536391</td>\n",
       "      <td>22553</td>\n",
       "      <td>PLASTERS IN TIN SKULLS</td>\n",
       "      <td>-24</td>\n",
       "      <td>2010-12-01 10:24:00</td>\n",
       "      <td>1.65</td>\n",
       "      <td>17548</td>\n",
       "      <td>United Kingdom</td>\n",
       "    </tr>\n",
       "    <tr>\n",
       "      <th>915</th>\n",
       "      <td>C536506</td>\n",
       "      <td>22960</td>\n",
       "      <td>JAM MAKING SET WITH JARS</td>\n",
       "      <td>-6</td>\n",
       "      <td>2010-12-01 12:38:00</td>\n",
       "      <td>4.25</td>\n",
       "      <td>17897</td>\n",
       "      <td>United Kingdom</td>\n",
       "    </tr>\n",
       "    <tr>\n",
       "      <th>1404</th>\n",
       "      <td>C536543</td>\n",
       "      <td>22632</td>\n",
       "      <td>HAND WARMER RED RETROSPOT</td>\n",
       "      <td>-1</td>\n",
       "      <td>2010-12-01 14:30:00</td>\n",
       "      <td>2.10</td>\n",
       "      <td>17841</td>\n",
       "      <td>United Kingdom</td>\n",
       "    </tr>\n",
       "  </tbody>\n",
       "</table>\n",
       "</div>"
      ],
      "text/plain": [
       "     InvoiceNo StockCode                        Description  Quantity  \\\n",
       "154    C536383    35004C    SET OF 3 COLOURED  FLYING DUCKS        -1   \n",
       "235    C536391     22556     PLASTERS IN TIN CIRCUS PARADE        -12   \n",
       "236    C536391     21984   PACK OF 12 PINK PAISLEY TISSUES        -24   \n",
       "237    C536391     21983   PACK OF 12 BLUE PAISLEY TISSUES        -24   \n",
       "238    C536391     21980  PACK OF 12 RED RETROSPOT TISSUES        -24   \n",
       "239    C536391     21484        CHICK GREY HOT WATER BOTTLE       -12   \n",
       "240    C536391     22557   PLASTERS IN TIN VINTAGE PAISLEY        -12   \n",
       "241    C536391     22553             PLASTERS IN TIN SKULLS       -24   \n",
       "915    C536506     22960           JAM MAKING SET WITH JARS        -6   \n",
       "1404   C536543     22632          HAND WARMER RED RETROSPOT        -1   \n",
       "\n",
       "             InvoiceDate  UnitPrice CustomerID         Country  \n",
       "154  2010-12-01 09:49:00       4.65      15311  United Kingdom  \n",
       "235  2010-12-01 10:24:00       1.65      17548  United Kingdom  \n",
       "236  2010-12-01 10:24:00       0.29      17548  United Kingdom  \n",
       "237  2010-12-01 10:24:00       0.29      17548  United Kingdom  \n",
       "238  2010-12-01 10:24:00       0.29      17548  United Kingdom  \n",
       "239  2010-12-01 10:24:00       3.45      17548  United Kingdom  \n",
       "240  2010-12-01 10:24:00       1.65      17548  United Kingdom  \n",
       "241  2010-12-01 10:24:00       1.65      17548  United Kingdom  \n",
       "915  2010-12-01 12:38:00       4.25      17897  United Kingdom  \n",
       "1404 2010-12-01 14:30:00       2.10      17841  United Kingdom  "
      ]
     },
     "execution_count": 27,
     "metadata": {},
     "output_type": "execute_result"
    }
   ],
   "source": [
    "condition = (ecommerce_data['InvoiceNo'].str.contains('C')) & (~ecommerce_data['Description'].str.contains('Discount'))\n",
    "ecommerce_data[condition].head(10)"
   ]
  },
  {
   "cell_type": "code",
   "execution_count": 28,
   "metadata": {},
   "outputs": [
    {
     "data": {
      "text/plain": [
       "(array([2.000e+00, 0.000e+00, 0.000e+00, 0.000e+00, 0.000e+00, 0.000e+00,\n",
       "        0.000e+00, 0.000e+00, 1.000e+00, 8.502e+03]),\n",
       " array([-8.09950e+04, -7.28956e+04, -6.47962e+04, -5.66968e+04,\n",
       "        -4.85974e+04, -4.04980e+04, -3.23986e+04, -2.42992e+04,\n",
       "        -1.61998e+04, -8.10040e+03, -1.00000e+00]),\n",
       " <BarContainer object of 10 artists>)"
      ]
     },
     "execution_count": 28,
     "metadata": {},
     "output_type": "execute_result"
    },
    {
     "data": {
      "image/png": "[encoded data removed]",
      "text/plain": [
       "<Figure size 640x480 with 1 Axes>"
      ]
     },
     "metadata": {},
     "output_type": "display_data"
    }
   ],
   "source": [
    "plt.hist(ecommerce_data[condition]['Quantity'])"
   ]
  },
  {
   "cell_type": "code",
   "execution_count": 29,
   "metadata": {},
   "outputs": [
    {
     "data": {
      "text/plain": [
       "Description\n",
       "REGENCY CAKESTAND 3 TIER              180\n",
       "JAM MAKING SET WITH JARS               86\n",
       "SET OF 3 CAKE TINS PANTRY DESIGN       72\n",
       "STRAWBERRY CERAMIC TRINKET BOX         54\n",
       "ROSES REGENCY TEACUP AND SAUCER        53\n",
       "RECIPE BOX PANTRY YELLOW DESIGN        47\n",
       "JUMBO BAG RED RETROSPOT                44\n",
       "WOOD 2 DRAWER CABINET WHITE FINISH     42\n",
       "WHITE HANGING HEART T-LIGHT HOLDER     42\n",
       "LUNCH BAG RED RETROSPOT                42\n",
       "Name: count, dtype: int64"
      ]
     },
     "execution_count": 29,
     "metadata": {},
     "output_type": "execute_result"
    }
   ],
   "source": [
    "ecommerce_data[condition]['Description'].value_counts().head(10)"
   ]
  },
  {
   "cell_type": "code",
   "execution_count": 30,
   "metadata": {},
   "outputs": [
    {
     "data": {
      "text/html": [
       "<div>\n",
       "<style scoped>\n",
       "    .dataframe tbody tr th:only-of-type {\n",
       "        vertical-align: middle;\n",
       "    }\n",
       "\n",
       "    .dataframe tbody tr th {\n",
       "        vertical-align: top;\n",
       "    }\n",
       "\n",
       "    .dataframe thead th {\n",
       "        text-align: right;\n",
       "    }\n",
       "</style>\n",
       "<table border=\"1\" class=\"dataframe\">\n",
       "  <thead>\n",
       "    <tr style=\"text-align: right;\">\n",
       "      <th></th>\n",
       "      <th>InvoiceNo</th>\n",
       "      <th>StockCode</th>\n",
       "      <th>Description</th>\n",
       "      <th>Quantity</th>\n",
       "      <th>InvoiceDate</th>\n",
       "      <th>UnitPrice</th>\n",
       "      <th>CustomerID</th>\n",
       "      <th>Country</th>\n",
       "    </tr>\n",
       "  </thead>\n",
       "  <tbody>\n",
       "    <tr>\n",
       "      <th>235</th>\n",
       "      <td>C536391</td>\n",
       "      <td>22556</td>\n",
       "      <td>PLASTERS IN TIN CIRCUS PARADE</td>\n",
       "      <td>-12</td>\n",
       "      <td>2010-12-01 10:24:00</td>\n",
       "      <td>1.65</td>\n",
       "      <td>17548</td>\n",
       "      <td>United Kingdom</td>\n",
       "    </tr>\n",
       "    <tr>\n",
       "      <th>236</th>\n",
       "      <td>C536391</td>\n",
       "      <td>21984</td>\n",
       "      <td>PACK OF 12 PINK PAISLEY TISSUES</td>\n",
       "      <td>-24</td>\n",
       "      <td>2010-12-01 10:24:00</td>\n",
       "      <td>0.29</td>\n",
       "      <td>17548</td>\n",
       "      <td>United Kingdom</td>\n",
       "    </tr>\n",
       "    <tr>\n",
       "      <th>237</th>\n",
       "      <td>C536391</td>\n",
       "      <td>21983</td>\n",
       "      <td>PACK OF 12 BLUE PAISLEY TISSUES</td>\n",
       "      <td>-24</td>\n",
       "      <td>2010-12-01 10:24:00</td>\n",
       "      <td>0.29</td>\n",
       "      <td>17548</td>\n",
       "      <td>United Kingdom</td>\n",
       "    </tr>\n",
       "    <tr>\n",
       "      <th>238</th>\n",
       "      <td>C536391</td>\n",
       "      <td>21980</td>\n",
       "      <td>PACK OF 12 RED RETROSPOT TISSUES</td>\n",
       "      <td>-24</td>\n",
       "      <td>2010-12-01 10:24:00</td>\n",
       "      <td>0.29</td>\n",
       "      <td>17548</td>\n",
       "      <td>United Kingdom</td>\n",
       "    </tr>\n",
       "    <tr>\n",
       "      <th>239</th>\n",
       "      <td>C536391</td>\n",
       "      <td>21484</td>\n",
       "      <td>CHICK GREY HOT WATER BOTTLE</td>\n",
       "      <td>-12</td>\n",
       "      <td>2010-12-01 10:24:00</td>\n",
       "      <td>3.45</td>\n",
       "      <td>17548</td>\n",
       "      <td>United Kingdom</td>\n",
       "    </tr>\n",
       "  </tbody>\n",
       "</table>\n",
       "</div>"
      ],
      "text/plain": [
       "    InvoiceNo StockCode                        Description  Quantity  \\\n",
       "235   C536391     22556     PLASTERS IN TIN CIRCUS PARADE        -12   \n",
       "236   C536391     21984   PACK OF 12 PINK PAISLEY TISSUES        -24   \n",
       "237   C536391     21983   PACK OF 12 BLUE PAISLEY TISSUES        -24   \n",
       "238   C536391     21980  PACK OF 12 RED RETROSPOT TISSUES        -24   \n",
       "239   C536391     21484        CHICK GREY HOT WATER BOTTLE       -12   \n",
       "\n",
       "            InvoiceDate  UnitPrice CustomerID         Country  \n",
       "235 2010-12-01 10:24:00       1.65      17548  United Kingdom  \n",
       "236 2010-12-01 10:24:00       0.29      17548  United Kingdom  \n",
       "237 2010-12-01 10:24:00       0.29      17548  United Kingdom  \n",
       "238 2010-12-01 10:24:00       0.29      17548  United Kingdom  \n",
       "239 2010-12-01 10:24:00       3.45      17548  United Kingdom  "
      ]
     },
     "execution_count": 30,
     "metadata": {},
     "output_type": "execute_result"
    }
   ],
   "source": [
    "ecommerce_data[ecommerce_data['CustomerID']=='17548'].sort_values(by='InvoiceDate').head(5)"
   ]
  },
  {
   "cell_type": "markdown",
   "metadata": {},
   "source": [
    "Cancelled Transactions are refunded transactions for the customers after they cancelled their orders, this data is directly affecting the sales only when it had a successful recorded order beforehand. (For example: on 2010-12-01, there is only the cancelled Invoice, this does not make sense since it lacks it's cancelled order since the data is recorded from 2010-12-01, therefore, it does not accurately represent an aspect of monetary and should be excluded from the calcualation)"
   ]
  },
  {
   "cell_type": "code",
   "execution_count": 31,
   "metadata": {},
   "outputs": [
    {
     "data": {
      "text/html": [
       "<div>\n",
       "<style scoped>\n",
       "    .dataframe tbody tr th:only-of-type {\n",
       "        vertical-align: middle;\n",
       "    }\n",
       "\n",
       "    .dataframe tbody tr th {\n",
       "        vertical-align: top;\n",
       "    }\n",
       "\n",
       "    .dataframe thead th {\n",
       "        text-align: right;\n",
       "    }\n",
       "</style>\n",
       "<table border=\"1\" class=\"dataframe\">\n",
       "  <thead>\n",
       "    <tr style=\"text-align: right;\">\n",
       "      <th></th>\n",
       "      <th>CustomerID</th>\n",
       "      <th>InvoiceOnlyDate</th>\n",
       "      <th>Monetary</th>\n",
       "      <th>InvoiceNo</th>\n",
       "    </tr>\n",
       "  </thead>\n",
       "  <tbody>\n",
       "    <tr>\n",
       "      <th>0</th>\n",
       "      <td>12346</td>\n",
       "      <td>2011-01-18</td>\n",
       "      <td>0.00</td>\n",
       "      <td>1.0</td>\n",
       "    </tr>\n",
       "    <tr>\n",
       "      <th>1</th>\n",
       "      <td>12347</td>\n",
       "      <td>2010-12-07</td>\n",
       "      <td>711.79</td>\n",
       "      <td>1.0</td>\n",
       "    </tr>\n",
       "    <tr>\n",
       "      <th>2</th>\n",
       "      <td>12347</td>\n",
       "      <td>2011-01-26</td>\n",
       "      <td>475.39</td>\n",
       "      <td>1.0</td>\n",
       "    </tr>\n",
       "    <tr>\n",
       "      <th>3</th>\n",
       "      <td>12347</td>\n",
       "      <td>2011-04-07</td>\n",
       "      <td>636.25</td>\n",
       "      <td>1.0</td>\n",
       "    </tr>\n",
       "    <tr>\n",
       "      <th>4</th>\n",
       "      <td>12347</td>\n",
       "      <td>2011-06-09</td>\n",
       "      <td>382.52</td>\n",
       "      <td>1.0</td>\n",
       "    </tr>\n",
       "  </tbody>\n",
       "</table>\n",
       "</div>"
      ],
      "text/plain": [
       "  CustomerID InvoiceOnlyDate  Monetary  InvoiceNo\n",
       "0      12346      2011-01-18      0.00        1.0\n",
       "1      12347      2010-12-07    711.79        1.0\n",
       "2      12347      2011-01-26    475.39        1.0\n",
       "3      12347      2011-04-07    636.25        1.0\n",
       "4      12347      2011-06-09    382.52        1.0"
      ]
     },
     "execution_count": 31,
     "metadata": {},
     "output_type": "execute_result"
    }
   ],
   "source": [
    "# Calculate the Monetary value for each record\n",
    "ecommerce_data['Monetary'] = ecommerce_data['Quantity'] * ecommerce_data['UnitPrice']\n",
    "# Create a new column for the date only\n",
    "ecommerce_data['InvoiceOnlyDate'] = ecommerce_data['InvoiceDate'].apply(lambda x: dt.datetime.date(x))\n",
    "# pre-processed data\n",
    "preprocessed_data = ecommerce_data.groupby(['CustomerID','InvoiceOnlyDate']).agg({\n",
    "    'Monetary': 'sum' # Monetary value: sum of all transactions\n",
    "    ,'InvoiceNo': 'nunique'\n",
    "}).reset_index()\n",
    "\n",
    "cancelled_data = ecommerce_data[(ecommerce_data['InvoiceNo'].str.contains('C'))].groupby(['CustomerID','InvoiceOnlyDate']).agg({\n",
    "    'InvoiceNo': 'nunique'\n",
    "}).rename(columns={'InvoiceNo':'CancelledNo'}).reset_index()\n",
    "preprocessed_data = preprocessed_data.merge(cancelled_data, on=['CustomerID','InvoiceOnlyDate'], how='left').fillna(0)\n",
    "preprocessed_data['InvoiceNo'] = preprocessed_data['InvoiceNo'] - preprocessed_data['CancelledNo']\n",
    "preprocessed_data.drop(columns=['CancelledNo'], inplace=True)\n",
    "preprocessed_data.head()"
   ]
  },
  {
   "cell_type": "code",
   "execution_count": 32,
   "metadata": {},
   "outputs": [
    {
     "name": "stdout",
     "output_type": "stream",
     "text": [
      "<class 'pandas.core.frame.DataFrame'>\n",
      "RangeIndex: 19129 entries, 0 to 19128\n",
      "Data columns (total 4 columns):\n",
      " #   Column           Non-Null Count  Dtype  \n",
      "---  ------           --------------  -----  \n",
      " 0   CustomerID       19129 non-null  object \n",
      " 1   InvoiceOnlyDate  19129 non-null  object \n",
      " 2   Monetary         19129 non-null  float64\n",
      " 3   InvoiceNo        19129 non-null  float64\n",
      "dtypes: float64(2), object(2)\n",
      "memory usage: 597.9+ KB\n"
     ]
    }
   ],
   "source": [
    "preprocessed_data.info()"
   ]
  },
  {
   "cell_type": "code",
   "execution_count": 33,
   "metadata": {},
   "outputs": [],
   "source": [
    "# Remove negative and zero Monetary values\n",
    "first_purchase_indexes = preprocessed_data.groupby('CustomerID')['InvoiceOnlyDate'].idxmin()\n",
    "first_payment = preprocessed_data.loc[first_purchase_indexes, 'Monetary']\n",
    "while any(x <= 0 for x in first_payment):\n",
    "    preprocessed_data.drop(first_payment[first_payment <= 0].index, inplace=True)\n",
    "    first_purchase_indexes = preprocessed_data.groupby('CustomerID')['InvoiceOnlyDate'].idxmin()\n",
    "    first_payment = preprocessed_data.loc[first_purchase_indexes, 'Monetary']"
   ]
  },
  {
   "cell_type": "code",
   "execution_count": 34,
   "metadata": {},
   "outputs": [
    {
     "name": "stdout",
     "output_type": "stream",
     "text": [
      "<class 'pandas.core.frame.DataFrame'>\n",
      "Index: 18980 entries, 1 to 19128\n",
      "Data columns (total 4 columns):\n",
      " #   Column           Non-Null Count  Dtype  \n",
      "---  ------           --------------  -----  \n",
      " 0   CustomerID       18980 non-null  object \n",
      " 1   InvoiceOnlyDate  18980 non-null  object \n",
      " 2   Monetary         18980 non-null  float64\n",
      " 3   InvoiceNo        18980 non-null  float64\n",
      "dtypes: float64(2), object(2)\n",
      "memory usage: 1.2+ MB\n"
     ]
    }
   ],
   "source": [
    "preprocessed_data.info()"
   ]
  },
  {
   "cell_type": "code",
   "execution_count": 35,
   "metadata": {},
   "outputs": [
    {
     "data": {
      "text/html": [
       "<div>\n",
       "<style scoped>\n",
       "    .dataframe tbody tr th:only-of-type {\n",
       "        vertical-align: middle;\n",
       "    }\n",
       "\n",
       "    .dataframe tbody tr th {\n",
       "        vertical-align: top;\n",
       "    }\n",
       "\n",
       "    .dataframe thead th {\n",
       "        text-align: right;\n",
       "    }\n",
       "</style>\n",
       "<table border=\"1\" class=\"dataframe\">\n",
       "  <thead>\n",
       "    <tr style=\"text-align: right;\">\n",
       "      <th></th>\n",
       "      <th>CustomerID</th>\n",
       "      <th>InvoiceOnlyDate</th>\n",
       "      <th>Monetary</th>\n",
       "      <th>InvoiceNo</th>\n",
       "    </tr>\n",
       "  </thead>\n",
       "  <tbody>\n",
       "    <tr>\n",
       "      <th>1</th>\n",
       "      <td>12347</td>\n",
       "      <td>2010-12-07</td>\n",
       "      <td>711.79</td>\n",
       "      <td>1.0</td>\n",
       "    </tr>\n",
       "    <tr>\n",
       "      <th>2</th>\n",
       "      <td>12347</td>\n",
       "      <td>2011-01-26</td>\n",
       "      <td>475.39</td>\n",
       "      <td>1.0</td>\n",
       "    </tr>\n",
       "    <tr>\n",
       "      <th>3</th>\n",
       "      <td>12347</td>\n",
       "      <td>2011-04-07</td>\n",
       "      <td>636.25</td>\n",
       "      <td>1.0</td>\n",
       "    </tr>\n",
       "    <tr>\n",
       "      <th>4</th>\n",
       "      <td>12347</td>\n",
       "      <td>2011-06-09</td>\n",
       "      <td>382.52</td>\n",
       "      <td>1.0</td>\n",
       "    </tr>\n",
       "    <tr>\n",
       "      <th>5</th>\n",
       "      <td>12347</td>\n",
       "      <td>2011-08-02</td>\n",
       "      <td>584.91</td>\n",
       "      <td>1.0</td>\n",
       "    </tr>\n",
       "    <tr>\n",
       "      <th>6</th>\n",
       "      <td>12347</td>\n",
       "      <td>2011-10-31</td>\n",
       "      <td>1294.32</td>\n",
       "      <td>1.0</td>\n",
       "    </tr>\n",
       "    <tr>\n",
       "      <th>7</th>\n",
       "      <td>12347</td>\n",
       "      <td>2011-12-07</td>\n",
       "      <td>224.82</td>\n",
       "      <td>1.0</td>\n",
       "    </tr>\n",
       "    <tr>\n",
       "      <th>8</th>\n",
       "      <td>12348</td>\n",
       "      <td>2010-12-16</td>\n",
       "      <td>652.80</td>\n",
       "      <td>1.0</td>\n",
       "    </tr>\n",
       "    <tr>\n",
       "      <th>9</th>\n",
       "      <td>12348</td>\n",
       "      <td>2011-01-25</td>\n",
       "      <td>187.44</td>\n",
       "      <td>1.0</td>\n",
       "    </tr>\n",
       "    <tr>\n",
       "      <th>10</th>\n",
       "      <td>12348</td>\n",
       "      <td>2011-04-05</td>\n",
       "      <td>327.00</td>\n",
       "      <td>1.0</td>\n",
       "    </tr>\n",
       "  </tbody>\n",
       "</table>\n",
       "</div>"
      ],
      "text/plain": [
       "   CustomerID InvoiceOnlyDate  Monetary  InvoiceNo\n",
       "1       12347      2010-12-07    711.79        1.0\n",
       "2       12347      2011-01-26    475.39        1.0\n",
       "3       12347      2011-04-07    636.25        1.0\n",
       "4       12347      2011-06-09    382.52        1.0\n",
       "5       12347      2011-08-02    584.91        1.0\n",
       "6       12347      2011-10-31   1294.32        1.0\n",
       "7       12347      2011-12-07    224.82        1.0\n",
       "8       12348      2010-12-16    652.80        1.0\n",
       "9       12348      2011-01-25    187.44        1.0\n",
       "10      12348      2011-04-05    327.00        1.0"
      ]
     },
     "execution_count": 35,
     "metadata": {},
     "output_type": "execute_result"
    }
   ],
   "source": [
    "preprocessed_data.head(10)"
   ]
  },
  {
   "cell_type": "code",
   "execution_count": 36,
   "metadata": {},
   "outputs": [
    {
     "data": {
      "text/plain": [
       "4332"
      ]
     },
     "execution_count": 36,
     "metadata": {},
     "output_type": "execute_result"
    }
   ],
   "source": [
    "preprocessed_data.CustomerID.nunique()"
   ]
  },
  {
   "cell_type": "markdown",
   "metadata": {},
   "source": [
    "The data is cleaned and ready to generate the RFM Score"
   ]
  },
  {
   "cell_type": "markdown",
   "metadata": {},
   "source": [
    "# III. Features Engineering\n",
    "- **Recency (days)**: Measures how recent was each customer's last purchase\n",
    "- **Frequency (invoices)**: Measures how many purchases the customer has done in the recorded period (in this case 12-month)\n",
    "- **Monetary (M)**: How much money a customer spends in the recorded period (in this case 12-month). Customers who spend more are considered high-value and should be prioritized in retention and upselling strategies."
   ]
  },
  {
   "cell_type": "markdown",
   "metadata": {},
   "source": [
    "## 3.1. Generating Recency, Frequency, Monetary Features"
   ]
  },
  {
   "cell_type": "code",
   "execution_count": 37,
   "metadata": {},
   "outputs": [
    {
     "data": {
      "text/html": [
       "<div>\n",
       "<style scoped>\n",
       "    .dataframe tbody tr th:only-of-type {\n",
       "        vertical-align: middle;\n",
       "    }\n",
       "\n",
       "    .dataframe tbody tr th {\n",
       "        vertical-align: top;\n",
       "    }\n",
       "\n",
       "    .dataframe thead th {\n",
       "        text-align: right;\n",
       "    }\n",
       "</style>\n",
       "<table border=\"1\" class=\"dataframe\">\n",
       "  <thead>\n",
       "    <tr style=\"text-align: right;\">\n",
       "      <th></th>\n",
       "      <th>Recency</th>\n",
       "      <th>Frequency</th>\n",
       "      <th>Monetary</th>\n",
       "    </tr>\n",
       "    <tr>\n",
       "      <th>CustomerID</th>\n",
       "      <th></th>\n",
       "      <th></th>\n",
       "      <th></th>\n",
       "    </tr>\n",
       "  </thead>\n",
       "  <tbody>\n",
       "    <tr>\n",
       "      <th>12347</th>\n",
       "      <td>2</td>\n",
       "      <td>7</td>\n",
       "      <td>4310.00</td>\n",
       "    </tr>\n",
       "    <tr>\n",
       "      <th>12348</th>\n",
       "      <td>75</td>\n",
       "      <td>4</td>\n",
       "      <td>1437.24</td>\n",
       "    </tr>\n",
       "    <tr>\n",
       "      <th>12349</th>\n",
       "      <td>18</td>\n",
       "      <td>1</td>\n",
       "      <td>1457.55</td>\n",
       "    </tr>\n",
       "    <tr>\n",
       "      <th>12350</th>\n",
       "      <td>310</td>\n",
       "      <td>1</td>\n",
       "      <td>294.40</td>\n",
       "    </tr>\n",
       "    <tr>\n",
       "      <th>12352</th>\n",
       "      <td>36</td>\n",
       "      <td>7</td>\n",
       "      <td>1265.41</td>\n",
       "    </tr>\n",
       "  </tbody>\n",
       "</table>\n",
       "</div>"
      ],
      "text/plain": [
       "            Recency  Frequency  Monetary\n",
       "CustomerID                              \n",
       "12347             2          7   4310.00\n",
       "12348            75          4   1437.24\n",
       "12349            18          1   1457.55\n",
       "12350           310          1    294.40\n",
       "12352            36          7   1265.41"
      ]
     },
     "execution_count": 37,
     "metadata": {},
     "output_type": "execute_result"
    }
   ],
   "source": [
    "processed_data = preprocessed_data.groupby('CustomerID').agg({\n",
    "    'InvoiceOnlyDate': 'max', # Recency: the last transaction date\n",
    "    'InvoiceNo': 'sum', # Frequency: total number of transactions excluding cancelled ones\n",
    "    'Monetary': 'sum' # Monetary: sum of all transactions\n",
    "}).rename(columns={\n",
    "    'InvoiceOnlyDate': 'Recency'\n",
    "    ,'InvoiceNo': 'Frequency'\n",
    "})\n",
    "processed_data['Frequency'] = processed_data['Frequency'].astype(int)\n",
    "processed_data['Recency'] = (processed_data['Recency'].max() - processed_data['Recency'])\n",
    "processed_data['Recency'] = processed_data['Recency'].apply(lambda x: x.days)\n",
    "processed_data.head()"
   ]
  },
  {
   "cell_type": "code",
   "execution_count": 38,
   "metadata": {},
   "outputs": [
    {
     "name": "stdout",
     "output_type": "stream",
     "text": [
      "<class 'pandas.core.frame.DataFrame'>\n",
      "Index: 4332 entries, 12347 to 18287\n",
      "Data columns (total 3 columns):\n",
      " #   Column     Non-Null Count  Dtype  \n",
      "---  ------     --------------  -----  \n",
      " 0   Recency    4332 non-null   int64  \n",
      " 1   Frequency  4332 non-null   int32  \n",
      " 2   Monetary   4332 non-null   float64\n",
      "dtypes: float64(1), int32(1), int64(1)\n",
      "memory usage: 118.5+ KB\n"
     ]
    }
   ],
   "source": [
    "processed_data.info()"
   ]
  },
  {
   "cell_type": "code",
   "execution_count": 39,
   "metadata": {},
   "outputs": [
    {
     "name": "stdout",
     "output_type": "stream",
     "text": [
      "skewness: 1.2603365850994042\n"
     ]
    },
    {
     "data": {
      "text/plain": [
       "<Figure size 900x900 with 0 Axes>"
      ]
     },
     "execution_count": 39,
     "metadata": {},
     "output_type": "execute_result"
    },
    {
     "data": {
      "image/png": "[encoded data removed]",
      "text/plain": [
       "<Figure size 900x900 with 2 Axes>"
      ]
     },
     "metadata": {},
     "output_type": "display_data"
    }
   ],
   "source": [
    "# Create 2x1 sub plots\n",
    "gs = gridspec.GridSpec(2, 1)\n",
    "\n",
    "x = processed_data['Recency']\n",
    "\n",
    "# Calculate the skewness \n",
    "print(f'skewness: {skew(x, axis=0, bias=True)}')\n",
    "\n",
    "# Create a figure\n",
    "plt.figure(figsize=(9,9))\n",
    "\n",
    "# add axes_1 row 0, col 0\n",
    "ax1 = plt.subplot(gs[0, 0]) \n",
    "ax1 = plt.hist(x, bins=40)\n",
    "\n",
    "# add axes_2 row 1, col 0\n",
    "ax2 = plt.subplot(gs[1, 0]) \n",
    "ax2 = sns.boxplot(\n",
    "    data=x\n",
    "    ,orient='h'\n",
    ")\n",
    "\n",
    "# display plot\n",
    "plt.show()"
   ]
  },
  {
   "cell_type": "code",
   "execution_count": 40,
   "metadata": {},
   "outputs": [
    {
     "name": "stdout",
     "output_type": "stream",
     "text": [
      "skewness: 11.941316632319461\n"
     ]
    },
    {
     "data": {
      "text/plain": [
       "<Figure size 900x900 with 0 Axes>"
      ]
     },
     "execution_count": 40,
     "metadata": {},
     "output_type": "execute_result"
    },
    {
     "data": {
      "image/png": "[encoded data removed]",
      "text/plain": [
       "<Figure size 900x900 with 2 Axes>"
      ]
     },
     "metadata": {},
     "output_type": "display_data"
    }
   ],
   "source": [
    "# Create 2x1 sub plots\n",
    "gs = gridspec.GridSpec(2, 1)\n",
    "\n",
    "x = processed_data['Frequency']\n",
    "\n",
    "# Calculate the skewness \n",
    "print(f'skewness: {skew(x, axis=0, bias=True)}')\n",
    "\n",
    "# Create a figure\n",
    "plt.figure(figsize=(9,9))\n",
    "\n",
    "# add axes_1 row 0, col 0\n",
    "ax1 = plt.subplot(gs[0, 0]) \n",
    "ax1 = plt.hist(x, bins=40)\n",
    "\n",
    "# add axes_2 row 1, col 0\n",
    "ax2 = plt.subplot(gs[1, 0]) \n",
    "ax2 = sns.boxplot(\n",
    "    data=x\n",
    "    ,orient='h'\n",
    ")\n",
    "\n",
    "# display plot\n",
    "plt.show()"
   ]
  },
  {
   "cell_type": "code",
   "execution_count": 41,
   "metadata": {},
   "outputs": [
    {
     "name": "stdout",
     "output_type": "stream",
     "text": [
      "skewness: 21.565161216928185\n"
     ]
    },
    {
     "data": {
      "text/plain": [
       "<Figure size 900x900 with 0 Axes>"
      ]
     },
     "execution_count": 41,
     "metadata": {},
     "output_type": "execute_result"
    },
    {
     "data": {
      "image/png": "[encoded data removed]",
      "text/plain": [
       "<Figure size 900x900 with 2 Axes>"
      ]
     },
     "metadata": {},
     "output_type": "display_data"
    }
   ],
   "source": [
    "# Create 2x1 sub plots\n",
    "gs = gridspec.GridSpec(2, 1)\n",
    "\n",
    "x = processed_data['Monetary']\n",
    "\n",
    "# Calculate the skewness \n",
    "print(f'skewness: {skew(x, axis=0, bias=True)}')\n",
    "\n",
    "# Create a figure\n",
    "plt.figure(figsize=(9,9))\n",
    "\n",
    "# add axes_1 row 0, col 0\n",
    "ax1 = plt.subplot(gs[0, 0]) \n",
    "ax1 = plt.hist(x, bins=50)\n",
    "\n",
    "# add axes_2 row 1, col 0\n",
    "ax2 = plt.subplot(gs[1, 0]) \n",
    "ax2 = sns.boxplot(\n",
    "    data=x\n",
    "    ,orient='h'\n",
    ")\n",
    "\n",
    "# display plot\n",
    "plt.show()"
   ]
  },
  {
   "cell_type": "markdown",
   "metadata": {},
   "source": [
    "After looking at the extremely skewed distribution (Frequency & Monetary) of each feature, \n",
    "\n",
    "I came to an conclusion that we can not use Quantile Cuts method to segment customers based on Recency, Frequency, and Monetary (RFM) metrics since with highly skewed or unevenly distributed, using quantile cuts might lead to unbalanced segments.\n",
    "\n",
    "Instead, using a method based on percentiles and the IQR can help to create more robust thresholds that focus on the majority of your data, while excluding extreme outliers.\n",
    "\n",
    "Method Detail: \n",
    "- Outlier Detection: The formula Q75 + 1.5 * IQR is a standard rule for detecting outliers. The IQR (Interquartile Range) is the difference between the 25th percentile (Q25) and the 75th percentile (Q75), which measures the spread of the middle 50% of the data. By setting the threshold as Q75 + 1.5 * IQR, I will define a cutoff beyond which values can be considered outliers (values beyond Q75 + 1.5 * IQR are considered unusually high). This method will be applied for Frequency and Monetary because of their extremely high skewness (>10)\n",
    "- Quantile Cuts: Divide each RFM variable (Recency because of it's low skewness) into several equal-sized groups based on the quantiles of the distribution. Commonly, we use quartiles (4 groups)"
   ]
  },
  {
   "cell_type": "markdown",
   "metadata": {},
   "source": [
    "## 3.2. Generating Scores of each Feature"
   ]
  },
  {
   "cell_type": "markdown",
   "metadata": {},
   "source": [
    "### 3.2.1. Frequency Score"
   ]
  },
  {
   "cell_type": "code",
   "execution_count": 42,
   "metadata": {},
   "outputs": [],
   "source": [
    "# Disable SettingWithCopyWarning\n",
    "# reference: https://stackoverflow.com/questions/20625582/how-to-deal-with-settingwithcopywarning-in-pandas\n",
    "pd.options.mode.chained_assignment = None  # default='warn'\n",
    "\n",
    "IQR = processed_data['Frequency'].quantile(0.75) - processed_data['Frequency'].quantile(0.25)\n",
    "threshold = processed_data['Frequency'].quantile(0.75) + 1.5 * IQR\n",
    "\n",
    "low_frequency = processed_data[processed_data['Frequency'] <= threshold]\n",
    "IQR = low_frequency['Frequency'].quantile(0.75) - low_frequency['Frequency'].quantile(0.25)\n",
    "threshold = low_frequency['Frequency'].quantile(0.75) + 1.5 * IQR\n",
    "\n",
    "low_frequency_df = low_frequency[low_frequency['Frequency'] <= threshold]\n",
    "low_frequency_df['FrequencyScore'] = 1\n",
    "\n",
    "high_frequency = processed_data[processed_data['Frequency'] > threshold]\n",
    "IQR = high_frequency['Frequency'].quantile(0.75) - high_frequency['Frequency'].quantile(0.25)\n",
    "threshold = high_frequency['Frequency'].quantile(0.75) + 1.5 * IQR\n",
    "\n",
    "high_frequency_df = high_frequency[high_frequency['Frequency'] <= threshold]\n",
    "high_frequency_df['FrequencyScore'] = 2\n",
    "\n",
    "very_high_frequency = high_frequency[high_frequency['Frequency'] > threshold]\n",
    "IQR = very_high_frequency['Frequency'].quantile(0.75) - very_high_frequency['Frequency'].quantile(0.25)\n",
    "threshold = very_high_frequency['Frequency'].quantile(0.75) + 1.5 * IQR\n",
    "\n",
    "very_high_frequency_df = very_high_frequency[very_high_frequency['Frequency'] <= threshold]\n",
    "very_high_frequency_df['FrequencyScore'] = 3\n",
    "\n",
    "very_very_high_frequency_df = very_high_frequency[very_high_frequency['Frequency'] > threshold]\n",
    "very_very_high_frequency_df['FrequencyScore'] = 4"
   ]
  },
  {
   "cell_type": "code",
   "execution_count": 43,
   "metadata": {},
   "outputs": [
    {
     "data": {
      "text/html": [
       "<div>\n",
       "<style scoped>\n",
       "    .dataframe tbody tr th:only-of-type {\n",
       "        vertical-align: middle;\n",
       "    }\n",
       "\n",
       "    .dataframe tbody tr th {\n",
       "        vertical-align: top;\n",
       "    }\n",
       "\n",
       "    .dataframe thead th {\n",
       "        text-align: right;\n",
       "    }\n",
       "</style>\n",
       "<table border=\"1\" class=\"dataframe\">\n",
       "  <thead>\n",
       "    <tr style=\"text-align: right;\">\n",
       "      <th></th>\n",
       "      <th>Recency</th>\n",
       "      <th>Frequency</th>\n",
       "      <th>Monetary</th>\n",
       "      <th>FrequencyScore</th>\n",
       "    </tr>\n",
       "    <tr>\n",
       "      <th>CustomerID</th>\n",
       "      <th></th>\n",
       "      <th></th>\n",
       "      <th></th>\n",
       "      <th></th>\n",
       "    </tr>\n",
       "  </thead>\n",
       "  <tbody>\n",
       "    <tr>\n",
       "      <th>12347</th>\n",
       "      <td>2</td>\n",
       "      <td>7</td>\n",
       "      <td>4310.00</td>\n",
       "      <td>1</td>\n",
       "    </tr>\n",
       "    <tr>\n",
       "      <th>12348</th>\n",
       "      <td>75</td>\n",
       "      <td>4</td>\n",
       "      <td>1437.24</td>\n",
       "      <td>1</td>\n",
       "    </tr>\n",
       "    <tr>\n",
       "      <th>12349</th>\n",
       "      <td>18</td>\n",
       "      <td>1</td>\n",
       "      <td>1457.55</td>\n",
       "      <td>1</td>\n",
       "    </tr>\n",
       "    <tr>\n",
       "      <th>12350</th>\n",
       "      <td>310</td>\n",
       "      <td>1</td>\n",
       "      <td>294.40</td>\n",
       "      <td>1</td>\n",
       "    </tr>\n",
       "    <tr>\n",
       "      <th>12352</th>\n",
       "      <td>36</td>\n",
       "      <td>7</td>\n",
       "      <td>1265.41</td>\n",
       "      <td>1</td>\n",
       "    </tr>\n",
       "  </tbody>\n",
       "</table>\n",
       "</div>"
      ],
      "text/plain": [
       "            Recency  Frequency  Monetary  FrequencyScore\n",
       "CustomerID                                              \n",
       "12347             2          7   4310.00               1\n",
       "12348            75          4   1437.24               1\n",
       "12349            18          1   1457.55               1\n",
       "12350           310          1    294.40               1\n",
       "12352            36          7   1265.41               1"
      ]
     },
     "execution_count": 43,
     "metadata": {},
     "output_type": "execute_result"
    },
    {
     "data": {
      "text/plain": [
       "(4332, 4)"
      ]
     },
     "execution_count": 43,
     "metadata": {},
     "output_type": "execute_result"
    },
    {
     "data": {
      "text/plain": [
       "FrequencyScore\n",
       "1    3877\n",
       "2     419\n",
       "3      33\n",
       "4       3\n",
       "Name: count, dtype: int64"
      ]
     },
     "execution_count": 43,
     "metadata": {},
     "output_type": "execute_result"
    }
   ],
   "source": [
    "rfm_frequency = pd.concat([low_frequency_df, high_frequency_df, very_high_frequency_df, very_very_high_frequency_df])\n",
    "rfm_frequency.head()\n",
    "rfm_frequency.shape\n",
    "rfm_frequency['FrequencyScore'].value_counts()"
   ]
  },
  {
   "cell_type": "code",
   "execution_count": 44,
   "metadata": {},
   "outputs": [
    {
     "name": "stdout",
     "output_type": "stream",
     "text": [
      "skewness: 1.1602187033391245\n"
     ]
    },
    {
     "data": {
      "text/plain": [
       "<Figure size 1200x300 with 0 Axes>"
      ]
     },
     "execution_count": 44,
     "metadata": {},
     "output_type": "execute_result"
    },
    {
     "data": {
      "image/png": "[encoded data removed]",
      "text/plain": [
       "<Figure size 1200x300 with 2 Axes>"
      ]
     },
     "metadata": {},
     "output_type": "display_data"
    },
    {
     "name": "stdout",
     "output_type": "stream",
     "text": [
      "skewness: 1.2935904963529326\n"
     ]
    },
    {
     "data": {
      "text/plain": [
       "<Figure size 1200x300 with 0 Axes>"
      ]
     },
     "execution_count": 44,
     "metadata": {},
     "output_type": "execute_result"
    },
    {
     "data": {
      "image/png": "[encoded data removed]",
      "text/plain": [
       "<Figure size 1200x300 with 2 Axes>"
      ]
     },
     "metadata": {},
     "output_type": "display_data"
    },
    {
     "name": "stdout",
     "output_type": "stream",
     "text": [
      "skewness: 1.2494257021322834\n"
     ]
    },
    {
     "data": {
      "text/plain": [
       "<Figure size 1200x300 with 0 Axes>"
      ]
     },
     "execution_count": 44,
     "metadata": {},
     "output_type": "execute_result"
    },
    {
     "data": {
      "image/png": "[encoded data removed]",
      "text/plain": [
       "<Figure size 1200x300 with 2 Axes>"
      ]
     },
     "metadata": {},
     "output_type": "display_data"
    },
    {
     "name": "stdout",
     "output_type": "stream",
     "text": [
      "skewness: -0.6822802981483861\n"
     ]
    },
    {
     "data": {
      "text/plain": [
       "<Figure size 1200x300 with 0 Axes>"
      ]
     },
     "execution_count": 44,
     "metadata": {},
     "output_type": "execute_result"
    },
    {
     "data": {
      "image/png": "[encoded data removed]",
      "text/plain": [
       "<Figure size 1200x300 with 2 Axes>"
      ]
     },
     "metadata": {},
     "output_type": "display_data"
    }
   ],
   "source": [
    "\n",
    "\n",
    "for i in range(1,5):\n",
    "    x = rfm_frequency[rfm_frequency['FrequencyScore'] == i]['Frequency']\n",
    "\n",
    "    # Calculate the skewness \n",
    "    print(f'skewness: {skew(x, axis=0, bias=True)}')\n",
    "\n",
    "    # Create 2x1 sub plots\n",
    "    gs = gridspec.GridSpec(1, 2)\n",
    "\n",
    "    # Create a figure\n",
    "    plt.figure(figsize=(12,3))\n",
    "\n",
    "    # add axes_1 row 0, col 0\n",
    "    ax1 = plt.subplot(gs[0, 0]) \n",
    "    ax1 = plt.hist(x, bins=40)\n",
    "\n",
    "    # add axes_2 row 0, col 1\n",
    "    ax2 = plt.subplot(gs[0, 1]) \n",
    "    ax2 = sns.boxplot(data=x,orient='h')\n",
    "\n",
    "    # display plot\n",
    "    plt.show()"
   ]
  },
  {
   "cell_type": "markdown",
   "metadata": {},
   "source": [
    "### 3.2.2. Monetary Score"
   ]
  },
  {
   "cell_type": "code",
   "execution_count": 45,
   "metadata": {},
   "outputs": [],
   "source": [
    "IQR = processed_data['Monetary'].quantile(0.75) - processed_data['Monetary'].quantile(0.25)\n",
    "threshold = processed_data['Monetary'].quantile(0.75) + 1.5 * IQR\n",
    "\n",
    "low_monetary = processed_data[processed_data['Monetary'] <= threshold]\n",
    "IQR = low_monetary['Monetary'].quantile(0.75) - low_monetary['Monetary'].quantile(0.25)\n",
    "threshold = low_monetary['Monetary'].quantile(0.75) + 1.5 * IQR\n",
    "\n",
    "low_monetary_df = low_monetary[low_monetary['Monetary'] <= threshold]\n",
    "low_monetary_df['MonetaryScore'] = 1\n",
    "\n",
    "high_monetary = processed_data[processed_data['Monetary'] > threshold]\n",
    "IQR = high_monetary['Monetary'].quantile(0.75) - high_monetary['Monetary'].quantile(0.25)\n",
    "threshold = high_monetary['Monetary'].quantile(0.75) + 1.5 * IQR\n",
    "\n",
    "high_monetary_df = high_monetary[high_monetary['Monetary'] <= threshold]\n",
    "high_monetary_df['MonetaryScore'] = 2\n",
    "\n",
    "very_high_monetary = high_monetary[high_monetary['Monetary'] > threshold]\n",
    "IQR = very_high_monetary['Monetary'].quantile(0.75) - very_high_monetary['Monetary'].quantile(0.25)\n",
    "threshold = very_high_monetary['Monetary'].quantile(0.75) + 1.5 * IQR\n",
    "\n",
    "very_high_monetary_df = very_high_monetary[very_high_monetary['Monetary'] <= threshold]\n",
    "very_high_monetary_df['MonetaryScore'] = 3\n",
    "\n",
    "very_very_high_monetary_df = very_high_monetary[very_high_monetary['Monetary'] > threshold]\n",
    "very_very_high_monetary_df['MonetaryScore'] = 4"
   ]
  },
  {
   "cell_type": "code",
   "execution_count": 46,
   "metadata": {},
   "outputs": [
    {
     "data": {
      "text/html": [
       "<div>\n",
       "<style scoped>\n",
       "    .dataframe tbody tr th:only-of-type {\n",
       "        vertical-align: middle;\n",
       "    }\n",
       "\n",
       "    .dataframe tbody tr th {\n",
       "        vertical-align: top;\n",
       "    }\n",
       "\n",
       "    .dataframe thead th {\n",
       "        text-align: right;\n",
       "    }\n",
       "</style>\n",
       "<table border=\"1\" class=\"dataframe\">\n",
       "  <thead>\n",
       "    <tr style=\"text-align: right;\">\n",
       "      <th></th>\n",
       "      <th>Recency</th>\n",
       "      <th>Frequency</th>\n",
       "      <th>Monetary</th>\n",
       "      <th>MonetaryScore</th>\n",
       "    </tr>\n",
       "    <tr>\n",
       "      <th>CustomerID</th>\n",
       "      <th></th>\n",
       "      <th></th>\n",
       "      <th></th>\n",
       "      <th></th>\n",
       "    </tr>\n",
       "  </thead>\n",
       "  <tbody>\n",
       "    <tr>\n",
       "      <th>12348</th>\n",
       "      <td>75</td>\n",
       "      <td>4</td>\n",
       "      <td>1437.24</td>\n",
       "      <td>1</td>\n",
       "    </tr>\n",
       "    <tr>\n",
       "      <th>12349</th>\n",
       "      <td>18</td>\n",
       "      <td>1</td>\n",
       "      <td>1457.55</td>\n",
       "      <td>1</td>\n",
       "    </tr>\n",
       "    <tr>\n",
       "      <th>12350</th>\n",
       "      <td>310</td>\n",
       "      <td>1</td>\n",
       "      <td>294.40</td>\n",
       "      <td>1</td>\n",
       "    </tr>\n",
       "    <tr>\n",
       "      <th>12352</th>\n",
       "      <td>36</td>\n",
       "      <td>7</td>\n",
       "      <td>1265.41</td>\n",
       "      <td>1</td>\n",
       "    </tr>\n",
       "    <tr>\n",
       "      <th>12353</th>\n",
       "      <td>204</td>\n",
       "      <td>1</td>\n",
       "      <td>89.00</td>\n",
       "      <td>1</td>\n",
       "    </tr>\n",
       "  </tbody>\n",
       "</table>\n",
       "</div>"
      ],
      "text/plain": [
       "            Recency  Frequency  Monetary  MonetaryScore\n",
       "CustomerID                                             \n",
       "12348            75          4   1437.24              1\n",
       "12349            18          1   1457.55              1\n",
       "12350           310          1    294.40              1\n",
       "12352            36          7   1265.41              1\n",
       "12353           204          1     89.00              1"
      ]
     },
     "execution_count": 46,
     "metadata": {},
     "output_type": "execute_result"
    },
    {
     "data": {
      "text/plain": [
       "(4332, 4)"
      ]
     },
     "execution_count": 46,
     "metadata": {},
     "output_type": "execute_result"
    },
    {
     "data": {
      "text/plain": [
       "MonetaryScore\n",
       "1    3695\n",
       "2     567\n",
       "3      64\n",
       "4       6\n",
       "Name: count, dtype: int64"
      ]
     },
     "execution_count": 46,
     "metadata": {},
     "output_type": "execute_result"
    }
   ],
   "source": [
    "rfm_monetary = pd.concat([low_monetary_df, high_monetary_df, very_high_monetary_df, very_very_high_monetary_df])\n",
    "rfm_monetary.head()\n",
    "rfm_monetary.shape\n",
    "rfm_monetary['MonetaryScore'].value_counts()"
   ]
  },
  {
   "cell_type": "code",
   "execution_count": 47,
   "metadata": {},
   "outputs": [
    {
     "name": "stdout",
     "output_type": "stream",
     "text": [
      "skewness: 1.1649340969083\n"
     ]
    },
    {
     "data": {
      "text/plain": [
       "<Figure size 1200x300 with 0 Axes>"
      ]
     },
     "execution_count": 47,
     "metadata": {},
     "output_type": "execute_result"
    },
    {
     "data": {
      "image/png": "[encoded data removed]",
      "text/plain": [
       "<Figure size 1200x300 with 2 Axes>"
      ]
     },
     "metadata": {},
     "output_type": "display_data"
    },
    {
     "name": "stdout",
     "output_type": "stream",
     "text": [
      "skewness: 1.3860975958728499\n"
     ]
    },
    {
     "data": {
      "text/plain": [
       "<Figure size 1200x300 with 0 Axes>"
      ]
     },
     "execution_count": 47,
     "metadata": {},
     "output_type": "execute_result"
    },
    {
     "data": {
      "image/png": "[encoded data removed]",
      "text/plain": [
       "<Figure size 1200x300 with 2 Axes>"
      ]
     },
     "metadata": {},
     "output_type": "display_data"
    },
    {
     "name": "stdout",
     "output_type": "stream",
     "text": [
      "skewness: 1.3239545470344\n"
     ]
    },
    {
     "data": {
      "text/plain": [
       "<Figure size 1200x300 with 0 Axes>"
      ]
     },
     "execution_count": 47,
     "metadata": {},
     "output_type": "execute_result"
    },
    {
     "data": {
      "image/png": "[encoded data removed]",
      "text/plain": [
       "<Figure size 1200x300 with 2 Axes>"
      ]
     },
     "metadata": {},
     "output_type": "display_data"
    },
    {
     "name": "stdout",
     "output_type": "stream",
     "text": [
      "skewness: 0.3885617596971251\n"
     ]
    },
    {
     "data": {
      "text/plain": [
       "<Figure size 1200x300 with 0 Axes>"
      ]
     },
     "execution_count": 47,
     "metadata": {},
     "output_type": "execute_result"
    },
    {
     "data": {
      "image/png": "[encoded data removed]",
      "text/plain": [
       "<Figure size 1200x300 with 2 Axes>"
      ]
     },
     "metadata": {},
     "output_type": "display_data"
    }
   ],
   "source": [
    "import matplotlib.gridspec as gridspec\n",
    "\n",
    "for i in range(1,5):\n",
    "    x = rfm_monetary[rfm_monetary['MonetaryScore'] == i]['Monetary']\n",
    "\n",
    "    # Calculate the skewness \n",
    "    print(f'skewness: {skew(x, axis=0, bias=True)}')\n",
    "\n",
    "    # Create 2x1 sub plots\n",
    "    gs = gridspec.GridSpec(1, 2)\n",
    "\n",
    "    # Create a figure\n",
    "    plt.figure(figsize=(12,3))\n",
    "\n",
    "    # add axes_1 row 0, col 0\n",
    "    ax1 = plt.subplot(gs[0, 0]) \n",
    "    ax1 = plt.hist(x, bins=40)\n",
    "\n",
    "    # add axes_2 row 0, col 1\n",
    "    ax2 = plt.subplot(gs[0, 1]) \n",
    "    ax2 = sns.boxplot(data=x,orient='h')\n",
    "\n",
    "    # display plot\n",
    "    plt.show()"
   ]
  },
  {
   "cell_type": "markdown",
   "metadata": {},
   "source": [
    "### 3.2.3. Recency Score"
   ]
  },
  {
   "cell_type": "code",
   "execution_count": 48,
   "metadata": {},
   "outputs": [
    {
     "name": "stdout",
     "output_type": "stream",
     "text": [
      "skewness: 1.2603365850994042\n"
     ]
    },
    {
     "data": {
      "text/plain": [
       "<Figure size 1200x600 with 0 Axes>"
      ]
     },
     "execution_count": 48,
     "metadata": {},
     "output_type": "execute_result"
    },
    {
     "data": {
      "image/png": "[encoded data removed]",
      "text/plain": [
       "<Figure size 1200x600 with 2 Axes>"
      ]
     },
     "metadata": {},
     "output_type": "display_data"
    }
   ],
   "source": [
    "# Create 2x1 sub plots\n",
    "gs = gridspec.GridSpec(2, 1)\n",
    "\n",
    "x = processed_data['Recency']\n",
    "\n",
    "# Calculate the skewness \n",
    "print(f'skewness: {skew(x, axis=0, bias=True)}')\n",
    "\n",
    "# Create a figure\n",
    "plt.figure(figsize=(12,6))\n",
    "\n",
    "# add axes_1 row 0, col 0\n",
    "ax1 = plt.subplot(gs[0, 0]) \n",
    "ax1 = plt.hist(x, bins=350)\n",
    "\n",
    "# add axes_2 row 1, col 0\n",
    "ax2 = plt.subplot(gs[1, 0]) \n",
    "ax2 = sns.boxplot(\n",
    "    data=x\n",
    "    ,orient='h'\n",
    ")\n",
    "\n",
    "# display plot\n",
    "plt.show()"
   ]
  },
  {
   "cell_type": "code",
   "execution_count": 49,
   "metadata": {},
   "outputs": [
    {
     "name": "stdout",
     "output_type": "stream",
     "text": [
      "skewness: 0.3583917325333018\n"
     ]
    },
    {
     "data": {
      "text/plain": [
       "<Figure size 1200x300 with 0 Axes>"
      ]
     },
     "execution_count": 49,
     "metadata": {},
     "output_type": "execute_result"
    },
    {
     "data": {
      "image/png": "[encoded data removed]",
      "text/plain": [
       "<Figure size 1200x300 with 2 Axes>"
      ]
     },
     "metadata": {},
     "output_type": "display_data"
    },
    {
     "name": "stdout",
     "output_type": "stream",
     "text": [
      "skewness: 0.39626642031680165\n"
     ]
    },
    {
     "data": {
      "text/plain": [
       "<Figure size 1200x300 with 0 Axes>"
      ]
     },
     "execution_count": 49,
     "metadata": {},
     "output_type": "execute_result"
    },
    {
     "data": {
      "image/png": "[encoded data removed]",
      "text/plain": [
       "<Figure size 1200x300 with 2 Axes>"
      ]
     },
     "metadata": {},
     "output_type": "display_data"
    },
    {
     "name": "stdout",
     "output_type": "stream",
     "text": [
      "skewness: 0.6843695700996344\n"
     ]
    },
    {
     "data": {
      "text/plain": [
       "<Figure size 1200x300 with 0 Axes>"
      ]
     },
     "execution_count": 49,
     "metadata": {},
     "output_type": "execute_result"
    },
    {
     "data": {
      "image/png": "[encoded data removed]",
      "text/plain": [
       "<Figure size 1200x300 with 2 Axes>"
      ]
     },
     "metadata": {},
     "output_type": "display_data"
    },
    {
     "name": "stdout",
     "output_type": "stream",
     "text": [
      "skewness: 0.31199419152492136\n"
     ]
    },
    {
     "data": {
      "text/plain": [
       "<Figure size 1200x300 with 0 Axes>"
      ]
     },
     "execution_count": 49,
     "metadata": {},
     "output_type": "execute_result"
    },
    {
     "data": {
      "image/png": "[encoded data removed]",
      "text/plain": [
       "<Figure size 1200x300 with 2 Axes>"
      ]
     },
     "metadata": {},
     "output_type": "display_data"
    }
   ],
   "source": [
    "# Recency feature of the RFM model is the opposite of the Monetary feature since the more recent the transaction, the higher the Recency value, therefore we need to reverse the Recency values\n",
    "processed_data[\"RecencyScore\"] = pd.qcut(processed_data[\"Recency\"], 4, labels = [4, 3, 2, 1])\n",
    "\n",
    "for i in [4, 3, 2, 1]:\n",
    "    x = processed_data[processed_data['RecencyScore'] == i]['Recency']\n",
    "\n",
    "    # Calculate the skewness \n",
    "    print(f'skewness: {skew(x, axis=0, bias=True)}')\n",
    "\n",
    "    # Create 2x1 sub plots\n",
    "    gs = gridspec.GridSpec(1, 2)\n",
    "\n",
    "    # Create a figure\n",
    "    plt.figure(figsize=(12,3))\n",
    "\n",
    "    # add axes_1 row 0, col 0\n",
    "    ax1 = plt.subplot(gs[0, 0]) \n",
    "    ax1 = plt.hist(x, bins=40)\n",
    "\n",
    "    # add axes_2 row 0, col 1\n",
    "    ax2 = plt.subplot(gs[0, 1]) \n",
    "    ax2 = sns.boxplot(data=x,orient='h')\n",
    "\n",
    "    # display plot\n",
    "    plt.show()"
   ]
  },
  {
   "cell_type": "markdown",
   "metadata": {},
   "source": [
    "# IV. RFM Score & RFM Segment"
   ]
  },
  {
   "cell_type": "code",
   "execution_count": 52,
   "metadata": {},
   "outputs": [
    {
     "data": {
      "text/html": [
       "<div>\n",
       "<style scoped>\n",
       "    .dataframe tbody tr th:only-of-type {\n",
       "        vertical-align: middle;\n",
       "    }\n",
       "\n",
       "    .dataframe tbody tr th {\n",
       "        vertical-align: top;\n",
       "    }\n",
       "\n",
       "    .dataframe thead th {\n",
       "        text-align: right;\n",
       "    }\n",
       "</style>\n",
       "<table border=\"1\" class=\"dataframe\">\n",
       "  <thead>\n",
       "    <tr style=\"text-align: right;\">\n",
       "      <th></th>\n",
       "      <th>Recency</th>\n",
       "      <th>Frequency</th>\n",
       "      <th>Monetary</th>\n",
       "      <th>RecencyScore</th>\n",
       "      <th>FrequencyScore</th>\n",
       "      <th>MonetaryScore</th>\n",
       "    </tr>\n",
       "    <tr>\n",
       "      <th>CustomerID</th>\n",
       "      <th></th>\n",
       "      <th></th>\n",
       "      <th></th>\n",
       "      <th></th>\n",
       "      <th></th>\n",
       "      <th></th>\n",
       "    </tr>\n",
       "  </thead>\n",
       "  <tbody>\n",
       "    <tr>\n",
       "      <th>12347</th>\n",
       "      <td>2</td>\n",
       "      <td>7</td>\n",
       "      <td>4310.00</td>\n",
       "      <td>4</td>\n",
       "      <td>1</td>\n",
       "      <td>2</td>\n",
       "    </tr>\n",
       "    <tr>\n",
       "      <th>12348</th>\n",
       "      <td>75</td>\n",
       "      <td>4</td>\n",
       "      <td>1437.24</td>\n",
       "      <td>2</td>\n",
       "      <td>1</td>\n",
       "      <td>1</td>\n",
       "    </tr>\n",
       "    <tr>\n",
       "      <th>12349</th>\n",
       "      <td>18</td>\n",
       "      <td>1</td>\n",
       "      <td>1457.55</td>\n",
       "      <td>3</td>\n",
       "      <td>1</td>\n",
       "      <td>1</td>\n",
       "    </tr>\n",
       "    <tr>\n",
       "      <th>12350</th>\n",
       "      <td>310</td>\n",
       "      <td>1</td>\n",
       "      <td>294.40</td>\n",
       "      <td>1</td>\n",
       "      <td>1</td>\n",
       "      <td>1</td>\n",
       "    </tr>\n",
       "    <tr>\n",
       "      <th>12352</th>\n",
       "      <td>36</td>\n",
       "      <td>7</td>\n",
       "      <td>1265.41</td>\n",
       "      <td>3</td>\n",
       "      <td>1</td>\n",
       "      <td>1</td>\n",
       "    </tr>\n",
       "  </tbody>\n",
       "</table>\n",
       "</div>"
      ],
      "text/plain": [
       "            Recency  Frequency  Monetary RecencyScore  FrequencyScore  \\\n",
       "CustomerID                                                              \n",
       "12347             2          7   4310.00            4               1   \n",
       "12348            75          4   1437.24            2               1   \n",
       "12349            18          1   1457.55            3               1   \n",
       "12350           310          1    294.40            1               1   \n",
       "12352            36          7   1265.41            3               1   \n",
       "\n",
       "            MonetaryScore  \n",
       "CustomerID                 \n",
       "12347                   2  \n",
       "12348                   1  \n",
       "12349                   1  \n",
       "12350                   1  \n",
       "12352                   1  "
      ]
     },
     "execution_count": 52,
     "metadata": {},
     "output_type": "execute_result"
    }
   ],
   "source": [
    "# Merge the RFM features into the processed data to create the RFM date with all the scores\n",
    "scored_data = processed_data.merge(rfm_frequency[['FrequencyScore']], on='CustomerID', how='left').merge(rfm_monetary[['MonetaryScore']], on='CustomerID', how='left')\n",
    "scored_data.head()\n"
   ]
  },
  {
   "cell_type": "code",
   "execution_count": 53,
   "metadata": {},
   "outputs": [
    {
     "name": "stdout",
     "output_type": "stream",
     "text": [
      "<class 'pandas.core.frame.DataFrame'>\n",
      "Index: 4332 entries, 12347 to 18287\n",
      "Data columns (total 6 columns):\n",
      " #   Column          Non-Null Count  Dtype   \n",
      "---  ------          --------------  -----   \n",
      " 0   Recency         4332 non-null   int64   \n",
      " 1   Frequency       4332 non-null   int32   \n",
      " 2   Monetary        4332 non-null   float64 \n",
      " 3   RecencyScore    4332 non-null   category\n",
      " 4   FrequencyScore  4332 non-null   int64   \n",
      " 5   MonetaryScore   4332 non-null   int64   \n",
      "dtypes: category(1), float64(1), int32(1), int64(3)\n",
      "memory usage: 190.6+ KB\n"
     ]
    }
   ],
   "source": [
    "scored_data.info()"
   ]
  },
  {
   "cell_type": "code",
   "execution_count": 58,
   "metadata": {},
   "outputs": [
    {
     "data": {
      "text/html": [
       "<div>\n",
       "<style scoped>\n",
       "    .dataframe tbody tr th:only-of-type {\n",
       "        vertical-align: middle;\n",
       "    }\n",
       "\n",
       "    .dataframe tbody tr th {\n",
       "        vertical-align: top;\n",
       "    }\n",
       "\n",
       "    .dataframe thead th {\n",
       "        text-align: right;\n",
       "    }\n",
       "</style>\n",
       "<table border=\"1\" class=\"dataframe\">\n",
       "  <thead>\n",
       "    <tr style=\"text-align: right;\">\n",
       "      <th></th>\n",
       "      <th>Recency</th>\n",
       "      <th>Frequency</th>\n",
       "      <th>Monetary</th>\n",
       "      <th>RecencyScore</th>\n",
       "      <th>FrequencyScore</th>\n",
       "      <th>MonetaryScore</th>\n",
       "      <th>RFMSegment</th>\n",
       "      <th>RFMScore</th>\n",
       "    </tr>\n",
       "    <tr>\n",
       "      <th>CustomerID</th>\n",
       "      <th></th>\n",
       "      <th></th>\n",
       "      <th></th>\n",
       "      <th></th>\n",
       "      <th></th>\n",
       "      <th></th>\n",
       "      <th></th>\n",
       "      <th></th>\n",
       "    </tr>\n",
       "  </thead>\n",
       "  <tbody>\n",
       "    <tr>\n",
       "      <th>12347</th>\n",
       "      <td>2</td>\n",
       "      <td>7</td>\n",
       "      <td>4310.00</td>\n",
       "      <td>4</td>\n",
       "      <td>1</td>\n",
       "      <td>2</td>\n",
       "      <td>412</td>\n",
       "      <td>7</td>\n",
       "    </tr>\n",
       "    <tr>\n",
       "      <th>12348</th>\n",
       "      <td>75</td>\n",
       "      <td>4</td>\n",
       "      <td>1437.24</td>\n",
       "      <td>2</td>\n",
       "      <td>1</td>\n",
       "      <td>1</td>\n",
       "      <td>211</td>\n",
       "      <td>4</td>\n",
       "    </tr>\n",
       "    <tr>\n",
       "      <th>12349</th>\n",
       "      <td>18</td>\n",
       "      <td>1</td>\n",
       "      <td>1457.55</td>\n",
       "      <td>3</td>\n",
       "      <td>1</td>\n",
       "      <td>1</td>\n",
       "      <td>311</td>\n",
       "      <td>5</td>\n",
       "    </tr>\n",
       "    <tr>\n",
       "      <th>12350</th>\n",
       "      <td>310</td>\n",
       "      <td>1</td>\n",
       "      <td>294.40</td>\n",
       "      <td>1</td>\n",
       "      <td>1</td>\n",
       "      <td>1</td>\n",
       "      <td>111</td>\n",
       "      <td>3</td>\n",
       "    </tr>\n",
       "    <tr>\n",
       "      <th>12352</th>\n",
       "      <td>36</td>\n",
       "      <td>7</td>\n",
       "      <td>1265.41</td>\n",
       "      <td>3</td>\n",
       "      <td>1</td>\n",
       "      <td>1</td>\n",
       "      <td>311</td>\n",
       "      <td>5</td>\n",
       "    </tr>\n",
       "  </tbody>\n",
       "</table>\n",
       "</div>"
      ],
      "text/plain": [
       "            Recency  Frequency  Monetary RecencyScore  FrequencyScore  \\\n",
       "CustomerID                                                              \n",
       "12347             2          7   4310.00            4               1   \n",
       "12348            75          4   1437.24            2               1   \n",
       "12349            18          1   1457.55            3               1   \n",
       "12350           310          1    294.40            1               1   \n",
       "12352            36          7   1265.41            3               1   \n",
       "\n",
       "            MonetaryScore RFMSegment  RFMScore  \n",
       "CustomerID                                      \n",
       "12347                   2        412         7  \n",
       "12348                   1        211         4  \n",
       "12349                   1        311         5  \n",
       "12350                   1        111         3  \n",
       "12352                   1        311         5  "
      ]
     },
     "execution_count": 58,
     "metadata": {},
     "output_type": "execute_result"
    },
    {
     "name": "stdout",
     "output_type": "stream",
     "text": [
      "an RFM segment based from three different RFM values has 30 unique values\n",
      "RFM score that sums up the RFM values and indicates a relative customer value has 10 unique values ranging from 3 to 12\n"
     ]
    }
   ],
   "source": [
    "# RFMSegment feature is created by concatenating the RecencyScore, FrequencyScore and MonetaryScore columns\n",
    "scored_data[\"RFMSegment\"] = (\n",
    "    scored_data['RecencyScore'].astype(str) + \n",
    "    scored_data['FrequencyScore'].astype(str) + \n",
    "    scored_data['MonetaryScore'].astype(str)\n",
    ")\n",
    "\n",
    "# RFMScore feature is calculated by summing the RecencyScore, FrequencyScore and MonetaryScore columns\n",
    "scored_data[\"RFMScore\"] = scored_data[['RecencyScore','FrequencyScore','MonetaryScore']].sum(axis=1)\n",
    "scored_data.head()\n",
    "print(f'an RFM segment based from three different RFM values has {scored_data[\"RFMSegment\"].nunique()} unique values')\n",
    "print(f'RFM score that sums up the RFM values and indicates a relative customer value has {scored_data[\"RFMScore\"].nunique()} unique values ranging from {scored_data[\"RFMScore\"].min()} to {scored_data[\"RFMScore\"].max()}')"
   ]
  },
  {
   "cell_type": "markdown",
   "metadata": {},
   "source": [
    "# V. Top 10 largest RFM segments"
   ]
  },
  {
   "cell_type": "code",
   "execution_count": 67,
   "metadata": {},
   "outputs": [
    {
     "data": {
      "text/plain": [
       "RFMSegment\n",
       "111    1057\n",
       "211     994\n",
       "311     890\n",
       "411     659\n",
       "422     201\n",
       "412     108\n",
       "312      82\n",
       "322      71\n",
       "212      68\n",
       "421      57\n",
       "Name: count, dtype: int64"
      ]
     },
     "execution_count": 67,
     "metadata": {},
     "output_type": "execute_result"
    }
   ],
   "source": [
    "# top 10 largest RFM segments\n",
    "scored_data['RFMSegment'].value_counts()[:10]"
   ]
  },
  {
   "cell_type": "markdown",
   "metadata": {},
   "source": [
    "# VI. Customer Segmentation"
   ]
  },
  {
   "cell_type": "markdown",
   "metadata": {},
   "source": [
    "## 6.2. Segmentation by RFMSegment"
   ]
  },
  {
   "cell_type": "markdown",
   "metadata": {},
   "source": [
    "### Breakdown of the Segments"
   ]
  },
  {
   "cell_type": "markdown",
   "metadata": {},
   "source": [
    "\n",
    "1. Champions\n",
    "- Recency: 4 (most recent)\n",
    "- Frequency: 4 (most frequent)\n",
    "- Monetary: 4 (highest spender)\n",
    "- These are your best customers — they buy frequently, spend a lot, and have purchased recently.\n",
    "\n",
    "2. Runner-ups\n",
    "- Recency: 3 or 4\n",
    "- Frequency: 3 or 4\n",
    "- Monetary: 4\n",
    "- These customers buy often and spend a lot, but they may not have bought as recently or frequently as the \"Champions\"\n",
    "\n",
    "3. Loyal Customers\n",
    "- Recency: 3 or 4\n",
    "- Frequency: 3 or 4\n",
    "- Monetary: 1 or 2 \n",
    "- Loyal customers are those who buy frequently and recently, but they may not always spend as much as \"Champions\" or \"Runner-ups\". Including \"433\",\"443\" Segment\n",
    "\n",
    "4. Can't Lose Them\n",
    "- Recency: 4\n",
    "- Frequency: 2 or 3\n",
    "- Monetary: 3 or 4\n",
    "- These customers have purchased recently but may not be as frequent or high-spending. They’re valuable and need to be nurtured. Including \"324\" Segment\n",
    "\n",
    "5. Potential Loyalists\n",
    "- Recency: 4\n",
    "- Frequency: 2 or 3\n",
    "- Monetary: 2 or 3\n",
    "- These customers have made a recent purchase but may not have bought frequently or spent much. They show promise and could be turned into loyal customers with the right strategy.\n",
    "\n",
    "6. Promising\n",
    "- Recency: 3\n",
    "- Frequency: 2 or 3\n",
    "- Monetary: 3\n",
    "- These customers may not be your top spenders or most frequent buyers yet, but they’ve shown interest and could develop into high-value customers over time.\n",
    "\n",
    "7. New Customers\n",
    "- Recency: 4\n",
    "- Frequency: 1 or 2\n",
    "- Monetary: 1 or 2\n",
    "- These are recent customers who haven’t purchased frequently or spent a lot yet. They are still in the early stages of the customer lifecycle and need nurturing to increase their loyalty.\n",
    "\n",
    "8. Needs Attention\n",
    "- Recency: 2 or 3\n",
    "- Frequency: 1 or 2\n",
    "- Monetary: 1 or 3\n",
    "- These customers used to buy but have become less frequent. You need to re-engage them with targeted promotions or reminders before they churn.\n",
    "\n",
    "9. About to Sleep\n",
    "- Recency: 1 or 2\n",
    "- Frequency: 1 or 2\n",
    "- Monetary: 3 or 4\n",
    "- These customers haven’t bought in a while but were high spenders in the past. They need a re-engagement strategy to revive their interest.\n",
    "\n",
    "10. Hibernating\n",
    "- Recency: 1\n",
    "- Frequency: 1 or 3\n",
    "- Monetary: 1 or 3\n",
    "- These customers haven’t purchased in a long time and don’t spend much. They are not completely lost, but they are dormant and require strong efforts to bring them back.\n",
    "\n",
    "11. Lost Customer\n",
    "- Recency: 1 (least recent)\n",
    "- Frequency: 1 (least frequent)\n",
    "- Monetary: 1 or 2 (lowest spender)\n",
    "- These customers have not purchased for a long time, never buy much, and are at risk of being completely lost. If they haven't responded to previous attempts at engagement, they might be considered for exclusion from future marketing campaigns."
   ]
  },
  {
   "cell_type": "code",
   "execution_count": 126,
   "metadata": {},
   "outputs": [
    {
     "name": "stdout",
     "output_type": "stream",
     "text": [
      "Summary Table of Segments Based on 4-Rank RFM\n"
     ]
    },
    {
     "data": {
      "text/html": [
       "<div>\n",
       "<style scoped>\n",
       "    .dataframe tbody tr th:only-of-type {\n",
       "        vertical-align: middle;\n",
       "    }\n",
       "\n",
       "    .dataframe tbody tr th {\n",
       "        vertical-align: top;\n",
       "    }\n",
       "\n",
       "    .dataframe thead th {\n",
       "        text-align: right;\n",
       "    }\n",
       "</style>\n",
       "<table border=\"1\" class=\"dataframe\">\n",
       "  <thead>\n",
       "    <tr style=\"text-align: right;\">\n",
       "      <th></th>\n",
       "      <th>Segment</th>\n",
       "      <th>Recency</th>\n",
       "      <th>Frequency</th>\n",
       "      <th>Monetary</th>\n",
       "      <th>RFM Description</th>\n",
       "    </tr>\n",
       "  </thead>\n",
       "  <tbody>\n",
       "    <tr>\n",
       "      <th>0</th>\n",
       "      <td>New Customers</td>\n",
       "      <td>4</td>\n",
       "      <td>1 or 2</td>\n",
       "      <td>1 or 2</td>\n",
       "      <td>Recent customers, need nurturing</td>\n",
       "    </tr>\n",
       "    <tr>\n",
       "      <th>1</th>\n",
       "      <td>Champions</td>\n",
       "      <td>4</td>\n",
       "      <td>4</td>\n",
       "      <td>4</td>\n",
       "      <td>Best customers; frequent, recent, and high spenders</td>\n",
       "    </tr>\n",
       "    <tr>\n",
       "      <th>2</th>\n",
       "      <td>Runner-ups</td>\n",
       "      <td>3 or 4</td>\n",
       "      <td>3 or 4</td>\n",
       "      <td>4</td>\n",
       "      <td>Recent, high spenders but less frequent</td>\n",
       "    </tr>\n",
       "    <tr>\n",
       "      <th>3</th>\n",
       "      <td>Loyal Customers</td>\n",
       "      <td>3 or 4</td>\n",
       "      <td>3 or 4</td>\n",
       "      <td>1 or 2</td>\n",
       "      <td>Frequent buyers with average spending</td>\n",
       "    </tr>\n",
       "    <tr>\n",
       "      <th>4</th>\n",
       "      <td>Promising</td>\n",
       "      <td>3</td>\n",
       "      <td>2 or 3</td>\n",
       "      <td>3</td>\n",
       "      <td>Moderate engagement; future potential</td>\n",
       "    </tr>\n",
       "    <tr>\n",
       "      <th>5</th>\n",
       "      <td>Can't Lose Them</td>\n",
       "      <td>3 or 4</td>\n",
       "      <td>2 or 3</td>\n",
       "      <td>3 or 4</td>\n",
       "      <td>Recent buyers but need nurturing</td>\n",
       "    </tr>\n",
       "    <tr>\n",
       "      <th>6</th>\n",
       "      <td>Potential Loyalists</td>\n",
       "      <td>4</td>\n",
       "      <td>2 or 3</td>\n",
       "      <td>2 or 3</td>\n",
       "      <td>Recent buyers with potential</td>\n",
       "    </tr>\n",
       "    <tr>\n",
       "      <th>7</th>\n",
       "      <td>Needs Attention</td>\n",
       "      <td>2 or 3</td>\n",
       "      <td>1 or 2</td>\n",
       "      <td>1 to 3</td>\n",
       "      <td>Inactive customers, need re-engagement</td>\n",
       "    </tr>\n",
       "    <tr>\n",
       "      <th>8</th>\n",
       "      <td>About to Sleep</td>\n",
       "      <td>1 or 2</td>\n",
       "      <td>1 or 2</td>\n",
       "      <td>3 or 4</td>\n",
       "      <td>High spenders, but dormant for a while</td>\n",
       "    </tr>\n",
       "    <tr>\n",
       "      <th>9</th>\n",
       "      <td>Hibernating</td>\n",
       "      <td>1</td>\n",
       "      <td>1 to 3</td>\n",
       "      <td>1 to 3</td>\n",
       "      <td>Long-term inactive, low engagement, spenders</td>\n",
       "    </tr>\n",
       "    <tr>\n",
       "      <th>10</th>\n",
       "      <td>Lost Customer</td>\n",
       "      <td>1</td>\n",
       "      <td>1</td>\n",
       "      <td>1 or 2</td>\n",
       "      <td>Long-term inactive, low spenders</td>\n",
       "    </tr>\n",
       "  </tbody>\n",
       "</table>\n",
       "</div>"
      ],
      "text/plain": [
       "                Segment Recency Frequency Monetary  \\\n",
       "0         New Customers       4    1 or 2   1 or 2   \n",
       "1             Champions       4         4        4   \n",
       "2            Runner-ups  3 or 4    3 or 4        4   \n",
       "3       Loyal Customers  3 or 4    3 or 4   1 or 2   \n",
       "4             Promising       3    2 or 3        3   \n",
       "5       Can't Lose Them  3 or 4    2 or 3   3 or 4   \n",
       "6   Potential Loyalists       4    2 or 3   2 or 3   \n",
       "7       Needs Attention  2 or 3    1 or 2   1 to 3   \n",
       "8        About to Sleep  1 or 2    1 or 2   3 or 4   \n",
       "9           Hibernating       1    1 to 3   1 to 3   \n",
       "10        Lost Customer       1         1   1 or 2   \n",
       "\n",
       "                                        RFM Description  \n",
       "0                      Recent customers, need nurturing  \n",
       "1   Best customers; frequent, recent, and high spenders  \n",
       "2               Recent, high spenders but less frequent  \n",
       "3                 Frequent buyers with average spending  \n",
       "4                 Moderate engagement; future potential  \n",
       "5                      Recent buyers but need nurturing  \n",
       "6                          Recent buyers with potential  \n",
       "7                Inactive customers, need re-engagement  \n",
       "8                High spenders, but dormant for a while  \n",
       "9          Long-term inactive, low engagement, spenders  \n",
       "10                     Long-term inactive, low spenders  "
      ]
     },
     "execution_count": 126,
     "metadata": {},
     "output_type": "execute_result"
    }
   ],
   "source": [
    "print('Summary Table of Segments Based on 4-Rank RFM')\n",
    "pd.DataFrame({\n",
    "    'Segment':[\n",
    "        'New Customers'\n",
    "        ,'Champions'\n",
    "        ,'Runner-ups'\n",
    "        ,'Loyal Customers'\n",
    "        ,'Promising'\n",
    "        ,'Can\\'t Lose Them'\n",
    "        ,'Potential Loyalists'\n",
    "        ,'Needs Attention'\n",
    "        ,'About to Sleep'\n",
    "        ,'Hibernating'\n",
    "        ,'Lost Customer'\n",
    "    ]\n",
    "    ,'Recency':[\n",
    "        '4'\n",
    "        ,'4'\n",
    "        ,'3 or 4'\n",
    "        ,'3 or 4'\n",
    "        ,'3'\n",
    "        ,'3 or 4'\n",
    "        ,'4'\n",
    "        ,'2 or 3'\n",
    "        ,'1 or 2'\n",
    "        ,'1'\n",
    "        ,'1'\n",
    "    ]\n",
    "    ,'Frequency':[\n",
    "        '1 or 2'\n",
    "        ,'4'\n",
    "        ,'3 or 4'\n",
    "        ,'3 or 4'\n",
    "        ,'2 or 3'\n",
    "        ,'2 or 3'\n",
    "        ,'2 or 3'\n",
    "        ,'1 or 2'\n",
    "        ,'1 or 2'\n",
    "        ,'1 to 3'\n",
    "        ,'1'\n",
    "    ]\n",
    "    ,'Monetary':[\n",
    "        '1 or 2'\n",
    "        ,'4'\n",
    "        ,'4'\n",
    "        ,'1 or 2'\n",
    "        ,'3'\n",
    "        ,'3 or 4'\n",
    "        ,'2 or 3'\n",
    "        ,'1 to 3'\n",
    "        ,'3 or 4'\n",
    "        ,'1 to 3'\n",
    "        ,'1 or 2'\n",
    "    ]\n",
    "    ,'RFM Description':[\n",
    "        'Recent customers, need nurturing'\n",
    "        ,'Best customers; frequent, recent, and high spenders'\n",
    "        ,'Recent, high spenders but less frequent'\n",
    "        ,'Frequent buyers with average spending'\n",
    "        ,'Moderate engagement; future potential'\n",
    "        ,'Recent buyers but need nurturing'\n",
    "        ,'Recent buyers with potential'\n",
    "        ,'Inactive customers, need re-engagement'\n",
    "        ,'High spenders, but dormant for a while'\n",
    "        ,'Long-term inactive, low engagement, spenders'\n",
    "        ,'Long-term inactive, low spenders'\n",
    "    ]\n",
    "})"
   ]
  },
  {
   "cell_type": "code",
   "execution_count": 118,
   "metadata": {},
   "outputs": [],
   "source": [
    "# logic for RFM segmentation\n",
    "seg_map = {\n",
    "    r'444': 'Champions',\n",
    "    r'[3-4][3-4]4': 'Runner-ups',\n",
    "    r'[3-4][3-4][1-2]': 'Loyal Customers',\n",
    "    r'443': 'Loyal Customers',\n",
    "    r'433': 'Loyal Customers',\n",
    "    r'4[2-3]4': 'Can\\'t Lose Them',\n",
    "    r'324': 'Can\\'t Lose Them',\n",
    "    r'4[2-3][2-3]': 'Potential Loyalists',\n",
    "    r'4[1-2][1-2]': 'New Customers',\n",
    "    r'3[2-3]3': 'Promising',\n",
    "    r'[2-3][1-2][1-3]': 'Needs Attention',\n",
    "    r'[1-2][1-2][3-4]': 'About to Sleep',\n",
    "    r'11[1-2]': 'Lost Customers',\n",
    "    r'1[1-3][1-3]': 'Hibernating',\n",
    "    r'413': 'New Customers'\n",
    "}"
   ]
  },
  {
   "cell_type": "code",
   "execution_count": null,
   "metadata": {},
   "outputs": [
    {
     "data": {
      "text/html": [
       "<div>\n",
       "<style scoped>\n",
       "    .dataframe tbody tr th:only-of-type {\n",
       "        vertical-align: middle;\n",
       "    }\n",
       "\n",
       "    .dataframe tbody tr th {\n",
       "        vertical-align: top;\n",
       "    }\n",
       "\n",
       "    .dataframe thead th {\n",
       "        text-align: right;\n",
       "    }\n",
       "</style>\n",
       "<table border=\"1\" class=\"dataframe\">\n",
       "  <thead>\n",
       "    <tr style=\"text-align: right;\">\n",
       "      <th></th>\n",
       "      <th>Recency</th>\n",
       "      <th>Frequency</th>\n",
       "      <th>Monetary</th>\n",
       "      <th>RecencyScore</th>\n",
       "      <th>FrequencyScore</th>\n",
       "      <th>MonetaryScore</th>\n",
       "      <th>RFMSegment</th>\n",
       "      <th>RFMScore</th>\n",
       "      <th>Segment</th>\n",
       "    </tr>\n",
       "    <tr>\n",
       "      <th>CustomerID</th>\n",
       "      <th></th>\n",
       "      <th></th>\n",
       "      <th></th>\n",
       "      <th></th>\n",
       "      <th></th>\n",
       "      <th></th>\n",
       "      <th></th>\n",
       "      <th></th>\n",
       "      <th></th>\n",
       "    </tr>\n",
       "  </thead>\n",
       "  <tbody>\n",
       "    <tr>\n",
       "      <th>12347</th>\n",
       "      <td>2</td>\n",
       "      <td>7</td>\n",
       "      <td>4310.00</td>\n",
       "      <td>4</td>\n",
       "      <td>1</td>\n",
       "      <td>2</td>\n",
       "      <td>412</td>\n",
       "      <td>7</td>\n",
       "      <td>New Customers</td>\n",
       "    </tr>\n",
       "    <tr>\n",
       "      <th>12348</th>\n",
       "      <td>75</td>\n",
       "      <td>4</td>\n",
       "      <td>1437.24</td>\n",
       "      <td>2</td>\n",
       "      <td>1</td>\n",
       "      <td>1</td>\n",
       "      <td>211</td>\n",
       "      <td>4</td>\n",
       "      <td>Needs Attention</td>\n",
       "    </tr>\n",
       "    <tr>\n",
       "      <th>12349</th>\n",
       "      <td>18</td>\n",
       "      <td>1</td>\n",
       "      <td>1457.55</td>\n",
       "      <td>3</td>\n",
       "      <td>1</td>\n",
       "      <td>1</td>\n",
       "      <td>311</td>\n",
       "      <td>5</td>\n",
       "      <td>Needs Attention</td>\n",
       "    </tr>\n",
       "    <tr>\n",
       "      <th>12350</th>\n",
       "      <td>310</td>\n",
       "      <td>1</td>\n",
       "      <td>294.40</td>\n",
       "      <td>1</td>\n",
       "      <td>1</td>\n",
       "      <td>1</td>\n",
       "      <td>111</td>\n",
       "      <td>3</td>\n",
       "      <td>Lost Customers</td>\n",
       "    </tr>\n",
       "    <tr>\n",
       "      <th>12352</th>\n",
       "      <td>36</td>\n",
       "      <td>7</td>\n",
       "      <td>1265.41</td>\n",
       "      <td>3</td>\n",
       "      <td>1</td>\n",
       "      <td>1</td>\n",
       "      <td>311</td>\n",
       "      <td>5</td>\n",
       "      <td>Needs Attention</td>\n",
       "    </tr>\n",
       "  </tbody>\n",
       "</table>\n",
       "</div>"
      ],
      "text/plain": [
       "            Recency  Frequency  Monetary RecencyScore  FrequencyScore  \\\n",
       "CustomerID                                                              \n",
       "12347             2          7   4310.00            4               1   \n",
       "12348            75          4   1437.24            2               1   \n",
       "12349            18          1   1457.55            3               1   \n",
       "12350           310          1    294.40            1               1   \n",
       "12352            36          7   1265.41            3               1   \n",
       "\n",
       "            MonetaryScore RFMSegment  RFMScore          Segment  \n",
       "CustomerID                                                       \n",
       "12347                   2        412         7    New Customers  \n",
       "12348                   1        211         4  Needs Attention  \n",
       "12349                   1        311         5  Needs Attention  \n",
       "12350                   1        111         3   Lost Customers  \n",
       "12352                   1        311         5  Needs Attention  "
      ]
     },
     "execution_count": 119,
     "metadata": {},
     "output_type": "execute_result"
    },
    {
     "data": {
      "text/html": [
       "<div>\n",
       "<style scoped>\n",
       "    .dataframe tbody tr th:only-of-type {\n",
       "        vertical-align: middle;\n",
       "    }\n",
       "\n",
       "    .dataframe tbody tr th {\n",
       "        vertical-align: top;\n",
       "    }\n",
       "\n",
       "    .dataframe thead th {\n",
       "        text-align: right;\n",
       "    }\n",
       "</style>\n",
       "<table border=\"1\" class=\"dataframe\">\n",
       "  <thead>\n",
       "    <tr style=\"text-align: right;\">\n",
       "      <th></th>\n",
       "      <th>Recency</th>\n",
       "      <th>Frequency</th>\n",
       "      <th>Monetary</th>\n",
       "      <th>RecencyScore</th>\n",
       "      <th>FrequencyScore</th>\n",
       "      <th>MonetaryScore</th>\n",
       "      <th>RFMSegment</th>\n",
       "      <th>RFMScore</th>\n",
       "      <th>Segment</th>\n",
       "    </tr>\n",
       "    <tr>\n",
       "      <th>CustomerID</th>\n",
       "      <th></th>\n",
       "      <th></th>\n",
       "      <th></th>\n",
       "      <th></th>\n",
       "      <th></th>\n",
       "      <th></th>\n",
       "      <th></th>\n",
       "      <th></th>\n",
       "      <th></th>\n",
       "    </tr>\n",
       "  </thead>\n",
       "  <tbody>\n",
       "    <tr>\n",
       "      <th>18280</th>\n",
       "      <td>277</td>\n",
       "      <td>1</td>\n",
       "      <td>180.60</td>\n",
       "      <td>1</td>\n",
       "      <td>1</td>\n",
       "      <td>1</td>\n",
       "      <td>111</td>\n",
       "      <td>3</td>\n",
       "      <td>Lost Customers</td>\n",
       "    </tr>\n",
       "    <tr>\n",
       "      <th>18281</th>\n",
       "      <td>180</td>\n",
       "      <td>1</td>\n",
       "      <td>80.82</td>\n",
       "      <td>1</td>\n",
       "      <td>1</td>\n",
       "      <td>1</td>\n",
       "      <td>111</td>\n",
       "      <td>3</td>\n",
       "      <td>Lost Customers</td>\n",
       "    </tr>\n",
       "    <tr>\n",
       "      <th>18282</th>\n",
       "      <td>7</td>\n",
       "      <td>2</td>\n",
       "      <td>176.60</td>\n",
       "      <td>4</td>\n",
       "      <td>1</td>\n",
       "      <td>1</td>\n",
       "      <td>411</td>\n",
       "      <td>6</td>\n",
       "      <td>New Customers</td>\n",
       "    </tr>\n",
       "    <tr>\n",
       "      <th>18283</th>\n",
       "      <td>3</td>\n",
       "      <td>16</td>\n",
       "      <td>2039.58</td>\n",
       "      <td>4</td>\n",
       "      <td>2</td>\n",
       "      <td>1</td>\n",
       "      <td>421</td>\n",
       "      <td>7</td>\n",
       "      <td>New Customers</td>\n",
       "    </tr>\n",
       "    <tr>\n",
       "      <th>18287</th>\n",
       "      <td>42</td>\n",
       "      <td>3</td>\n",
       "      <td>1837.28</td>\n",
       "      <td>3</td>\n",
       "      <td>1</td>\n",
       "      <td>1</td>\n",
       "      <td>311</td>\n",
       "      <td>5</td>\n",
       "      <td>Needs Attention</td>\n",
       "    </tr>\n",
       "  </tbody>\n",
       "</table>\n",
       "</div>"
      ],
      "text/plain": [
       "            Recency  Frequency  Monetary RecencyScore  FrequencyScore  \\\n",
       "CustomerID                                                              \n",
       "18280           277          1    180.60            1               1   \n",
       "18281           180          1     80.82            1               1   \n",
       "18282             7          2    176.60            4               1   \n",
       "18283             3         16   2039.58            4               2   \n",
       "18287            42          3   1837.28            3               1   \n",
       "\n",
       "            MonetaryScore RFMSegment  RFMScore          Segment  \n",
       "CustomerID                                                       \n",
       "18280                   1        111         3   Lost Customers  \n",
       "18281                   1        111         3   Lost Customers  \n",
       "18282                   1        411         6    New Customers  \n",
       "18283                   1        421         7    New Customers  \n",
       "18287                   1        311         5  Needs Attention  "
      ]
     },
     "execution_count": 119,
     "metadata": {},
     "output_type": "execute_result"
    }
   ],
   "source": [
    "# Create a new column for the segment\n",
    "scored_data['Segment'] = scored_data['RFMSegment'].replace(seg_map, regex=True)\n",
    "scored_data.head()\n",
    "scored_data.tail()"
   ]
  },
  {
   "cell_type": "code",
   "execution_count": 125,
   "metadata": {},
   "outputs": [
    {
     "data": {
      "text/plain": [
       "Segment\n",
       "Can't Lose Them           1\n",
       "Champions                 1\n",
       "About to Sleep            2\n",
       "Runner-ups                4\n",
       "Promising                 7\n",
       "Hibernating               8\n",
       "Loyal Customers          28\n",
       "Potential Loyalists     233\n",
       "New Customers           827\n",
       "Lost Customers         1070\n",
       "Needs Attention        2151\n",
       "Name: count, dtype: int64"
      ]
     },
     "execution_count": 125,
     "metadata": {},
     "output_type": "execute_result"
    }
   ],
   "source": [
    "scored_data['Segment'].value_counts().sort_values(ascending=True)"
   ]
  },
  {
   "cell_type": "code",
   "execution_count": 121,
   "metadata": {},
   "outputs": [
    {
     "data": {
      "text/plain": [
       "Segment              RFMSegment\n",
       "About to Sleep       113              2\n",
       "Can't Lose Them      324              1\n",
       "Champions            444              1\n",
       "Hibernating          122              4\n",
       "                     121              3\n",
       "                     132              1\n",
       "Lost Customers       111           1057\n",
       "                     112             13\n",
       "Loyal Customers      433             17\n",
       "                     432              8\n",
       "                     443              2\n",
       "                     331              1\n",
       "Needs Attention      211            994\n",
       "                     311            890\n",
       "                     312             82\n",
       "                     322             71\n",
       "                     212             68\n",
       "                     321             24\n",
       "                     222             11\n",
       "                     221             10\n",
       "                     313              1\n",
       "New Customers        411            659\n",
       "                     412            108\n",
       "                     421             57\n",
       "                     413              3\n",
       "Potential Loyalists  422            201\n",
       "                     423             32\n",
       "Promising            323              5\n",
       "                     333              2\n",
       "Runner-ups           434              4\n",
       "Name: count, dtype: int64"
      ]
     },
     "execution_count": 121,
     "metadata": {},
     "output_type": "execute_result"
    }
   ],
   "source": [
    "scored_data.groupby(['Segment'])['RFMSegment'].value_counts()"
   ]
  },
  {
   "cell_type": "markdown",
   "metadata": {},
   "source": [
    "## 6.3. Visualizing RFM Segments with 3D Scatter Plot"
   ]
  },
  {
   "cell_type": "code",
   "execution_count": 131,
   "metadata": {},
   "outputs": [
    {
     "data": {
      "image/png": "[encoded data removed]",
      "text/plain": [
       "<Figure size 1000x800 with 1 Axes>"
      ]
     },
     "metadata": {},
     "output_type": "display_data"
    }
   ],
   "source": [
    "# display full outputs in Jupyter Notebook, not only the last command's output\n",
    "from IPython.core.interactiveshell import InteractiveShell\n",
    "InteractiveShell.ast_node_interactivity = \"last\"\n",
    "\n",
    "# Assuming your RFM data is in a dataframe `x`\n",
    "fig = plt.figure(figsize=(10, 8))\n",
    "ax = fig.add_subplot(111, projection='3d')\n",
    "condition = scored_data['Segment'].isin(['Potential Loyalists','Loyal Customers'])\n",
    "data = scored_data[condition]\n",
    "data['Colors'] = data['Segment'].apply(lambda x: 'red' if x == 'Potential Loyalists' else 'blue')\n",
    "\n",
    " \n",
    "for x, y, z, c, l in zip(data.Recency, data.Frequency, data.Monetary, data.Colors, data.Segment):\n",
    "    ax.scatter(xs=x, ys=y, zs=z, s=40, c=c, label=l)\n",
    "\n",
    "# ax.legend(ncol=1)\n",
    "plt.grid(b=True)\n",
    "ax.set_xlabel('Recency')\n",
    "ax.set_ylabel('Frequency')\n",
    "ax.set_zlabel('Monetary')\n",
    "plt.title('RFM Segments in 3D')\n",
    "plt.show()"
   ]
  },
  {
   "cell_type": "markdown",
   "metadata": {},
   "source": [
    "## 6.4. Comparing Features of each segmentation"
   ]
  },
  {
   "cell_type": "code",
   "execution_count": 131,
   "metadata": {},
   "outputs": [
    {
     "name": "stdout",
     "output_type": "stream",
     "text": [
      "ERROR! Session/line number was not unique in database. History logging moved to new session 319\n"
     ]
    },
    {
     "ename": "ValueError",
     "evalue": "Interactivity was None",
     "output_type": "error",
     "traceback": [
      "\u001b[1;31m---------------------------------------------------------------------------\u001b[0m",
      "\u001b[1;31mValueError\u001b[0m                                Traceback (most recent call last)",
      "File \u001b[1;32mc:\\ProgramData\\anaconda3\\envs\\python311\\Lib\\site-packages\\IPython\\core\\async_helpers.py:129\u001b[0m, in \u001b[0;36m_pseudo_sync_runner\u001b[1;34m(coro)\u001b[0m\n\u001b[0;32m    121\u001b[0m \u001b[38;5;250m\u001b[39m\u001b[38;5;124;03m\"\"\"\u001b[39;00m\n\u001b[0;32m    122\u001b[0m \u001b[38;5;124;03mA runner that does not really allow async execution, and just advance the coroutine.\u001b[39;00m\n\u001b[0;32m    123\u001b[0m \n\u001b[1;32m   (...)\u001b[0m\n\u001b[0;32m    126\u001b[0m \u001b[38;5;124;03mCredit to Nathaniel Smith\u001b[39;00m\n\u001b[0;32m    127\u001b[0m \u001b[38;5;124;03m\"\"\"\u001b[39;00m\n\u001b[0;32m    128\u001b[0m \u001b[38;5;28;01mtry\u001b[39;00m:\n\u001b[1;32m--> 129\u001b[0m     coro\u001b[38;5;241m.\u001b[39msend(\u001b[38;5;28;01mNone\u001b[39;00m)\n\u001b[0;32m    130\u001b[0m \u001b[38;5;28;01mexcept\u001b[39;00m \u001b[38;5;167;01mStopIteration\u001b[39;00m \u001b[38;5;28;01mas\u001b[39;00m exc:\n\u001b[0;32m    131\u001b[0m     \u001b[38;5;28;01mreturn\u001b[39;00m exc\u001b[38;5;241m.\u001b[39mvalue\n",
      "File \u001b[1;32mc:\\ProgramData\\anaconda3\\envs\\python311\\Lib\\site-packages\\IPython\\core\\interactiveshell.py:3334\u001b[0m, in \u001b[0;36mInteractiveShell.run_cell_async\u001b[1;34m(self, raw_cell, store_history, silent, shell_futures, transformed_cell, preprocessing_exc_tuple, cell_id)\u001b[0m\n\u001b[0;32m   3330\u001b[0m \u001b[38;5;66;03m# Execute the user code\u001b[39;00m\n\u001b[0;32m   3331\u001b[0m interactivity \u001b[38;5;241m=\u001b[39m \u001b[38;5;124m\"\u001b[39m\u001b[38;5;124mnone\u001b[39m\u001b[38;5;124m\"\u001b[39m \u001b[38;5;28;01mif\u001b[39;00m silent \u001b[38;5;28;01melse\u001b[39;00m \u001b[38;5;28mself\u001b[39m\u001b[38;5;241m.\u001b[39mast_node_interactivity\n\u001b[1;32m-> 3334\u001b[0m has_raised \u001b[38;5;241m=\u001b[39m \u001b[38;5;28;01mawait\u001b[39;00m \u001b[38;5;28mself\u001b[39m\u001b[38;5;241m.\u001b[39mrun_ast_nodes(code_ast\u001b[38;5;241m.\u001b[39mbody, cell_name,\n\u001b[0;32m   3335\u001b[0m        interactivity\u001b[38;5;241m=\u001b[39minteractivity, compiler\u001b[38;5;241m=\u001b[39mcompiler, result\u001b[38;5;241m=\u001b[39mresult)\n\u001b[0;32m   3337\u001b[0m \u001b[38;5;28mself\u001b[39m\u001b[38;5;241m.\u001b[39mlast_execution_succeeded \u001b[38;5;241m=\u001b[39m \u001b[38;5;129;01mnot\u001b[39;00m has_raised\n\u001b[0;32m   3338\u001b[0m \u001b[38;5;28mself\u001b[39m\u001b[38;5;241m.\u001b[39mlast_execution_result \u001b[38;5;241m=\u001b[39m result\n",
      "File \u001b[1;32mc:\\ProgramData\\anaconda3\\envs\\python311\\Lib\\site-packages\\IPython\\core\\interactiveshell.py:3489\u001b[0m, in \u001b[0;36mInteractiveShell.run_ast_nodes\u001b[1;34m(self, nodelist, cell_name, interactivity, compiler, result)\u001b[0m\n\u001b[0;32m   3487\u001b[0m     to_run_exec, to_run_interactive \u001b[38;5;241m=\u001b[39m [], nodelist\n\u001b[0;32m   3488\u001b[0m \u001b[38;5;28;01melse\u001b[39;00m:\n\u001b[1;32m-> 3489\u001b[0m     \u001b[38;5;28;01mraise\u001b[39;00m \u001b[38;5;167;01mValueError\u001b[39;00m(\u001b[38;5;124m\"\u001b[39m\u001b[38;5;124mInteractivity was \u001b[39m\u001b[38;5;132;01m%r\u001b[39;00m\u001b[38;5;124m\"\u001b[39m \u001b[38;5;241m%\u001b[39m interactivity)\n\u001b[0;32m   3491\u001b[0m \u001b[38;5;28;01mtry\u001b[39;00m:\n\u001b[0;32m   3493\u001b[0m     \u001b[38;5;28;01mdef\u001b[39;00m \u001b[38;5;21mcompare\u001b[39m(code):\n",
      "\u001b[1;31mValueError\u001b[0m: Interactivity was None"
     ]
    }
   ],
   "source": [
    "# display full outputs in Jupyter Notebook, not only the last command's output\n",
    "from IPython.core.interactiveshell import InteractiveShell\n",
    "InteractiveShell.ast_node_interactivity = \"all\"\n",
    "\n",
    "\n",
    "agg_segment = scored_data.groupby('Segment').agg({\n",
    "    'Recency': 'mean'\n",
    "    ,'Frequency': 'mean'\n",
    "    ,'Monetary': 'mean'\n",
    "}).reset_index()\n",
    "\n",
    "agg_segment"
   ]
  },
  {
   "cell_type": "code",
   "execution_count": 78,
   "metadata": {},
   "outputs": [
    {
     "data": {
      "text/plain": [
       "<Figure size 1200x600 with 0 Axes>"
      ]
     },
     "execution_count": 78,
     "metadata": {},
     "output_type": "execute_result"
    },
    {
     "data": {
      "text/plain": [
       "<Axes: xlabel='Segment', ylabel='Monetary'>"
      ]
     },
     "execution_count": 78,
     "metadata": {},
     "output_type": "execute_result"
    },
    {
     "data": {
      "image/png": "[encoded data removed]",
      "text/plain": [
       "<Figure size 1200x600 with 1 Axes>"
      ]
     },
     "metadata": {},
     "output_type": "display_data"
    }
   ],
   "source": [
    "# compare the segments with the monetary value\n",
    "plt.figure(figsize=(12,6))\n",
    "sns.barplot(\n",
    "    data=agg_segment\n",
    "    ,x='Segment'\n",
    "    ,y='Monetary'\n",
    "    ,hue='Segment'\n",
    "    ,order=agg_segment.sort_values('Monetary')['Segment']\n",
    ")\n",
    "# .set_xticklabels(labels=agg_segment.sort_values('Monetary')['Segment'],rotation=45)"
   ]
  },
  {
   "cell_type": "code",
   "execution_count": null,
   "metadata": {},
   "outputs": [],
   "source": []
  },
  {
   "cell_type": "markdown",
   "metadata": {},
   "source": [
    "# VII. Recommendations"
   ]
  },
  {
   "cell_type": "markdown",
   "metadata": {},
   "source": [
    "## 7.1. Action Plans tailored for each segments"
   ]
  },
  {
   "cell_type": "markdown",
   "metadata": {},
   "source": [
    "1. Champions (R5, F5, M5)\n",
    "- Customer Profile: These are your best customers—frequent buyers who spend a lot and have purchased recently.\n",
    "- Action Plan:\n",
    "    + Reward loyalty: Offer exclusive loyalty programs, early access to new products, or VIP rewards.\n",
    "    + Personalized offers: Send personalized messages and tailored discounts based on their past purchase behavior.\n",
    "    + Referral programs: Encourage these customers to refer others by offering them incentives or rewards for successful referrals.\n",
    "    + Surprise and delight: Send them thank-you gifts or special offers as a gesture of appreciation for their loyalty.\n",
    "    + Content engagement: Continue to engage them through newsletters, social media, and special events.\n",
    "\n",
    "\n",
    "2. Can’t Lose (R5, F4, M5)\n",
    "- Customer Profile: These customers are recent and spend a lot, but may not purchase as frequently.\n",
    "- Action Plan:\n",
    "    + Increase frequency: Use targeted campaigns to increase purchase frequency. Offer time-limited discounts or reminders to encourage repeat purchases.\n",
    "    + Reinforce loyalty: Send personalized loyalty offers to keep them engaged, such as exclusive discounts on their next purchase.\n",
    "    + Leverage exclusivity: Offer access to members-only products or promotions that encourage a deeper connection.\n",
    "\n",
    "\n",
    "3. Loyal Customers (R4, F4, M4)\n",
    "- Customer Profile: These customers are regular, moderately high spenders, and still fairly recent.\n",
    "- Action Plan:\n",
    "    + Retention strategies: Focus on retention efforts such as personalized discounts, loyalty programs, and seasonal offers to keep them coming back.\n",
    "    + Exclusive content: Provide access to exclusive content, sneak peeks of new arrivals, or early product releases.\n",
    "    + Upsell and cross-sell: Use their purchase history to suggest complementary products or services to increase their overall spend.\n",
    "\n",
    "\n",
    "4. Potential Loyalists (R5, F3, M4)\n",
    "- Customer Profile: These customers have recently purchased and spent well, but their frequency needs improvement.\n",
    "- Action Plan:\n",
    "    + Encourage more purchases: Create special offers, incentives, or loyalty bonuses for making additional purchases within a given period.\n",
    "    + Nurture the relationship: Continue to engage them through newsletters, exclusive offers, or product recommendations based on their initial purchase.\n",
    "    + Feedback request: Ask them for feedback to improve your product offerings and make them feel valued.\n",
    "\n",
    "\n",
    "5. Promising (R4, F3, M5)\n",
    "- Customer Profile: These customers spend well but aren't as recent or frequent.\n",
    "- Action Plan:\n",
    "    + Re-engage: Use targeted email campaigns to bring them back with promotions like discounts or reminders.\n",
    "    + Encourage frequency: Offer a time-sensitive incentive to increase the frequency of their next purchase.\n",
    "    + Personalized offers: Create targeted offers that appeal to their past purchasing habits and preferences.\n",
    "\n",
    "\n",
    "6. At Risk (R1, F3, M5)\n",
    "- Customer Profile: Customers who have spent well in the past but have not made a recent purchase.\n",
    "- Action Plan:\n",
    "    + Win-back campaigns: Offer exclusive deals, discounts, or incentives to bring them back.\n",
    "    + Re-engagement emails: Use compelling subject lines to remind them of your brand and their last positive experience.\n",
    "    + Personalized messaging: Reach out with personalized messages and address any potential issues with their past experience to entice them back.\n",
    "\n",
    "\n",
    "7. New Customers (R5, F1, M2)\n",
    "- Customer Profile: These customers have just made a purchase but are infrequent and low spenders.\n",
    "- Action Plan:\n",
    "    + Welcome series: Send a welcome email series to introduce them to your brand and make them aware of your loyalty programs and discounts.\n",
    "    + Incentivize repeat purchases: Offer them a discount on their next purchase or other promotions to encourage them to make another purchase.\n",
    "    + Personalize engagement: Continue engaging them with product recommendations based on their initial purchase and highlight your best-selling or most relevant items.\n",
    "\n",
    "\n",
    "8. About to Sleep (R1, F2, M3)\n",
    "- Customer Profile: These customers have been inactive for some time and don't purchase frequently, with moderate spending.\n",
    "- Action Plan:\n",
    "    + Re-engagement efforts: Send them special offers or reminder emails with a focus on their past purchase behavior.\n",
    "    + Incentivize: Offer incentives to encourage their return, such as discounts or exclusive access to new products.\n",
    "    + Survey them: Ask for feedback to understand why they stopped purchasing and address any concerns they may have.\n",
    "\n",
    "\n",
    "9. Need Attention (R2, F1, M4)\n",
    "- Customer Profile: Customers who are infrequent and not very recent, but they spend moderately.\n",
    "- Action Plan:\n",
    "    + Personalized outreach: Reach out to them with special offers that encourage them to return, such as a personalized discount or exclusive offers.\n",
    "    + Re-engagement emails: Send them emails tailored to their past behavior, reminding them of the value your brand can offer.\n",
    "    + Promotions: Offer a limited-time offer or flash sales to increase the urgency for them to make a purchase.\n",
    "\n",
    "\n",
    "10. Hibernating (R1, F1, M1)\n",
    "- Customer Profile: Customers who have been inactive for a long time, rarely purchase, and spend very little.\n",
    "- Action Plan:\n",
    "    + Re-engagement campaigns: Implement a re-engagement campaign with a strong incentive, like deep discounts or exclusive deals.\n",
    "    + Targeted outreach: Send them personalized emails or even try direct mail if your brand has a strong offline presence.\n",
    "    + VIP reactivation: Offer something highly personalized to get their attention and show that you value them as a customer.\n"
   ]
  },
  {
   "cell_type": "markdown",
   "metadata": {},
   "source": [
    "## Update\n",
    "Actions Based on Segments:\n",
    "Champions: Reward them with loyalty programs, exclusive offers, and personalized engagement.\n",
    "Runner-ups: Use targeted promotions to increase frequency or maintain loyalty.\n",
    "Loyal Customers: Offer incentives for continued engagement, like discounts for repeat purchases.\n",
    "Can't Lose Them: Retarget with special offers, reminders, or loyalty bonuses to ensure they stay engaged.\n",
    "Potential Loyalists: Provide incentives to convert them into regular customers (e.g., discounts, loyalty programs).\n",
    "Promising: Introduce cross-selling or upselling strategies to increase their overall value.\n",
    "New Customers: Nurture with welcome offers and build a relationship to convert them into loyal buyers.\n",
    "Needs Attention: Use re-engagement campaigns, such as time-limited offers or discounts.\n",
    "About to Sleep: Re-engage with personalized offers or reminders about their previous high spending.\n",
    "Hibernating: Consider re-engagement campaigns or remove them from your active marketing.\n",
    "Lost Customers: Target them with win-back campaigns or exclude from future marketing efforts."
   ]
  },
  {
   "cell_type": "markdown",
   "metadata": {},
   "source": [
    "## 7.2. Performance Monitor Metrics"
   ]
  },
  {
   "cell_type": "markdown",
   "metadata": {},
   "source": [
    "- Customer Retention Rate: Measure how well each segment is retained after specific campaigns.\n",
    "- Conversion Rate: Track how many customers in each segment convert based on targeted offers.\n",
    "- Customer Lifetime Value (CLV): Monitor changes in CLV after executing specific segment strategies.\n",
    "- Revenue per Customer: Calculate the increase in revenue per customer per segment after targeted marketing."
   ]
  },
  {
   "cell_type": "markdown",
   "metadata": {},
   "source": [
    "# VIII. Additional Resources"
   ]
  },
  {
   "cell_type": "markdown",
   "metadata": {},
   "source": [
    "Interesting theory about how to choose scale from your dataset size: https://www.omniconvert.com/blog/rfm-segmentation-guide/#:~:text=RFM%20segmentation%20is%20a%20method,customer%20loyalty%20and%20lifetime%20value."
   ]
  }
 ],
 "metadata": {
  "kernelspec": {
   "display_name": "python311",
   "language": "python",
   "name": "python3"
  },
  "language_info": {
   "codemirror_mode": {
    "name": "ipython",
    "version": 3
   },
   "file_extension": ".py",
   "mimetype": "text/x-python",
   "name": "python",
   "nbconvert_exporter": "python",
   "pygments_lexer": "ipython3",
   "version": "3.11.9"
  }
 },
 "nbformat": 4,
 "nbformat_minor": 2
}
