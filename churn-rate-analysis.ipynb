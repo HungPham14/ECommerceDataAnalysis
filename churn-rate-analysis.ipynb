{
 "cells": [
  {
   "cell_type": "markdown",
   "metadata": {},
   "source": [
    "- **Question**: How likely am I losing customers and why?\n",
    "- **Objective**: Reduce customer turnover by understanding reasons for leaving.\n",
    "- **Datasets**: Customer turnover rates, reasons for leaving, retention strategies.\n",
    "- **Methodology**: Analyze churn data to identify common reasons and implement retention strategies."
   ]
  }
 ],
 "metadata": {
  "language_info": {
   "name": "python"
  }
 },
 "nbformat": 4,
 "nbformat_minor": 2
}
