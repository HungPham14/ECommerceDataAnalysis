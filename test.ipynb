{
 "cells": [
  {
   "cell_type": "code",
   "execution_count": null,
   "metadata": {},
   "outputs": [],
   "source": [
    "import pandas as pd   #importing data\n",
    "import numpy as np\n",
    "import matplotlib.pyplot as plt\n",
    "import seaborn as sns\n",
    "\n",
    "expenses = pd.read_csv('data\\\\expenses.csv') #reading data\n",
    "expenses.head()"
   ]
  },
  {
   "cell_type": "code",
   "execution_count": null,
   "metadata": {},
   "outputs": [],
   "source": [
    "expenses.info()"
   ]
  },
  {
   "cell_type": "code",
   "execution_count": null,
   "metadata": {},
   "outputs": [],
   "source": []
  },
  {
   "cell_type": "code",
   "execution_count": null,
   "metadata": {},
   "outputs": [],
   "source": [
    "expenses = expenses.groupby('userID')['amount'].sum().to_frame().rename(columns={'amount':'Expenses'})\n",
    "billings = pd.read_csv('data\\\\billings.csv') #reading data\n",
    "billings = billings.groupby('userID')['amount'].sum().to_frame().rename(columns={'amount':'Billings'})\n",
    "incomes = pd.read_csv('data\\\\incomes.csv') #reading data\n",
    "incomes = incomes.groupby('userID')['amount'].sum().to_frame().rename(columns={'amount':'Incomes'})"
   ]
  },
  {
   "cell_type": "code",
   "execution_count": null,
   "metadata": {},
   "outputs": [],
   "source": [
    "Monetary = pd.merge(expenses, billings, on='userID').merge(incomes, on='userID')\n",
    "Monetary"
   ]
  },
  {
   "cell_type": "code",
   "execution_count": null,
   "metadata": {},
   "outputs": [],
   "source": [
    "Monetary['Monetary'] = Monetary['Incomes'] - Monetary['Billings'] - Monetary['Expenses']\n",
    "Monetary\n"
   ]
  },
  {
   "cell_type": "code",
   "execution_count": 1,
   "metadata": {},
   "outputs": [],
   "source": [
    "import qrcode\n",
    "import qrcode.image.svg\n",
    "\n",
    "img = qrcode.make('http://theknot.com/hungloveslinh', image_factory=qrcode.image.svg.SvgImage)\n",
    "\n",
    "with open('qr.svg', 'wb') as qr:\n",
    "    img.save(qr)"
   ]
  }
 ],
 "metadata": {
  "kernelspec": {
   "display_name": "python311",
   "language": "python",
   "name": "python3"
  },
  "language_info": {
   "codemirror_mode": {
    "name": "ipython",
    "version": 3
   },
   "file_extension": ".py",
   "mimetype": "text/x-python",
   "name": "python",
   "nbconvert_exporter": "python",
   "pygments_lexer": "ipython3",
   "version": "3.11.9"
  }
 },
 "nbformat": 4,
 "nbformat_minor": 2
}
